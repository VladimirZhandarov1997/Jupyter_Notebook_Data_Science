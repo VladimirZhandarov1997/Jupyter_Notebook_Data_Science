{
 "cells": [
  {
   "cell_type": "markdown",
   "metadata": {},
   "source": [
    "# Исследование объявлений о продаже квартир\n",
    "\n",
    "В вашем распоряжении данные сервиса Яндекс.Недвижимость — архив объявлений о продаже квартир в Санкт-Петербурге и соседних населённых пунктов за несколько лет. Нужно научиться определять рыночную стоимость объектов недвижимости. Ваша задача — установить параметры. Это позволит построить автоматизированную систему: она отследит аномалии и мошенническую деятельность. \n",
    "\n",
    "По каждой квартире на продажу доступны два вида данных. Первые вписаны пользователем, вторые — получены автоматически на основе картографических данных. Например, расстояние до центра, аэропорта, ближайшего парка и водоёма. "
   ]
  },
  {
   "cell_type": "markdown",
   "metadata": {},
   "source": [
    "## Откройте файл с данными и изучите общую информацию. "
   ]
  },
  {
   "cell_type": "markdown",
   "metadata": {},
   "source": [
    "### Импортируем датафрейм и сохраним в переменной data. Выведем первый 5 строчек таблицы"
   ]
  },
  {
   "cell_type": "code",
   "execution_count": 2,
   "metadata": {},
   "outputs": [
    {
     "data": {
      "text/html": [
       "<div>\n",
       "<style scoped>\n",
       "    .dataframe tbody tr th:only-of-type {\n",
       "        vertical-align: middle;\n",
       "    }\n",
       "\n",
       "    .dataframe tbody tr th {\n",
       "        vertical-align: top;\n",
       "    }\n",
       "\n",
       "    .dataframe thead th {\n",
       "        text-align: right;\n",
       "    }\n",
       "</style>\n",
       "<table border=\"1\" class=\"dataframe\">\n",
       "  <thead>\n",
       "    <tr style=\"text-align: right;\">\n",
       "      <th></th>\n",
       "      <th>total_images</th>\n",
       "      <th>last_price</th>\n",
       "      <th>total_area</th>\n",
       "      <th>first_day_exposition</th>\n",
       "      <th>rooms</th>\n",
       "      <th>ceiling_height</th>\n",
       "      <th>floors_total</th>\n",
       "      <th>living_area</th>\n",
       "      <th>floor</th>\n",
       "      <th>is_apartment</th>\n",
       "      <th>...</th>\n",
       "      <th>kitchen_area</th>\n",
       "      <th>balcony</th>\n",
       "      <th>locality_name</th>\n",
       "      <th>airports_nearest</th>\n",
       "      <th>cityCenters_nearest</th>\n",
       "      <th>parks_around3000</th>\n",
       "      <th>parks_nearest</th>\n",
       "      <th>ponds_around3000</th>\n",
       "      <th>ponds_nearest</th>\n",
       "      <th>days_exposition</th>\n",
       "    </tr>\n",
       "  </thead>\n",
       "  <tbody>\n",
       "    <tr>\n",
       "      <th>0</th>\n",
       "      <td>20</td>\n",
       "      <td>13000000.0</td>\n",
       "      <td>108.0</td>\n",
       "      <td>2019-03-07T00:00:00</td>\n",
       "      <td>3</td>\n",
       "      <td>2.70</td>\n",
       "      <td>16.0</td>\n",
       "      <td>51.0</td>\n",
       "      <td>8</td>\n",
       "      <td>NaN</td>\n",
       "      <td>...</td>\n",
       "      <td>25.0</td>\n",
       "      <td>NaN</td>\n",
       "      <td>Санкт-Петербург</td>\n",
       "      <td>18863.0</td>\n",
       "      <td>16028.0</td>\n",
       "      <td>1.0</td>\n",
       "      <td>482.0</td>\n",
       "      <td>2.0</td>\n",
       "      <td>755.0</td>\n",
       "      <td>NaN</td>\n",
       "    </tr>\n",
       "    <tr>\n",
       "      <th>1</th>\n",
       "      <td>7</td>\n",
       "      <td>3350000.0</td>\n",
       "      <td>40.4</td>\n",
       "      <td>2018-12-04T00:00:00</td>\n",
       "      <td>1</td>\n",
       "      <td>NaN</td>\n",
       "      <td>11.0</td>\n",
       "      <td>18.6</td>\n",
       "      <td>1</td>\n",
       "      <td>NaN</td>\n",
       "      <td>...</td>\n",
       "      <td>11.0</td>\n",
       "      <td>2.0</td>\n",
       "      <td>посёлок Шушары</td>\n",
       "      <td>12817.0</td>\n",
       "      <td>18603.0</td>\n",
       "      <td>0.0</td>\n",
       "      <td>NaN</td>\n",
       "      <td>0.0</td>\n",
       "      <td>NaN</td>\n",
       "      <td>81.0</td>\n",
       "    </tr>\n",
       "    <tr>\n",
       "      <th>2</th>\n",
       "      <td>10</td>\n",
       "      <td>5196000.0</td>\n",
       "      <td>56.0</td>\n",
       "      <td>2015-08-20T00:00:00</td>\n",
       "      <td>2</td>\n",
       "      <td>NaN</td>\n",
       "      <td>5.0</td>\n",
       "      <td>34.3</td>\n",
       "      <td>4</td>\n",
       "      <td>NaN</td>\n",
       "      <td>...</td>\n",
       "      <td>8.3</td>\n",
       "      <td>0.0</td>\n",
       "      <td>Санкт-Петербург</td>\n",
       "      <td>21741.0</td>\n",
       "      <td>13933.0</td>\n",
       "      <td>1.0</td>\n",
       "      <td>90.0</td>\n",
       "      <td>2.0</td>\n",
       "      <td>574.0</td>\n",
       "      <td>558.0</td>\n",
       "    </tr>\n",
       "    <tr>\n",
       "      <th>3</th>\n",
       "      <td>0</td>\n",
       "      <td>64900000.0</td>\n",
       "      <td>159.0</td>\n",
       "      <td>2015-07-24T00:00:00</td>\n",
       "      <td>3</td>\n",
       "      <td>NaN</td>\n",
       "      <td>14.0</td>\n",
       "      <td>NaN</td>\n",
       "      <td>9</td>\n",
       "      <td>NaN</td>\n",
       "      <td>...</td>\n",
       "      <td>NaN</td>\n",
       "      <td>0.0</td>\n",
       "      <td>Санкт-Петербург</td>\n",
       "      <td>28098.0</td>\n",
       "      <td>6800.0</td>\n",
       "      <td>2.0</td>\n",
       "      <td>84.0</td>\n",
       "      <td>3.0</td>\n",
       "      <td>234.0</td>\n",
       "      <td>424.0</td>\n",
       "    </tr>\n",
       "    <tr>\n",
       "      <th>4</th>\n",
       "      <td>2</td>\n",
       "      <td>10000000.0</td>\n",
       "      <td>100.0</td>\n",
       "      <td>2018-06-19T00:00:00</td>\n",
       "      <td>2</td>\n",
       "      <td>3.03</td>\n",
       "      <td>14.0</td>\n",
       "      <td>32.0</td>\n",
       "      <td>13</td>\n",
       "      <td>NaN</td>\n",
       "      <td>...</td>\n",
       "      <td>41.0</td>\n",
       "      <td>NaN</td>\n",
       "      <td>Санкт-Петербург</td>\n",
       "      <td>31856.0</td>\n",
       "      <td>8098.0</td>\n",
       "      <td>2.0</td>\n",
       "      <td>112.0</td>\n",
       "      <td>1.0</td>\n",
       "      <td>48.0</td>\n",
       "      <td>121.0</td>\n",
       "    </tr>\n",
       "  </tbody>\n",
       "</table>\n",
       "<p>5 rows × 22 columns</p>\n",
       "</div>"
      ],
      "text/plain": [
       "   total_images  last_price  total_area first_day_exposition  rooms  \\\n",
       "0            20  13000000.0       108.0  2019-03-07T00:00:00      3   \n",
       "1             7   3350000.0        40.4  2018-12-04T00:00:00      1   \n",
       "2            10   5196000.0        56.0  2015-08-20T00:00:00      2   \n",
       "3             0  64900000.0       159.0  2015-07-24T00:00:00      3   \n",
       "4             2  10000000.0       100.0  2018-06-19T00:00:00      2   \n",
       "\n",
       "   ceiling_height  floors_total  living_area  floor is_apartment  ...  \\\n",
       "0            2.70          16.0         51.0      8          NaN  ...   \n",
       "1             NaN          11.0         18.6      1          NaN  ...   \n",
       "2             NaN           5.0         34.3      4          NaN  ...   \n",
       "3             NaN          14.0          NaN      9          NaN  ...   \n",
       "4            3.03          14.0         32.0     13          NaN  ...   \n",
       "\n",
       "   kitchen_area  balcony    locality_name  airports_nearest  \\\n",
       "0          25.0      NaN  Санкт-Петербург           18863.0   \n",
       "1          11.0      2.0   посёлок Шушары           12817.0   \n",
       "2           8.3      0.0  Санкт-Петербург           21741.0   \n",
       "3           NaN      0.0  Санкт-Петербург           28098.0   \n",
       "4          41.0      NaN  Санкт-Петербург           31856.0   \n",
       "\n",
       "  cityCenters_nearest  parks_around3000  parks_nearest  ponds_around3000  \\\n",
       "0             16028.0               1.0          482.0               2.0   \n",
       "1             18603.0               0.0            NaN               0.0   \n",
       "2             13933.0               1.0           90.0               2.0   \n",
       "3              6800.0               2.0           84.0               3.0   \n",
       "4              8098.0               2.0          112.0               1.0   \n",
       "\n",
       "   ponds_nearest  days_exposition  \n",
       "0          755.0              NaN  \n",
       "1            NaN             81.0  \n",
       "2          574.0            558.0  \n",
       "3          234.0            424.0  \n",
       "4           48.0            121.0  \n",
       "\n",
       "[5 rows x 22 columns]"
      ]
     },
     "execution_count": 2,
     "metadata": {},
     "output_type": "execute_result"
    }
   ],
   "source": [
    "import pandas as pd\n",
    " \n",
    "data = pd.read_csv('/datasets/real_estate_data.csv', sep='\\t')\n",
    "data.head()"
   ]
  },
  {
   "cell_type": "markdown",
   "metadata": {},
   "source": [
    "### Посмотрим основную информацию о таблице"
   ]
  },
  {
   "cell_type": "code",
   "execution_count": 3,
   "metadata": {},
   "outputs": [
    {
     "name": "stdout",
     "output_type": "stream",
     "text": [
      "<class 'pandas.core.frame.DataFrame'>\n",
      "RangeIndex: 23699 entries, 0 to 23698\n",
      "Data columns (total 22 columns):\n",
      " #   Column                Non-Null Count  Dtype  \n",
      "---  ------                --------------  -----  \n",
      " 0   total_images          23699 non-null  int64  \n",
      " 1   last_price            23699 non-null  float64\n",
      " 2   total_area            23699 non-null  float64\n",
      " 3   first_day_exposition  23699 non-null  object \n",
      " 4   rooms                 23699 non-null  int64  \n",
      " 5   ceiling_height        14504 non-null  float64\n",
      " 6   floors_total          23613 non-null  float64\n",
      " 7   living_area           21796 non-null  float64\n",
      " 8   floor                 23699 non-null  int64  \n",
      " 9   is_apartment          2775 non-null   object \n",
      " 10  studio                23699 non-null  bool   \n",
      " 11  open_plan             23699 non-null  bool   \n",
      " 12  kitchen_area          21421 non-null  float64\n",
      " 13  balcony               12180 non-null  float64\n",
      " 14  locality_name         23650 non-null  object \n",
      " 15  airports_nearest      18157 non-null  float64\n",
      " 16  cityCenters_nearest   18180 non-null  float64\n",
      " 17  parks_around3000      18181 non-null  float64\n",
      " 18  parks_nearest         8079 non-null   float64\n",
      " 19  ponds_around3000      18181 non-null  float64\n",
      " 20  ponds_nearest         9110 non-null   float64\n",
      " 21  days_exposition       20518 non-null  float64\n",
      "dtypes: bool(2), float64(14), int64(3), object(3)\n",
      "memory usage: 3.7+ MB\n"
     ]
    }
   ],
   "source": [
    "data.info()"
   ]
  },
  {
   "cell_type": "markdown",
   "metadata": {},
   "source": [
    "### Построим общую гистрограмму для всех столбцов таблицы"
   ]
  },
  {
   "cell_type": "code",
   "execution_count": 4,
   "metadata": {
    "scrolled": false
   },
   "outputs": [
    {
     "data": {
      "text/plain": [
       "array([[<AxesSubplot:title={'center':'total_images'}>,\n",
       "        <AxesSubplot:title={'center':'last_price'}>,\n",
       "        <AxesSubplot:title={'center':'total_area'}>,\n",
       "        <AxesSubplot:title={'center':'rooms'}>],\n",
       "       [<AxesSubplot:title={'center':'ceiling_height'}>,\n",
       "        <AxesSubplot:title={'center':'floors_total'}>,\n",
       "        <AxesSubplot:title={'center':'living_area'}>,\n",
       "        <AxesSubplot:title={'center':'floor'}>],\n",
       "       [<AxesSubplot:title={'center':'kitchen_area'}>,\n",
       "        <AxesSubplot:title={'center':'balcony'}>,\n",
       "        <AxesSubplot:title={'center':'airports_nearest'}>,\n",
       "        <AxesSubplot:title={'center':'cityCenters_nearest'}>],\n",
       "       [<AxesSubplot:title={'center':'parks_around3000'}>,\n",
       "        <AxesSubplot:title={'center':'parks_nearest'}>,\n",
       "        <AxesSubplot:title={'center':'ponds_around3000'}>,\n",
       "        <AxesSubplot:title={'center':'ponds_nearest'}>],\n",
       "       [<AxesSubplot:title={'center':'days_exposition'}>, <AxesSubplot:>,\n",
       "        <AxesSubplot:>, <AxesSubplot:>]], dtype=object)"
      ]
     },
     "execution_count": 4,
     "metadata": {},
     "output_type": "execute_result"
    },
    {
     "data": {
      "image/png": "[encoded data removed]",
      "text/plain": [
       "<Figure size 1080x1440 with 20 Axes>"
      ]
     },
     "metadata": {
      "needs_background": "light"
     },
     "output_type": "display_data"
    }
   ],
   "source": [
    "data.hist(bins=30, figsize=(15, 20))"
   ]
  },
  {
   "cell_type": "markdown",
   "metadata": {},
   "source": [
    "**После выгрузки и изучения датафрейма и после первичного осмотра гистограмм отметим пару моментов:**\n",
    "1. Обратим внимание на гистограммы, где график \"слипается в одно место\" и \"много свободного места\". Такие как площадь: жилая, кухни, полная. Также подозрительно выглядит высота потолка и цена объекта. А более конкретно рассмотрим ниже."
   ]
  },
  {
   "cell_type": "markdown",
   "metadata": {},
   "source": [
    "## Предобработка данных"
   ]
  },
  {
   "cell_type": "markdown",
   "metadata": {},
   "source": [
    "### Найдем и изучим пропущенные значения в столбцах"
   ]
  },
  {
   "cell_type": "markdown",
   "metadata": {},
   "source": [
    "#### Определим, в каких столбцах есть пропуски"
   ]
  },
  {
   "cell_type": "code",
   "execution_count": 5,
   "metadata": {
    "scrolled": false
   },
   "outputs": [
    {
     "data": {
      "text/plain": [
       "total_images                0\n",
       "last_price                  0\n",
       "total_area                  0\n",
       "first_day_exposition        0\n",
       "rooms                       0\n",
       "ceiling_height           9195\n",
       "floors_total               86\n",
       "living_area              1903\n",
       "floor                       0\n",
       "is_apartment            20924\n",
       "studio                      0\n",
       "open_plan                   0\n",
       "kitchen_area             2278\n",
       "balcony                 11519\n",
       "locality_name              49\n",
       "airports_nearest         5542\n",
       "cityCenters_nearest      5519\n",
       "parks_around3000         5518\n",
       "parks_nearest           15620\n",
       "ponds_around3000         5518\n",
       "ponds_nearest           14589\n",
       "days_exposition          3181\n",
       "dtype: int64"
      ]
     },
     "execution_count": 5,
     "metadata": {},
     "output_type": "execute_result"
    }
   ],
   "source": [
    "data.isna().sum()"
   ]
  },
  {
   "cell_type": "markdown",
   "metadata": {},
   "source": [
    "В следующих столбцах были обнаружены пустые значения:\n",
    "1. ceiling_height — высота потолков (м) - 9195\n",
    "2. floors_total — всего этажей в доме - 86\n",
    "3. living_area — жилая площадь в квадратных метрах (м²) - 1903\n",
    "4. is_apartment — апартаменты (булев тип) - 20924\n",
    "5. kitchen_area — площадь кухни в квадратных метрах (м²) - 2278\n",
    "6. balcony — число балконов - 11519\n",
    "7. locality_name — название населённого пункта - 49\n",
    "8. airports_nearest — расстояние до ближайшего аэропорта в метрах (м) - 5542\n",
    "9. cityCenters_nearest — расстояние до центра города (м) - 5519\n",
    "10. parks_around3000 — число парков в радиусе 3 км - 5518\n",
    "11. parks_nearest — расстояние до ближайшего парка (м) - 15620\n",
    "12. ponds_around3000 — число водоёмов в радиусе 3 км - 5518\n",
    "13. ponds_nearest — расстояние до ближайшего водоёма (м) - 14589\n",
    "14. days_exposition — сколько дней было размещено объявление (от публикации до снятия) - 3181"
   ]
  },
  {
   "cell_type": "markdown",
   "metadata": {},
   "source": [
    "#### Далее заменим пустые значения в столбцах:\n",
    "1. is_apartment — апартаменты (булев тип) - тут примем, что пустое значение будет содержать значение False, что квартира скорее всего не является аппартаментами. Иначе это было бы указано. \n",
    "2. balcony — число балконов - аналогично если не указано количество балконов, то скорее всего их нет. Заменем на пустые значения на 0.\n",
    "3. parks_around3000 — число парков в радиусе 3 км - не самое распространненый критерий и его могли просто проигнорировать, однако следуем той же логике и если нет информации, то заменяем количество на 0.\n",
    "4. ponds_around3000 — число водоёмов в радиусе 3 км - поступаем аналогично п.3.\n",
    "5. ceiling_height — высота потолков (м) - очень много значений, терять их нельзя, заменим на среднее значение 2,7.\n",
    "6. Пустые значения с полощадьми удали, потери будут не велики."
   ]
  },
  {
   "cell_type": "code",
   "execution_count": 5,
   "metadata": {},
   "outputs": [],
   "source": [
    "data['is_apartment'] = data['is_apartment'].fillna(False)\n",
    "data['balcony'] = data['balcony'].fillna(0)\n",
    "data['parks_around3000'] = data['parks_around3000'].fillna(0)\n",
    "data['ponds_around3000'] = data['ponds_around3000'].fillna(0)\n",
    "\n"
   ]
  },
  {
   "cell_type": "code",
   "execution_count": 6,
   "metadata": {},
   "outputs": [
    {
     "data": {
      "text/html": [
       "<div>\n",
       "<style scoped>\n",
       "    .dataframe tbody tr th:only-of-type {\n",
       "        vertical-align: middle;\n",
       "    }\n",
       "\n",
       "    .dataframe tbody tr th {\n",
       "        vertical-align: top;\n",
       "    }\n",
       "\n",
       "    .dataframe thead th {\n",
       "        text-align: right;\n",
       "    }\n",
       "</style>\n",
       "<table border=\"1\" class=\"dataframe\">\n",
       "  <thead>\n",
       "    <tr style=\"text-align: right;\">\n",
       "      <th></th>\n",
       "      <th>ceiling_height</th>\n",
       "    </tr>\n",
       "    <tr>\n",
       "      <th>floors_total</th>\n",
       "      <th></th>\n",
       "    </tr>\n",
       "  </thead>\n",
       "  <tbody>\n",
       "    <tr>\n",
       "      <th>1.0</th>\n",
       "      <td>2.80</td>\n",
       "    </tr>\n",
       "    <tr>\n",
       "      <th>2.0</th>\n",
       "      <td>2.70</td>\n",
       "    </tr>\n",
       "    <tr>\n",
       "      <th>3.0</th>\n",
       "      <td>2.80</td>\n",
       "    </tr>\n",
       "    <tr>\n",
       "      <th>4.0</th>\n",
       "      <td>3.00</td>\n",
       "    </tr>\n",
       "    <tr>\n",
       "      <th>5.0</th>\n",
       "      <td>2.55</td>\n",
       "    </tr>\n",
       "    <tr>\n",
       "      <th>6.0</th>\n",
       "      <td>3.00</td>\n",
       "    </tr>\n",
       "    <tr>\n",
       "      <th>7.0</th>\n",
       "      <td>3.00</td>\n",
       "    </tr>\n",
       "    <tr>\n",
       "      <th>8.0</th>\n",
       "      <td>2.80</td>\n",
       "    </tr>\n",
       "    <tr>\n",
       "      <th>9.0</th>\n",
       "      <td>2.55</td>\n",
       "    </tr>\n",
       "    <tr>\n",
       "      <th>10.0</th>\n",
       "      <td>2.60</td>\n",
       "    </tr>\n",
       "    <tr>\n",
       "      <th>11.0</th>\n",
       "      <td>2.75</td>\n",
       "    </tr>\n",
       "    <tr>\n",
       "      <th>12.0</th>\n",
       "      <td>2.65</td>\n",
       "    </tr>\n",
       "    <tr>\n",
       "      <th>13.0</th>\n",
       "      <td>2.70</td>\n",
       "    </tr>\n",
       "    <tr>\n",
       "      <th>14.0</th>\n",
       "      <td>2.60</td>\n",
       "    </tr>\n",
       "    <tr>\n",
       "      <th>15.0</th>\n",
       "      <td>2.70</td>\n",
       "    </tr>\n",
       "    <tr>\n",
       "      <th>16.0</th>\n",
       "      <td>2.70</td>\n",
       "    </tr>\n",
       "    <tr>\n",
       "      <th>17.0</th>\n",
       "      <td>2.70</td>\n",
       "    </tr>\n",
       "    <tr>\n",
       "      <th>18.0</th>\n",
       "      <td>2.70</td>\n",
       "    </tr>\n",
       "    <tr>\n",
       "      <th>19.0</th>\n",
       "      <td>2.75</td>\n",
       "    </tr>\n",
       "    <tr>\n",
       "      <th>20.0</th>\n",
       "      <td>2.75</td>\n",
       "    </tr>\n",
       "    <tr>\n",
       "      <th>21.0</th>\n",
       "      <td>2.70</td>\n",
       "    </tr>\n",
       "    <tr>\n",
       "      <th>22.0</th>\n",
       "      <td>2.75</td>\n",
       "    </tr>\n",
       "    <tr>\n",
       "      <th>23.0</th>\n",
       "      <td>2.75</td>\n",
       "    </tr>\n",
       "    <tr>\n",
       "      <th>24.0</th>\n",
       "      <td>2.75</td>\n",
       "    </tr>\n",
       "    <tr>\n",
       "      <th>25.0</th>\n",
       "      <td>2.75</td>\n",
       "    </tr>\n",
       "    <tr>\n",
       "      <th>26.0</th>\n",
       "      <td>2.66</td>\n",
       "    </tr>\n",
       "    <tr>\n",
       "      <th>27.0</th>\n",
       "      <td>2.70</td>\n",
       "    </tr>\n",
       "    <tr>\n",
       "      <th>28.0</th>\n",
       "      <td>2.60</td>\n",
       "    </tr>\n",
       "    <tr>\n",
       "      <th>29.0</th>\n",
       "      <td>2.60</td>\n",
       "    </tr>\n",
       "    <tr>\n",
       "      <th>34.0</th>\n",
       "      <td>2.65</td>\n",
       "    </tr>\n",
       "    <tr>\n",
       "      <th>35.0</th>\n",
       "      <td>2.70</td>\n",
       "    </tr>\n",
       "    <tr>\n",
       "      <th>36.0</th>\n",
       "      <td>14.85</td>\n",
       "    </tr>\n",
       "    <tr>\n",
       "      <th>37.0</th>\n",
       "      <td>1.75</td>\n",
       "    </tr>\n",
       "    <tr>\n",
       "      <th>52.0</th>\n",
       "      <td>2.65</td>\n",
       "    </tr>\n",
       "    <tr>\n",
       "      <th>60.0</th>\n",
       "      <td>2.88</td>\n",
       "    </tr>\n",
       "  </tbody>\n",
       "</table>\n",
       "</div>"
      ],
      "text/plain": [
       "              ceiling_height\n",
       "floors_total                \n",
       "1.0                     2.80\n",
       "2.0                     2.70\n",
       "3.0                     2.80\n",
       "4.0                     3.00\n",
       "5.0                     2.55\n",
       "6.0                     3.00\n",
       "7.0                     3.00\n",
       "8.0                     2.80\n",
       "9.0                     2.55\n",
       "10.0                    2.60\n",
       "11.0                    2.75\n",
       "12.0                    2.65\n",
       "13.0                    2.70\n",
       "14.0                    2.60\n",
       "15.0                    2.70\n",
       "16.0                    2.70\n",
       "17.0                    2.70\n",
       "18.0                    2.70\n",
       "19.0                    2.75\n",
       "20.0                    2.75\n",
       "21.0                    2.70\n",
       "22.0                    2.75\n",
       "23.0                    2.75\n",
       "24.0                    2.75\n",
       "25.0                    2.75\n",
       "26.0                    2.66\n",
       "27.0                    2.70\n",
       "28.0                    2.60\n",
       "29.0                    2.60\n",
       "34.0                    2.65\n",
       "35.0                    2.70\n",
       "36.0                   14.85\n",
       "37.0                    1.75\n",
       "52.0                    2.65\n",
       "60.0                    2.88"
      ]
     },
     "execution_count": 6,
     "metadata": {},
     "output_type": "execute_result"
    }
   ],
   "source": [
    "data_ceiling_height_pivot = data.pivot_table(index='floors_total', values='ceiling_height', aggfunc='median')\n",
    "data_ceiling_height_pivot"
   ]
  },
  {
   "cell_type": "code",
   "execution_count": 7,
   "metadata": {},
   "outputs": [],
   "source": [
    "for f in data_ceiling_height_pivot.index:\n",
    "    data.loc[(data['floors_total'] == f) & (data['ceiling_height'].isna()), 'ceiling_height'] = data_ceiling_height_pivot.ceiling_height[f]"
   ]
  },
  {
   "cell_type": "code",
   "execution_count": 8,
   "metadata": {},
   "outputs": [
    {
     "data": {
      "text/html": [
       "<div>\n",
       "<style scoped>\n",
       "    .dataframe tbody tr th:only-of-type {\n",
       "        vertical-align: middle;\n",
       "    }\n",
       "\n",
       "    .dataframe tbody tr th {\n",
       "        vertical-align: top;\n",
       "    }\n",
       "\n",
       "    .dataframe thead th {\n",
       "        text-align: right;\n",
       "    }\n",
       "</style>\n",
       "<table border=\"1\" class=\"dataframe\">\n",
       "  <thead>\n",
       "    <tr style=\"text-align: right;\">\n",
       "      <th></th>\n",
       "      <th>kitchen_area</th>\n",
       "      <th>living_area</th>\n",
       "    </tr>\n",
       "    <tr>\n",
       "      <th>rooms</th>\n",
       "      <th></th>\n",
       "      <th></th>\n",
       "    </tr>\n",
       "  </thead>\n",
       "  <tbody>\n",
       "    <tr>\n",
       "      <th>0</th>\n",
       "      <td>NaN</td>\n",
       "      <td>18.000</td>\n",
       "    </tr>\n",
       "    <tr>\n",
       "      <th>1</th>\n",
       "      <td>9.04</td>\n",
       "      <td>17.600</td>\n",
       "    </tr>\n",
       "    <tr>\n",
       "      <th>2</th>\n",
       "      <td>8.80</td>\n",
       "      <td>30.500</td>\n",
       "    </tr>\n",
       "    <tr>\n",
       "      <th>3</th>\n",
       "      <td>9.50</td>\n",
       "      <td>45.000</td>\n",
       "    </tr>\n",
       "    <tr>\n",
       "      <th>4</th>\n",
       "      <td>11.10</td>\n",
       "      <td>63.600</td>\n",
       "    </tr>\n",
       "    <tr>\n",
       "      <th>5</th>\n",
       "      <td>15.10</td>\n",
       "      <td>91.785</td>\n",
       "    </tr>\n",
       "    <tr>\n",
       "      <th>6</th>\n",
       "      <td>19.50</td>\n",
       "      <td>123.900</td>\n",
       "    </tr>\n",
       "    <tr>\n",
       "      <th>7</th>\n",
       "      <td>20.00</td>\n",
       "      <td>145.000</td>\n",
       "    </tr>\n",
       "    <tr>\n",
       "      <th>8</th>\n",
       "      <td>25.00</td>\n",
       "      <td>161.000</td>\n",
       "    </tr>\n",
       "    <tr>\n",
       "      <th>9</th>\n",
       "      <td>14.30</td>\n",
       "      <td>179.200</td>\n",
       "    </tr>\n",
       "    <tr>\n",
       "      <th>10</th>\n",
       "      <td>19.80</td>\n",
       "      <td>161.400</td>\n",
       "    </tr>\n",
       "    <tr>\n",
       "      <th>11</th>\n",
       "      <td>12.60</td>\n",
       "      <td>133.900</td>\n",
       "    </tr>\n",
       "    <tr>\n",
       "      <th>12</th>\n",
       "      <td>112.00</td>\n",
       "      <td>409.700</td>\n",
       "    </tr>\n",
       "    <tr>\n",
       "      <th>14</th>\n",
       "      <td>21.25</td>\n",
       "      <td>195.150</td>\n",
       "    </tr>\n",
       "    <tr>\n",
       "      <th>15</th>\n",
       "      <td>100.00</td>\n",
       "      <td>409.000</td>\n",
       "    </tr>\n",
       "    <tr>\n",
       "      <th>16</th>\n",
       "      <td>13.00</td>\n",
       "      <td>180.000</td>\n",
       "    </tr>\n",
       "    <tr>\n",
       "      <th>19</th>\n",
       "      <td>27.60</td>\n",
       "      <td>264.500</td>\n",
       "    </tr>\n",
       "  </tbody>\n",
       "</table>\n",
       "</div>"
      ],
      "text/plain": [
       "       kitchen_area  living_area\n",
       "rooms                           \n",
       "0               NaN       18.000\n",
       "1              9.04       17.600\n",
       "2              8.80       30.500\n",
       "3              9.50       45.000\n",
       "4             11.10       63.600\n",
       "5             15.10       91.785\n",
       "6             19.50      123.900\n",
       "7             20.00      145.000\n",
       "8             25.00      161.000\n",
       "9             14.30      179.200\n",
       "10            19.80      161.400\n",
       "11            12.60      133.900\n",
       "12           112.00      409.700\n",
       "14            21.25      195.150\n",
       "15           100.00      409.000\n",
       "16            13.00      180.000\n",
       "19            27.60      264.500"
      ]
     },
     "execution_count": 8,
     "metadata": {},
     "output_type": "execute_result"
    }
   ],
   "source": [
    "data_area_pivot = data.pivot_table(index='rooms', values=['living_area','kitchen_area'], aggfunc='median')\n",
    "data_area_pivot"
   ]
  },
  {
   "cell_type": "code",
   "execution_count": 9,
   "metadata": {},
   "outputs": [
    {
     "data": {
      "text/html": [
       "<div>\n",
       "<style scoped>\n",
       "    .dataframe tbody tr th:only-of-type {\n",
       "        vertical-align: middle;\n",
       "    }\n",
       "\n",
       "    .dataframe tbody tr th {\n",
       "        vertical-align: top;\n",
       "    }\n",
       "\n",
       "    .dataframe thead th {\n",
       "        text-align: right;\n",
       "    }\n",
       "</style>\n",
       "<table border=\"1\" class=\"dataframe\">\n",
       "  <thead>\n",
       "    <tr style=\"text-align: right;\">\n",
       "      <th></th>\n",
       "      <th>kitchen_area</th>\n",
       "      <th>living_area</th>\n",
       "    </tr>\n",
       "    <tr>\n",
       "      <th>rooms</th>\n",
       "      <th></th>\n",
       "      <th></th>\n",
       "    </tr>\n",
       "  </thead>\n",
       "  <tbody>\n",
       "    <tr>\n",
       "      <th>0</th>\n",
       "      <td>0.00</td>\n",
       "      <td>18.000</td>\n",
       "    </tr>\n",
       "    <tr>\n",
       "      <th>1</th>\n",
       "      <td>9.04</td>\n",
       "      <td>17.600</td>\n",
       "    </tr>\n",
       "    <tr>\n",
       "      <th>2</th>\n",
       "      <td>8.80</td>\n",
       "      <td>30.500</td>\n",
       "    </tr>\n",
       "    <tr>\n",
       "      <th>3</th>\n",
       "      <td>9.50</td>\n",
       "      <td>45.000</td>\n",
       "    </tr>\n",
       "    <tr>\n",
       "      <th>4</th>\n",
       "      <td>11.10</td>\n",
       "      <td>63.600</td>\n",
       "    </tr>\n",
       "    <tr>\n",
       "      <th>5</th>\n",
       "      <td>15.10</td>\n",
       "      <td>91.785</td>\n",
       "    </tr>\n",
       "    <tr>\n",
       "      <th>6</th>\n",
       "      <td>19.50</td>\n",
       "      <td>123.900</td>\n",
       "    </tr>\n",
       "    <tr>\n",
       "      <th>7</th>\n",
       "      <td>20.00</td>\n",
       "      <td>145.000</td>\n",
       "    </tr>\n",
       "    <tr>\n",
       "      <th>8</th>\n",
       "      <td>25.00</td>\n",
       "      <td>161.000</td>\n",
       "    </tr>\n",
       "    <tr>\n",
       "      <th>9</th>\n",
       "      <td>14.30</td>\n",
       "      <td>179.200</td>\n",
       "    </tr>\n",
       "    <tr>\n",
       "      <th>10</th>\n",
       "      <td>19.80</td>\n",
       "      <td>161.400</td>\n",
       "    </tr>\n",
       "    <tr>\n",
       "      <th>11</th>\n",
       "      <td>12.60</td>\n",
       "      <td>133.900</td>\n",
       "    </tr>\n",
       "    <tr>\n",
       "      <th>12</th>\n",
       "      <td>112.00</td>\n",
       "      <td>409.700</td>\n",
       "    </tr>\n",
       "    <tr>\n",
       "      <th>14</th>\n",
       "      <td>21.25</td>\n",
       "      <td>195.150</td>\n",
       "    </tr>\n",
       "    <tr>\n",
       "      <th>15</th>\n",
       "      <td>100.00</td>\n",
       "      <td>409.000</td>\n",
       "    </tr>\n",
       "    <tr>\n",
       "      <th>16</th>\n",
       "      <td>13.00</td>\n",
       "      <td>180.000</td>\n",
       "    </tr>\n",
       "    <tr>\n",
       "      <th>19</th>\n",
       "      <td>27.60</td>\n",
       "      <td>264.500</td>\n",
       "    </tr>\n",
       "  </tbody>\n",
       "</table>\n",
       "</div>"
      ],
      "text/plain": [
       "       kitchen_area  living_area\n",
       "rooms                           \n",
       "0              0.00       18.000\n",
       "1              9.04       17.600\n",
       "2              8.80       30.500\n",
       "3              9.50       45.000\n",
       "4             11.10       63.600\n",
       "5             15.10       91.785\n",
       "6             19.50      123.900\n",
       "7             20.00      145.000\n",
       "8             25.00      161.000\n",
       "9             14.30      179.200\n",
       "10            19.80      161.400\n",
       "11            12.60      133.900\n",
       "12           112.00      409.700\n",
       "14            21.25      195.150\n",
       "15           100.00      409.000\n",
       "16            13.00      180.000\n",
       "19            27.60      264.500"
      ]
     },
     "execution_count": 9,
     "metadata": {},
     "output_type": "execute_result"
    }
   ],
   "source": [
    "data_area_pivot.loc[0]['kitchen_area'] = 0\n",
    "data_area_pivot"
   ]
  },
  {
   "cell_type": "code",
   "execution_count": 10,
   "metadata": {},
   "outputs": [],
   "source": [
    "for r in data_area_pivot.index:\n",
    "    data.loc[(data['rooms'] == r) & (data['kitchen_area'].isna()), 'kitchen_area'] = data_area_pivot.kitchen_area[r]"
   ]
  },
  {
   "cell_type": "code",
   "execution_count": 11,
   "metadata": {},
   "outputs": [],
   "source": [
    "for r in data_area_pivot.index:\n",
    "    data.loc[(data['rooms'] == r) & (data['living_area'].isna()), 'living_area'] = data_area_pivot.living_area[r]"
   ]
  },
  {
   "cell_type": "code",
   "execution_count": 12,
   "metadata": {},
   "outputs": [
    {
     "data": {
      "text/html": [
       "<div>\n",
       "<style scoped>\n",
       "    .dataframe tbody tr th:only-of-type {\n",
       "        vertical-align: middle;\n",
       "    }\n",
       "\n",
       "    .dataframe tbody tr th {\n",
       "        vertical-align: top;\n",
       "    }\n",
       "\n",
       "    .dataframe thead th {\n",
       "        text-align: right;\n",
       "    }\n",
       "</style>\n",
       "<table border=\"1\" class=\"dataframe\">\n",
       "  <thead>\n",
       "    <tr style=\"text-align: right;\">\n",
       "      <th></th>\n",
       "      <th>total_images</th>\n",
       "      <th>last_price</th>\n",
       "      <th>total_area</th>\n",
       "      <th>first_day_exposition</th>\n",
       "      <th>rooms</th>\n",
       "      <th>ceiling_height</th>\n",
       "      <th>floors_total</th>\n",
       "      <th>living_area</th>\n",
       "      <th>floor</th>\n",
       "      <th>is_apartment</th>\n",
       "      <th>...</th>\n",
       "      <th>kitchen_area</th>\n",
       "      <th>balcony</th>\n",
       "      <th>locality_name</th>\n",
       "      <th>airports_nearest</th>\n",
       "      <th>cityCenters_nearest</th>\n",
       "      <th>parks_around3000</th>\n",
       "      <th>parks_nearest</th>\n",
       "      <th>ponds_around3000</th>\n",
       "      <th>ponds_nearest</th>\n",
       "      <th>days_exposition</th>\n",
       "    </tr>\n",
       "  </thead>\n",
       "  <tbody>\n",
       "    <tr>\n",
       "      <th>0</th>\n",
       "      <td>20</td>\n",
       "      <td>13000000.0</td>\n",
       "      <td>108.00</td>\n",
       "      <td>2019-03-07T00:00:00</td>\n",
       "      <td>3</td>\n",
       "      <td>2.70</td>\n",
       "      <td>16.0</td>\n",
       "      <td>51.00</td>\n",
       "      <td>8</td>\n",
       "      <td>False</td>\n",
       "      <td>...</td>\n",
       "      <td>25.00</td>\n",
       "      <td>0.0</td>\n",
       "      <td>Санкт-Петербург</td>\n",
       "      <td>18863.0</td>\n",
       "      <td>16028.0</td>\n",
       "      <td>1.0</td>\n",
       "      <td>482.0</td>\n",
       "      <td>2.0</td>\n",
       "      <td>755.0</td>\n",
       "      <td>NaN</td>\n",
       "    </tr>\n",
       "    <tr>\n",
       "      <th>1</th>\n",
       "      <td>7</td>\n",
       "      <td>3350000.0</td>\n",
       "      <td>40.40</td>\n",
       "      <td>2018-12-04T00:00:00</td>\n",
       "      <td>1</td>\n",
       "      <td>2.75</td>\n",
       "      <td>11.0</td>\n",
       "      <td>18.60</td>\n",
       "      <td>1</td>\n",
       "      <td>False</td>\n",
       "      <td>...</td>\n",
       "      <td>11.00</td>\n",
       "      <td>2.0</td>\n",
       "      <td>посёлок Шушары</td>\n",
       "      <td>12817.0</td>\n",
       "      <td>18603.0</td>\n",
       "      <td>0.0</td>\n",
       "      <td>NaN</td>\n",
       "      <td>0.0</td>\n",
       "      <td>NaN</td>\n",
       "      <td>81.0</td>\n",
       "    </tr>\n",
       "    <tr>\n",
       "      <th>2</th>\n",
       "      <td>10</td>\n",
       "      <td>5196000.0</td>\n",
       "      <td>56.00</td>\n",
       "      <td>2015-08-20T00:00:00</td>\n",
       "      <td>2</td>\n",
       "      <td>2.55</td>\n",
       "      <td>5.0</td>\n",
       "      <td>34.30</td>\n",
       "      <td>4</td>\n",
       "      <td>False</td>\n",
       "      <td>...</td>\n",
       "      <td>8.30</td>\n",
       "      <td>0.0</td>\n",
       "      <td>Санкт-Петербург</td>\n",
       "      <td>21741.0</td>\n",
       "      <td>13933.0</td>\n",
       "      <td>1.0</td>\n",
       "      <td>90.0</td>\n",
       "      <td>2.0</td>\n",
       "      <td>574.0</td>\n",
       "      <td>558.0</td>\n",
       "    </tr>\n",
       "    <tr>\n",
       "      <th>3</th>\n",
       "      <td>0</td>\n",
       "      <td>64900000.0</td>\n",
       "      <td>159.00</td>\n",
       "      <td>2015-07-24T00:00:00</td>\n",
       "      <td>3</td>\n",
       "      <td>2.60</td>\n",
       "      <td>14.0</td>\n",
       "      <td>45.00</td>\n",
       "      <td>9</td>\n",
       "      <td>False</td>\n",
       "      <td>...</td>\n",
       "      <td>9.50</td>\n",
       "      <td>0.0</td>\n",
       "      <td>Санкт-Петербург</td>\n",
       "      <td>28098.0</td>\n",
       "      <td>6800.0</td>\n",
       "      <td>2.0</td>\n",
       "      <td>84.0</td>\n",
       "      <td>3.0</td>\n",
       "      <td>234.0</td>\n",
       "      <td>424.0</td>\n",
       "    </tr>\n",
       "    <tr>\n",
       "      <th>4</th>\n",
       "      <td>2</td>\n",
       "      <td>10000000.0</td>\n",
       "      <td>100.00</td>\n",
       "      <td>2018-06-19T00:00:00</td>\n",
       "      <td>2</td>\n",
       "      <td>3.03</td>\n",
       "      <td>14.0</td>\n",
       "      <td>32.00</td>\n",
       "      <td>13</td>\n",
       "      <td>False</td>\n",
       "      <td>...</td>\n",
       "      <td>41.00</td>\n",
       "      <td>0.0</td>\n",
       "      <td>Санкт-Петербург</td>\n",
       "      <td>31856.0</td>\n",
       "      <td>8098.0</td>\n",
       "      <td>2.0</td>\n",
       "      <td>112.0</td>\n",
       "      <td>1.0</td>\n",
       "      <td>48.0</td>\n",
       "      <td>121.0</td>\n",
       "    </tr>\n",
       "    <tr>\n",
       "      <th>5</th>\n",
       "      <td>10</td>\n",
       "      <td>2890000.0</td>\n",
       "      <td>30.40</td>\n",
       "      <td>2018-09-10T00:00:00</td>\n",
       "      <td>1</td>\n",
       "      <td>2.65</td>\n",
       "      <td>12.0</td>\n",
       "      <td>14.40</td>\n",
       "      <td>5</td>\n",
       "      <td>False</td>\n",
       "      <td>...</td>\n",
       "      <td>9.10</td>\n",
       "      <td>0.0</td>\n",
       "      <td>городской посёлок Янино-1</td>\n",
       "      <td>NaN</td>\n",
       "      <td>NaN</td>\n",
       "      <td>0.0</td>\n",
       "      <td>NaN</td>\n",
       "      <td>0.0</td>\n",
       "      <td>NaN</td>\n",
       "      <td>55.0</td>\n",
       "    </tr>\n",
       "    <tr>\n",
       "      <th>6</th>\n",
       "      <td>6</td>\n",
       "      <td>3700000.0</td>\n",
       "      <td>37.30</td>\n",
       "      <td>2017-11-02T00:00:00</td>\n",
       "      <td>1</td>\n",
       "      <td>2.66</td>\n",
       "      <td>26.0</td>\n",
       "      <td>10.60</td>\n",
       "      <td>6</td>\n",
       "      <td>False</td>\n",
       "      <td>...</td>\n",
       "      <td>14.40</td>\n",
       "      <td>1.0</td>\n",
       "      <td>посёлок Парголово</td>\n",
       "      <td>52996.0</td>\n",
       "      <td>19143.0</td>\n",
       "      <td>0.0</td>\n",
       "      <td>NaN</td>\n",
       "      <td>0.0</td>\n",
       "      <td>NaN</td>\n",
       "      <td>155.0</td>\n",
       "    </tr>\n",
       "    <tr>\n",
       "      <th>7</th>\n",
       "      <td>5</td>\n",
       "      <td>7915000.0</td>\n",
       "      <td>71.60</td>\n",
       "      <td>2019-04-18T00:00:00</td>\n",
       "      <td>2</td>\n",
       "      <td>2.75</td>\n",
       "      <td>24.0</td>\n",
       "      <td>30.50</td>\n",
       "      <td>22</td>\n",
       "      <td>False</td>\n",
       "      <td>...</td>\n",
       "      <td>18.90</td>\n",
       "      <td>2.0</td>\n",
       "      <td>Санкт-Петербург</td>\n",
       "      <td>23982.0</td>\n",
       "      <td>11634.0</td>\n",
       "      <td>0.0</td>\n",
       "      <td>NaN</td>\n",
       "      <td>0.0</td>\n",
       "      <td>NaN</td>\n",
       "      <td>NaN</td>\n",
       "    </tr>\n",
       "    <tr>\n",
       "      <th>8</th>\n",
       "      <td>20</td>\n",
       "      <td>2900000.0</td>\n",
       "      <td>33.16</td>\n",
       "      <td>2018-05-23T00:00:00</td>\n",
       "      <td>1</td>\n",
       "      <td>2.70</td>\n",
       "      <td>27.0</td>\n",
       "      <td>15.43</td>\n",
       "      <td>26</td>\n",
       "      <td>False</td>\n",
       "      <td>...</td>\n",
       "      <td>8.81</td>\n",
       "      <td>0.0</td>\n",
       "      <td>посёлок Мурино</td>\n",
       "      <td>NaN</td>\n",
       "      <td>NaN</td>\n",
       "      <td>0.0</td>\n",
       "      <td>NaN</td>\n",
       "      <td>0.0</td>\n",
       "      <td>NaN</td>\n",
       "      <td>189.0</td>\n",
       "    </tr>\n",
       "    <tr>\n",
       "      <th>9</th>\n",
       "      <td>18</td>\n",
       "      <td>5400000.0</td>\n",
       "      <td>61.00</td>\n",
       "      <td>2017-02-26T00:00:00</td>\n",
       "      <td>3</td>\n",
       "      <td>2.50</td>\n",
       "      <td>9.0</td>\n",
       "      <td>43.60</td>\n",
       "      <td>7</td>\n",
       "      <td>False</td>\n",
       "      <td>...</td>\n",
       "      <td>6.50</td>\n",
       "      <td>2.0</td>\n",
       "      <td>Санкт-Петербург</td>\n",
       "      <td>50898.0</td>\n",
       "      <td>15008.0</td>\n",
       "      <td>0.0</td>\n",
       "      <td>NaN</td>\n",
       "      <td>0.0</td>\n",
       "      <td>NaN</td>\n",
       "      <td>289.0</td>\n",
       "    </tr>\n",
       "  </tbody>\n",
       "</table>\n",
       "<p>10 rows × 22 columns</p>\n",
       "</div>"
      ],
      "text/plain": [
       "   total_images  last_price  total_area first_day_exposition  rooms  \\\n",
       "0            20  13000000.0      108.00  2019-03-07T00:00:00      3   \n",
       "1             7   3350000.0       40.40  2018-12-04T00:00:00      1   \n",
       "2            10   5196000.0       56.00  2015-08-20T00:00:00      2   \n",
       "3             0  64900000.0      159.00  2015-07-24T00:00:00      3   \n",
       "4             2  10000000.0      100.00  2018-06-19T00:00:00      2   \n",
       "5            10   2890000.0       30.40  2018-09-10T00:00:00      1   \n",
       "6             6   3700000.0       37.30  2017-11-02T00:00:00      1   \n",
       "7             5   7915000.0       71.60  2019-04-18T00:00:00      2   \n",
       "8            20   2900000.0       33.16  2018-05-23T00:00:00      1   \n",
       "9            18   5400000.0       61.00  2017-02-26T00:00:00      3   \n",
       "\n",
       "   ceiling_height  floors_total  living_area  floor  is_apartment  ...  \\\n",
       "0            2.70          16.0        51.00      8         False  ...   \n",
       "1            2.75          11.0        18.60      1         False  ...   \n",
       "2            2.55           5.0        34.30      4         False  ...   \n",
       "3            2.60          14.0        45.00      9         False  ...   \n",
       "4            3.03          14.0        32.00     13         False  ...   \n",
       "5            2.65          12.0        14.40      5         False  ...   \n",
       "6            2.66          26.0        10.60      6         False  ...   \n",
       "7            2.75          24.0        30.50     22         False  ...   \n",
       "8            2.70          27.0        15.43     26         False  ...   \n",
       "9            2.50           9.0        43.60      7         False  ...   \n",
       "\n",
       "   kitchen_area  balcony              locality_name  airports_nearest  \\\n",
       "0         25.00      0.0            Санкт-Петербург           18863.0   \n",
       "1         11.00      2.0             посёлок Шушары           12817.0   \n",
       "2          8.30      0.0            Санкт-Петербург           21741.0   \n",
       "3          9.50      0.0            Санкт-Петербург           28098.0   \n",
       "4         41.00      0.0            Санкт-Петербург           31856.0   \n",
       "5          9.10      0.0  городской посёлок Янино-1               NaN   \n",
       "6         14.40      1.0          посёлок Парголово           52996.0   \n",
       "7         18.90      2.0            Санкт-Петербург           23982.0   \n",
       "8          8.81      0.0             посёлок Мурино               NaN   \n",
       "9          6.50      2.0            Санкт-Петербург           50898.0   \n",
       "\n",
       "  cityCenters_nearest  parks_around3000  parks_nearest  ponds_around3000  \\\n",
       "0             16028.0               1.0          482.0               2.0   \n",
       "1             18603.0               0.0            NaN               0.0   \n",
       "2             13933.0               1.0           90.0               2.0   \n",
       "3              6800.0               2.0           84.0               3.0   \n",
       "4              8098.0               2.0          112.0               1.0   \n",
       "5                 NaN               0.0            NaN               0.0   \n",
       "6             19143.0               0.0            NaN               0.0   \n",
       "7             11634.0               0.0            NaN               0.0   \n",
       "8                 NaN               0.0            NaN               0.0   \n",
       "9             15008.0               0.0            NaN               0.0   \n",
       "\n",
       "   ponds_nearest  days_exposition  \n",
       "0          755.0              NaN  \n",
       "1            NaN             81.0  \n",
       "2          574.0            558.0  \n",
       "3          234.0            424.0  \n",
       "4           48.0            121.0  \n",
       "5            NaN             55.0  \n",
       "6            NaN            155.0  \n",
       "7            NaN              NaN  \n",
       "8            NaN            189.0  \n",
       "9            NaN            289.0  \n",
       "\n",
       "[10 rows x 22 columns]"
      ]
     },
     "execution_count": 12,
     "metadata": {},
     "output_type": "execute_result"
    }
   ],
   "source": [
    "data.head(10)"
   ]
  },
  {
   "cell_type": "markdown",
   "metadata": {},
   "source": [
    "Убедимся, что в выбранных столбцах не осталось пустых значений."
   ]
  },
  {
   "cell_type": "code",
   "execution_count": 13,
   "metadata": {},
   "outputs": [
    {
     "data": {
      "text/plain": [
       "total_images                0\n",
       "last_price                  0\n",
       "total_area                  0\n",
       "first_day_exposition        0\n",
       "rooms                       0\n",
       "ceiling_height             78\n",
       "floors_total               86\n",
       "living_area                 0\n",
       "floor                       0\n",
       "is_apartment                0\n",
       "studio                      0\n",
       "open_plan                   0\n",
       "kitchen_area                0\n",
       "balcony                     0\n",
       "locality_name              49\n",
       "airports_nearest         5542\n",
       "cityCenters_nearest      5519\n",
       "parks_around3000            0\n",
       "parks_nearest           15620\n",
       "ponds_around3000            0\n",
       "ponds_nearest           14589\n",
       "days_exposition          3181\n",
       "dtype: int64"
      ]
     },
     "execution_count": 13,
     "metadata": {},
     "output_type": "execute_result"
    }
   ],
   "source": [
    "data.isna().sum()"
   ]
  },
  {
   "cell_type": "markdown",
   "metadata": {},
   "source": [
    "#### Причины, которые могли привести к пропуску данных:\n",
    "1. Как мы видели при замене пустых значений мы руководствовались подходом: \"Если нет, то можно и не записывать\". Поэтому нулевые и ложные значения могли быть не внесены.\n",
    "2. Не исключаем возможность потери данных при выгрузке их из датафрейма.\n",
    "3. Есть первостепенная информация на которую обращают чаще всего, а есть второстепеная, которую такде решили не вносить или не обладают необходимой информацией."
   ]
  },
  {
   "cell_type": "markdown",
   "metadata": {},
   "source": [
    "### Рассмотрим типы данных в каждом столбце|"
   ]
  },
  {
   "cell_type": "markdown",
   "metadata": {},
   "source": [
    "#### Найдём столбцы, в которых нужно поменять тип данных"
   ]
  },
  {
   "cell_type": "code",
   "execution_count": 14,
   "metadata": {},
   "outputs": [
    {
     "name": "stdout",
     "output_type": "stream",
     "text": [
      "<class 'pandas.core.frame.DataFrame'>\n",
      "RangeIndex: 23699 entries, 0 to 23698\n",
      "Data columns (total 22 columns):\n",
      " #   Column                Non-Null Count  Dtype  \n",
      "---  ------                --------------  -----  \n",
      " 0   total_images          23699 non-null  int64  \n",
      " 1   last_price            23699 non-null  float64\n",
      " 2   total_area            23699 non-null  float64\n",
      " 3   first_day_exposition  23699 non-null  object \n",
      " 4   rooms                 23699 non-null  int64  \n",
      " 5   ceiling_height        23621 non-null  float64\n",
      " 6   floors_total          23613 non-null  float64\n",
      " 7   living_area           23699 non-null  float64\n",
      " 8   floor                 23699 non-null  int64  \n",
      " 9   is_apartment          23699 non-null  bool   \n",
      " 10  studio                23699 non-null  bool   \n",
      " 11  open_plan             23699 non-null  bool   \n",
      " 12  kitchen_area          23699 non-null  float64\n",
      " 13  balcony               23699 non-null  float64\n",
      " 14  locality_name         23650 non-null  object \n",
      " 15  airports_nearest      18157 non-null  float64\n",
      " 16  cityCenters_nearest   18180 non-null  float64\n",
      " 17  parks_around3000      23699 non-null  float64\n",
      " 18  parks_nearest         8079 non-null   float64\n",
      " 19  ponds_around3000      23699 non-null  float64\n",
      " 20  ponds_nearest         9110 non-null   float64\n",
      " 21  days_exposition       20518 non-null  float64\n",
      "dtypes: bool(3), float64(14), int64(3), object(2)\n",
      "memory usage: 3.5+ MB\n"
     ]
    }
   ],
   "source": [
    "data.info()"
   ]
  },
  {
   "cell_type": "markdown",
   "metadata": {},
   "source": [
    "1. floors_total — всего этажей в доме. Имеет тип float64, но количество этажей целое чисто, изменим на int.\n",
    "2. balcony — число балконов. Так как у нас именно число, а не наличие, то меняем bool на int.\n",
    "3. parks_around3000 — число парков в радиусе 3 км. Аналогично п.2.\n",
    "4. ponds_around3000 — число водоёмов в радиусе 3 км. Аналогично п.2.\n",
    "5. days_exposition — сколько дней было размещено объявление (от публикации до снятия). Точность в 1 день, поэтому ставии  тип int.\n",
    "6. first_day_exposition — дата публикации. Переведем значение в datetime64.\n",
    "7. last_price — цена на момент снятия с публикации. Также точности до рубля будет достаточно."
   ]
  },
  {
   "cell_type": "code",
   "execution_count": 15,
   "metadata": {},
   "outputs": [],
   "source": [
    "data['floors_total'] = data['floors_total'].fillna(0).astype('int64')\n",
    "data['balcony'] = data['balcony'].astype('int64', errors = 'ignore')\n",
    "data['parks_around3000'] = data['parks_around3000'].astype('int64', errors = 'ignore')\n",
    "data['ponds_around3000'] = data['ponds_around3000'].astype('int64', errors = 'ignore')\n",
    "data['days_exposition'] = data['days_exposition'].fillna(0).astype('int64', errors = 'ignore')\n",
    "data['first_day_exposition'] = pd.to_datetime(data['first_day_exposition'])\n",
    "data['last_price'] = data['last_price'].astype('int64', errors = 'ignore')"
   ]
  },
  {
   "cell_type": "code",
   "execution_count": 16,
   "metadata": {},
   "outputs": [
    {
     "name": "stdout",
     "output_type": "stream",
     "text": [
      "<class 'pandas.core.frame.DataFrame'>\n",
      "RangeIndex: 23699 entries, 0 to 23698\n",
      "Data columns (total 22 columns):\n",
      " #   Column                Non-Null Count  Dtype         \n",
      "---  ------                --------------  -----         \n",
      " 0   total_images          23699 non-null  int64         \n",
      " 1   last_price            23699 non-null  int64         \n",
      " 2   total_area            23699 non-null  float64       \n",
      " 3   first_day_exposition  23699 non-null  datetime64[ns]\n",
      " 4   rooms                 23699 non-null  int64         \n",
      " 5   ceiling_height        23621 non-null  float64       \n",
      " 6   floors_total          23699 non-null  int64         \n",
      " 7   living_area           23699 non-null  float64       \n",
      " 8   floor                 23699 non-null  int64         \n",
      " 9   is_apartment          23699 non-null  bool          \n",
      " 10  studio                23699 non-null  bool          \n",
      " 11  open_plan             23699 non-null  bool          \n",
      " 12  kitchen_area          23699 non-null  float64       \n",
      " 13  balcony               23699 non-null  int64         \n",
      " 14  locality_name         23650 non-null  object        \n",
      " 15  airports_nearest      18157 non-null  float64       \n",
      " 16  cityCenters_nearest   18180 non-null  float64       \n",
      " 17  parks_around3000      23699 non-null  int64         \n",
      " 18  parks_nearest         8079 non-null   float64       \n",
      " 19  ponds_around3000      23699 non-null  int64         \n",
      " 20  ponds_nearest         9110 non-null   float64       \n",
      " 21  days_exposition       23699 non-null  int64         \n",
      "dtypes: bool(3), datetime64[ns](1), float64(8), int64(9), object(1)\n",
      "memory usage: 3.5+ MB\n"
     ]
    }
   ],
   "source": [
    "data.info()"
   ]
  },
  {
   "cell_type": "markdown",
   "metadata": {},
   "source": [
    "Замена типа данных float64 на int64 нужна, чтобы при работе стаблицей нам сразу было понятно, что мы работаем с целыми числами, это удобно. А вот замена bool уже необходима, так как могут возникнуть ошибки при работе с этим столбцом в противном случае.\n"
   ]
  },
  {
   "cell_type": "markdown",
   "metadata": {
    "scrolled": true
   },
   "source": [
    "### Проверим столбец с названием населенного пунка не неявные дубликаты"
   ]
  },
  {
   "cell_type": "markdown",
   "metadata": {},
   "source": [
    "Выведем уникальные значения и отсортируем их для удобного визуального анализа."
   ]
  },
  {
   "cell_type": "code",
   "execution_count": 17,
   "metadata": {
    "scrolled": false
   },
   "outputs": [
    {
     "data": {
      "text/plain": [
       "array(['Бокситогорск', 'Волосово', 'Волхов', 'Всеволожск', 'Выборг',\n",
       "       'Высоцк', 'Гатчина', 'Зеленогорск', 'Ивангород', 'Каменногорск',\n",
       "       'Кингисепп', 'Кириши', 'Кировск', 'Колпино', 'Коммунар',\n",
       "       'Красное Село', 'Кронштадт', 'Кудрово', 'Лодейное Поле',\n",
       "       'Ломоносов', 'Луга', 'Любань', 'Мурино', 'Никольское',\n",
       "       'Новая Ладога', 'Отрадное', 'Павловск', 'Петергоф', 'Пикалёво',\n",
       "       'Подпорожье', 'Приморск', 'Приозерск', 'Пушкин', 'Санкт-Петербург',\n",
       "       'Светогорск', 'Сертолово', 'Сестрорецк', 'Сланцы', 'Сосновый Бор',\n",
       "       'Сясьстрой', 'Тихвин', 'Тосно', 'Шлиссельбург',\n",
       "       'городской поселок Большая Ижора', 'городской поселок Янино-1',\n",
       "       'городской посёлок Будогощь', 'городской посёлок Виллози',\n",
       "       'городской посёлок Лесогорский', 'городской посёлок Мга',\n",
       "       'городской посёлок Назия', 'городской посёлок Новоселье',\n",
       "       'городской посёлок Павлово', 'городской посёлок Рощино',\n",
       "       'городской посёлок Свирьстрой', 'городской посёлок Советский',\n",
       "       'городской посёлок Фёдоровское', 'городской посёлок Янино-1',\n",
       "       'деревня Агалатово', 'деревня Аро', 'деревня Батово',\n",
       "       'деревня Бегуницы', 'деревня Белогорка', 'деревня Большая Вруда',\n",
       "       'деревня Большая Пустомержа', 'деревня Большие Колпаны',\n",
       "       'деревня Большое Рейзино', 'деревня Большой Сабск', 'деревня Бор',\n",
       "       'деревня Борисова Грива', 'деревня Ваганово', 'деревня Вартемяги',\n",
       "       'деревня Вахнова Кара', 'деревня Выскатка', 'деревня Гарболово',\n",
       "       'деревня Глинка', 'деревня Горбунки', 'деревня Гостилицы',\n",
       "       'деревня Заклинье', 'деревня Заневка', 'деревня Зимитицы',\n",
       "       'деревня Извара', 'деревня Иссад', 'деревня Калитино',\n",
       "       'деревня Кальтино', 'деревня Камышовка', 'деревня Каськово',\n",
       "       'деревня Келози', 'деревня Кипень', 'деревня Кисельня',\n",
       "       'деревня Колтуши', 'деревня Коркино', 'деревня Котлы',\n",
       "       'деревня Кривко', 'деревня Кудрово', 'деревня Кузьмолово',\n",
       "       'деревня Курковицы', 'деревня Куровицы', 'деревня Куттузи',\n",
       "       'деревня Лаврики', 'деревня Лаголово', 'деревня Лампово',\n",
       "       'деревня Лесколово', 'деревня Лопухинка', 'деревня Лупполово',\n",
       "       'деревня Малая Романовка', 'деревня Малое Верево',\n",
       "       'деревня Малое Карлино', 'деревня Малые Колпаны',\n",
       "       'деревня Мануйлово', 'деревня Меньково', 'деревня Мины',\n",
       "       'деревня Мистолово', 'деревня Ненимяки', 'деревня Нижние Осельки',\n",
       "       'деревня Нижняя', 'деревня Низино', 'деревня Новое Девяткино',\n",
       "       'деревня Новолисино', 'деревня Нурма', 'деревня Оржицы',\n",
       "       'деревня Парицы', 'деревня Пельгора', 'деревня Пеники',\n",
       "       'деревня Пижма', 'деревня Пикколово', 'деревня Пудомяги',\n",
       "       'деревня Пустынка', 'деревня Пчева', 'деревня Рабитицы',\n",
       "       'деревня Разбегаево', 'деревня Раздолье', 'деревня Разметелево',\n",
       "       'деревня Рапполово', 'деревня Реброво', 'деревня Русско',\n",
       "       'деревня Сижно', 'деревня Снегирёвка', 'деревня Старая',\n",
       "       'деревня Старая Пустошь', 'деревня Старое Хинколово',\n",
       "       'деревня Старополье', 'деревня Старосиверская',\n",
       "       'деревня Старые Бегуницы', 'деревня Суоранда',\n",
       "       'деревня Сяськелево', 'деревня Тарасово', 'деревня Терпилицы',\n",
       "       'деревня Тихковицы', 'деревня Тойворово', 'деревня Торосово',\n",
       "       'деревня Торошковичи', 'деревня Трубников Бор',\n",
       "       'деревня Фалилеево', 'деревня Фёдоровское', 'деревня Хапо-Ое',\n",
       "       'деревня Хязельки', 'деревня Чудской Бор', 'деревня Шпаньково',\n",
       "       'деревня Щеглово', 'деревня Юкки', 'деревня Ялгино',\n",
       "       'деревня Яльгелево', 'деревня Ям-Тесово',\n",
       "       'коттеджный поселок Кивеннапа Север', 'коттеджный поселок Счастье',\n",
       "       'коттеджный посёлок Лесное', 'поселок Аннино', 'поселок Барышево',\n",
       "       'поселок Бугры', 'поселок Возрождение', 'поселок Войсковицы',\n",
       "       'поселок Володарское', 'поселок Гаврилово', 'поселок Гарболово',\n",
       "       'поселок Гладкое', 'поселок Глажево', 'поселок Глебычево',\n",
       "       'поселок Гончарово', 'поселок Громово', 'поселок Дружноселье',\n",
       "       'поселок Елизаветино', 'поселок Жилгородок', 'поселок Жилпосёлок',\n",
       "       'поселок Житково', 'поселок Заводской', 'поселок Запорожское',\n",
       "       'поселок Зимитицы', 'поселок Ильичёво', 'поселок Калитино',\n",
       "       'поселок Каложицы', 'поселок Кингисеппский', 'поселок Кирпичное',\n",
       "       'поселок Кобралово', 'поселок Кобринское', 'поселок Коммунары',\n",
       "       'поселок Коробицыно', 'поселок Котельский',\n",
       "       'поселок Красная Долина', 'поселок Красносельское',\n",
       "       'поселок Лесное', 'поселок Лисий Нос', 'поселок Лукаши',\n",
       "       'поселок Любань', 'поселок Мельниково', 'поселок Мичуринское',\n",
       "       'поселок Молодцово', 'поселок Мурино', 'поселок Новый Свет',\n",
       "       'поселок Новый Учхоз', 'поселок Оредеж',\n",
       "       'поселок Пансионат Зелёный Бор', 'поселок Первомайское',\n",
       "       'поселок Перово', 'поселок Петровское', 'поселок Победа',\n",
       "       'поселок Поляны', 'поселок Почап', 'поселок Починок',\n",
       "       'поселок Пушное', 'поселок Пчевжа', 'поселок Рабитицы',\n",
       "       'поселок Романовка', 'поселок Ромашки', 'поселок Рябово',\n",
       "       'поселок Севастьяново', 'поселок Селезнёво', 'поселок Сельцо',\n",
       "       'поселок Семиозерье', 'поселок Семрино', 'поселок Серебрянский',\n",
       "       'поселок Совхозный', 'поселок Старая Малукса',\n",
       "       'поселок Стеклянный', 'поселок Сумино', 'поселок Суходолье',\n",
       "       'поселок Тельмана', 'поселок Терволово', 'поселок Торковичи',\n",
       "       'поселок Тёсово-4', 'поселок Углово', 'поселок Усть-Луга',\n",
       "       'поселок Ушаки', 'поселок Цвелодубово', 'поселок Цвылёво',\n",
       "       'поселок городского типа Большая Ижора',\n",
       "       'поселок городского типа Вырица',\n",
       "       'поселок городского типа Дружная Горка',\n",
       "       'поселок городского типа Дубровка',\n",
       "       'поселок городского типа Ефимовский',\n",
       "       'поселок городского типа Кондратьево',\n",
       "       'поселок городского типа Красный Бор',\n",
       "       'поселок городского типа Кузьмоловский',\n",
       "       'поселок городского типа Лебяжье',\n",
       "       'поселок городского типа Лесогорский',\n",
       "       'поселок городского типа Назия',\n",
       "       'поселок городского типа Никольский',\n",
       "       'поселок городского типа Приладожский',\n",
       "       'поселок городского типа Рахья', 'поселок городского типа Рощино',\n",
       "       'поселок городского типа Рябово',\n",
       "       'поселок городского типа Синявино',\n",
       "       'поселок городского типа Советский',\n",
       "       'поселок городского типа Токсово',\n",
       "       'поселок городского типа Форносово',\n",
       "       'поселок городского типа имени Свердлова',\n",
       "       'поселок станции Вещево', 'поселок станции Корнево',\n",
       "       'поселок станции Лужайка', 'поселок станции Приветнинское',\n",
       "       'посёлок Александровская', 'посёлок Алексеевка', 'посёлок Аннино',\n",
       "       'посёлок Белоостров', 'посёлок Бугры', 'посёлок Возрождение',\n",
       "       'посёлок Войскорово', 'посёлок Высокоключевой',\n",
       "       'посёлок Гаврилово', 'посёлок Дзержинского', 'посёлок Жилгородок',\n",
       "       'посёлок Ильичёво', 'посёлок Кикерино', 'посёлок Кобралово',\n",
       "       'посёлок Коробицыно', 'посёлок Левашово', 'посёлок Ленинское',\n",
       "       'посёлок Лисий Нос', 'посёлок Мельниково', 'посёлок Металлострой',\n",
       "       'посёлок Мичуринское', 'посёлок Молодёжное', 'посёлок Мурино',\n",
       "       'посёлок Мыза-Ивановка', 'посёлок Новогорелово',\n",
       "       'посёлок Новый Свет', 'посёлок Пансионат Зелёный Бор',\n",
       "       'посёлок Парголово', 'посёлок Перово', 'посёлок Песочный',\n",
       "       'посёлок Петро-Славянка', 'посёлок Петровское',\n",
       "       'посёлок Платформа 69-й километр', 'посёлок Плодовое',\n",
       "       'посёлок Плоское', 'посёлок Победа', 'посёлок Поляны',\n",
       "       'посёлок Понтонный', 'посёлок Пригородный', 'посёлок Пудость',\n",
       "       'посёлок Репино', 'посёлок Ропша', 'посёлок Сапёрное',\n",
       "       'посёлок Сапёрный', 'посёлок Сосново', 'посёлок Старая Малукса',\n",
       "       'посёлок Стеклянный', 'посёлок Стрельна', 'посёлок Суйда',\n",
       "       'посёлок Сумино', 'посёлок Тельмана', 'посёлок Терволово',\n",
       "       'посёлок Торфяное', 'посёлок Усть-Ижора', 'посёлок Усть-Луга',\n",
       "       'посёлок Форт Красная Горка', 'посёлок Шугозеро', 'посёлок Шушары',\n",
       "       'посёлок Щеглово', 'посёлок городского типа Важины',\n",
       "       'посёлок городского типа Вознесенье',\n",
       "       'посёлок городского типа Вырица',\n",
       "       'посёлок городского типа Красный Бор',\n",
       "       'посёлок городского типа Кузнечное',\n",
       "       'посёлок городского типа Кузьмоловский',\n",
       "       'посёлок городского типа Лебяжье', 'посёлок городского типа Мга',\n",
       "       'посёлок городского типа Павлово',\n",
       "       'посёлок городского типа Рощино', 'посёлок городского типа Рябово',\n",
       "       'посёлок городского типа Сиверский',\n",
       "       'посёлок городского типа Тайцы', 'посёлок городского типа Токсово',\n",
       "       'посёлок городского типа Ульяновка',\n",
       "       'посёлок городского типа Форносово',\n",
       "       'посёлок городского типа имени Морозова',\n",
       "       'посёлок городского типа имени Свердлова',\n",
       "       'посёлок при железнодорожной станции Вещево',\n",
       "       'посёлок при железнодорожной станции Приветнинское',\n",
       "       'посёлок станции Громово', 'посёлок станции Свирь',\n",
       "       'садоводческое некоммерческое товарищество Лесная Поляна',\n",
       "       'садовое товарищество Новая Ропша',\n",
       "       'садовое товарищество Приладожский', 'садовое товарищество Рахья',\n",
       "       'садовое товарищество Садко', 'село Копорье', 'село Никольское',\n",
       "       'село Павлово', 'село Паша', 'село Путилово', 'село Рождествено',\n",
       "       'село Русско-Высоцкое', 'село Старая Ладога', 'село Шум', nan],\n",
       "      dtype=object)"
      ]
     },
     "execution_count": 17,
     "metadata": {},
     "output_type": "execute_result"
    }
   ],
   "source": [
    "data['locality_name'].sort_values().unique()"
   ]
  },
  {
   "cell_type": "markdown",
   "metadata": {},
   "source": [
    "Выведем клоличество уикальных названий населёных пунктов."
   ]
  },
  {
   "cell_type": "code",
   "execution_count": 18,
   "metadata": {},
   "outputs": [
    {
     "data": {
      "text/plain": [
       "365"
      ]
     },
     "execution_count": 18,
     "metadata": {},
     "output_type": "execute_result"
    }
   ],
   "source": [
    "len(data['locality_name'].sort_values().unique())"
   ]
  },
  {
   "cell_type": "markdown",
   "metadata": {},
   "source": [
    "Запишем функцию, которая будет заменять неявные дубликаты."
   ]
  },
  {
   "cell_type": "code",
   "execution_count": 19,
   "metadata": {},
   "outputs": [],
   "source": [
    "def name_edit(row):\n",
    "    try:\n",
    "        row = row.lower()\n",
    "        if 'поселок городского типа' in row:\n",
    "            rown = 'поселок городского типа'\n",
    "            return 'поселок' + row[len(rown):]\n",
    "        elif 'посёлок городского типа' in row:\n",
    "            rown = 'посёлок городского типа'\n",
    "            return 'поселок' + row[len(rown):]\n",
    "        elif 'коттеджный посёлок' in row:\n",
    "            rown = 'коттеджный посёлок'\n",
    "            return 'поселок' + row[len(rown):]\n",
    "        elif 'коттеджный поселок' in row:\n",
    "            rown = 'коттеджный поселок'\n",
    "            return 'поселок' + row[len(rown):]\n",
    "        elif 'городской поселок' in row:\n",
    "            rown = 'городской поселок'\n",
    "            return 'поселок' + row[len(rown):]\n",
    "        elif 'городской посёлок' in row:\n",
    "            rown = 'городской посёлок'\n",
    "            return 'поселок' + row[len(rown):]\n",
    "        elif 'посёлок' in row:\n",
    "            rown = 'посёлок'\n",
    "            return 'поселок' + row[len(rown):]\n",
    "        elif 'поселок' in row:\n",
    "            rown = 'поселок'\n",
    "            return 'поселок' + row[len(rown):]\n",
    "        elif 'село' in row:\n",
    "            rown = 'село'\n",
    "            return 'поселок' + row[len(rown):]\n",
    "        else:\n",
    "            return row\n",
    "    except:\n",
    "        return 'нет названия'"
   ]
  },
  {
   "cell_type": "code",
   "execution_count": 20,
   "metadata": {},
   "outputs": [],
   "source": [
    "data['locality_name'] = data['locality_name'].apply(name_edit)"
   ]
  },
  {
   "cell_type": "markdown",
   "metadata": {},
   "source": [
    "После всех проебразований ещё раз посмотрим на уникальные названия населенных пунктов."
   ]
  },
  {
   "cell_type": "code",
   "execution_count": 21,
   "metadata": {
    "scrolled": false
   },
   "outputs": [
    {
     "data": {
      "text/plain": [
       "array(['бокситогорск', 'волосово', 'волхов', 'всеволожск', 'выборг',\n",
       "       'высоцк', 'гатчина', 'деревня агалатово', 'деревня аро',\n",
       "       'деревня батово', 'деревня бегуницы', 'деревня белогорка',\n",
       "       'деревня большая вруда', 'деревня большая пустомержа',\n",
       "       'деревня большие колпаны', 'деревня большое рейзино',\n",
       "       'деревня большой сабск', 'деревня бор', 'деревня борисова грива',\n",
       "       'деревня ваганово', 'деревня вартемяги', 'деревня вахнова кара',\n",
       "       'деревня выскатка', 'деревня гарболово', 'деревня глинка',\n",
       "       'деревня горбунки', 'деревня гостилицы', 'деревня заклинье',\n",
       "       'деревня заневка', 'деревня зимитицы', 'деревня извара',\n",
       "       'деревня иссад', 'деревня калитино', 'деревня кальтино',\n",
       "       'деревня камышовка', 'деревня каськово', 'деревня келози',\n",
       "       'деревня кипень', 'деревня кисельня', 'деревня колтуши',\n",
       "       'деревня коркино', 'деревня котлы', 'деревня кривко',\n",
       "       'деревня кудрово', 'деревня кузьмолово', 'деревня курковицы',\n",
       "       'деревня куровицы', 'деревня куттузи', 'деревня лаврики',\n",
       "       'деревня лаголово', 'деревня лампово', 'деревня лесколово',\n",
       "       'деревня лопухинка', 'деревня лупполово',\n",
       "       'деревня малая романовка', 'деревня малое верево',\n",
       "       'деревня малое карлино', 'деревня малые колпаны',\n",
       "       'деревня мануйлово', 'деревня меньково', 'деревня мины',\n",
       "       'деревня мистолово', 'деревня ненимяки', 'деревня нижние осельки',\n",
       "       'деревня нижняя', 'деревня низино', 'деревня новое девяткино',\n",
       "       'деревня новолисино', 'деревня нурма', 'деревня оржицы',\n",
       "       'деревня парицы', 'деревня пельгора', 'деревня пеники',\n",
       "       'деревня пижма', 'деревня пикколово', 'деревня пудомяги',\n",
       "       'деревня пустынка', 'деревня пчева', 'деревня рабитицы',\n",
       "       'деревня разбегаево', 'деревня раздолье', 'деревня разметелево',\n",
       "       'деревня рапполово', 'деревня реброво', 'деревня русско',\n",
       "       'деревня сижно', 'деревня снегирёвка', 'деревня старая',\n",
       "       'деревня старая пустошь', 'деревня старое хинколово',\n",
       "       'деревня старополье', 'деревня старосиверская',\n",
       "       'деревня старые бегуницы', 'деревня суоранда',\n",
       "       'деревня сяськелево', 'деревня тарасово', 'деревня терпилицы',\n",
       "       'деревня тихковицы', 'деревня тойворово', 'деревня торосово',\n",
       "       'деревня торошковичи', 'деревня трубников бор',\n",
       "       'деревня фалилеево', 'деревня фёдоровское', 'деревня хапо-ое',\n",
       "       'деревня хязельки', 'деревня чудской бор', 'деревня шпаньково',\n",
       "       'деревня щеглово', 'деревня юкки', 'деревня ялгино',\n",
       "       'деревня яльгелево', 'деревня ям-тесово', 'зеленогорск',\n",
       "       'ивангород', 'каменногорск', 'кингисепп', 'кириши', 'кировск',\n",
       "       'колпино', 'коммунар', 'кронштадт', 'кудрово', 'лодейное поле',\n",
       "       'ломоносов', 'луга', 'любань', 'мурино', 'нет названия',\n",
       "       'никольское', 'новая ладога', 'отрадное', 'павловск', 'петергоф',\n",
       "       'пикалёво', 'подпорожье', 'поселок александровская',\n",
       "       'поселок алексеевка', 'поселок аннино', 'поселок барышево',\n",
       "       'поселок белоостров', 'поселок большая ижора', 'поселок бугры',\n",
       "       'поселок будогощь', 'поселок важины', 'поселок виллози',\n",
       "       'поселок вознесенье', 'поселок возрождение', 'поселок войсковицы',\n",
       "       'поселок войскорово', 'поселок володарское', 'поселок вырица',\n",
       "       'поселок высокоключевой', 'поселок гаврилово', 'поселок гарболово',\n",
       "       'поселок гладкое', 'поселок глажево', 'поселок глебычево',\n",
       "       'поселок гончарово', 'поселок громово', 'поселок дзержинского',\n",
       "       'поселок дружная горка', 'поселок дружноселье', 'поселок дубровка',\n",
       "       'поселок елизаветино', 'поселок ефимовский', 'поселок жилгородок',\n",
       "       'поселок жилпосёлок', 'поселок житково', 'поселок заводской',\n",
       "       'поселок запорожское', 'поселок зимитицы', 'поселок ильичёво',\n",
       "       'поселок имени морозова', 'поселок имени свердлова',\n",
       "       'поселок калитино', 'поселок каложицы', 'поселок кивеннапа север',\n",
       "       'поселок кикерино', 'поселок кингисеппский', 'поселок кирпичное',\n",
       "       'поселок кобралово', 'поселок кобринское', 'поселок коммунары',\n",
       "       'поселок кондратьево', 'поселок копорье', 'поселок коробицыно',\n",
       "       'поселок котельский', 'поселок красная долина',\n",
       "       'поселок красносельское', 'поселок красный бор',\n",
       "       'поселок кузнечное', 'поселок кузьмоловский', 'поселок лебяжье',\n",
       "       'поселок левашово', 'поселок ленинское', 'поселок лесное',\n",
       "       'поселок лесогорский', 'поселок лисий нос', 'поселок лукаши',\n",
       "       'поселок любань', 'поселок мга', 'поселок мельниково',\n",
       "       'поселок металлострой', 'поселок мичуринское', 'поселок молодцово',\n",
       "       'поселок молодёжное', 'поселок мурино', 'поселок мыза-ивановка',\n",
       "       'поселок назия', 'поселок никольский', 'поселок никольское',\n",
       "       'поселок новогорелово', 'поселок новоселье', 'поселок новый свет',\n",
       "       'поселок новый учхоз', 'поселок оредеж', 'поселок павлово',\n",
       "       'поселок пансионат зелёный бор', 'поселок парголово',\n",
       "       'поселок паша', 'поселок первомайское', 'поселок перово',\n",
       "       'поселок песочный', 'поселок петро-славянка', 'поселок петровское',\n",
       "       'поселок платформа 69-й километр', 'поселок плодовое',\n",
       "       'поселок плоское', 'поселок победа', 'поселок поляны',\n",
       "       'поселок понтонный', 'поселок почап', 'поселок починок',\n",
       "       'поселок при железнодорожной станции вещево',\n",
       "       'поселок при железнодорожной станции приветнинское',\n",
       "       'поселок пригородный', 'поселок приладожский', 'поселок пудость',\n",
       "       'поселок путилово', 'поселок пушное', 'поселок пчевжа',\n",
       "       'поселок рабитицы', 'поселок рахья', 'поселок репино',\n",
       "       'поселок рождествено', 'поселок романовка', 'поселок ромашки',\n",
       "       'поселок ропша', 'поселок рощино', 'поселок русско-высоцкое',\n",
       "       'поселок рябово', 'поселок сапёрное', 'поселок сапёрный',\n",
       "       'поселок свирьстрой', 'поселок севастьяново', 'поселок селезнёво',\n",
       "       'поселок сельцо', 'поселок семиозерье', 'поселок семрино',\n",
       "       'поселок серебрянский', 'поселок сиверский', 'поселок синявино',\n",
       "       'поселок советский', 'поселок совхозный', 'поселок сосново',\n",
       "       'поселок станции вещево', 'поселок станции громово',\n",
       "       'поселок станции корнево', 'поселок станции лужайка',\n",
       "       'поселок станции приветнинское', 'поселок станции свирь',\n",
       "       'поселок старая ладога', 'поселок старая малукса',\n",
       "       'поселок стеклянный', 'поселок стрельна', 'поселок суйда',\n",
       "       'поселок сумино', 'поселок суходолье', 'поселок счастье',\n",
       "       'поселок тайцы', 'поселок тельмана', 'поселок терволово',\n",
       "       'поселок токсово', 'поселок торковичи', 'поселок торфяное',\n",
       "       'поселок тёсово-4', 'поселок углово', 'поселок ульяновка',\n",
       "       'поселок усть-ижора', 'поселок усть-луга', 'поселок ушаки',\n",
       "       'поселок форносово', 'поселок форт красная горка',\n",
       "       'поселок фёдоровское', 'поселок цвелодубово', 'поселок цвылёво',\n",
       "       'поселок шугозеро', 'поселок шум', 'поселок шушары',\n",
       "       'поселок щеглово', 'поселок янино-1', 'поселокное село',\n",
       "       'приморск', 'приозерск', 'пушкин',\n",
       "       'садоводческое некоммерческое товарищество лесная поляна',\n",
       "       'садовое товарищество новая ропша',\n",
       "       'садовое товарищество приладожский', 'садовое товарищество рахья',\n",
       "       'садовое товарищество садко', 'санкт-петербург', 'светогорск',\n",
       "       'сертолово', 'сестрорецк', 'сланцы', 'сосновый бор', 'сясьстрой',\n",
       "       'тихвин', 'тосно', 'шлиссельбург'], dtype=object)"
      ]
     },
     "execution_count": 21,
     "metadata": {},
     "output_type": "execute_result"
    }
   ],
   "source": [
    "data['locality_name'].sort_values().unique()"
   ]
  },
  {
   "cell_type": "markdown",
   "metadata": {},
   "source": [
    "Выведем клоличество уикальных названий населёных пунктов после обработки дубликатов."
   ]
  },
  {
   "cell_type": "code",
   "execution_count": 22,
   "metadata": {},
   "outputs": [
    {
     "data": {
      "text/plain": [
       "321"
      ]
     },
     "execution_count": 22,
     "metadata": {},
     "output_type": "execute_result"
    }
   ],
   "source": [
    "len(data['locality_name'].sort_values().unique())"
   ]
  },
  {
   "cell_type": "markdown",
   "metadata": {},
   "source": [
    "Работа проведена не зря, количество уникальных значений уменшилось с 365 до 302."
   ]
  },
  {
   "cell_type": "markdown",
   "metadata": {},
   "source": [
    "### Найдем и устраним редкие и выбивающиеся значения"
   ]
  },
  {
   "cell_type": "markdown",
   "metadata": {},
   "source": [
    "Ещё раз выведем гистограммы для каждого столбца."
   ]
  },
  {
   "cell_type": "code",
   "execution_count": 23,
   "metadata": {},
   "outputs": [
    {
     "data": {
      "text/plain": [
       "array([[<AxesSubplot:title={'center':'total_images'}>,\n",
       "        <AxesSubplot:title={'center':'last_price'}>,\n",
       "        <AxesSubplot:title={'center':'total_area'}>,\n",
       "        <AxesSubplot:title={'center':'first_day_exposition'}>],\n",
       "       [<AxesSubplot:title={'center':'rooms'}>,\n",
       "        <AxesSubplot:title={'center':'ceiling_height'}>,\n",
       "        <AxesSubplot:title={'center':'floors_total'}>,\n",
       "        <AxesSubplot:title={'center':'living_area'}>],\n",
       "       [<AxesSubplot:title={'center':'floor'}>,\n",
       "        <AxesSubplot:title={'center':'kitchen_area'}>,\n",
       "        <AxesSubplot:title={'center':'balcony'}>,\n",
       "        <AxesSubplot:title={'center':'airports_nearest'}>],\n",
       "       [<AxesSubplot:title={'center':'cityCenters_nearest'}>,\n",
       "        <AxesSubplot:title={'center':'parks_around3000'}>,\n",
       "        <AxesSubplot:title={'center':'parks_nearest'}>,\n",
       "        <AxesSubplot:title={'center':'ponds_around3000'}>],\n",
       "       [<AxesSubplot:title={'center':'ponds_nearest'}>,\n",
       "        <AxesSubplot:title={'center':'days_exposition'}>, <AxesSubplot:>,\n",
       "        <AxesSubplot:>]], dtype=object)"
      ]
     },
     "execution_count": 23,
     "metadata": {},
     "output_type": "execute_result"
    },
    {
     "data": {
      "image/png": "[encoded data removed]",
      "text/plain": [
       "<Figure size 1080x1440 with 20 Axes>"
      ]
     },
     "metadata": {
      "needs_background": "light"
     },
     "output_type": "display_data"
    }
   ],
   "source": [
    "data.hist(bins=30, figsize=(15, 20))"
   ]
  },
  {
   "cell_type": "markdown",
   "metadata": {},
   "source": [
    "**Будем обращать внимание на гистограммы где значения горизонтальной оси выходит за пределы разумных значений.**\n",
    "1. Будем сравнивать жилую площадь, площадь кухони и площадь квартиры, если Sжилой или Sкухни > Sкв, то тут будет явно ошибка.\n",
    "2. Подозрительно большая высота потолков у некотрых квартир, но также может быть и маленькой.\n",
    "3. Обратим внимание на всего этажей в здание, так как саможе высокое жилое здание находится в ЖК «Лондон Парк», которое состоит из нескольких корпусов, но только два из них имеют высоту 31 этаж или 105,8 м. То всё что выше уже является подозрительным. \n",
    "4. Обратим внимание на самые дорогие квартиры."
   ]
  },
  {
   "cell_type": "code",
   "execution_count": 24,
   "metadata": {
    "scrolled": false
   },
   "outputs": [
    {
     "data": {
      "text/html": [
       "<div>\n",
       "<style scoped>\n",
       "    .dataframe tbody tr th:only-of-type {\n",
       "        vertical-align: middle;\n",
       "    }\n",
       "\n",
       "    .dataframe tbody tr th {\n",
       "        vertical-align: top;\n",
       "    }\n",
       "\n",
       "    .dataframe thead th {\n",
       "        text-align: right;\n",
       "    }\n",
       "</style>\n",
       "<table border=\"1\" class=\"dataframe\">\n",
       "  <thead>\n",
       "    <tr style=\"text-align: right;\">\n",
       "      <th></th>\n",
       "      <th>total_images</th>\n",
       "      <th>last_price</th>\n",
       "      <th>total_area</th>\n",
       "      <th>first_day_exposition</th>\n",
       "      <th>rooms</th>\n",
       "      <th>ceiling_height</th>\n",
       "      <th>floors_total</th>\n",
       "      <th>living_area</th>\n",
       "      <th>floor</th>\n",
       "      <th>is_apartment</th>\n",
       "      <th>...</th>\n",
       "      <th>kitchen_area</th>\n",
       "      <th>balcony</th>\n",
       "      <th>locality_name</th>\n",
       "      <th>airports_nearest</th>\n",
       "      <th>cityCenters_nearest</th>\n",
       "      <th>parks_around3000</th>\n",
       "      <th>parks_nearest</th>\n",
       "      <th>ponds_around3000</th>\n",
       "      <th>ponds_nearest</th>\n",
       "      <th>days_exposition</th>\n",
       "    </tr>\n",
       "  </thead>\n",
       "  <tbody>\n",
       "    <tr>\n",
       "      <th>1595</th>\n",
       "      <td>7</td>\n",
       "      <td>3200000</td>\n",
       "      <td>62.4</td>\n",
       "      <td>2019-04-23</td>\n",
       "      <td>4</td>\n",
       "      <td>2.55</td>\n",
       "      <td>5</td>\n",
       "      <td>63.600</td>\n",
       "      <td>2</td>\n",
       "      <td>False</td>\n",
       "      <td>...</td>\n",
       "      <td>11.10</td>\n",
       "      <td>1</td>\n",
       "      <td>кингисепп</td>\n",
       "      <td>NaN</td>\n",
       "      <td>NaN</td>\n",
       "      <td>0</td>\n",
       "      <td>NaN</td>\n",
       "      <td>0</td>\n",
       "      <td>NaN</td>\n",
       "      <td>0</td>\n",
       "    </tr>\n",
       "    <tr>\n",
       "      <th>3374</th>\n",
       "      <td>18</td>\n",
       "      <td>3650000</td>\n",
       "      <td>41.5</td>\n",
       "      <td>2018-02-14</td>\n",
       "      <td>3</td>\n",
       "      <td>2.50</td>\n",
       "      <td>5</td>\n",
       "      <td>45.000</td>\n",
       "      <td>3</td>\n",
       "      <td>False</td>\n",
       "      <td>...</td>\n",
       "      <td>9.50</td>\n",
       "      <td>0</td>\n",
       "      <td>санкт-петербург</td>\n",
       "      <td>12842.0</td>\n",
       "      <td>11005.0</td>\n",
       "      <td>0</td>\n",
       "      <td>NaN</td>\n",
       "      <td>1</td>\n",
       "      <td>745.0</td>\n",
       "      <td>24</td>\n",
       "    </tr>\n",
       "    <tr>\n",
       "      <th>8976</th>\n",
       "      <td>5</td>\n",
       "      <td>4350000</td>\n",
       "      <td>41.2</td>\n",
       "      <td>2017-03-17</td>\n",
       "      <td>3</td>\n",
       "      <td>2.50</td>\n",
       "      <td>5</td>\n",
       "      <td>45.000</td>\n",
       "      <td>3</td>\n",
       "      <td>False</td>\n",
       "      <td>...</td>\n",
       "      <td>9.50</td>\n",
       "      <td>0</td>\n",
       "      <td>санкт-петербург</td>\n",
       "      <td>14918.0</td>\n",
       "      <td>9601.0</td>\n",
       "      <td>0</td>\n",
       "      <td>NaN</td>\n",
       "      <td>1</td>\n",
       "      <td>694.0</td>\n",
       "      <td>560</td>\n",
       "    </tr>\n",
       "    <tr>\n",
       "      <th>9795</th>\n",
       "      <td>10</td>\n",
       "      <td>4000000</td>\n",
       "      <td>42.0</td>\n",
       "      <td>2017-11-20</td>\n",
       "      <td>3</td>\n",
       "      <td>2.50</td>\n",
       "      <td>5</td>\n",
       "      <td>45.000</td>\n",
       "      <td>3</td>\n",
       "      <td>False</td>\n",
       "      <td>...</td>\n",
       "      <td>9.50</td>\n",
       "      <td>0</td>\n",
       "      <td>санкт-петербург</td>\n",
       "      <td>11284.0</td>\n",
       "      <td>12562.0</td>\n",
       "      <td>1</td>\n",
       "      <td>358.0</td>\n",
       "      <td>1</td>\n",
       "      <td>117.0</td>\n",
       "      <td>276</td>\n",
       "    </tr>\n",
       "    <tr>\n",
       "      <th>9861</th>\n",
       "      <td>10</td>\n",
       "      <td>2350000</td>\n",
       "      <td>25.0</td>\n",
       "      <td>2017-12-03</td>\n",
       "      <td>0</td>\n",
       "      <td>2.75</td>\n",
       "      <td>22</td>\n",
       "      <td>25.000</td>\n",
       "      <td>17</td>\n",
       "      <td>False</td>\n",
       "      <td>...</td>\n",
       "      <td>0.00</td>\n",
       "      <td>2</td>\n",
       "      <td>поселок мурино</td>\n",
       "      <td>NaN</td>\n",
       "      <td>NaN</td>\n",
       "      <td>0</td>\n",
       "      <td>NaN</td>\n",
       "      <td>0</td>\n",
       "      <td>NaN</td>\n",
       "      <td>13</td>\n",
       "    </tr>\n",
       "    <tr>\n",
       "      <th>9964</th>\n",
       "      <td>5</td>\n",
       "      <td>3500000</td>\n",
       "      <td>49.5</td>\n",
       "      <td>2018-10-02</td>\n",
       "      <td>4</td>\n",
       "      <td>2.55</td>\n",
       "      <td>5</td>\n",
       "      <td>63.600</td>\n",
       "      <td>1</td>\n",
       "      <td>False</td>\n",
       "      <td>...</td>\n",
       "      <td>11.10</td>\n",
       "      <td>0</td>\n",
       "      <td>санкт-петербург</td>\n",
       "      <td>11609.0</td>\n",
       "      <td>10539.0</td>\n",
       "      <td>0</td>\n",
       "      <td>NaN</td>\n",
       "      <td>1</td>\n",
       "      <td>96.0</td>\n",
       "      <td>63</td>\n",
       "    </tr>\n",
       "    <tr>\n",
       "      <th>11814</th>\n",
       "      <td>1</td>\n",
       "      <td>3490000</td>\n",
       "      <td>42.0</td>\n",
       "      <td>2018-02-12</td>\n",
       "      <td>3</td>\n",
       "      <td>2.55</td>\n",
       "      <td>5</td>\n",
       "      <td>45.000</td>\n",
       "      <td>1</td>\n",
       "      <td>False</td>\n",
       "      <td>...</td>\n",
       "      <td>9.50</td>\n",
       "      <td>0</td>\n",
       "      <td>санкт-петербург</td>\n",
       "      <td>11605.0</td>\n",
       "      <td>12577.0</td>\n",
       "      <td>0</td>\n",
       "      <td>NaN</td>\n",
       "      <td>0</td>\n",
       "      <td>NaN</td>\n",
       "      <td>36</td>\n",
       "    </tr>\n",
       "    <tr>\n",
       "      <th>11977</th>\n",
       "      <td>5</td>\n",
       "      <td>2850000</td>\n",
       "      <td>62.0</td>\n",
       "      <td>2018-07-08</td>\n",
       "      <td>4</td>\n",
       "      <td>2.65</td>\n",
       "      <td>5</td>\n",
       "      <td>63.600</td>\n",
       "      <td>1</td>\n",
       "      <td>False</td>\n",
       "      <td>...</td>\n",
       "      <td>11.10</td>\n",
       "      <td>0</td>\n",
       "      <td>кингисепп</td>\n",
       "      <td>NaN</td>\n",
       "      <td>NaN</td>\n",
       "      <td>0</td>\n",
       "      <td>NaN</td>\n",
       "      <td>0</td>\n",
       "      <td>NaN</td>\n",
       "      <td>45</td>\n",
       "    </tr>\n",
       "    <tr>\n",
       "      <th>12040</th>\n",
       "      <td>5</td>\n",
       "      <td>1900000</td>\n",
       "      <td>15.0</td>\n",
       "      <td>2018-06-27</td>\n",
       "      <td>1</td>\n",
       "      <td>2.50</td>\n",
       "      <td>5</td>\n",
       "      <td>17.600</td>\n",
       "      <td>1</td>\n",
       "      <td>False</td>\n",
       "      <td>...</td>\n",
       "      <td>9.04</td>\n",
       "      <td>0</td>\n",
       "      <td>сосновый бор</td>\n",
       "      <td>NaN</td>\n",
       "      <td>NaN</td>\n",
       "      <td>0</td>\n",
       "      <td>NaN</td>\n",
       "      <td>0</td>\n",
       "      <td>NaN</td>\n",
       "      <td>45</td>\n",
       "    </tr>\n",
       "    <tr>\n",
       "      <th>12129</th>\n",
       "      <td>0</td>\n",
       "      <td>1150000</td>\n",
       "      <td>30.0</td>\n",
       "      <td>2018-08-05</td>\n",
       "      <td>2</td>\n",
       "      <td>2.50</td>\n",
       "      <td>5</td>\n",
       "      <td>30.500</td>\n",
       "      <td>2</td>\n",
       "      <td>False</td>\n",
       "      <td>...</td>\n",
       "      <td>8.80</td>\n",
       "      <td>0</td>\n",
       "      <td>поселок мга</td>\n",
       "      <td>NaN</td>\n",
       "      <td>NaN</td>\n",
       "      <td>0</td>\n",
       "      <td>NaN</td>\n",
       "      <td>0</td>\n",
       "      <td>NaN</td>\n",
       "      <td>45</td>\n",
       "    </tr>\n",
       "    <tr>\n",
       "      <th>12186</th>\n",
       "      <td>1</td>\n",
       "      <td>4900000</td>\n",
       "      <td>71.4</td>\n",
       "      <td>2017-09-21</td>\n",
       "      <td>5</td>\n",
       "      <td>2.60</td>\n",
       "      <td>9</td>\n",
       "      <td>91.785</td>\n",
       "      <td>7</td>\n",
       "      <td>False</td>\n",
       "      <td>...</td>\n",
       "      <td>15.10</td>\n",
       "      <td>0</td>\n",
       "      <td>санкт-петербург</td>\n",
       "      <td>13592.0</td>\n",
       "      <td>14670.0</td>\n",
       "      <td>1</td>\n",
       "      <td>430.0</td>\n",
       "      <td>0</td>\n",
       "      <td>NaN</td>\n",
       "      <td>133</td>\n",
       "    </tr>\n",
       "    <tr>\n",
       "      <th>12691</th>\n",
       "      <td>1</td>\n",
       "      <td>3700000</td>\n",
       "      <td>24.2</td>\n",
       "      <td>2017-11-10</td>\n",
       "      <td>0</td>\n",
       "      <td>2.75</td>\n",
       "      <td>19</td>\n",
       "      <td>24.200</td>\n",
       "      <td>13</td>\n",
       "      <td>False</td>\n",
       "      <td>...</td>\n",
       "      <td>0.00</td>\n",
       "      <td>1</td>\n",
       "      <td>санкт-петербург</td>\n",
       "      <td>17837.0</td>\n",
       "      <td>16840.0</td>\n",
       "      <td>0</td>\n",
       "      <td>NaN</td>\n",
       "      <td>2</td>\n",
       "      <td>210.0</td>\n",
       "      <td>74</td>\n",
       "    </tr>\n",
       "    <tr>\n",
       "      <th>12827</th>\n",
       "      <td>7</td>\n",
       "      <td>5250000</td>\n",
       "      <td>67.0</td>\n",
       "      <td>2018-02-16</td>\n",
       "      <td>5</td>\n",
       "      <td>2.50</td>\n",
       "      <td>5</td>\n",
       "      <td>91.785</td>\n",
       "      <td>1</td>\n",
       "      <td>False</td>\n",
       "      <td>...</td>\n",
       "      <td>15.10</td>\n",
       "      <td>0</td>\n",
       "      <td>санкт-петербург</td>\n",
       "      <td>13115.0</td>\n",
       "      <td>9661.0</td>\n",
       "      <td>0</td>\n",
       "      <td>NaN</td>\n",
       "      <td>1</td>\n",
       "      <td>568.0</td>\n",
       "      <td>81</td>\n",
       "    </tr>\n",
       "    <tr>\n",
       "      <th>13006</th>\n",
       "      <td>6</td>\n",
       "      <td>3800000</td>\n",
       "      <td>62.0</td>\n",
       "      <td>2018-02-01</td>\n",
       "      <td>4</td>\n",
       "      <td>2.70</td>\n",
       "      <td>5</td>\n",
       "      <td>63.600</td>\n",
       "      <td>3</td>\n",
       "      <td>False</td>\n",
       "      <td>...</td>\n",
       "      <td>11.10</td>\n",
       "      <td>0</td>\n",
       "      <td>всеволожск</td>\n",
       "      <td>NaN</td>\n",
       "      <td>NaN</td>\n",
       "      <td>0</td>\n",
       "      <td>NaN</td>\n",
       "      <td>0</td>\n",
       "      <td>NaN</td>\n",
       "      <td>43</td>\n",
       "    </tr>\n",
       "    <tr>\n",
       "      <th>13034</th>\n",
       "      <td>11</td>\n",
       "      <td>2350000</td>\n",
       "      <td>42.0</td>\n",
       "      <td>2018-03-25</td>\n",
       "      <td>4</td>\n",
       "      <td>2.50</td>\n",
       "      <td>5</td>\n",
       "      <td>63.600</td>\n",
       "      <td>2</td>\n",
       "      <td>False</td>\n",
       "      <td>...</td>\n",
       "      <td>11.10</td>\n",
       "      <td>0</td>\n",
       "      <td>деревня старая</td>\n",
       "      <td>NaN</td>\n",
       "      <td>NaN</td>\n",
       "      <td>0</td>\n",
       "      <td>NaN</td>\n",
       "      <td>0</td>\n",
       "      <td>NaN</td>\n",
       "      <td>44</td>\n",
       "    </tr>\n",
       "    <tr>\n",
       "      <th>14603</th>\n",
       "      <td>12</td>\n",
       "      <td>13490000</td>\n",
       "      <td>100.6</td>\n",
       "      <td>2018-07-31</td>\n",
       "      <td>7</td>\n",
       "      <td>3.00</td>\n",
       "      <td>4</td>\n",
       "      <td>145.000</td>\n",
       "      <td>2</td>\n",
       "      <td>True</td>\n",
       "      <td>...</td>\n",
       "      <td>20.00</td>\n",
       "      <td>0</td>\n",
       "      <td>санкт-петербург</td>\n",
       "      <td>24309.0</td>\n",
       "      <td>3876.0</td>\n",
       "      <td>3</td>\n",
       "      <td>574.0</td>\n",
       "      <td>3</td>\n",
       "      <td>325.0</td>\n",
       "      <td>50</td>\n",
       "    </tr>\n",
       "    <tr>\n",
       "      <th>14649</th>\n",
       "      <td>11</td>\n",
       "      <td>12990000</td>\n",
       "      <td>106.0</td>\n",
       "      <td>2018-07-08</td>\n",
       "      <td>6</td>\n",
       "      <td>3.00</td>\n",
       "      <td>4</td>\n",
       "      <td>123.900</td>\n",
       "      <td>1</td>\n",
       "      <td>False</td>\n",
       "      <td>...</td>\n",
       "      <td>19.50</td>\n",
       "      <td>0</td>\n",
       "      <td>санкт-петербург</td>\n",
       "      <td>20417.0</td>\n",
       "      <td>3655.0</td>\n",
       "      <td>0</td>\n",
       "      <td>NaN</td>\n",
       "      <td>1</td>\n",
       "      <td>361.0</td>\n",
       "      <td>90</td>\n",
       "    </tr>\n",
       "    <tr>\n",
       "      <th>14845</th>\n",
       "      <td>17</td>\n",
       "      <td>3800000</td>\n",
       "      <td>42.0</td>\n",
       "      <td>2017-12-25</td>\n",
       "      <td>3</td>\n",
       "      <td>2.55</td>\n",
       "      <td>5</td>\n",
       "      <td>45.000</td>\n",
       "      <td>5</td>\n",
       "      <td>False</td>\n",
       "      <td>...</td>\n",
       "      <td>9.50</td>\n",
       "      <td>0</td>\n",
       "      <td>санкт-петербург</td>\n",
       "      <td>11459.0</td>\n",
       "      <td>15824.0</td>\n",
       "      <td>0</td>\n",
       "      <td>NaN</td>\n",
       "      <td>1</td>\n",
       "      <td>493.0</td>\n",
       "      <td>44</td>\n",
       "    </tr>\n",
       "    <tr>\n",
       "      <th>16672</th>\n",
       "      <td>7</td>\n",
       "      <td>3000000</td>\n",
       "      <td>61.8</td>\n",
       "      <td>2018-01-05</td>\n",
       "      <td>4</td>\n",
       "      <td>2.55</td>\n",
       "      <td>5</td>\n",
       "      <td>63.600</td>\n",
       "      <td>3</td>\n",
       "      <td>False</td>\n",
       "      <td>...</td>\n",
       "      <td>11.10</td>\n",
       "      <td>0</td>\n",
       "      <td>всеволожск</td>\n",
       "      <td>NaN</td>\n",
       "      <td>NaN</td>\n",
       "      <td>0</td>\n",
       "      <td>NaN</td>\n",
       "      <td>0</td>\n",
       "      <td>NaN</td>\n",
       "      <td>45</td>\n",
       "    </tr>\n",
       "    <tr>\n",
       "      <th>16949</th>\n",
       "      <td>9</td>\n",
       "      <td>1550000</td>\n",
       "      <td>15.0</td>\n",
       "      <td>2018-08-21</td>\n",
       "      <td>1</td>\n",
       "      <td>2.70</td>\n",
       "      <td>9</td>\n",
       "      <td>17.600</td>\n",
       "      <td>1</td>\n",
       "      <td>False</td>\n",
       "      <td>...</td>\n",
       "      <td>9.04</td>\n",
       "      <td>0</td>\n",
       "      <td>санкт-петербург</td>\n",
       "      <td>51048.0</td>\n",
       "      <td>16376.0</td>\n",
       "      <td>0</td>\n",
       "      <td>NaN</td>\n",
       "      <td>1</td>\n",
       "      <td>1079.0</td>\n",
       "      <td>42</td>\n",
       "    </tr>\n",
       "    <tr>\n",
       "      <th>17083</th>\n",
       "      <td>16</td>\n",
       "      <td>2500000</td>\n",
       "      <td>50.0</td>\n",
       "      <td>2018-02-22</td>\n",
       "      <td>4</td>\n",
       "      <td>2.55</td>\n",
       "      <td>5</td>\n",
       "      <td>63.600</td>\n",
       "      <td>4</td>\n",
       "      <td>False</td>\n",
       "      <td>...</td>\n",
       "      <td>11.10</td>\n",
       "      <td>0</td>\n",
       "      <td>никольское</td>\n",
       "      <td>NaN</td>\n",
       "      <td>NaN</td>\n",
       "      <td>0</td>\n",
       "      <td>NaN</td>\n",
       "      <td>0</td>\n",
       "      <td>NaN</td>\n",
       "      <td>44</td>\n",
       "    </tr>\n",
       "    <tr>\n",
       "      <th>17472</th>\n",
       "      <td>4</td>\n",
       "      <td>4300000</td>\n",
       "      <td>50.0</td>\n",
       "      <td>2018-02-20</td>\n",
       "      <td>4</td>\n",
       "      <td>2.50</td>\n",
       "      <td>5</td>\n",
       "      <td>63.600</td>\n",
       "      <td>5</td>\n",
       "      <td>False</td>\n",
       "      <td>...</td>\n",
       "      <td>11.10</td>\n",
       "      <td>0</td>\n",
       "      <td>санкт-петербург</td>\n",
       "      <td>23173.0</td>\n",
       "      <td>17721.0</td>\n",
       "      <td>0</td>\n",
       "      <td>NaN</td>\n",
       "      <td>0</td>\n",
       "      <td>NaN</td>\n",
       "      <td>45</td>\n",
       "    </tr>\n",
       "    <tr>\n",
       "      <th>17961</th>\n",
       "      <td>3</td>\n",
       "      <td>1400000</td>\n",
       "      <td>13.0</td>\n",
       "      <td>2017-12-03</td>\n",
       "      <td>1</td>\n",
       "      <td>2.60</td>\n",
       "      <td>9</td>\n",
       "      <td>17.600</td>\n",
       "      <td>1</td>\n",
       "      <td>False</td>\n",
       "      <td>...</td>\n",
       "      <td>9.04</td>\n",
       "      <td>0</td>\n",
       "      <td>санкт-петербург</td>\n",
       "      <td>14350.0</td>\n",
       "      <td>15945.0</td>\n",
       "      <td>0</td>\n",
       "      <td>NaN</td>\n",
       "      <td>1</td>\n",
       "      <td>185.0</td>\n",
       "      <td>410</td>\n",
       "    </tr>\n",
       "    <tr>\n",
       "      <th>18450</th>\n",
       "      <td>4</td>\n",
       "      <td>3650000</td>\n",
       "      <td>42.0</td>\n",
       "      <td>2016-06-22</td>\n",
       "      <td>3</td>\n",
       "      <td>2.55</td>\n",
       "      <td>5</td>\n",
       "      <td>45.000</td>\n",
       "      <td>4</td>\n",
       "      <td>False</td>\n",
       "      <td>...</td>\n",
       "      <td>5.00</td>\n",
       "      <td>0</td>\n",
       "      <td>санкт-петербург</td>\n",
       "      <td>13202.0</td>\n",
       "      <td>9912.0</td>\n",
       "      <td>1</td>\n",
       "      <td>460.0</td>\n",
       "      <td>1</td>\n",
       "      <td>235.0</td>\n",
       "      <td>45</td>\n",
       "    </tr>\n",
       "    <tr>\n",
       "      <th>18552</th>\n",
       "      <td>15</td>\n",
       "      <td>3500000</td>\n",
       "      <td>42.0</td>\n",
       "      <td>2018-04-02</td>\n",
       "      <td>3</td>\n",
       "      <td>2.50</td>\n",
       "      <td>5</td>\n",
       "      <td>45.000</td>\n",
       "      <td>3</td>\n",
       "      <td>False</td>\n",
       "      <td>...</td>\n",
       "      <td>9.50</td>\n",
       "      <td>0</td>\n",
       "      <td>санкт-петербург</td>\n",
       "      <td>15600.0</td>\n",
       "      <td>14397.0</td>\n",
       "      <td>1</td>\n",
       "      <td>553.0</td>\n",
       "      <td>2</td>\n",
       "      <td>859.0</td>\n",
       "      <td>84</td>\n",
       "    </tr>\n",
       "    <tr>\n",
       "      <th>18655</th>\n",
       "      <td>10</td>\n",
       "      <td>1950000</td>\n",
       "      <td>59.0</td>\n",
       "      <td>2018-01-12</td>\n",
       "      <td>4</td>\n",
       "      <td>2.50</td>\n",
       "      <td>5</td>\n",
       "      <td>63.600</td>\n",
       "      <td>5</td>\n",
       "      <td>False</td>\n",
       "      <td>...</td>\n",
       "      <td>11.10</td>\n",
       "      <td>0</td>\n",
       "      <td>кингисепп</td>\n",
       "      <td>NaN</td>\n",
       "      <td>NaN</td>\n",
       "      <td>0</td>\n",
       "      <td>NaN</td>\n",
       "      <td>0</td>\n",
       "      <td>NaN</td>\n",
       "      <td>45</td>\n",
       "    </tr>\n",
       "    <tr>\n",
       "      <th>19546</th>\n",
       "      <td>3</td>\n",
       "      <td>1850000</td>\n",
       "      <td>13.0</td>\n",
       "      <td>2019-03-11</td>\n",
       "      <td>1</td>\n",
       "      <td>3.40</td>\n",
       "      <td>5</td>\n",
       "      <td>17.600</td>\n",
       "      <td>2</td>\n",
       "      <td>False</td>\n",
       "      <td>...</td>\n",
       "      <td>9.04</td>\n",
       "      <td>0</td>\n",
       "      <td>санкт-петербург</td>\n",
       "      <td>24915.0</td>\n",
       "      <td>5483.0</td>\n",
       "      <td>1</td>\n",
       "      <td>644.0</td>\n",
       "      <td>0</td>\n",
       "      <td>NaN</td>\n",
       "      <td>24</td>\n",
       "    </tr>\n",
       "    <tr>\n",
       "      <th>19558</th>\n",
       "      <td>2</td>\n",
       "      <td>1686000</td>\n",
       "      <td>13.2</td>\n",
       "      <td>2018-12-17</td>\n",
       "      <td>1</td>\n",
       "      <td>2.55</td>\n",
       "      <td>5</td>\n",
       "      <td>17.600</td>\n",
       "      <td>1</td>\n",
       "      <td>False</td>\n",
       "      <td>...</td>\n",
       "      <td>9.04</td>\n",
       "      <td>0</td>\n",
       "      <td>санкт-петербург</td>\n",
       "      <td>19891.0</td>\n",
       "      <td>4165.0</td>\n",
       "      <td>1</td>\n",
       "      <td>361.0</td>\n",
       "      <td>1</td>\n",
       "      <td>155.0</td>\n",
       "      <td>19</td>\n",
       "    </tr>\n",
       "    <tr>\n",
       "      <th>20102</th>\n",
       "      <td>11</td>\n",
       "      <td>2350000</td>\n",
       "      <td>42.0</td>\n",
       "      <td>2018-02-15</td>\n",
       "      <td>4</td>\n",
       "      <td>2.60</td>\n",
       "      <td>5</td>\n",
       "      <td>63.600</td>\n",
       "      <td>2</td>\n",
       "      <td>False</td>\n",
       "      <td>...</td>\n",
       "      <td>11.10</td>\n",
       "      <td>0</td>\n",
       "      <td>деревня колтуши</td>\n",
       "      <td>NaN</td>\n",
       "      <td>NaN</td>\n",
       "      <td>0</td>\n",
       "      <td>NaN</td>\n",
       "      <td>0</td>\n",
       "      <td>NaN</td>\n",
       "      <td>45</td>\n",
       "    </tr>\n",
       "    <tr>\n",
       "      <th>22306</th>\n",
       "      <td>8</td>\n",
       "      <td>1850000</td>\n",
       "      <td>41.0</td>\n",
       "      <td>2017-12-18</td>\n",
       "      <td>3</td>\n",
       "      <td>2.50</td>\n",
       "      <td>5</td>\n",
       "      <td>45.000</td>\n",
       "      <td>5</td>\n",
       "      <td>False</td>\n",
       "      <td>...</td>\n",
       "      <td>9.50</td>\n",
       "      <td>0</td>\n",
       "      <td>деревня пудомяги</td>\n",
       "      <td>NaN</td>\n",
       "      <td>NaN</td>\n",
       "      <td>0</td>\n",
       "      <td>NaN</td>\n",
       "      <td>0</td>\n",
       "      <td>NaN</td>\n",
       "      <td>45</td>\n",
       "    </tr>\n",
       "    <tr>\n",
       "      <th>22356</th>\n",
       "      <td>6</td>\n",
       "      <td>2050000</td>\n",
       "      <td>17.2</td>\n",
       "      <td>2019-01-13</td>\n",
       "      <td>1</td>\n",
       "      <td>2.77</td>\n",
       "      <td>23</td>\n",
       "      <td>17.600</td>\n",
       "      <td>1</td>\n",
       "      <td>False</td>\n",
       "      <td>...</td>\n",
       "      <td>9.04</td>\n",
       "      <td>0</td>\n",
       "      <td>санкт-петербург</td>\n",
       "      <td>33645.0</td>\n",
       "      <td>13513.0</td>\n",
       "      <td>0</td>\n",
       "      <td>NaN</td>\n",
       "      <td>0</td>\n",
       "      <td>NaN</td>\n",
       "      <td>7</td>\n",
       "    </tr>\n",
       "  </tbody>\n",
       "</table>\n",
       "<p>31 rows × 22 columns</p>\n",
       "</div>"
      ],
      "text/plain": [
       "       total_images  last_price  total_area first_day_exposition  rooms  \\\n",
       "1595              7     3200000        62.4           2019-04-23      4   \n",
       "3374             18     3650000        41.5           2018-02-14      3   \n",
       "8976              5     4350000        41.2           2017-03-17      3   \n",
       "9795             10     4000000        42.0           2017-11-20      3   \n",
       "9861             10     2350000        25.0           2017-12-03      0   \n",
       "9964              5     3500000        49.5           2018-10-02      4   \n",
       "11814             1     3490000        42.0           2018-02-12      3   \n",
       "11977             5     2850000        62.0           2018-07-08      4   \n",
       "12040             5     1900000        15.0           2018-06-27      1   \n",
       "12129             0     1150000        30.0           2018-08-05      2   \n",
       "12186             1     4900000        71.4           2017-09-21      5   \n",
       "12691             1     3700000        24.2           2017-11-10      0   \n",
       "12827             7     5250000        67.0           2018-02-16      5   \n",
       "13006             6     3800000        62.0           2018-02-01      4   \n",
       "13034            11     2350000        42.0           2018-03-25      4   \n",
       "14603            12    13490000       100.6           2018-07-31      7   \n",
       "14649            11    12990000       106.0           2018-07-08      6   \n",
       "14845            17     3800000        42.0           2017-12-25      3   \n",
       "16672             7     3000000        61.8           2018-01-05      4   \n",
       "16949             9     1550000        15.0           2018-08-21      1   \n",
       "17083            16     2500000        50.0           2018-02-22      4   \n",
       "17472             4     4300000        50.0           2018-02-20      4   \n",
       "17961             3     1400000        13.0           2017-12-03      1   \n",
       "18450             4     3650000        42.0           2016-06-22      3   \n",
       "18552            15     3500000        42.0           2018-04-02      3   \n",
       "18655            10     1950000        59.0           2018-01-12      4   \n",
       "19546             3     1850000        13.0           2019-03-11      1   \n",
       "19558             2     1686000        13.2           2018-12-17      1   \n",
       "20102            11     2350000        42.0           2018-02-15      4   \n",
       "22306             8     1850000        41.0           2017-12-18      3   \n",
       "22356             6     2050000        17.2           2019-01-13      1   \n",
       "\n",
       "       ceiling_height  floors_total  living_area  floor  is_apartment  ...  \\\n",
       "1595             2.55             5       63.600      2         False  ...   \n",
       "3374             2.50             5       45.000      3         False  ...   \n",
       "8976             2.50             5       45.000      3         False  ...   \n",
       "9795             2.50             5       45.000      3         False  ...   \n",
       "9861             2.75            22       25.000     17         False  ...   \n",
       "9964             2.55             5       63.600      1         False  ...   \n",
       "11814            2.55             5       45.000      1         False  ...   \n",
       "11977            2.65             5       63.600      1         False  ...   \n",
       "12040            2.50             5       17.600      1         False  ...   \n",
       "12129            2.50             5       30.500      2         False  ...   \n",
       "12186            2.60             9       91.785      7         False  ...   \n",
       "12691            2.75            19       24.200     13         False  ...   \n",
       "12827            2.50             5       91.785      1         False  ...   \n",
       "13006            2.70             5       63.600      3         False  ...   \n",
       "13034            2.50             5       63.600      2         False  ...   \n",
       "14603            3.00             4      145.000      2          True  ...   \n",
       "14649            3.00             4      123.900      1         False  ...   \n",
       "14845            2.55             5       45.000      5         False  ...   \n",
       "16672            2.55             5       63.600      3         False  ...   \n",
       "16949            2.70             9       17.600      1         False  ...   \n",
       "17083            2.55             5       63.600      4         False  ...   \n",
       "17472            2.50             5       63.600      5         False  ...   \n",
       "17961            2.60             9       17.600      1         False  ...   \n",
       "18450            2.55             5       45.000      4         False  ...   \n",
       "18552            2.50             5       45.000      3         False  ...   \n",
       "18655            2.50             5       63.600      5         False  ...   \n",
       "19546            3.40             5       17.600      2         False  ...   \n",
       "19558            2.55             5       17.600      1         False  ...   \n",
       "20102            2.60             5       63.600      2         False  ...   \n",
       "22306            2.50             5       45.000      5         False  ...   \n",
       "22356            2.77            23       17.600      1         False  ...   \n",
       "\n",
       "       kitchen_area  balcony     locality_name  airports_nearest  \\\n",
       "1595          11.10        1         кингисепп               NaN   \n",
       "3374           9.50        0   санкт-петербург           12842.0   \n",
       "8976           9.50        0   санкт-петербург           14918.0   \n",
       "9795           9.50        0   санкт-петербург           11284.0   \n",
       "9861           0.00        2    поселок мурино               NaN   \n",
       "9964          11.10        0   санкт-петербург           11609.0   \n",
       "11814          9.50        0   санкт-петербург           11605.0   \n",
       "11977         11.10        0         кингисепп               NaN   \n",
       "12040          9.04        0      сосновый бор               NaN   \n",
       "12129          8.80        0       поселок мга               NaN   \n",
       "12186         15.10        0   санкт-петербург           13592.0   \n",
       "12691          0.00        1   санкт-петербург           17837.0   \n",
       "12827         15.10        0   санкт-петербург           13115.0   \n",
       "13006         11.10        0        всеволожск               NaN   \n",
       "13034         11.10        0    деревня старая               NaN   \n",
       "14603         20.00        0   санкт-петербург           24309.0   \n",
       "14649         19.50        0   санкт-петербург           20417.0   \n",
       "14845          9.50        0   санкт-петербург           11459.0   \n",
       "16672         11.10        0        всеволожск               NaN   \n",
       "16949          9.04        0   санкт-петербург           51048.0   \n",
       "17083         11.10        0        никольское               NaN   \n",
       "17472         11.10        0   санкт-петербург           23173.0   \n",
       "17961          9.04        0   санкт-петербург           14350.0   \n",
       "18450          5.00        0   санкт-петербург           13202.0   \n",
       "18552          9.50        0   санкт-петербург           15600.0   \n",
       "18655         11.10        0         кингисепп               NaN   \n",
       "19546          9.04        0   санкт-петербург           24915.0   \n",
       "19558          9.04        0   санкт-петербург           19891.0   \n",
       "20102         11.10        0   деревня колтуши               NaN   \n",
       "22306          9.50        0  деревня пудомяги               NaN   \n",
       "22356          9.04        0   санкт-петербург           33645.0   \n",
       "\n",
       "      cityCenters_nearest  parks_around3000  parks_nearest  ponds_around3000  \\\n",
       "1595                  NaN                 0            NaN                 0   \n",
       "3374              11005.0                 0            NaN                 1   \n",
       "8976               9601.0                 0            NaN                 1   \n",
       "9795              12562.0                 1          358.0                 1   \n",
       "9861                  NaN                 0            NaN                 0   \n",
       "9964              10539.0                 0            NaN                 1   \n",
       "11814             12577.0                 0            NaN                 0   \n",
       "11977                 NaN                 0            NaN                 0   \n",
       "12040                 NaN                 0            NaN                 0   \n",
       "12129                 NaN                 0            NaN                 0   \n",
       "12186             14670.0                 1          430.0                 0   \n",
       "12691             16840.0                 0            NaN                 2   \n",
       "12827              9661.0                 0            NaN                 1   \n",
       "13006                 NaN                 0            NaN                 0   \n",
       "13034                 NaN                 0            NaN                 0   \n",
       "14603              3876.0                 3          574.0                 3   \n",
       "14649              3655.0                 0            NaN                 1   \n",
       "14845             15824.0                 0            NaN                 1   \n",
       "16672                 NaN                 0            NaN                 0   \n",
       "16949             16376.0                 0            NaN                 1   \n",
       "17083                 NaN                 0            NaN                 0   \n",
       "17472             17721.0                 0            NaN                 0   \n",
       "17961             15945.0                 0            NaN                 1   \n",
       "18450              9912.0                 1          460.0                 1   \n",
       "18552             14397.0                 1          553.0                 2   \n",
       "18655                 NaN                 0            NaN                 0   \n",
       "19546              5483.0                 1          644.0                 0   \n",
       "19558              4165.0                 1          361.0                 1   \n",
       "20102                 NaN                 0            NaN                 0   \n",
       "22306                 NaN                 0            NaN                 0   \n",
       "22356             13513.0                 0            NaN                 0   \n",
       "\n",
       "       ponds_nearest  days_exposition  \n",
       "1595             NaN                0  \n",
       "3374           745.0               24  \n",
       "8976           694.0              560  \n",
       "9795           117.0              276  \n",
       "9861             NaN               13  \n",
       "9964            96.0               63  \n",
       "11814            NaN               36  \n",
       "11977            NaN               45  \n",
       "12040            NaN               45  \n",
       "12129            NaN               45  \n",
       "12186            NaN              133  \n",
       "12691          210.0               74  \n",
       "12827          568.0               81  \n",
       "13006            NaN               43  \n",
       "13034            NaN               44  \n",
       "14603          325.0               50  \n",
       "14649          361.0               90  \n",
       "14845          493.0               44  \n",
       "16672            NaN               45  \n",
       "16949         1079.0               42  \n",
       "17083            NaN               44  \n",
       "17472            NaN               45  \n",
       "17961          185.0              410  \n",
       "18450          235.0               45  \n",
       "18552          859.0               84  \n",
       "18655            NaN               45  \n",
       "19546            NaN               24  \n",
       "19558          155.0               19  \n",
       "20102            NaN               45  \n",
       "22306            NaN               45  \n",
       "22356            NaN                7  \n",
       "\n",
       "[31 rows x 22 columns]"
      ]
     },
     "execution_count": 24,
     "metadata": {},
     "output_type": "execute_result"
    }
   ],
   "source": [
    "data[data['living_area'] >= data['total_area']]"
   ]
  },
  {
   "cell_type": "markdown",
   "metadata": {},
   "source": [
    "Ага, вот и выбивающиеся значения, уберем их."
   ]
  },
  {
   "cell_type": "code",
   "execution_count": 25,
   "metadata": {},
   "outputs": [],
   "source": [
    "data = data.query('not (living_area >= total_area)').reset_index(drop=True)"
   ]
  },
  {
   "cell_type": "code",
   "execution_count": 26,
   "metadata": {},
   "outputs": [
    {
     "data": {
      "text/html": [
       "<div>\n",
       "<style scoped>\n",
       "    .dataframe tbody tr th:only-of-type {\n",
       "        vertical-align: middle;\n",
       "    }\n",
       "\n",
       "    .dataframe tbody tr th {\n",
       "        vertical-align: top;\n",
       "    }\n",
       "\n",
       "    .dataframe thead th {\n",
       "        text-align: right;\n",
       "    }\n",
       "</style>\n",
       "<table border=\"1\" class=\"dataframe\">\n",
       "  <thead>\n",
       "    <tr style=\"text-align: right;\">\n",
       "      <th></th>\n",
       "      <th>total_images</th>\n",
       "      <th>last_price</th>\n",
       "      <th>total_area</th>\n",
       "      <th>first_day_exposition</th>\n",
       "      <th>rooms</th>\n",
       "      <th>ceiling_height</th>\n",
       "      <th>floors_total</th>\n",
       "      <th>living_area</th>\n",
       "      <th>floor</th>\n",
       "      <th>is_apartment</th>\n",
       "      <th>...</th>\n",
       "      <th>kitchen_area</th>\n",
       "      <th>balcony</th>\n",
       "      <th>locality_name</th>\n",
       "      <th>airports_nearest</th>\n",
       "      <th>cityCenters_nearest</th>\n",
       "      <th>parks_around3000</th>\n",
       "      <th>parks_nearest</th>\n",
       "      <th>ponds_around3000</th>\n",
       "      <th>ponds_nearest</th>\n",
       "      <th>days_exposition</th>\n",
       "    </tr>\n",
       "  </thead>\n",
       "  <tbody>\n",
       "  </tbody>\n",
       "</table>\n",
       "<p>0 rows × 22 columns</p>\n",
       "</div>"
      ],
      "text/plain": [
       "Empty DataFrame\n",
       "Columns: [total_images, last_price, total_area, first_day_exposition, rooms, ceiling_height, floors_total, living_area, floor, is_apartment, studio, open_plan, kitchen_area, balcony, locality_name, airports_nearest, cityCenters_nearest, parks_around3000, parks_nearest, ponds_around3000, ponds_nearest, days_exposition]\n",
       "Index: []\n",
       "\n",
       "[0 rows x 22 columns]"
      ]
     },
     "execution_count": 26,
     "metadata": {},
     "output_type": "execute_result"
    }
   ],
   "source": [
    "data[data['kitchen_area'] >= data['total_area']]"
   ]
  },
  {
   "cell_type": "code",
   "execution_count": 27,
   "metadata": {},
   "outputs": [
    {
     "data": {
      "text/html": [
       "<div>\n",
       "<style scoped>\n",
       "    .dataframe tbody tr th:only-of-type {\n",
       "        vertical-align: middle;\n",
       "    }\n",
       "\n",
       "    .dataframe tbody tr th {\n",
       "        vertical-align: top;\n",
       "    }\n",
       "\n",
       "    .dataframe thead th {\n",
       "        text-align: right;\n",
       "    }\n",
       "</style>\n",
       "<table border=\"1\" class=\"dataframe\">\n",
       "  <thead>\n",
       "    <tr style=\"text-align: right;\">\n",
       "      <th></th>\n",
       "      <th>total_images</th>\n",
       "      <th>last_price</th>\n",
       "      <th>total_area</th>\n",
       "      <th>first_day_exposition</th>\n",
       "      <th>rooms</th>\n",
       "      <th>ceiling_height</th>\n",
       "      <th>floors_total</th>\n",
       "      <th>living_area</th>\n",
       "      <th>floor</th>\n",
       "      <th>is_apartment</th>\n",
       "      <th>...</th>\n",
       "      <th>kitchen_area</th>\n",
       "      <th>balcony</th>\n",
       "      <th>locality_name</th>\n",
       "      <th>airports_nearest</th>\n",
       "      <th>cityCenters_nearest</th>\n",
       "      <th>parks_around3000</th>\n",
       "      <th>parks_nearest</th>\n",
       "      <th>ponds_around3000</th>\n",
       "      <th>ponds_nearest</th>\n",
       "      <th>days_exposition</th>\n",
       "    </tr>\n",
       "  </thead>\n",
       "  <tbody>\n",
       "    <tr>\n",
       "      <th>154</th>\n",
       "      <td>1</td>\n",
       "      <td>8200000</td>\n",
       "      <td>80.0</td>\n",
       "      <td>2018-11-06</td>\n",
       "      <td>3</td>\n",
       "      <td>4.15</td>\n",
       "      <td>3</td>\n",
       "      <td>44.2</td>\n",
       "      <td>2</td>\n",
       "      <td>False</td>\n",
       "      <td>...</td>\n",
       "      <td>12.20</td>\n",
       "      <td>0</td>\n",
       "      <td>санкт-петербург</td>\n",
       "      <td>20562.0</td>\n",
       "      <td>3167.0</td>\n",
       "      <td>2</td>\n",
       "      <td>344.0</td>\n",
       "      <td>1</td>\n",
       "      <td>838.0</td>\n",
       "      <td>38</td>\n",
       "    </tr>\n",
       "    <tr>\n",
       "      <th>227</th>\n",
       "      <td>13</td>\n",
       "      <td>2200000</td>\n",
       "      <td>47.0</td>\n",
       "      <td>2018-01-12</td>\n",
       "      <td>3</td>\n",
       "      <td>2.34</td>\n",
       "      <td>5</td>\n",
       "      <td>45.0</td>\n",
       "      <td>1</td>\n",
       "      <td>False</td>\n",
       "      <td>...</td>\n",
       "      <td>9.50</td>\n",
       "      <td>0</td>\n",
       "      <td>поселок новый свет</td>\n",
       "      <td>NaN</td>\n",
       "      <td>NaN</td>\n",
       "      <td>0</td>\n",
       "      <td>NaN</td>\n",
       "      <td>0</td>\n",
       "      <td>NaN</td>\n",
       "      <td>45</td>\n",
       "    </tr>\n",
       "    <tr>\n",
       "      <th>355</th>\n",
       "      <td>17</td>\n",
       "      <td>3600000</td>\n",
       "      <td>55.2</td>\n",
       "      <td>2018-07-12</td>\n",
       "      <td>2</td>\n",
       "      <td>25.00</td>\n",
       "      <td>5</td>\n",
       "      <td>32.0</td>\n",
       "      <td>2</td>\n",
       "      <td>False</td>\n",
       "      <td>...</td>\n",
       "      <td>8.80</td>\n",
       "      <td>2</td>\n",
       "      <td>гатчина</td>\n",
       "      <td>NaN</td>\n",
       "      <td>NaN</td>\n",
       "      <td>0</td>\n",
       "      <td>NaN</td>\n",
       "      <td>0</td>\n",
       "      <td>NaN</td>\n",
       "      <td>259</td>\n",
       "    </tr>\n",
       "    <tr>\n",
       "      <th>397</th>\n",
       "      <td>15</td>\n",
       "      <td>5990000</td>\n",
       "      <td>54.0</td>\n",
       "      <td>2018-03-22</td>\n",
       "      <td>2</td>\n",
       "      <td>14.85</td>\n",
       "      <td>36</td>\n",
       "      <td>21.4</td>\n",
       "      <td>28</td>\n",
       "      <td>False</td>\n",
       "      <td>...</td>\n",
       "      <td>18.70</td>\n",
       "      <td>1</td>\n",
       "      <td>санкт-петербург</td>\n",
       "      <td>18732.0</td>\n",
       "      <td>20444.0</td>\n",
       "      <td>0</td>\n",
       "      <td>NaN</td>\n",
       "      <td>3</td>\n",
       "      <td>80.0</td>\n",
       "      <td>11</td>\n",
       "    </tr>\n",
       "    <tr>\n",
       "      <th>464</th>\n",
       "      <td>15</td>\n",
       "      <td>66571000</td>\n",
       "      <td>280.3</td>\n",
       "      <td>2015-06-11</td>\n",
       "      <td>6</td>\n",
       "      <td>5.20</td>\n",
       "      <td>8</td>\n",
       "      <td>159.5</td>\n",
       "      <td>7</td>\n",
       "      <td>False</td>\n",
       "      <td>...</td>\n",
       "      <td>21.10</td>\n",
       "      <td>0</td>\n",
       "      <td>санкт-петербург</td>\n",
       "      <td>26316.0</td>\n",
       "      <td>6655.0</td>\n",
       "      <td>3</td>\n",
       "      <td>187.0</td>\n",
       "      <td>1</td>\n",
       "      <td>616.0</td>\n",
       "      <td>578</td>\n",
       "    </tr>\n",
       "    <tr>\n",
       "      <th>552</th>\n",
       "      <td>11</td>\n",
       "      <td>2999000</td>\n",
       "      <td>33.5</td>\n",
       "      <td>2017-03-30</td>\n",
       "      <td>1</td>\n",
       "      <td>2.00</td>\n",
       "      <td>15</td>\n",
       "      <td>17.5</td>\n",
       "      <td>6</td>\n",
       "      <td>False</td>\n",
       "      <td>...</td>\n",
       "      <td>6.50</td>\n",
       "      <td>0</td>\n",
       "      <td>санкт-петербург</td>\n",
       "      <td>33972.0</td>\n",
       "      <td>11746.0</td>\n",
       "      <td>1</td>\n",
       "      <td>520.0</td>\n",
       "      <td>1</td>\n",
       "      <td>949.0</td>\n",
       "      <td>270</td>\n",
       "    </tr>\n",
       "    <tr>\n",
       "      <th>1026</th>\n",
       "      <td>20</td>\n",
       "      <td>155000000</td>\n",
       "      <td>310.0</td>\n",
       "      <td>2018-10-12</td>\n",
       "      <td>5</td>\n",
       "      <td>5.30</td>\n",
       "      <td>3</td>\n",
       "      <td>190.0</td>\n",
       "      <td>3</td>\n",
       "      <td>False</td>\n",
       "      <td>...</td>\n",
       "      <td>63.00</td>\n",
       "      <td>2</td>\n",
       "      <td>санкт-петербург</td>\n",
       "      <td>24899.0</td>\n",
       "      <td>4785.0</td>\n",
       "      <td>0</td>\n",
       "      <td>NaN</td>\n",
       "      <td>1</td>\n",
       "      <td>603.0</td>\n",
       "      <td>0</td>\n",
       "    </tr>\n",
       "    <tr>\n",
       "      <th>1053</th>\n",
       "      <td>13</td>\n",
       "      <td>550000</td>\n",
       "      <td>29.0</td>\n",
       "      <td>2018-02-01</td>\n",
       "      <td>1</td>\n",
       "      <td>5.00</td>\n",
       "      <td>3</td>\n",
       "      <td>17.6</td>\n",
       "      <td>1</td>\n",
       "      <td>False</td>\n",
       "      <td>...</td>\n",
       "      <td>9.04</td>\n",
       "      <td>0</td>\n",
       "      <td>бокситогорск</td>\n",
       "      <td>NaN</td>\n",
       "      <td>NaN</td>\n",
       "      <td>0</td>\n",
       "      <td>NaN</td>\n",
       "      <td>0</td>\n",
       "      <td>NaN</td>\n",
       "      <td>6</td>\n",
       "    </tr>\n",
       "    <tr>\n",
       "      <th>1129</th>\n",
       "      <td>20</td>\n",
       "      <td>6695000</td>\n",
       "      <td>36.9</td>\n",
       "      <td>2018-09-28</td>\n",
       "      <td>1</td>\n",
       "      <td>4.06</td>\n",
       "      <td>5</td>\n",
       "      <td>22.0</td>\n",
       "      <td>2</td>\n",
       "      <td>False</td>\n",
       "      <td>...</td>\n",
       "      <td>7.20</td>\n",
       "      <td>0</td>\n",
       "      <td>санкт-петербург</td>\n",
       "      <td>21725.0</td>\n",
       "      <td>2990.0</td>\n",
       "      <td>1</td>\n",
       "      <td>596.0</td>\n",
       "      <td>1</td>\n",
       "      <td>866.0</td>\n",
       "      <td>110</td>\n",
       "    </tr>\n",
       "    <tr>\n",
       "      <th>1300</th>\n",
       "      <td>14</td>\n",
       "      <td>120000000</td>\n",
       "      <td>280.0</td>\n",
       "      <td>2018-07-12</td>\n",
       "      <td>5</td>\n",
       "      <td>4.70</td>\n",
       "      <td>4</td>\n",
       "      <td>162.0</td>\n",
       "      <td>3</td>\n",
       "      <td>False</td>\n",
       "      <td>...</td>\n",
       "      <td>30.00</td>\n",
       "      <td>0</td>\n",
       "      <td>санкт-петербург</td>\n",
       "      <td>24680.0</td>\n",
       "      <td>4247.0</td>\n",
       "      <td>1</td>\n",
       "      <td>464.0</td>\n",
       "      <td>3</td>\n",
       "      <td>339.0</td>\n",
       "      <td>225</td>\n",
       "    </tr>\n",
       "  </tbody>\n",
       "</table>\n",
       "<p>10 rows × 22 columns</p>\n",
       "</div>"
      ],
      "text/plain": [
       "      total_images  last_price  total_area first_day_exposition  rooms  \\\n",
       "154              1     8200000        80.0           2018-11-06      3   \n",
       "227             13     2200000        47.0           2018-01-12      3   \n",
       "355             17     3600000        55.2           2018-07-12      2   \n",
       "397             15     5990000        54.0           2018-03-22      2   \n",
       "464             15    66571000       280.3           2015-06-11      6   \n",
       "552             11     2999000        33.5           2017-03-30      1   \n",
       "1026            20   155000000       310.0           2018-10-12      5   \n",
       "1053            13      550000        29.0           2018-02-01      1   \n",
       "1129            20     6695000        36.9           2018-09-28      1   \n",
       "1300            14   120000000       280.0           2018-07-12      5   \n",
       "\n",
       "      ceiling_height  floors_total  living_area  floor  is_apartment  ...  \\\n",
       "154             4.15             3         44.2      2         False  ...   \n",
       "227             2.34             5         45.0      1         False  ...   \n",
       "355            25.00             5         32.0      2         False  ...   \n",
       "397            14.85            36         21.4     28         False  ...   \n",
       "464             5.20             8        159.5      7         False  ...   \n",
       "552             2.00            15         17.5      6         False  ...   \n",
       "1026            5.30             3        190.0      3         False  ...   \n",
       "1053            5.00             3         17.6      1         False  ...   \n",
       "1129            4.06             5         22.0      2         False  ...   \n",
       "1300            4.70             4        162.0      3         False  ...   \n",
       "\n",
       "      kitchen_area  balcony       locality_name  airports_nearest  \\\n",
       "154          12.20        0     санкт-петербург           20562.0   \n",
       "227           9.50        0  поселок новый свет               NaN   \n",
       "355           8.80        2             гатчина               NaN   \n",
       "397          18.70        1     санкт-петербург           18732.0   \n",
       "464          21.10        0     санкт-петербург           26316.0   \n",
       "552           6.50        0     санкт-петербург           33972.0   \n",
       "1026         63.00        2     санкт-петербург           24899.0   \n",
       "1053          9.04        0        бокситогорск               NaN   \n",
       "1129          7.20        0     санкт-петербург           21725.0   \n",
       "1300         30.00        0     санкт-петербург           24680.0   \n",
       "\n",
       "     cityCenters_nearest  parks_around3000  parks_nearest  ponds_around3000  \\\n",
       "154               3167.0                 2          344.0                 1   \n",
       "227                  NaN                 0            NaN                 0   \n",
       "355                  NaN                 0            NaN                 0   \n",
       "397              20444.0                 0            NaN                 3   \n",
       "464               6655.0                 3          187.0                 1   \n",
       "552              11746.0                 1          520.0                 1   \n",
       "1026              4785.0                 0            NaN                 1   \n",
       "1053                 NaN                 0            NaN                 0   \n",
       "1129              2990.0                 1          596.0                 1   \n",
       "1300              4247.0                 1          464.0                 3   \n",
       "\n",
       "      ponds_nearest  days_exposition  \n",
       "154           838.0               38  \n",
       "227             NaN               45  \n",
       "355             NaN              259  \n",
       "397            80.0               11  \n",
       "464           616.0              578  \n",
       "552           949.0              270  \n",
       "1026          603.0                0  \n",
       "1053            NaN                6  \n",
       "1129          866.0              110  \n",
       "1300          339.0              225  \n",
       "\n",
       "[10 rows x 22 columns]"
      ]
     },
     "execution_count": 27,
     "metadata": {},
     "output_type": "execute_result"
    }
   ],
   "source": [
    "data.query('ceiling_height < 2.4 or ceiling_height > 4').head(10)"
   ]
  },
  {
   "cell_type": "code",
   "execution_count": 28,
   "metadata": {
    "scrolled": true
   },
   "outputs": [
    {
     "data": {
      "text/html": [
       "<div>\n",
       "<style scoped>\n",
       "    .dataframe tbody tr th:only-of-type {\n",
       "        vertical-align: middle;\n",
       "    }\n",
       "\n",
       "    .dataframe tbody tr th {\n",
       "        vertical-align: top;\n",
       "    }\n",
       "\n",
       "    .dataframe thead th {\n",
       "        text-align: right;\n",
       "    }\n",
       "</style>\n",
       "<table border=\"1\" class=\"dataframe\">\n",
       "  <thead>\n",
       "    <tr style=\"text-align: right;\">\n",
       "      <th></th>\n",
       "      <th>total_images</th>\n",
       "      <th>last_price</th>\n",
       "      <th>total_area</th>\n",
       "      <th>first_day_exposition</th>\n",
       "      <th>rooms</th>\n",
       "      <th>ceiling_height</th>\n",
       "      <th>floors_total</th>\n",
       "      <th>living_area</th>\n",
       "      <th>floor</th>\n",
       "      <th>is_apartment</th>\n",
       "      <th>...</th>\n",
       "      <th>kitchen_area</th>\n",
       "      <th>balcony</th>\n",
       "      <th>locality_name</th>\n",
       "      <th>airports_nearest</th>\n",
       "      <th>cityCenters_nearest</th>\n",
       "      <th>parks_around3000</th>\n",
       "      <th>parks_nearest</th>\n",
       "      <th>ponds_around3000</th>\n",
       "      <th>ponds_nearest</th>\n",
       "      <th>days_exposition</th>\n",
       "    </tr>\n",
       "  </thead>\n",
       "  <tbody>\n",
       "    <tr>\n",
       "      <th>355</th>\n",
       "      <td>17</td>\n",
       "      <td>3600000</td>\n",
       "      <td>55.2</td>\n",
       "      <td>2018-07-12</td>\n",
       "      <td>2</td>\n",
       "      <td>25.0</td>\n",
       "      <td>5</td>\n",
       "      <td>32.0</td>\n",
       "      <td>2</td>\n",
       "      <td>False</td>\n",
       "      <td>...</td>\n",
       "      <td>8.8</td>\n",
       "      <td>2</td>\n",
       "      <td>гатчина</td>\n",
       "      <td>NaN</td>\n",
       "      <td>NaN</td>\n",
       "      <td>0</td>\n",
       "      <td>NaN</td>\n",
       "      <td>0</td>\n",
       "      <td>NaN</td>\n",
       "      <td>259</td>\n",
       "    </tr>\n",
       "    <tr>\n",
       "      <th>3147</th>\n",
       "      <td>14</td>\n",
       "      <td>2900000</td>\n",
       "      <td>75.0</td>\n",
       "      <td>2018-11-12</td>\n",
       "      <td>3</td>\n",
       "      <td>32.0</td>\n",
       "      <td>3</td>\n",
       "      <td>53.0</td>\n",
       "      <td>2</td>\n",
       "      <td>False</td>\n",
       "      <td>...</td>\n",
       "      <td>8.0</td>\n",
       "      <td>0</td>\n",
       "      <td>волхов</td>\n",
       "      <td>NaN</td>\n",
       "      <td>NaN</td>\n",
       "      <td>0</td>\n",
       "      <td>NaN</td>\n",
       "      <td>0</td>\n",
       "      <td>NaN</td>\n",
       "      <td>0</td>\n",
       "    </tr>\n",
       "    <tr>\n",
       "      <th>4641</th>\n",
       "      <td>0</td>\n",
       "      <td>4300000</td>\n",
       "      <td>45.0</td>\n",
       "      <td>2018-02-01</td>\n",
       "      <td>2</td>\n",
       "      <td>25.0</td>\n",
       "      <td>9</td>\n",
       "      <td>30.0</td>\n",
       "      <td>2</td>\n",
       "      <td>False</td>\n",
       "      <td>...</td>\n",
       "      <td>7.0</td>\n",
       "      <td>1</td>\n",
       "      <td>санкт-петербург</td>\n",
       "      <td>12016.0</td>\n",
       "      <td>13256.0</td>\n",
       "      <td>1</td>\n",
       "      <td>658.0</td>\n",
       "      <td>1</td>\n",
       "      <td>331.0</td>\n",
       "      <td>181</td>\n",
       "    </tr>\n",
       "    <tr>\n",
       "      <th>4874</th>\n",
       "      <td>7</td>\n",
       "      <td>3000000</td>\n",
       "      <td>25.0</td>\n",
       "      <td>2017-09-27</td>\n",
       "      <td>0</td>\n",
       "      <td>27.0</td>\n",
       "      <td>25</td>\n",
       "      <td>17.0</td>\n",
       "      <td>17</td>\n",
       "      <td>False</td>\n",
       "      <td>...</td>\n",
       "      <td>0.0</td>\n",
       "      <td>2</td>\n",
       "      <td>поселок мурино</td>\n",
       "      <td>NaN</td>\n",
       "      <td>NaN</td>\n",
       "      <td>0</td>\n",
       "      <td>NaN</td>\n",
       "      <td>0</td>\n",
       "      <td>NaN</td>\n",
       "      <td>28</td>\n",
       "    </tr>\n",
       "    <tr>\n",
       "      <th>5244</th>\n",
       "      <td>0</td>\n",
       "      <td>2500000</td>\n",
       "      <td>54.0</td>\n",
       "      <td>2017-10-13</td>\n",
       "      <td>2</td>\n",
       "      <td>27.0</td>\n",
       "      <td>5</td>\n",
       "      <td>30.0</td>\n",
       "      <td>3</td>\n",
       "      <td>False</td>\n",
       "      <td>...</td>\n",
       "      <td>9.0</td>\n",
       "      <td>2</td>\n",
       "      <td>деревня мины</td>\n",
       "      <td>NaN</td>\n",
       "      <td>NaN</td>\n",
       "      <td>0</td>\n",
       "      <td>NaN</td>\n",
       "      <td>0</td>\n",
       "      <td>NaN</td>\n",
       "      <td>540</td>\n",
       "    </tr>\n",
       "    <tr>\n",
       "      <th>5667</th>\n",
       "      <td>4</td>\n",
       "      <td>4400000</td>\n",
       "      <td>50.0</td>\n",
       "      <td>2017-08-08</td>\n",
       "      <td>2</td>\n",
       "      <td>26.0</td>\n",
       "      <td>9</td>\n",
       "      <td>21.3</td>\n",
       "      <td>3</td>\n",
       "      <td>False</td>\n",
       "      <td>...</td>\n",
       "      <td>7.0</td>\n",
       "      <td>2</td>\n",
       "      <td>санкт-петербург</td>\n",
       "      <td>28981.0</td>\n",
       "      <td>10912.0</td>\n",
       "      <td>1</td>\n",
       "      <td>305.0</td>\n",
       "      <td>0</td>\n",
       "      <td>NaN</td>\n",
       "      <td>267</td>\n",
       "    </tr>\n",
       "    <tr>\n",
       "      <th>5805</th>\n",
       "      <td>17</td>\n",
       "      <td>8150000</td>\n",
       "      <td>80.0</td>\n",
       "      <td>2019-01-09</td>\n",
       "      <td>2</td>\n",
       "      <td>27.0</td>\n",
       "      <td>36</td>\n",
       "      <td>41.0</td>\n",
       "      <td>13</td>\n",
       "      <td>False</td>\n",
       "      <td>...</td>\n",
       "      <td>12.0</td>\n",
       "      <td>5</td>\n",
       "      <td>санкт-петербург</td>\n",
       "      <td>18732.0</td>\n",
       "      <td>20444.0</td>\n",
       "      <td>0</td>\n",
       "      <td>NaN</td>\n",
       "      <td>3</td>\n",
       "      <td>80.0</td>\n",
       "      <td>38</td>\n",
       "    </tr>\n",
       "    <tr>\n",
       "      <th>6244</th>\n",
       "      <td>6</td>\n",
       "      <td>3300000</td>\n",
       "      <td>44.4</td>\n",
       "      <td>2019-03-25</td>\n",
       "      <td>2</td>\n",
       "      <td>25.0</td>\n",
       "      <td>5</td>\n",
       "      <td>31.3</td>\n",
       "      <td>5</td>\n",
       "      <td>False</td>\n",
       "      <td>...</td>\n",
       "      <td>5.7</td>\n",
       "      <td>0</td>\n",
       "      <td>кронштадт</td>\n",
       "      <td>68923.0</td>\n",
       "      <td>50649.0</td>\n",
       "      <td>1</td>\n",
       "      <td>417.0</td>\n",
       "      <td>2</td>\n",
       "      <td>73.0</td>\n",
       "      <td>0</td>\n",
       "    </tr>\n",
       "    <tr>\n",
       "      <th>9376</th>\n",
       "      <td>5</td>\n",
       "      <td>3950000</td>\n",
       "      <td>42.0</td>\n",
       "      <td>2017-03-26</td>\n",
       "      <td>3</td>\n",
       "      <td>25.0</td>\n",
       "      <td>5</td>\n",
       "      <td>30.0</td>\n",
       "      <td>2</td>\n",
       "      <td>False</td>\n",
       "      <td>...</td>\n",
       "      <td>5.2</td>\n",
       "      <td>0</td>\n",
       "      <td>санкт-петербург</td>\n",
       "      <td>11647.0</td>\n",
       "      <td>13581.0</td>\n",
       "      <td>0</td>\n",
       "      <td>NaN</td>\n",
       "      <td>0</td>\n",
       "      <td>NaN</td>\n",
       "      <td>0</td>\n",
       "    </tr>\n",
       "    <tr>\n",
       "      <th>10767</th>\n",
       "      <td>8</td>\n",
       "      <td>3800000</td>\n",
       "      <td>58.0</td>\n",
       "      <td>2017-10-13</td>\n",
       "      <td>2</td>\n",
       "      <td>27.0</td>\n",
       "      <td>10</td>\n",
       "      <td>30.1</td>\n",
       "      <td>3</td>\n",
       "      <td>False</td>\n",
       "      <td>...</td>\n",
       "      <td>8.1</td>\n",
       "      <td>2</td>\n",
       "      <td>поселок мурино</td>\n",
       "      <td>NaN</td>\n",
       "      <td>NaN</td>\n",
       "      <td>0</td>\n",
       "      <td>NaN</td>\n",
       "      <td>0</td>\n",
       "      <td>NaN</td>\n",
       "      <td>71</td>\n",
       "    </tr>\n",
       "  </tbody>\n",
       "</table>\n",
       "<p>10 rows × 22 columns</p>\n",
       "</div>"
      ],
      "text/plain": [
       "       total_images  last_price  total_area first_day_exposition  rooms  \\\n",
       "355              17     3600000        55.2           2018-07-12      2   \n",
       "3147             14     2900000        75.0           2018-11-12      3   \n",
       "4641              0     4300000        45.0           2018-02-01      2   \n",
       "4874              7     3000000        25.0           2017-09-27      0   \n",
       "5244              0     2500000        54.0           2017-10-13      2   \n",
       "5667              4     4400000        50.0           2017-08-08      2   \n",
       "5805             17     8150000        80.0           2019-01-09      2   \n",
       "6244              6     3300000        44.4           2019-03-25      2   \n",
       "9376              5     3950000        42.0           2017-03-26      3   \n",
       "10767             8     3800000        58.0           2017-10-13      2   \n",
       "\n",
       "       ceiling_height  floors_total  living_area  floor  is_apartment  ...  \\\n",
       "355              25.0             5         32.0      2         False  ...   \n",
       "3147             32.0             3         53.0      2         False  ...   \n",
       "4641             25.0             9         30.0      2         False  ...   \n",
       "4874             27.0            25         17.0     17         False  ...   \n",
       "5244             27.0             5         30.0      3         False  ...   \n",
       "5667             26.0             9         21.3      3         False  ...   \n",
       "5805             27.0            36         41.0     13         False  ...   \n",
       "6244             25.0             5         31.3      5         False  ...   \n",
       "9376             25.0             5         30.0      2         False  ...   \n",
       "10767            27.0            10         30.1      3         False  ...   \n",
       "\n",
       "       kitchen_area  balcony    locality_name  airports_nearest  \\\n",
       "355             8.8        2          гатчина               NaN   \n",
       "3147            8.0        0           волхов               NaN   \n",
       "4641            7.0        1  санкт-петербург           12016.0   \n",
       "4874            0.0        2   поселок мурино               NaN   \n",
       "5244            9.0        2     деревня мины               NaN   \n",
       "5667            7.0        2  санкт-петербург           28981.0   \n",
       "5805           12.0        5  санкт-петербург           18732.0   \n",
       "6244            5.7        0        кронштадт           68923.0   \n",
       "9376            5.2        0  санкт-петербург           11647.0   \n",
       "10767           8.1        2   поселок мурино               NaN   \n",
       "\n",
       "      cityCenters_nearest  parks_around3000  parks_nearest  ponds_around3000  \\\n",
       "355                   NaN                 0            NaN                 0   \n",
       "3147                  NaN                 0            NaN                 0   \n",
       "4641              13256.0                 1          658.0                 1   \n",
       "4874                  NaN                 0            NaN                 0   \n",
       "5244                  NaN                 0            NaN                 0   \n",
       "5667              10912.0                 1          305.0                 0   \n",
       "5805              20444.0                 0            NaN                 3   \n",
       "6244              50649.0                 1          417.0                 2   \n",
       "9376              13581.0                 0            NaN                 0   \n",
       "10767                 NaN                 0            NaN                 0   \n",
       "\n",
       "       ponds_nearest  days_exposition  \n",
       "355              NaN              259  \n",
       "3147             NaN                0  \n",
       "4641           331.0              181  \n",
       "4874             NaN               28  \n",
       "5244             NaN              540  \n",
       "5667             NaN              267  \n",
       "5805            80.0               38  \n",
       "6244            73.0                0  \n",
       "9376             NaN                0  \n",
       "10767            NaN               71  \n",
       "\n",
       "[10 rows x 22 columns]"
      ]
     },
     "execution_count": 28,
     "metadata": {},
     "output_type": "execute_result"
    }
   ],
   "source": [
    "data.query('ceiling_height > 24 and ceiling_height < 40').head(10)"
   ]
  },
  {
   "cell_type": "code",
   "execution_count": 29,
   "metadata": {},
   "outputs": [
    {
     "data": {
      "text/html": [
       "<div>\n",
       "<style scoped>\n",
       "    .dataframe tbody tr th:only-of-type {\n",
       "        vertical-align: middle;\n",
       "    }\n",
       "\n",
       "    .dataframe tbody tr th {\n",
       "        vertical-align: top;\n",
       "    }\n",
       "\n",
       "    .dataframe thead th {\n",
       "        text-align: right;\n",
       "    }\n",
       "</style>\n",
       "<table border=\"1\" class=\"dataframe\">\n",
       "  <thead>\n",
       "    <tr style=\"text-align: right;\">\n",
       "      <th></th>\n",
       "      <th>total_images</th>\n",
       "      <th>last_price</th>\n",
       "      <th>total_area</th>\n",
       "      <th>first_day_exposition</th>\n",
       "      <th>rooms</th>\n",
       "      <th>ceiling_height</th>\n",
       "      <th>floors_total</th>\n",
       "      <th>living_area</th>\n",
       "      <th>floor</th>\n",
       "      <th>is_apartment</th>\n",
       "      <th>...</th>\n",
       "      <th>kitchen_area</th>\n",
       "      <th>balcony</th>\n",
       "      <th>locality_name</th>\n",
       "      <th>airports_nearest</th>\n",
       "      <th>cityCenters_nearest</th>\n",
       "      <th>parks_around3000</th>\n",
       "      <th>parks_nearest</th>\n",
       "      <th>ponds_around3000</th>\n",
       "      <th>ponds_nearest</th>\n",
       "      <th>days_exposition</th>\n",
       "    </tr>\n",
       "  </thead>\n",
       "  <tbody>\n",
       "    <tr>\n",
       "      <th>793</th>\n",
       "      <td>20</td>\n",
       "      <td>135000000</td>\n",
       "      <td>310.0</td>\n",
       "      <td>2018-05-22</td>\n",
       "      <td>4</td>\n",
       "      <td>3.30</td>\n",
       "      <td>5</td>\n",
       "      <td>250.000</td>\n",
       "      <td>2</td>\n",
       "      <td>False</td>\n",
       "      <td>...</td>\n",
       "      <td>50.0</td>\n",
       "      <td>0</td>\n",
       "      <td>санкт-петербург</td>\n",
       "      <td>34159.0</td>\n",
       "      <td>7251.0</td>\n",
       "      <td>2</td>\n",
       "      <td>295.0</td>\n",
       "      <td>3</td>\n",
       "      <td>190.0</td>\n",
       "      <td>342</td>\n",
       "    </tr>\n",
       "    <tr>\n",
       "      <th>1026</th>\n",
       "      <td>20</td>\n",
       "      <td>155000000</td>\n",
       "      <td>310.0</td>\n",
       "      <td>2018-10-12</td>\n",
       "      <td>5</td>\n",
       "      <td>5.30</td>\n",
       "      <td>3</td>\n",
       "      <td>190.000</td>\n",
       "      <td>3</td>\n",
       "      <td>False</td>\n",
       "      <td>...</td>\n",
       "      <td>63.0</td>\n",
       "      <td>2</td>\n",
       "      <td>санкт-петербург</td>\n",
       "      <td>24899.0</td>\n",
       "      <td>4785.0</td>\n",
       "      <td>0</td>\n",
       "      <td>NaN</td>\n",
       "      <td>1</td>\n",
       "      <td>603.0</td>\n",
       "      <td>0</td>\n",
       "    </tr>\n",
       "    <tr>\n",
       "      <th>1188</th>\n",
       "      <td>20</td>\n",
       "      <td>118000000</td>\n",
       "      <td>290.6</td>\n",
       "      <td>2018-06-01</td>\n",
       "      <td>6</td>\n",
       "      <td>3.82</td>\n",
       "      <td>6</td>\n",
       "      <td>188.700</td>\n",
       "      <td>3</td>\n",
       "      <td>False</td>\n",
       "      <td>...</td>\n",
       "      <td>22.0</td>\n",
       "      <td>1</td>\n",
       "      <td>санкт-петербург</td>\n",
       "      <td>25309.0</td>\n",
       "      <td>6224.0</td>\n",
       "      <td>1</td>\n",
       "      <td>217.0</td>\n",
       "      <td>0</td>\n",
       "      <td>NaN</td>\n",
       "      <td>316</td>\n",
       "    </tr>\n",
       "    <tr>\n",
       "      <th>1300</th>\n",
       "      <td>14</td>\n",
       "      <td>120000000</td>\n",
       "      <td>280.0</td>\n",
       "      <td>2018-07-12</td>\n",
       "      <td>5</td>\n",
       "      <td>4.70</td>\n",
       "      <td>4</td>\n",
       "      <td>162.000</td>\n",
       "      <td>3</td>\n",
       "      <td>False</td>\n",
       "      <td>...</td>\n",
       "      <td>30.0</td>\n",
       "      <td>0</td>\n",
       "      <td>санкт-петербург</td>\n",
       "      <td>24680.0</td>\n",
       "      <td>4247.0</td>\n",
       "      <td>1</td>\n",
       "      <td>464.0</td>\n",
       "      <td>3</td>\n",
       "      <td>339.0</td>\n",
       "      <td>225</td>\n",
       "    </tr>\n",
       "    <tr>\n",
       "      <th>1436</th>\n",
       "      <td>19</td>\n",
       "      <td>330000000</td>\n",
       "      <td>190.0</td>\n",
       "      <td>2018-04-04</td>\n",
       "      <td>3</td>\n",
       "      <td>3.50</td>\n",
       "      <td>7</td>\n",
       "      <td>95.000</td>\n",
       "      <td>5</td>\n",
       "      <td>False</td>\n",
       "      <td>...</td>\n",
       "      <td>40.0</td>\n",
       "      <td>0</td>\n",
       "      <td>санкт-петербург</td>\n",
       "      <td>23011.0</td>\n",
       "      <td>1197.0</td>\n",
       "      <td>3</td>\n",
       "      <td>519.0</td>\n",
       "      <td>3</td>\n",
       "      <td>285.0</td>\n",
       "      <td>233</td>\n",
       "    </tr>\n",
       "    <tr>\n",
       "      <th>1927</th>\n",
       "      <td>11</td>\n",
       "      <td>125000000</td>\n",
       "      <td>224.5</td>\n",
       "      <td>2017-01-24</td>\n",
       "      <td>4</td>\n",
       "      <td>3.00</td>\n",
       "      <td>4</td>\n",
       "      <td>163.500</td>\n",
       "      <td>3</td>\n",
       "      <td>False</td>\n",
       "      <td>...</td>\n",
       "      <td>30.0</td>\n",
       "      <td>1</td>\n",
       "      <td>санкт-петербург</td>\n",
       "      <td>22805.0</td>\n",
       "      <td>2335.0</td>\n",
       "      <td>0</td>\n",
       "      <td>NaN</td>\n",
       "      <td>2</td>\n",
       "      <td>497.0</td>\n",
       "      <td>174</td>\n",
       "    </tr>\n",
       "    <tr>\n",
       "      <th>2242</th>\n",
       "      <td>9</td>\n",
       "      <td>130278280</td>\n",
       "      <td>304.0</td>\n",
       "      <td>2015-07-24</td>\n",
       "      <td>5</td>\n",
       "      <td>3.11</td>\n",
       "      <td>9</td>\n",
       "      <td>91.785</td>\n",
       "      <td>7</td>\n",
       "      <td>False</td>\n",
       "      <td>...</td>\n",
       "      <td>15.1</td>\n",
       "      <td>0</td>\n",
       "      <td>санкт-петербург</td>\n",
       "      <td>25593.0</td>\n",
       "      <td>5913.0</td>\n",
       "      <td>2</td>\n",
       "      <td>164.0</td>\n",
       "      <td>0</td>\n",
       "      <td>NaN</td>\n",
       "      <td>599</td>\n",
       "    </tr>\n",
       "    <tr>\n",
       "      <th>2535</th>\n",
       "      <td>16</td>\n",
       "      <td>159984000</td>\n",
       "      <td>242.4</td>\n",
       "      <td>2015-08-27</td>\n",
       "      <td>4</td>\n",
       "      <td>3.85</td>\n",
       "      <td>9</td>\n",
       "      <td>131.000</td>\n",
       "      <td>7</td>\n",
       "      <td>False</td>\n",
       "      <td>...</td>\n",
       "      <td>20.0</td>\n",
       "      <td>0</td>\n",
       "      <td>санкт-петербург</td>\n",
       "      <td>21946.0</td>\n",
       "      <td>2242.0</td>\n",
       "      <td>1</td>\n",
       "      <td>679.0</td>\n",
       "      <td>1</td>\n",
       "      <td>227.0</td>\n",
       "      <td>501</td>\n",
       "    </tr>\n",
       "    <tr>\n",
       "      <th>3116</th>\n",
       "      <td>19</td>\n",
       "      <td>140000000</td>\n",
       "      <td>631.0</td>\n",
       "      <td>2019-03-30</td>\n",
       "      <td>7</td>\n",
       "      <td>2.55</td>\n",
       "      <td>5</td>\n",
       "      <td>145.000</td>\n",
       "      <td>5</td>\n",
       "      <td>False</td>\n",
       "      <td>...</td>\n",
       "      <td>60.0</td>\n",
       "      <td>0</td>\n",
       "      <td>санкт-петербург</td>\n",
       "      <td>25707.0</td>\n",
       "      <td>4972.0</td>\n",
       "      <td>0</td>\n",
       "      <td>NaN</td>\n",
       "      <td>2</td>\n",
       "      <td>210.0</td>\n",
       "      <td>0</td>\n",
       "    </tr>\n",
       "    <tr>\n",
       "      <th>4994</th>\n",
       "      <td>20</td>\n",
       "      <td>124000000</td>\n",
       "      <td>124.5</td>\n",
       "      <td>2017-10-12</td>\n",
       "      <td>4</td>\n",
       "      <td>3.00</td>\n",
       "      <td>4</td>\n",
       "      <td>67.200</td>\n",
       "      <td>2</td>\n",
       "      <td>False</td>\n",
       "      <td>...</td>\n",
       "      <td>20.0</td>\n",
       "      <td>0</td>\n",
       "      <td>санкт-петербург</td>\n",
       "      <td>20399.0</td>\n",
       "      <td>1722.0</td>\n",
       "      <td>3</td>\n",
       "      <td>302.0</td>\n",
       "      <td>3</td>\n",
       "      <td>172.0</td>\n",
       "      <td>45</td>\n",
       "    </tr>\n",
       "  </tbody>\n",
       "</table>\n",
       "<p>10 rows × 22 columns</p>\n",
       "</div>"
      ],
      "text/plain": [
       "      total_images  last_price  total_area first_day_exposition  rooms  \\\n",
       "793             20   135000000       310.0           2018-05-22      4   \n",
       "1026            20   155000000       310.0           2018-10-12      5   \n",
       "1188            20   118000000       290.6           2018-06-01      6   \n",
       "1300            14   120000000       280.0           2018-07-12      5   \n",
       "1436            19   330000000       190.0           2018-04-04      3   \n",
       "1927            11   125000000       224.5           2017-01-24      4   \n",
       "2242             9   130278280       304.0           2015-07-24      5   \n",
       "2535            16   159984000       242.4           2015-08-27      4   \n",
       "3116            19   140000000       631.0           2019-03-30      7   \n",
       "4994            20   124000000       124.5           2017-10-12      4   \n",
       "\n",
       "      ceiling_height  floors_total  living_area  floor  is_apartment  ...  \\\n",
       "793             3.30             5      250.000      2         False  ...   \n",
       "1026            5.30             3      190.000      3         False  ...   \n",
       "1188            3.82             6      188.700      3         False  ...   \n",
       "1300            4.70             4      162.000      3         False  ...   \n",
       "1436            3.50             7       95.000      5         False  ...   \n",
       "1927            3.00             4      163.500      3         False  ...   \n",
       "2242            3.11             9       91.785      7         False  ...   \n",
       "2535            3.85             9      131.000      7         False  ...   \n",
       "3116            2.55             5      145.000      5         False  ...   \n",
       "4994            3.00             4       67.200      2         False  ...   \n",
       "\n",
       "      kitchen_area  balcony    locality_name  airports_nearest  \\\n",
       "793           50.0        0  санкт-петербург           34159.0   \n",
       "1026          63.0        2  санкт-петербург           24899.0   \n",
       "1188          22.0        1  санкт-петербург           25309.0   \n",
       "1300          30.0        0  санкт-петербург           24680.0   \n",
       "1436          40.0        0  санкт-петербург           23011.0   \n",
       "1927          30.0        1  санкт-петербург           22805.0   \n",
       "2242          15.1        0  санкт-петербург           25593.0   \n",
       "2535          20.0        0  санкт-петербург           21946.0   \n",
       "3116          60.0        0  санкт-петербург           25707.0   \n",
       "4994          20.0        0  санкт-петербург           20399.0   \n",
       "\n",
       "     cityCenters_nearest  parks_around3000  parks_nearest  ponds_around3000  \\\n",
       "793               7251.0                 2          295.0                 3   \n",
       "1026              4785.0                 0            NaN                 1   \n",
       "1188              6224.0                 1          217.0                 0   \n",
       "1300              4247.0                 1          464.0                 3   \n",
       "1436              1197.0                 3          519.0                 3   \n",
       "1927              2335.0                 0            NaN                 2   \n",
       "2242              5913.0                 2          164.0                 0   \n",
       "2535              2242.0                 1          679.0                 1   \n",
       "3116              4972.0                 0            NaN                 2   \n",
       "4994              1722.0                 3          302.0                 3   \n",
       "\n",
       "      ponds_nearest  days_exposition  \n",
       "793           190.0              342  \n",
       "1026          603.0                0  \n",
       "1188            NaN              316  \n",
       "1300          339.0              225  \n",
       "1436          285.0              233  \n",
       "1927          497.0              174  \n",
       "2242            NaN              599  \n",
       "2535          227.0              501  \n",
       "3116          210.0                0  \n",
       "4994          172.0               45  \n",
       "\n",
       "[10 rows x 22 columns]"
      ]
     },
     "execution_count": 29,
     "metadata": {},
     "output_type": "execute_result"
    }
   ],
   "source": [
    "data.query('last_price > 100000000').head(10)"
   ]
  },
  {
   "cell_type": "markdown",
   "metadata": {},
   "source": [
    "Мы вывели квартиры от 100 миллионов рублей, их целых 10. Этой высокой стоимости соответствует высокая площадь и большое количество комнат. Пока оставим данные квартиры."
   ]
  },
  {
   "cell_type": "markdown",
   "metadata": {},
   "source": [
    "#### Данные в столбце с высотой потолка искажены, отредактируем их"
   ]
  },
  {
   "cell_type": "markdown",
   "metadata": {},
   "source": [
    "Высоту потолка мы приняли от 2,4м до 4м, всё что больше или меньше будем считать отклонением от нормы. Далее посмотрели знечения от 24 до 40 метров, они могут являться значениями, где не поставили запятую, поэтому в этом диапазоне уменьшим значения в 10 раз."
   ]
  },
  {
   "cell_type": "code",
   "execution_count": 30,
   "metadata": {},
   "outputs": [],
   "source": [
    "def ceiling_height_fun(row):\n",
    "    try:\n",
    "        if row > 24 and row < 40:\n",
    "            row /= 10\n",
    "            return row\n",
    "        else:\n",
    "            return row\n",
    "    except:\n",
    "        return "
   ]
  },
  {
   "cell_type": "code",
   "execution_count": 31,
   "metadata": {},
   "outputs": [],
   "source": [
    "data['ceiling_height'] = data['ceiling_height'].apply(ceiling_height_fun)"
   ]
  },
  {
   "cell_type": "markdown",
   "metadata": {},
   "source": [
    "Проверим остались ли значения в диапазоне от 24 до 40."
   ]
  },
  {
   "cell_type": "code",
   "execution_count": 32,
   "metadata": {},
   "outputs": [
    {
     "data": {
      "text/html": [
       "<div>\n",
       "<style scoped>\n",
       "    .dataframe tbody tr th:only-of-type {\n",
       "        vertical-align: middle;\n",
       "    }\n",
       "\n",
       "    .dataframe tbody tr th {\n",
       "        vertical-align: top;\n",
       "    }\n",
       "\n",
       "    .dataframe thead th {\n",
       "        text-align: right;\n",
       "    }\n",
       "</style>\n",
       "<table border=\"1\" class=\"dataframe\">\n",
       "  <thead>\n",
       "    <tr style=\"text-align: right;\">\n",
       "      <th></th>\n",
       "      <th>total_images</th>\n",
       "      <th>last_price</th>\n",
       "      <th>total_area</th>\n",
       "      <th>first_day_exposition</th>\n",
       "      <th>rooms</th>\n",
       "      <th>ceiling_height</th>\n",
       "      <th>floors_total</th>\n",
       "      <th>living_area</th>\n",
       "      <th>floor</th>\n",
       "      <th>is_apartment</th>\n",
       "      <th>...</th>\n",
       "      <th>kitchen_area</th>\n",
       "      <th>balcony</th>\n",
       "      <th>locality_name</th>\n",
       "      <th>airports_nearest</th>\n",
       "      <th>cityCenters_nearest</th>\n",
       "      <th>parks_around3000</th>\n",
       "      <th>parks_nearest</th>\n",
       "      <th>ponds_around3000</th>\n",
       "      <th>ponds_nearest</th>\n",
       "      <th>days_exposition</th>\n",
       "    </tr>\n",
       "  </thead>\n",
       "  <tbody>\n",
       "  </tbody>\n",
       "</table>\n",
       "<p>0 rows × 22 columns</p>\n",
       "</div>"
      ],
      "text/plain": [
       "Empty DataFrame\n",
       "Columns: [total_images, last_price, total_area, first_day_exposition, rooms, ceiling_height, floors_total, living_area, floor, is_apartment, studio, open_plan, kitchen_area, balcony, locality_name, airports_nearest, cityCenters_nearest, parks_around3000, parks_nearest, ponds_around3000, ponds_nearest, days_exposition]\n",
       "Index: []\n",
       "\n",
       "[0 rows x 22 columns]"
      ]
     },
     "execution_count": 32,
     "metadata": {},
     "output_type": "execute_result"
    }
   ],
   "source": [
    "data.query('ceiling_height > 24 and ceiling_height < 40')"
   ]
  },
  {
   "cell_type": "markdown",
   "metadata": {},
   "source": [
    "Теперь рассмотрим сколько всего этажей в домах больше 31."
   ]
  },
  {
   "cell_type": "code",
   "execution_count": 33,
   "metadata": {
    "scrolled": false
   },
   "outputs": [
    {
     "data": {
      "text/html": [
       "<div>\n",
       "<style scoped>\n",
       "    .dataframe tbody tr th:only-of-type {\n",
       "        vertical-align: middle;\n",
       "    }\n",
       "\n",
       "    .dataframe tbody tr th {\n",
       "        vertical-align: top;\n",
       "    }\n",
       "\n",
       "    .dataframe thead th {\n",
       "        text-align: right;\n",
       "    }\n",
       "</style>\n",
       "<table border=\"1\" class=\"dataframe\">\n",
       "  <thead>\n",
       "    <tr style=\"text-align: right;\">\n",
       "      <th></th>\n",
       "      <th>total_images</th>\n",
       "      <th>last_price</th>\n",
       "      <th>total_area</th>\n",
       "      <th>first_day_exposition</th>\n",
       "      <th>rooms</th>\n",
       "      <th>ceiling_height</th>\n",
       "      <th>floors_total</th>\n",
       "      <th>living_area</th>\n",
       "      <th>floor</th>\n",
       "      <th>is_apartment</th>\n",
       "      <th>...</th>\n",
       "      <th>kitchen_area</th>\n",
       "      <th>balcony</th>\n",
       "      <th>locality_name</th>\n",
       "      <th>airports_nearest</th>\n",
       "      <th>cityCenters_nearest</th>\n",
       "      <th>parks_around3000</th>\n",
       "      <th>parks_nearest</th>\n",
       "      <th>ponds_around3000</th>\n",
       "      <th>ponds_nearest</th>\n",
       "      <th>days_exposition</th>\n",
       "    </tr>\n",
       "  </thead>\n",
       "  <tbody>\n",
       "    <tr>\n",
       "      <th>397</th>\n",
       "      <td>15</td>\n",
       "      <td>5990000</td>\n",
       "      <td>54.0</td>\n",
       "      <td>2018-03-22</td>\n",
       "      <td>2</td>\n",
       "      <td>14.85</td>\n",
       "      <td>36</td>\n",
       "      <td>21.4</td>\n",
       "      <td>28</td>\n",
       "      <td>False</td>\n",
       "      <td>...</td>\n",
       "      <td>18.70</td>\n",
       "      <td>1</td>\n",
       "      <td>санкт-петербург</td>\n",
       "      <td>18732.0</td>\n",
       "      <td>20444.0</td>\n",
       "      <td>0</td>\n",
       "      <td>NaN</td>\n",
       "      <td>3</td>\n",
       "      <td>80.0</td>\n",
       "      <td>11</td>\n",
       "    </tr>\n",
       "    <tr>\n",
       "      <th>871</th>\n",
       "      <td>14</td>\n",
       "      <td>7777777</td>\n",
       "      <td>75.0</td>\n",
       "      <td>2017-11-16</td>\n",
       "      <td>2</td>\n",
       "      <td>2.70</td>\n",
       "      <td>35</td>\n",
       "      <td>40.5</td>\n",
       "      <td>23</td>\n",
       "      <td>False</td>\n",
       "      <td>...</td>\n",
       "      <td>11.70</td>\n",
       "      <td>0</td>\n",
       "      <td>санкт-петербург</td>\n",
       "      <td>18732.0</td>\n",
       "      <td>20444.0</td>\n",
       "      <td>0</td>\n",
       "      <td>NaN</td>\n",
       "      <td>3</td>\n",
       "      <td>80.0</td>\n",
       "      <td>169</td>\n",
       "    </tr>\n",
       "    <tr>\n",
       "      <th>1060</th>\n",
       "      <td>10</td>\n",
       "      <td>5200000</td>\n",
       "      <td>50.0</td>\n",
       "      <td>2015-11-06</td>\n",
       "      <td>2</td>\n",
       "      <td>2.70</td>\n",
       "      <td>35</td>\n",
       "      <td>39.0</td>\n",
       "      <td>15</td>\n",
       "      <td>False</td>\n",
       "      <td>...</td>\n",
       "      <td>20.50</td>\n",
       "      <td>2</td>\n",
       "      <td>санкт-петербург</td>\n",
       "      <td>18732.0</td>\n",
       "      <td>20444.0</td>\n",
       "      <td>0</td>\n",
       "      <td>NaN</td>\n",
       "      <td>3</td>\n",
       "      <td>80.0</td>\n",
       "      <td>281</td>\n",
       "    </tr>\n",
       "    <tr>\n",
       "      <th>1696</th>\n",
       "      <td>11</td>\n",
       "      <td>3550000</td>\n",
       "      <td>28.0</td>\n",
       "      <td>2018-02-08</td>\n",
       "      <td>1</td>\n",
       "      <td>2.65</td>\n",
       "      <td>34</td>\n",
       "      <td>18.0</td>\n",
       "      <td>23</td>\n",
       "      <td>False</td>\n",
       "      <td>...</td>\n",
       "      <td>9.04</td>\n",
       "      <td>0</td>\n",
       "      <td>санкт-петербург</td>\n",
       "      <td>18732.0</td>\n",
       "      <td>20444.0</td>\n",
       "      <td>0</td>\n",
       "      <td>NaN</td>\n",
       "      <td>3</td>\n",
       "      <td>80.0</td>\n",
       "      <td>410</td>\n",
       "    </tr>\n",
       "    <tr>\n",
       "      <th>1916</th>\n",
       "      <td>13</td>\n",
       "      <td>10150000</td>\n",
       "      <td>74.0</td>\n",
       "      <td>2017-11-17</td>\n",
       "      <td>2</td>\n",
       "      <td>2.80</td>\n",
       "      <td>35</td>\n",
       "      <td>34.4</td>\n",
       "      <td>30</td>\n",
       "      <td>False</td>\n",
       "      <td>...</td>\n",
       "      <td>13.00</td>\n",
       "      <td>0</td>\n",
       "      <td>санкт-петербург</td>\n",
       "      <td>18732.0</td>\n",
       "      <td>20444.0</td>\n",
       "      <td>0</td>\n",
       "      <td>NaN</td>\n",
       "      <td>3</td>\n",
       "      <td>80.0</td>\n",
       "      <td>0</td>\n",
       "    </tr>\n",
       "    <tr>\n",
       "      <th>2252</th>\n",
       "      <td>12</td>\n",
       "      <td>3800000</td>\n",
       "      <td>45.5</td>\n",
       "      <td>2018-06-28</td>\n",
       "      <td>2</td>\n",
       "      <td>2.88</td>\n",
       "      <td>60</td>\n",
       "      <td>27.4</td>\n",
       "      <td>4</td>\n",
       "      <td>False</td>\n",
       "      <td>...</td>\n",
       "      <td>7.40</td>\n",
       "      <td>0</td>\n",
       "      <td>кронштадт</td>\n",
       "      <td>67763.0</td>\n",
       "      <td>49488.0</td>\n",
       "      <td>2</td>\n",
       "      <td>342.0</td>\n",
       "      <td>3</td>\n",
       "      <td>614.0</td>\n",
       "      <td>166</td>\n",
       "    </tr>\n",
       "    <tr>\n",
       "      <th>2965</th>\n",
       "      <td>9</td>\n",
       "      <td>4300000</td>\n",
       "      <td>37.0</td>\n",
       "      <td>2017-08-08</td>\n",
       "      <td>1</td>\n",
       "      <td>2.70</td>\n",
       "      <td>35</td>\n",
       "      <td>14.0</td>\n",
       "      <td>15</td>\n",
       "      <td>False</td>\n",
       "      <td>...</td>\n",
       "      <td>10.40</td>\n",
       "      <td>0</td>\n",
       "      <td>санкт-петербург</td>\n",
       "      <td>18732.0</td>\n",
       "      <td>20444.0</td>\n",
       "      <td>0</td>\n",
       "      <td>NaN</td>\n",
       "      <td>3</td>\n",
       "      <td>80.0</td>\n",
       "      <td>50</td>\n",
       "    </tr>\n",
       "    <tr>\n",
       "      <th>4853</th>\n",
       "      <td>12</td>\n",
       "      <td>5500000</td>\n",
       "      <td>50.0</td>\n",
       "      <td>2017-06-22</td>\n",
       "      <td>1</td>\n",
       "      <td>2.80</td>\n",
       "      <td>35</td>\n",
       "      <td>22.0</td>\n",
       "      <td>4</td>\n",
       "      <td>False</td>\n",
       "      <td>...</td>\n",
       "      <td>13.00</td>\n",
       "      <td>0</td>\n",
       "      <td>санкт-петербург</td>\n",
       "      <td>18627.0</td>\n",
       "      <td>20339.0</td>\n",
       "      <td>1</td>\n",
       "      <td>609.0</td>\n",
       "      <td>3</td>\n",
       "      <td>145.0</td>\n",
       "      <td>537</td>\n",
       "    </tr>\n",
       "    <tr>\n",
       "      <th>5747</th>\n",
       "      <td>20</td>\n",
       "      <td>3590000</td>\n",
       "      <td>25.0</td>\n",
       "      <td>2017-08-30</td>\n",
       "      <td>0</td>\n",
       "      <td>2.80</td>\n",
       "      <td>35</td>\n",
       "      <td>18.0</td>\n",
       "      <td>26</td>\n",
       "      <td>False</td>\n",
       "      <td>...</td>\n",
       "      <td>0.00</td>\n",
       "      <td>2</td>\n",
       "      <td>санкт-петербург</td>\n",
       "      <td>18732.0</td>\n",
       "      <td>20444.0</td>\n",
       "      <td>0</td>\n",
       "      <td>NaN</td>\n",
       "      <td>3</td>\n",
       "      <td>80.0</td>\n",
       "      <td>198</td>\n",
       "    </tr>\n",
       "    <tr>\n",
       "      <th>5805</th>\n",
       "      <td>17</td>\n",
       "      <td>8150000</td>\n",
       "      <td>80.0</td>\n",
       "      <td>2019-01-09</td>\n",
       "      <td>2</td>\n",
       "      <td>2.70</td>\n",
       "      <td>36</td>\n",
       "      <td>41.0</td>\n",
       "      <td>13</td>\n",
       "      <td>False</td>\n",
       "      <td>...</td>\n",
       "      <td>12.00</td>\n",
       "      <td>5</td>\n",
       "      <td>санкт-петербург</td>\n",
       "      <td>18732.0</td>\n",
       "      <td>20444.0</td>\n",
       "      <td>0</td>\n",
       "      <td>NaN</td>\n",
       "      <td>3</td>\n",
       "      <td>80.0</td>\n",
       "      <td>38</td>\n",
       "    </tr>\n",
       "  </tbody>\n",
       "</table>\n",
       "<p>10 rows × 22 columns</p>\n",
       "</div>"
      ],
      "text/plain": [
       "      total_images  last_price  total_area first_day_exposition  rooms  \\\n",
       "397             15     5990000        54.0           2018-03-22      2   \n",
       "871             14     7777777        75.0           2017-11-16      2   \n",
       "1060            10     5200000        50.0           2015-11-06      2   \n",
       "1696            11     3550000        28.0           2018-02-08      1   \n",
       "1916            13    10150000        74.0           2017-11-17      2   \n",
       "2252            12     3800000        45.5           2018-06-28      2   \n",
       "2965             9     4300000        37.0           2017-08-08      1   \n",
       "4853            12     5500000        50.0           2017-06-22      1   \n",
       "5747            20     3590000        25.0           2017-08-30      0   \n",
       "5805            17     8150000        80.0           2019-01-09      2   \n",
       "\n",
       "      ceiling_height  floors_total  living_area  floor  is_apartment  ...  \\\n",
       "397            14.85            36         21.4     28         False  ...   \n",
       "871             2.70            35         40.5     23         False  ...   \n",
       "1060            2.70            35         39.0     15         False  ...   \n",
       "1696            2.65            34         18.0     23         False  ...   \n",
       "1916            2.80            35         34.4     30         False  ...   \n",
       "2252            2.88            60         27.4      4         False  ...   \n",
       "2965            2.70            35         14.0     15         False  ...   \n",
       "4853            2.80            35         22.0      4         False  ...   \n",
       "5747            2.80            35         18.0     26         False  ...   \n",
       "5805            2.70            36         41.0     13         False  ...   \n",
       "\n",
       "      kitchen_area  balcony    locality_name  airports_nearest  \\\n",
       "397          18.70        1  санкт-петербург           18732.0   \n",
       "871          11.70        0  санкт-петербург           18732.0   \n",
       "1060         20.50        2  санкт-петербург           18732.0   \n",
       "1696          9.04        0  санкт-петербург           18732.0   \n",
       "1916         13.00        0  санкт-петербург           18732.0   \n",
       "2252          7.40        0        кронштадт           67763.0   \n",
       "2965         10.40        0  санкт-петербург           18732.0   \n",
       "4853         13.00        0  санкт-петербург           18627.0   \n",
       "5747          0.00        2  санкт-петербург           18732.0   \n",
       "5805         12.00        5  санкт-петербург           18732.0   \n",
       "\n",
       "     cityCenters_nearest  parks_around3000  parks_nearest  ponds_around3000  \\\n",
       "397              20444.0                 0            NaN                 3   \n",
       "871              20444.0                 0            NaN                 3   \n",
       "1060             20444.0                 0            NaN                 3   \n",
       "1696             20444.0                 0            NaN                 3   \n",
       "1916             20444.0                 0            NaN                 3   \n",
       "2252             49488.0                 2          342.0                 3   \n",
       "2965             20444.0                 0            NaN                 3   \n",
       "4853             20339.0                 1          609.0                 3   \n",
       "5747             20444.0                 0            NaN                 3   \n",
       "5805             20444.0                 0            NaN                 3   \n",
       "\n",
       "      ponds_nearest  days_exposition  \n",
       "397            80.0               11  \n",
       "871            80.0              169  \n",
       "1060           80.0              281  \n",
       "1696           80.0              410  \n",
       "1916           80.0                0  \n",
       "2252          614.0              166  \n",
       "2965           80.0               50  \n",
       "4853          145.0              537  \n",
       "5747           80.0              198  \n",
       "5805           80.0               38  \n",
       "\n",
       "[10 rows x 22 columns]"
      ]
     },
     "execution_count": 33,
     "metadata": {},
     "output_type": "execute_result"
    }
   ],
   "source": [
    "data.query('floors_total > 31').head(10)"
   ]
  },
  {
   "cell_type": "markdown",
   "metadata": {},
   "source": [
    "У нас есть 10 квартиры, все они не аппартаменты, причём все от 35 этажа и выше."
   ]
  },
  {
   "cell_type": "markdown",
   "metadata": {},
   "source": [
    "#### Удалим все строки в которых высота полтока выходит за диапазон (2,4 - 4)м и где указан этаж выше 31"
   ]
  },
  {
   "cell_type": "code",
   "execution_count": 34,
   "metadata": {
    "scrolled": false
   },
   "outputs": [
    {
     "data": {
      "text/html": [
       "<div>\n",
       "<style scoped>\n",
       "    .dataframe tbody tr th:only-of-type {\n",
       "        vertical-align: middle;\n",
       "    }\n",
       "\n",
       "    .dataframe tbody tr th {\n",
       "        vertical-align: top;\n",
       "    }\n",
       "\n",
       "    .dataframe thead th {\n",
       "        text-align: right;\n",
       "    }\n",
       "</style>\n",
       "<table border=\"1\" class=\"dataframe\">\n",
       "  <thead>\n",
       "    <tr style=\"text-align: right;\">\n",
       "      <th></th>\n",
       "      <th>total_images</th>\n",
       "      <th>last_price</th>\n",
       "      <th>total_area</th>\n",
       "      <th>first_day_exposition</th>\n",
       "      <th>rooms</th>\n",
       "      <th>ceiling_height</th>\n",
       "      <th>floors_total</th>\n",
       "      <th>living_area</th>\n",
       "      <th>floor</th>\n",
       "      <th>is_apartment</th>\n",
       "      <th>...</th>\n",
       "      <th>kitchen_area</th>\n",
       "      <th>balcony</th>\n",
       "      <th>locality_name</th>\n",
       "      <th>airports_nearest</th>\n",
       "      <th>cityCenters_nearest</th>\n",
       "      <th>parks_around3000</th>\n",
       "      <th>parks_nearest</th>\n",
       "      <th>ponds_around3000</th>\n",
       "      <th>ponds_nearest</th>\n",
       "      <th>days_exposition</th>\n",
       "    </tr>\n",
       "  </thead>\n",
       "  <tbody>\n",
       "    <tr>\n",
       "      <th>0</th>\n",
       "      <td>20</td>\n",
       "      <td>13000000</td>\n",
       "      <td>108.00</td>\n",
       "      <td>2019-03-07</td>\n",
       "      <td>3</td>\n",
       "      <td>2.70</td>\n",
       "      <td>16</td>\n",
       "      <td>51.00</td>\n",
       "      <td>8</td>\n",
       "      <td>False</td>\n",
       "      <td>...</td>\n",
       "      <td>25.00</td>\n",
       "      <td>0</td>\n",
       "      <td>санкт-петербург</td>\n",
       "      <td>18863.0</td>\n",
       "      <td>16028.0</td>\n",
       "      <td>1</td>\n",
       "      <td>482.0</td>\n",
       "      <td>2</td>\n",
       "      <td>755.0</td>\n",
       "      <td>0</td>\n",
       "    </tr>\n",
       "    <tr>\n",
       "      <th>1</th>\n",
       "      <td>7</td>\n",
       "      <td>3350000</td>\n",
       "      <td>40.40</td>\n",
       "      <td>2018-12-04</td>\n",
       "      <td>1</td>\n",
       "      <td>2.75</td>\n",
       "      <td>11</td>\n",
       "      <td>18.60</td>\n",
       "      <td>1</td>\n",
       "      <td>False</td>\n",
       "      <td>...</td>\n",
       "      <td>11.00</td>\n",
       "      <td>2</td>\n",
       "      <td>поселок шушары</td>\n",
       "      <td>12817.0</td>\n",
       "      <td>18603.0</td>\n",
       "      <td>0</td>\n",
       "      <td>NaN</td>\n",
       "      <td>0</td>\n",
       "      <td>NaN</td>\n",
       "      <td>81</td>\n",
       "    </tr>\n",
       "    <tr>\n",
       "      <th>2</th>\n",
       "      <td>10</td>\n",
       "      <td>5196000</td>\n",
       "      <td>56.00</td>\n",
       "      <td>2015-08-20</td>\n",
       "      <td>2</td>\n",
       "      <td>2.55</td>\n",
       "      <td>5</td>\n",
       "      <td>34.30</td>\n",
       "      <td>4</td>\n",
       "      <td>False</td>\n",
       "      <td>...</td>\n",
       "      <td>8.30</td>\n",
       "      <td>0</td>\n",
       "      <td>санкт-петербург</td>\n",
       "      <td>21741.0</td>\n",
       "      <td>13933.0</td>\n",
       "      <td>1</td>\n",
       "      <td>90.0</td>\n",
       "      <td>2</td>\n",
       "      <td>574.0</td>\n",
       "      <td>558</td>\n",
       "    </tr>\n",
       "    <tr>\n",
       "      <th>3</th>\n",
       "      <td>0</td>\n",
       "      <td>64900000</td>\n",
       "      <td>159.00</td>\n",
       "      <td>2015-07-24</td>\n",
       "      <td>3</td>\n",
       "      <td>2.60</td>\n",
       "      <td>14</td>\n",
       "      <td>45.00</td>\n",
       "      <td>9</td>\n",
       "      <td>False</td>\n",
       "      <td>...</td>\n",
       "      <td>9.50</td>\n",
       "      <td>0</td>\n",
       "      <td>санкт-петербург</td>\n",
       "      <td>28098.0</td>\n",
       "      <td>6800.0</td>\n",
       "      <td>2</td>\n",
       "      <td>84.0</td>\n",
       "      <td>3</td>\n",
       "      <td>234.0</td>\n",
       "      <td>424</td>\n",
       "    </tr>\n",
       "    <tr>\n",
       "      <th>4</th>\n",
       "      <td>2</td>\n",
       "      <td>10000000</td>\n",
       "      <td>100.00</td>\n",
       "      <td>2018-06-19</td>\n",
       "      <td>2</td>\n",
       "      <td>3.03</td>\n",
       "      <td>14</td>\n",
       "      <td>32.00</td>\n",
       "      <td>13</td>\n",
       "      <td>False</td>\n",
       "      <td>...</td>\n",
       "      <td>41.00</td>\n",
       "      <td>0</td>\n",
       "      <td>санкт-петербург</td>\n",
       "      <td>31856.0</td>\n",
       "      <td>8098.0</td>\n",
       "      <td>2</td>\n",
       "      <td>112.0</td>\n",
       "      <td>1</td>\n",
       "      <td>48.0</td>\n",
       "      <td>121</td>\n",
       "    </tr>\n",
       "    <tr>\n",
       "      <th>5</th>\n",
       "      <td>10</td>\n",
       "      <td>2890000</td>\n",
       "      <td>30.40</td>\n",
       "      <td>2018-09-10</td>\n",
       "      <td>1</td>\n",
       "      <td>2.65</td>\n",
       "      <td>12</td>\n",
       "      <td>14.40</td>\n",
       "      <td>5</td>\n",
       "      <td>False</td>\n",
       "      <td>...</td>\n",
       "      <td>9.10</td>\n",
       "      <td>0</td>\n",
       "      <td>поселок янино-1</td>\n",
       "      <td>NaN</td>\n",
       "      <td>NaN</td>\n",
       "      <td>0</td>\n",
       "      <td>NaN</td>\n",
       "      <td>0</td>\n",
       "      <td>NaN</td>\n",
       "      <td>55</td>\n",
       "    </tr>\n",
       "    <tr>\n",
       "      <th>6</th>\n",
       "      <td>6</td>\n",
       "      <td>3700000</td>\n",
       "      <td>37.30</td>\n",
       "      <td>2017-11-02</td>\n",
       "      <td>1</td>\n",
       "      <td>2.66</td>\n",
       "      <td>26</td>\n",
       "      <td>10.60</td>\n",
       "      <td>6</td>\n",
       "      <td>False</td>\n",
       "      <td>...</td>\n",
       "      <td>14.40</td>\n",
       "      <td>1</td>\n",
       "      <td>поселок парголово</td>\n",
       "      <td>52996.0</td>\n",
       "      <td>19143.0</td>\n",
       "      <td>0</td>\n",
       "      <td>NaN</td>\n",
       "      <td>0</td>\n",
       "      <td>NaN</td>\n",
       "      <td>155</td>\n",
       "    </tr>\n",
       "    <tr>\n",
       "      <th>7</th>\n",
       "      <td>5</td>\n",
       "      <td>7915000</td>\n",
       "      <td>71.60</td>\n",
       "      <td>2019-04-18</td>\n",
       "      <td>2</td>\n",
       "      <td>2.75</td>\n",
       "      <td>24</td>\n",
       "      <td>30.50</td>\n",
       "      <td>22</td>\n",
       "      <td>False</td>\n",
       "      <td>...</td>\n",
       "      <td>18.90</td>\n",
       "      <td>2</td>\n",
       "      <td>санкт-петербург</td>\n",
       "      <td>23982.0</td>\n",
       "      <td>11634.0</td>\n",
       "      <td>0</td>\n",
       "      <td>NaN</td>\n",
       "      <td>0</td>\n",
       "      <td>NaN</td>\n",
       "      <td>0</td>\n",
       "    </tr>\n",
       "    <tr>\n",
       "      <th>8</th>\n",
       "      <td>20</td>\n",
       "      <td>2900000</td>\n",
       "      <td>33.16</td>\n",
       "      <td>2018-05-23</td>\n",
       "      <td>1</td>\n",
       "      <td>2.70</td>\n",
       "      <td>27</td>\n",
       "      <td>15.43</td>\n",
       "      <td>26</td>\n",
       "      <td>False</td>\n",
       "      <td>...</td>\n",
       "      <td>8.81</td>\n",
       "      <td>0</td>\n",
       "      <td>поселок мурино</td>\n",
       "      <td>NaN</td>\n",
       "      <td>NaN</td>\n",
       "      <td>0</td>\n",
       "      <td>NaN</td>\n",
       "      <td>0</td>\n",
       "      <td>NaN</td>\n",
       "      <td>189</td>\n",
       "    </tr>\n",
       "    <tr>\n",
       "      <th>9</th>\n",
       "      <td>18</td>\n",
       "      <td>5400000</td>\n",
       "      <td>61.00</td>\n",
       "      <td>2017-02-26</td>\n",
       "      <td>3</td>\n",
       "      <td>2.50</td>\n",
       "      <td>9</td>\n",
       "      <td>43.60</td>\n",
       "      <td>7</td>\n",
       "      <td>False</td>\n",
       "      <td>...</td>\n",
       "      <td>6.50</td>\n",
       "      <td>2</td>\n",
       "      <td>санкт-петербург</td>\n",
       "      <td>50898.0</td>\n",
       "      <td>15008.0</td>\n",
       "      <td>0</td>\n",
       "      <td>NaN</td>\n",
       "      <td>0</td>\n",
       "      <td>NaN</td>\n",
       "      <td>289</td>\n",
       "    </tr>\n",
       "  </tbody>\n",
       "</table>\n",
       "<p>10 rows × 22 columns</p>\n",
       "</div>"
      ],
      "text/plain": [
       "   total_images  last_price  total_area first_day_exposition  rooms  \\\n",
       "0            20    13000000      108.00           2019-03-07      3   \n",
       "1             7     3350000       40.40           2018-12-04      1   \n",
       "2            10     5196000       56.00           2015-08-20      2   \n",
       "3             0    64900000      159.00           2015-07-24      3   \n",
       "4             2    10000000      100.00           2018-06-19      2   \n",
       "5            10     2890000       30.40           2018-09-10      1   \n",
       "6             6     3700000       37.30           2017-11-02      1   \n",
       "7             5     7915000       71.60           2019-04-18      2   \n",
       "8            20     2900000       33.16           2018-05-23      1   \n",
       "9            18     5400000       61.00           2017-02-26      3   \n",
       "\n",
       "   ceiling_height  floors_total  living_area  floor  is_apartment  ...  \\\n",
       "0            2.70            16        51.00      8         False  ...   \n",
       "1            2.75            11        18.60      1         False  ...   \n",
       "2            2.55             5        34.30      4         False  ...   \n",
       "3            2.60            14        45.00      9         False  ...   \n",
       "4            3.03            14        32.00     13         False  ...   \n",
       "5            2.65            12        14.40      5         False  ...   \n",
       "6            2.66            26        10.60      6         False  ...   \n",
       "7            2.75            24        30.50     22         False  ...   \n",
       "8            2.70            27        15.43     26         False  ...   \n",
       "9            2.50             9        43.60      7         False  ...   \n",
       "\n",
       "   kitchen_area  balcony      locality_name  airports_nearest  \\\n",
       "0         25.00        0    санкт-петербург           18863.0   \n",
       "1         11.00        2     поселок шушары           12817.0   \n",
       "2          8.30        0    санкт-петербург           21741.0   \n",
       "3          9.50        0    санкт-петербург           28098.0   \n",
       "4         41.00        0    санкт-петербург           31856.0   \n",
       "5          9.10        0    поселок янино-1               NaN   \n",
       "6         14.40        1  поселок парголово           52996.0   \n",
       "7         18.90        2    санкт-петербург           23982.0   \n",
       "8          8.81        0     поселок мурино               NaN   \n",
       "9          6.50        2    санкт-петербург           50898.0   \n",
       "\n",
       "  cityCenters_nearest  parks_around3000  parks_nearest  ponds_around3000  \\\n",
       "0             16028.0                 1          482.0                 2   \n",
       "1             18603.0                 0            NaN                 0   \n",
       "2             13933.0                 1           90.0                 2   \n",
       "3              6800.0                 2           84.0                 3   \n",
       "4              8098.0                 2          112.0                 1   \n",
       "5                 NaN                 0            NaN                 0   \n",
       "6             19143.0                 0            NaN                 0   \n",
       "7             11634.0                 0            NaN                 0   \n",
       "8                 NaN                 0            NaN                 0   \n",
       "9             15008.0                 0            NaN                 0   \n",
       "\n",
       "   ponds_nearest  days_exposition  \n",
       "0          755.0                0  \n",
       "1            NaN               81  \n",
       "2          574.0              558  \n",
       "3          234.0              424  \n",
       "4           48.0              121  \n",
       "5            NaN               55  \n",
       "6            NaN              155  \n",
       "7            NaN                0  \n",
       "8            NaN              189  \n",
       "9            NaN              289  \n",
       "\n",
       "[10 rows x 22 columns]"
      ]
     },
     "execution_count": 34,
     "metadata": {},
     "output_type": "execute_result"
    }
   ],
   "source": [
    "data = data.query('not (floors_total > 32 or ceiling_height < 2.4 or ceiling_height > 4.0)').reset_index(drop=True)\n",
    "data.head(10)"
   ]
  },
  {
   "cell_type": "code",
   "execution_count": 35,
   "metadata": {},
   "outputs": [
    {
     "name": "stdout",
     "output_type": "stream",
     "text": [
      "<class 'pandas.core.frame.DataFrame'>\n",
      "RangeIndex: 23560 entries, 0 to 23559\n",
      "Data columns (total 22 columns):\n",
      " #   Column                Non-Null Count  Dtype         \n",
      "---  ------                --------------  -----         \n",
      " 0   total_images          23560 non-null  int64         \n",
      " 1   last_price            23560 non-null  int64         \n",
      " 2   total_area            23560 non-null  float64       \n",
      " 3   first_day_exposition  23560 non-null  datetime64[ns]\n",
      " 4   rooms                 23560 non-null  int64         \n",
      " 5   ceiling_height        23483 non-null  float64       \n",
      " 6   floors_total          23560 non-null  int64         \n",
      " 7   living_area           23560 non-null  float64       \n",
      " 8   floor                 23560 non-null  int64         \n",
      " 9   is_apartment          23560 non-null  bool          \n",
      " 10  studio                23560 non-null  bool          \n",
      " 11  open_plan             23560 non-null  bool          \n",
      " 12  kitchen_area          23560 non-null  float64       \n",
      " 13  balcony               23560 non-null  int64         \n",
      " 14  locality_name         23560 non-null  object        \n",
      " 15  airports_nearest      18053 non-null  float64       \n",
      " 16  cityCenters_nearest   18073 non-null  float64       \n",
      " 17  parks_around3000      23560 non-null  int64         \n",
      " 18  parks_nearest         8031 non-null   float64       \n",
      " 19  ponds_around3000      23560 non-null  int64         \n",
      " 20  ponds_nearest         9028 non-null   float64       \n",
      " 21  days_exposition       23560 non-null  int64         \n",
      "dtypes: bool(3), datetime64[ns](1), float64(8), int64(9), object(1)\n",
      "memory usage: 3.5+ MB\n"
     ]
    }
   ],
   "source": [
    "data.info()"
   ]
  },
  {
   "cell_type": "markdown",
   "metadata": {},
   "source": [
    "#### Особенности данных которые мы обнаружили"
   ]
  },
  {
   "cell_type": "markdown",
   "metadata": {},
   "source": [
    "1. Большой разброс в значниях высоты потлка. Возможно в некотрых случаях в значениях был пропущен разделитель. Также можно было бы предположить, что вносились значения в других единицах измерения, но самое распространённое был бы резельтат в сантиметрах, но мы не обнаружили высоту потолка выше 100, поэтому этот вариант отбросили.\n",
    "2. Далее мы рассмотрели этажность домов. В ленинградской области самые высокие жилые дома расположены в ЖК \"Лондон Парк\". Самым многоэтажным является 2 дома в 31 этаж, поэтому мы отбросили все значения выше 31.\n",
    "3. И посмотрим какой процент данных у мы удалили. В начальном датафрейме было 23699, после 20889. Итого удалено 11,5%."
   ]
  },
  {
   "cell_type": "markdown",
   "metadata": {},
   "source": [
    "**Мы закончили с предобработкой данных. Мы опледелили пропущенные значения и заполнили там, где это было необходимо. Также откорректировали типы данных в столбцах и разобрались с уникальными значениями.**"
   ]
  },
  {
   "cell_type": "markdown",
   "metadata": {},
   "source": [
    "## Посчитайте и добавьте в таблицу новые столбцы"
   ]
  },
  {
   "cell_type": "markdown",
   "metadata": {},
   "source": [
    "### Цена одного метра."
   ]
  },
  {
   "cell_type": "code",
   "execution_count": 36,
   "metadata": {},
   "outputs": [],
   "source": [
    "def price_one_meter_fun(row):\n",
    "    price = row['last_price']\n",
    "    area = row['total_area']\n",
    "    \n",
    "    try:\n",
    "        return int(price / area)\n",
    "    except:\n",
    "        return 'недостаточно данных'"
   ]
  },
  {
   "cell_type": "code",
   "execution_count": 37,
   "metadata": {
    "scrolled": false
   },
   "outputs": [
    {
     "data": {
      "text/html": [
       "<div>\n",
       "<style scoped>\n",
       "    .dataframe tbody tr th:only-of-type {\n",
       "        vertical-align: middle;\n",
       "    }\n",
       "\n",
       "    .dataframe tbody tr th {\n",
       "        vertical-align: top;\n",
       "    }\n",
       "\n",
       "    .dataframe thead th {\n",
       "        text-align: right;\n",
       "    }\n",
       "</style>\n",
       "<table border=\"1\" class=\"dataframe\">\n",
       "  <thead>\n",
       "    <tr style=\"text-align: right;\">\n",
       "      <th></th>\n",
       "      <th>total_images</th>\n",
       "      <th>last_price</th>\n",
       "      <th>total_area</th>\n",
       "      <th>first_day_exposition</th>\n",
       "      <th>rooms</th>\n",
       "      <th>ceiling_height</th>\n",
       "      <th>floors_total</th>\n",
       "      <th>living_area</th>\n",
       "      <th>floor</th>\n",
       "      <th>is_apartment</th>\n",
       "      <th>...</th>\n",
       "      <th>balcony</th>\n",
       "      <th>locality_name</th>\n",
       "      <th>airports_nearest</th>\n",
       "      <th>cityCenters_nearest</th>\n",
       "      <th>parks_around3000</th>\n",
       "      <th>parks_nearest</th>\n",
       "      <th>ponds_around3000</th>\n",
       "      <th>ponds_nearest</th>\n",
       "      <th>days_exposition</th>\n",
       "      <th>price_one_meter</th>\n",
       "    </tr>\n",
       "  </thead>\n",
       "  <tbody>\n",
       "    <tr>\n",
       "      <th>0</th>\n",
       "      <td>20</td>\n",
       "      <td>13000000</td>\n",
       "      <td>108.00</td>\n",
       "      <td>2019-03-07</td>\n",
       "      <td>3</td>\n",
       "      <td>2.70</td>\n",
       "      <td>16</td>\n",
       "      <td>51.00</td>\n",
       "      <td>8</td>\n",
       "      <td>False</td>\n",
       "      <td>...</td>\n",
       "      <td>0</td>\n",
       "      <td>санкт-петербург</td>\n",
       "      <td>18863.0</td>\n",
       "      <td>16028.0</td>\n",
       "      <td>1</td>\n",
       "      <td>482.0</td>\n",
       "      <td>2</td>\n",
       "      <td>755.0</td>\n",
       "      <td>0</td>\n",
       "      <td>120370</td>\n",
       "    </tr>\n",
       "    <tr>\n",
       "      <th>1</th>\n",
       "      <td>7</td>\n",
       "      <td>3350000</td>\n",
       "      <td>40.40</td>\n",
       "      <td>2018-12-04</td>\n",
       "      <td>1</td>\n",
       "      <td>2.75</td>\n",
       "      <td>11</td>\n",
       "      <td>18.60</td>\n",
       "      <td>1</td>\n",
       "      <td>False</td>\n",
       "      <td>...</td>\n",
       "      <td>2</td>\n",
       "      <td>поселок шушары</td>\n",
       "      <td>12817.0</td>\n",
       "      <td>18603.0</td>\n",
       "      <td>0</td>\n",
       "      <td>NaN</td>\n",
       "      <td>0</td>\n",
       "      <td>NaN</td>\n",
       "      <td>81</td>\n",
       "      <td>82920</td>\n",
       "    </tr>\n",
       "    <tr>\n",
       "      <th>2</th>\n",
       "      <td>10</td>\n",
       "      <td>5196000</td>\n",
       "      <td>56.00</td>\n",
       "      <td>2015-08-20</td>\n",
       "      <td>2</td>\n",
       "      <td>2.55</td>\n",
       "      <td>5</td>\n",
       "      <td>34.30</td>\n",
       "      <td>4</td>\n",
       "      <td>False</td>\n",
       "      <td>...</td>\n",
       "      <td>0</td>\n",
       "      <td>санкт-петербург</td>\n",
       "      <td>21741.0</td>\n",
       "      <td>13933.0</td>\n",
       "      <td>1</td>\n",
       "      <td>90.0</td>\n",
       "      <td>2</td>\n",
       "      <td>574.0</td>\n",
       "      <td>558</td>\n",
       "      <td>92785</td>\n",
       "    </tr>\n",
       "    <tr>\n",
       "      <th>3</th>\n",
       "      <td>0</td>\n",
       "      <td>64900000</td>\n",
       "      <td>159.00</td>\n",
       "      <td>2015-07-24</td>\n",
       "      <td>3</td>\n",
       "      <td>2.60</td>\n",
       "      <td>14</td>\n",
       "      <td>45.00</td>\n",
       "      <td>9</td>\n",
       "      <td>False</td>\n",
       "      <td>...</td>\n",
       "      <td>0</td>\n",
       "      <td>санкт-петербург</td>\n",
       "      <td>28098.0</td>\n",
       "      <td>6800.0</td>\n",
       "      <td>2</td>\n",
       "      <td>84.0</td>\n",
       "      <td>3</td>\n",
       "      <td>234.0</td>\n",
       "      <td>424</td>\n",
       "      <td>408176</td>\n",
       "    </tr>\n",
       "    <tr>\n",
       "      <th>4</th>\n",
       "      <td>2</td>\n",
       "      <td>10000000</td>\n",
       "      <td>100.00</td>\n",
       "      <td>2018-06-19</td>\n",
       "      <td>2</td>\n",
       "      <td>3.03</td>\n",
       "      <td>14</td>\n",
       "      <td>32.00</td>\n",
       "      <td>13</td>\n",
       "      <td>False</td>\n",
       "      <td>...</td>\n",
       "      <td>0</td>\n",
       "      <td>санкт-петербург</td>\n",
       "      <td>31856.0</td>\n",
       "      <td>8098.0</td>\n",
       "      <td>2</td>\n",
       "      <td>112.0</td>\n",
       "      <td>1</td>\n",
       "      <td>48.0</td>\n",
       "      <td>121</td>\n",
       "      <td>100000</td>\n",
       "    </tr>\n",
       "    <tr>\n",
       "      <th>5</th>\n",
       "      <td>10</td>\n",
       "      <td>2890000</td>\n",
       "      <td>30.40</td>\n",
       "      <td>2018-09-10</td>\n",
       "      <td>1</td>\n",
       "      <td>2.65</td>\n",
       "      <td>12</td>\n",
       "      <td>14.40</td>\n",
       "      <td>5</td>\n",
       "      <td>False</td>\n",
       "      <td>...</td>\n",
       "      <td>0</td>\n",
       "      <td>поселок янино-1</td>\n",
       "      <td>NaN</td>\n",
       "      <td>NaN</td>\n",
       "      <td>0</td>\n",
       "      <td>NaN</td>\n",
       "      <td>0</td>\n",
       "      <td>NaN</td>\n",
       "      <td>55</td>\n",
       "      <td>95065</td>\n",
       "    </tr>\n",
       "    <tr>\n",
       "      <th>6</th>\n",
       "      <td>6</td>\n",
       "      <td>3700000</td>\n",
       "      <td>37.30</td>\n",
       "      <td>2017-11-02</td>\n",
       "      <td>1</td>\n",
       "      <td>2.66</td>\n",
       "      <td>26</td>\n",
       "      <td>10.60</td>\n",
       "      <td>6</td>\n",
       "      <td>False</td>\n",
       "      <td>...</td>\n",
       "      <td>1</td>\n",
       "      <td>поселок парголово</td>\n",
       "      <td>52996.0</td>\n",
       "      <td>19143.0</td>\n",
       "      <td>0</td>\n",
       "      <td>NaN</td>\n",
       "      <td>0</td>\n",
       "      <td>NaN</td>\n",
       "      <td>155</td>\n",
       "      <td>99195</td>\n",
       "    </tr>\n",
       "    <tr>\n",
       "      <th>7</th>\n",
       "      <td>5</td>\n",
       "      <td>7915000</td>\n",
       "      <td>71.60</td>\n",
       "      <td>2019-04-18</td>\n",
       "      <td>2</td>\n",
       "      <td>2.75</td>\n",
       "      <td>24</td>\n",
       "      <td>30.50</td>\n",
       "      <td>22</td>\n",
       "      <td>False</td>\n",
       "      <td>...</td>\n",
       "      <td>2</td>\n",
       "      <td>санкт-петербург</td>\n",
       "      <td>23982.0</td>\n",
       "      <td>11634.0</td>\n",
       "      <td>0</td>\n",
       "      <td>NaN</td>\n",
       "      <td>0</td>\n",
       "      <td>NaN</td>\n",
       "      <td>0</td>\n",
       "      <td>110544</td>\n",
       "    </tr>\n",
       "    <tr>\n",
       "      <th>8</th>\n",
       "      <td>20</td>\n",
       "      <td>2900000</td>\n",
       "      <td>33.16</td>\n",
       "      <td>2018-05-23</td>\n",
       "      <td>1</td>\n",
       "      <td>2.70</td>\n",
       "      <td>27</td>\n",
       "      <td>15.43</td>\n",
       "      <td>26</td>\n",
       "      <td>False</td>\n",
       "      <td>...</td>\n",
       "      <td>0</td>\n",
       "      <td>поселок мурино</td>\n",
       "      <td>NaN</td>\n",
       "      <td>NaN</td>\n",
       "      <td>0</td>\n",
       "      <td>NaN</td>\n",
       "      <td>0</td>\n",
       "      <td>NaN</td>\n",
       "      <td>189</td>\n",
       "      <td>87454</td>\n",
       "    </tr>\n",
       "    <tr>\n",
       "      <th>9</th>\n",
       "      <td>18</td>\n",
       "      <td>5400000</td>\n",
       "      <td>61.00</td>\n",
       "      <td>2017-02-26</td>\n",
       "      <td>3</td>\n",
       "      <td>2.50</td>\n",
       "      <td>9</td>\n",
       "      <td>43.60</td>\n",
       "      <td>7</td>\n",
       "      <td>False</td>\n",
       "      <td>...</td>\n",
       "      <td>2</td>\n",
       "      <td>санкт-петербург</td>\n",
       "      <td>50898.0</td>\n",
       "      <td>15008.0</td>\n",
       "      <td>0</td>\n",
       "      <td>NaN</td>\n",
       "      <td>0</td>\n",
       "      <td>NaN</td>\n",
       "      <td>289</td>\n",
       "      <td>88524</td>\n",
       "    </tr>\n",
       "  </tbody>\n",
       "</table>\n",
       "<p>10 rows × 23 columns</p>\n",
       "</div>"
      ],
      "text/plain": [
       "   total_images  last_price  total_area first_day_exposition  rooms  \\\n",
       "0            20    13000000      108.00           2019-03-07      3   \n",
       "1             7     3350000       40.40           2018-12-04      1   \n",
       "2            10     5196000       56.00           2015-08-20      2   \n",
       "3             0    64900000      159.00           2015-07-24      3   \n",
       "4             2    10000000      100.00           2018-06-19      2   \n",
       "5            10     2890000       30.40           2018-09-10      1   \n",
       "6             6     3700000       37.30           2017-11-02      1   \n",
       "7             5     7915000       71.60           2019-04-18      2   \n",
       "8            20     2900000       33.16           2018-05-23      1   \n",
       "9            18     5400000       61.00           2017-02-26      3   \n",
       "\n",
       "   ceiling_height  floors_total  living_area  floor  is_apartment  ...  \\\n",
       "0            2.70            16        51.00      8         False  ...   \n",
       "1            2.75            11        18.60      1         False  ...   \n",
       "2            2.55             5        34.30      4         False  ...   \n",
       "3            2.60            14        45.00      9         False  ...   \n",
       "4            3.03            14        32.00     13         False  ...   \n",
       "5            2.65            12        14.40      5         False  ...   \n",
       "6            2.66            26        10.60      6         False  ...   \n",
       "7            2.75            24        30.50     22         False  ...   \n",
       "8            2.70            27        15.43     26         False  ...   \n",
       "9            2.50             9        43.60      7         False  ...   \n",
       "\n",
       "   balcony      locality_name  airports_nearest  cityCenters_nearest  \\\n",
       "0        0    санкт-петербург           18863.0              16028.0   \n",
       "1        2     поселок шушары           12817.0              18603.0   \n",
       "2        0    санкт-петербург           21741.0              13933.0   \n",
       "3        0    санкт-петербург           28098.0               6800.0   \n",
       "4        0    санкт-петербург           31856.0               8098.0   \n",
       "5        0    поселок янино-1               NaN                  NaN   \n",
       "6        1  поселок парголово           52996.0              19143.0   \n",
       "7        2    санкт-петербург           23982.0              11634.0   \n",
       "8        0     поселок мурино               NaN                  NaN   \n",
       "9        2    санкт-петербург           50898.0              15008.0   \n",
       "\n",
       "  parks_around3000  parks_nearest  ponds_around3000  ponds_nearest  \\\n",
       "0                1          482.0                 2          755.0   \n",
       "1                0            NaN                 0            NaN   \n",
       "2                1           90.0                 2          574.0   \n",
       "3                2           84.0                 3          234.0   \n",
       "4                2          112.0                 1           48.0   \n",
       "5                0            NaN                 0            NaN   \n",
       "6                0            NaN                 0            NaN   \n",
       "7                0            NaN                 0            NaN   \n",
       "8                0            NaN                 0            NaN   \n",
       "9                0            NaN                 0            NaN   \n",
       "\n",
       "   days_exposition  price_one_meter  \n",
       "0                0           120370  \n",
       "1               81            82920  \n",
       "2              558            92785  \n",
       "3              424           408176  \n",
       "4              121           100000  \n",
       "5               55            95065  \n",
       "6              155            99195  \n",
       "7                0           110544  \n",
       "8              189            87454  \n",
       "9              289            88524  \n",
       "\n",
       "[10 rows x 23 columns]"
      ]
     },
     "execution_count": 37,
     "metadata": {},
     "output_type": "execute_result"
    }
   ],
   "source": [
    "data['price_one_meter'] = data.apply(price_one_meter_fun, axis=1)\n",
    "data.head(10)"
   ]
  },
  {
   "cell_type": "markdown",
   "metadata": {},
   "source": [
    "### День недели побликации объявления."
   ]
  },
  {
   "cell_type": "code",
   "execution_count": 38,
   "metadata": {},
   "outputs": [
    {
     "data": {
      "text/html": [
       "<div>\n",
       "<style scoped>\n",
       "    .dataframe tbody tr th:only-of-type {\n",
       "        vertical-align: middle;\n",
       "    }\n",
       "\n",
       "    .dataframe tbody tr th {\n",
       "        vertical-align: top;\n",
       "    }\n",
       "\n",
       "    .dataframe thead th {\n",
       "        text-align: right;\n",
       "    }\n",
       "</style>\n",
       "<table border=\"1\" class=\"dataframe\">\n",
       "  <thead>\n",
       "    <tr style=\"text-align: right;\">\n",
       "      <th></th>\n",
       "      <th>first_day_exposition</th>\n",
       "      <th>weekday</th>\n",
       "    </tr>\n",
       "  </thead>\n",
       "  <tbody>\n",
       "    <tr>\n",
       "      <th>0</th>\n",
       "      <td>2019-03-07</td>\n",
       "      <td>3</td>\n",
       "    </tr>\n",
       "    <tr>\n",
       "      <th>1</th>\n",
       "      <td>2018-12-04</td>\n",
       "      <td>1</td>\n",
       "    </tr>\n",
       "    <tr>\n",
       "      <th>2</th>\n",
       "      <td>2015-08-20</td>\n",
       "      <td>3</td>\n",
       "    </tr>\n",
       "    <tr>\n",
       "      <th>3</th>\n",
       "      <td>2015-07-24</td>\n",
       "      <td>4</td>\n",
       "    </tr>\n",
       "    <tr>\n",
       "      <th>4</th>\n",
       "      <td>2018-06-19</td>\n",
       "      <td>1</td>\n",
       "    </tr>\n",
       "    <tr>\n",
       "      <th>5</th>\n",
       "      <td>2018-09-10</td>\n",
       "      <td>0</td>\n",
       "    </tr>\n",
       "    <tr>\n",
       "      <th>6</th>\n",
       "      <td>2017-11-02</td>\n",
       "      <td>3</td>\n",
       "    </tr>\n",
       "    <tr>\n",
       "      <th>7</th>\n",
       "      <td>2019-04-18</td>\n",
       "      <td>3</td>\n",
       "    </tr>\n",
       "    <tr>\n",
       "      <th>8</th>\n",
       "      <td>2018-05-23</td>\n",
       "      <td>2</td>\n",
       "    </tr>\n",
       "    <tr>\n",
       "      <th>9</th>\n",
       "      <td>2017-02-26</td>\n",
       "      <td>6</td>\n",
       "    </tr>\n",
       "  </tbody>\n",
       "</table>\n",
       "</div>"
      ],
      "text/plain": [
       "  first_day_exposition  weekday\n",
       "0           2019-03-07        3\n",
       "1           2018-12-04        1\n",
       "2           2015-08-20        3\n",
       "3           2015-07-24        4\n",
       "4           2018-06-19        1\n",
       "5           2018-09-10        0\n",
       "6           2017-11-02        3\n",
       "7           2019-04-18        3\n",
       "8           2018-05-23        2\n",
       "9           2017-02-26        6"
      ]
     },
     "execution_count": 38,
     "metadata": {},
     "output_type": "execute_result"
    }
   ],
   "source": [
    "data['weekday'] = data['first_day_exposition'].dt.dayofweek\n",
    "data[['first_day_exposition', 'weekday']].head(10)"
   ]
  },
  {
   "cell_type": "markdown",
   "metadata": {},
   "source": [
    "### Месяц публикации объявления."
   ]
  },
  {
   "cell_type": "code",
   "execution_count": 39,
   "metadata": {},
   "outputs": [
    {
     "data": {
      "text/html": [
       "<div>\n",
       "<style scoped>\n",
       "    .dataframe tbody tr th:only-of-type {\n",
       "        vertical-align: middle;\n",
       "    }\n",
       "\n",
       "    .dataframe tbody tr th {\n",
       "        vertical-align: top;\n",
       "    }\n",
       "\n",
       "    .dataframe thead th {\n",
       "        text-align: right;\n",
       "    }\n",
       "</style>\n",
       "<table border=\"1\" class=\"dataframe\">\n",
       "  <thead>\n",
       "    <tr style=\"text-align: right;\">\n",
       "      <th></th>\n",
       "      <th>first_day_exposition</th>\n",
       "      <th>month</th>\n",
       "    </tr>\n",
       "  </thead>\n",
       "  <tbody>\n",
       "    <tr>\n",
       "      <th>0</th>\n",
       "      <td>2019-03-07</td>\n",
       "      <td>3</td>\n",
       "    </tr>\n",
       "    <tr>\n",
       "      <th>1</th>\n",
       "      <td>2018-12-04</td>\n",
       "      <td>12</td>\n",
       "    </tr>\n",
       "    <tr>\n",
       "      <th>2</th>\n",
       "      <td>2015-08-20</td>\n",
       "      <td>8</td>\n",
       "    </tr>\n",
       "    <tr>\n",
       "      <th>3</th>\n",
       "      <td>2015-07-24</td>\n",
       "      <td>7</td>\n",
       "    </tr>\n",
       "    <tr>\n",
       "      <th>4</th>\n",
       "      <td>2018-06-19</td>\n",
       "      <td>6</td>\n",
       "    </tr>\n",
       "    <tr>\n",
       "      <th>5</th>\n",
       "      <td>2018-09-10</td>\n",
       "      <td>9</td>\n",
       "    </tr>\n",
       "    <tr>\n",
       "      <th>6</th>\n",
       "      <td>2017-11-02</td>\n",
       "      <td>11</td>\n",
       "    </tr>\n",
       "    <tr>\n",
       "      <th>7</th>\n",
       "      <td>2019-04-18</td>\n",
       "      <td>4</td>\n",
       "    </tr>\n",
       "    <tr>\n",
       "      <th>8</th>\n",
       "      <td>2018-05-23</td>\n",
       "      <td>5</td>\n",
       "    </tr>\n",
       "    <tr>\n",
       "      <th>9</th>\n",
       "      <td>2017-02-26</td>\n",
       "      <td>2</td>\n",
       "    </tr>\n",
       "  </tbody>\n",
       "</table>\n",
       "</div>"
      ],
      "text/plain": [
       "  first_day_exposition  month\n",
       "0           2019-03-07      3\n",
       "1           2018-12-04     12\n",
       "2           2015-08-20      8\n",
       "3           2015-07-24      7\n",
       "4           2018-06-19      6\n",
       "5           2018-09-10      9\n",
       "6           2017-11-02     11\n",
       "7           2019-04-18      4\n",
       "8           2018-05-23      5\n",
       "9           2017-02-26      2"
      ]
     },
     "execution_count": 39,
     "metadata": {},
     "output_type": "execute_result"
    }
   ],
   "source": [
    "data['month'] = data['first_day_exposition'].dt.month\n",
    "data[['first_day_exposition', 'month']].head(10)"
   ]
  },
  {
   "cell_type": "markdown",
   "metadata": {},
   "source": [
    "### Год публикации объявления."
   ]
  },
  {
   "cell_type": "code",
   "execution_count": 40,
   "metadata": {},
   "outputs": [
    {
     "data": {
      "text/html": [
       "<div>\n",
       "<style scoped>\n",
       "    .dataframe tbody tr th:only-of-type {\n",
       "        vertical-align: middle;\n",
       "    }\n",
       "\n",
       "    .dataframe tbody tr th {\n",
       "        vertical-align: top;\n",
       "    }\n",
       "\n",
       "    .dataframe thead th {\n",
       "        text-align: right;\n",
       "    }\n",
       "</style>\n",
       "<table border=\"1\" class=\"dataframe\">\n",
       "  <thead>\n",
       "    <tr style=\"text-align: right;\">\n",
       "      <th></th>\n",
       "      <th>first_day_exposition</th>\n",
       "      <th>year</th>\n",
       "    </tr>\n",
       "  </thead>\n",
       "  <tbody>\n",
       "    <tr>\n",
       "      <th>0</th>\n",
       "      <td>2019-03-07</td>\n",
       "      <td>2019</td>\n",
       "    </tr>\n",
       "    <tr>\n",
       "      <th>1</th>\n",
       "      <td>2018-12-04</td>\n",
       "      <td>2018</td>\n",
       "    </tr>\n",
       "    <tr>\n",
       "      <th>2</th>\n",
       "      <td>2015-08-20</td>\n",
       "      <td>2015</td>\n",
       "    </tr>\n",
       "    <tr>\n",
       "      <th>3</th>\n",
       "      <td>2015-07-24</td>\n",
       "      <td>2015</td>\n",
       "    </tr>\n",
       "    <tr>\n",
       "      <th>4</th>\n",
       "      <td>2018-06-19</td>\n",
       "      <td>2018</td>\n",
       "    </tr>\n",
       "    <tr>\n",
       "      <th>5</th>\n",
       "      <td>2018-09-10</td>\n",
       "      <td>2018</td>\n",
       "    </tr>\n",
       "    <tr>\n",
       "      <th>6</th>\n",
       "      <td>2017-11-02</td>\n",
       "      <td>2017</td>\n",
       "    </tr>\n",
       "    <tr>\n",
       "      <th>7</th>\n",
       "      <td>2019-04-18</td>\n",
       "      <td>2019</td>\n",
       "    </tr>\n",
       "    <tr>\n",
       "      <th>8</th>\n",
       "      <td>2018-05-23</td>\n",
       "      <td>2018</td>\n",
       "    </tr>\n",
       "    <tr>\n",
       "      <th>9</th>\n",
       "      <td>2017-02-26</td>\n",
       "      <td>2017</td>\n",
       "    </tr>\n",
       "  </tbody>\n",
       "</table>\n",
       "</div>"
      ],
      "text/plain": [
       "  first_day_exposition  year\n",
       "0           2019-03-07  2019\n",
       "1           2018-12-04  2018\n",
       "2           2015-08-20  2015\n",
       "3           2015-07-24  2015\n",
       "4           2018-06-19  2018\n",
       "5           2018-09-10  2018\n",
       "6           2017-11-02  2017\n",
       "7           2019-04-18  2019\n",
       "8           2018-05-23  2018\n",
       "9           2017-02-26  2017"
      ]
     },
     "execution_count": 40,
     "metadata": {},
     "output_type": "execute_result"
    }
   ],
   "source": [
    "data['year'] = data['first_day_exposition'].dt.year\n",
    "data[['first_day_exposition', 'year']].head(10)"
   ]
  },
  {
   "cell_type": "markdown",
   "metadata": {},
   "source": [
    "### Тип этажа квартиры."
   ]
  },
  {
   "cell_type": "code",
   "execution_count": 41,
   "metadata": {},
   "outputs": [],
   "source": [
    "def floors_fun(row):\n",
    "    floors_total = row['floors_total']\n",
    "    floor  = row['floor']\n",
    "    \n",
    "    try: \n",
    "        if floors_total == floor:\n",
    "            return 'последний'\n",
    "        elif floor == 1:\n",
    "            return 'первый'\n",
    "        else:\n",
    "            return 'другой'\n",
    "    except:\n",
    "        return 'недостаточно данных'"
   ]
  },
  {
   "cell_type": "code",
   "execution_count": 42,
   "metadata": {},
   "outputs": [
    {
     "data": {
      "text/html": [
       "<div>\n",
       "<style scoped>\n",
       "    .dataframe tbody tr th:only-of-type {\n",
       "        vertical-align: middle;\n",
       "    }\n",
       "\n",
       "    .dataframe tbody tr th {\n",
       "        vertical-align: top;\n",
       "    }\n",
       "\n",
       "    .dataframe thead th {\n",
       "        text-align: right;\n",
       "    }\n",
       "</style>\n",
       "<table border=\"1\" class=\"dataframe\">\n",
       "  <thead>\n",
       "    <tr style=\"text-align: right;\">\n",
       "      <th></th>\n",
       "      <th>floor</th>\n",
       "      <th>floors_total</th>\n",
       "      <th>floor_tipy</th>\n",
       "    </tr>\n",
       "  </thead>\n",
       "  <tbody>\n",
       "    <tr>\n",
       "      <th>0</th>\n",
       "      <td>8</td>\n",
       "      <td>16</td>\n",
       "      <td>другой</td>\n",
       "    </tr>\n",
       "    <tr>\n",
       "      <th>1</th>\n",
       "      <td>1</td>\n",
       "      <td>11</td>\n",
       "      <td>первый</td>\n",
       "    </tr>\n",
       "    <tr>\n",
       "      <th>2</th>\n",
       "      <td>4</td>\n",
       "      <td>5</td>\n",
       "      <td>другой</td>\n",
       "    </tr>\n",
       "    <tr>\n",
       "      <th>3</th>\n",
       "      <td>9</td>\n",
       "      <td>14</td>\n",
       "      <td>другой</td>\n",
       "    </tr>\n",
       "    <tr>\n",
       "      <th>4</th>\n",
       "      <td>13</td>\n",
       "      <td>14</td>\n",
       "      <td>другой</td>\n",
       "    </tr>\n",
       "    <tr>\n",
       "      <th>5</th>\n",
       "      <td>5</td>\n",
       "      <td>12</td>\n",
       "      <td>другой</td>\n",
       "    </tr>\n",
       "    <tr>\n",
       "      <th>6</th>\n",
       "      <td>6</td>\n",
       "      <td>26</td>\n",
       "      <td>другой</td>\n",
       "    </tr>\n",
       "    <tr>\n",
       "      <th>7</th>\n",
       "      <td>22</td>\n",
       "      <td>24</td>\n",
       "      <td>другой</td>\n",
       "    </tr>\n",
       "    <tr>\n",
       "      <th>8</th>\n",
       "      <td>26</td>\n",
       "      <td>27</td>\n",
       "      <td>другой</td>\n",
       "    </tr>\n",
       "    <tr>\n",
       "      <th>9</th>\n",
       "      <td>7</td>\n",
       "      <td>9</td>\n",
       "      <td>другой</td>\n",
       "    </tr>\n",
       "    <tr>\n",
       "      <th>10</th>\n",
       "      <td>3</td>\n",
       "      <td>12</td>\n",
       "      <td>другой</td>\n",
       "    </tr>\n",
       "    <tr>\n",
       "      <th>11</th>\n",
       "      <td>4</td>\n",
       "      <td>5</td>\n",
       "      <td>другой</td>\n",
       "    </tr>\n",
       "    <tr>\n",
       "      <th>12</th>\n",
       "      <td>5</td>\n",
       "      <td>5</td>\n",
       "      <td>последний</td>\n",
       "    </tr>\n",
       "    <tr>\n",
       "      <th>13</th>\n",
       "      <td>5</td>\n",
       "      <td>5</td>\n",
       "      <td>последний</td>\n",
       "    </tr>\n",
       "    <tr>\n",
       "      <th>14</th>\n",
       "      <td>1</td>\n",
       "      <td>6</td>\n",
       "      <td>первый</td>\n",
       "    </tr>\n",
       "  </tbody>\n",
       "</table>\n",
       "</div>"
      ],
      "text/plain": [
       "    floor  floors_total floor_tipy\n",
       "0       8            16     другой\n",
       "1       1            11     первый\n",
       "2       4             5     другой\n",
       "3       9            14     другой\n",
       "4      13            14     другой\n",
       "5       5            12     другой\n",
       "6       6            26     другой\n",
       "7      22            24     другой\n",
       "8      26            27     другой\n",
       "9       7             9     другой\n",
       "10      3            12     другой\n",
       "11      4             5     другой\n",
       "12      5             5  последний\n",
       "13      5             5  последний\n",
       "14      1             6     первый"
      ]
     },
     "execution_count": 42,
     "metadata": {},
     "output_type": "execute_result"
    }
   ],
   "source": [
    "data['floor_tipy'] = data.apply(floors_fun, axis=1)\n",
    "data[['floor','floors_total','floor_tipy']].head(15)"
   ]
  },
  {
   "cell_type": "markdown",
   "metadata": {},
   "source": [
    "### Растояние до центра города в километрах"
   ]
  },
  {
   "cell_type": "code",
   "execution_count": 43,
   "metadata": {},
   "outputs": [],
   "source": [
    "def cityCenters_nearest_fun(row):\n",
    "    cityCenters = row['cityCenters_nearest']\n",
    "    \n",
    "    try:\n",
    "        return int(cityCenters / 1000)\n",
    "    except:\n",
    "        return 'недостаточно данных'"
   ]
  },
  {
   "cell_type": "code",
   "execution_count": 44,
   "metadata": {},
   "outputs": [
    {
     "data": {
      "text/html": [
       "<div>\n",
       "<style scoped>\n",
       "    .dataframe tbody tr th:only-of-type {\n",
       "        vertical-align: middle;\n",
       "    }\n",
       "\n",
       "    .dataframe tbody tr th {\n",
       "        vertical-align: top;\n",
       "    }\n",
       "\n",
       "    .dataframe thead th {\n",
       "        text-align: right;\n",
       "    }\n",
       "</style>\n",
       "<table border=\"1\" class=\"dataframe\">\n",
       "  <thead>\n",
       "    <tr style=\"text-align: right;\">\n",
       "      <th></th>\n",
       "      <th>cityCenters_nearest</th>\n",
       "      <th>cityCenters_nearest_km</th>\n",
       "    </tr>\n",
       "  </thead>\n",
       "  <tbody>\n",
       "    <tr>\n",
       "      <th>0</th>\n",
       "      <td>16028.0</td>\n",
       "      <td>16</td>\n",
       "    </tr>\n",
       "    <tr>\n",
       "      <th>1</th>\n",
       "      <td>18603.0</td>\n",
       "      <td>18</td>\n",
       "    </tr>\n",
       "    <tr>\n",
       "      <th>2</th>\n",
       "      <td>13933.0</td>\n",
       "      <td>13</td>\n",
       "    </tr>\n",
       "    <tr>\n",
       "      <th>3</th>\n",
       "      <td>6800.0</td>\n",
       "      <td>6</td>\n",
       "    </tr>\n",
       "    <tr>\n",
       "      <th>4</th>\n",
       "      <td>8098.0</td>\n",
       "      <td>8</td>\n",
       "    </tr>\n",
       "    <tr>\n",
       "      <th>5</th>\n",
       "      <td>NaN</td>\n",
       "      <td>недостаточно данных</td>\n",
       "    </tr>\n",
       "    <tr>\n",
       "      <th>6</th>\n",
       "      <td>19143.0</td>\n",
       "      <td>19</td>\n",
       "    </tr>\n",
       "    <tr>\n",
       "      <th>7</th>\n",
       "      <td>11634.0</td>\n",
       "      <td>11</td>\n",
       "    </tr>\n",
       "    <tr>\n",
       "      <th>8</th>\n",
       "      <td>NaN</td>\n",
       "      <td>недостаточно данных</td>\n",
       "    </tr>\n",
       "    <tr>\n",
       "      <th>9</th>\n",
       "      <td>15008.0</td>\n",
       "      <td>15</td>\n",
       "    </tr>\n",
       "  </tbody>\n",
       "</table>\n",
       "</div>"
      ],
      "text/plain": [
       "   cityCenters_nearest cityCenters_nearest_km\n",
       "0              16028.0                     16\n",
       "1              18603.0                     18\n",
       "2              13933.0                     13\n",
       "3               6800.0                      6\n",
       "4               8098.0                      8\n",
       "5                  NaN    недостаточно данных\n",
       "6              19143.0                     19\n",
       "7              11634.0                     11\n",
       "8                  NaN    недостаточно данных\n",
       "9              15008.0                     15"
      ]
     },
     "execution_count": 44,
     "metadata": {},
     "output_type": "execute_result"
    }
   ],
   "source": [
    "data['cityCenters_nearest_km'] = data.apply(cityCenters_nearest_fun, axis=1)\n",
    "data[['cityCenters_nearest','cityCenters_nearest_km']].head(10)"
   ]
  },
  {
   "cell_type": "code",
   "execution_count": 45,
   "metadata": {},
   "outputs": [
    {
     "name": "stdout",
     "output_type": "stream",
     "text": [
      "<class 'pandas.core.frame.DataFrame'>\n",
      "RangeIndex: 23560 entries, 0 to 23559\n",
      "Data columns (total 28 columns):\n",
      " #   Column                  Non-Null Count  Dtype         \n",
      "---  ------                  --------------  -----         \n",
      " 0   total_images            23560 non-null  int64         \n",
      " 1   last_price              23560 non-null  int64         \n",
      " 2   total_area              23560 non-null  float64       \n",
      " 3   first_day_exposition    23560 non-null  datetime64[ns]\n",
      " 4   rooms                   23560 non-null  int64         \n",
      " 5   ceiling_height          23483 non-null  float64       \n",
      " 6   floors_total            23560 non-null  int64         \n",
      " 7   living_area             23560 non-null  float64       \n",
      " 8   floor                   23560 non-null  int64         \n",
      " 9   is_apartment            23560 non-null  bool          \n",
      " 10  studio                  23560 non-null  bool          \n",
      " 11  open_plan               23560 non-null  bool          \n",
      " 12  kitchen_area            23560 non-null  float64       \n",
      " 13  balcony                 23560 non-null  int64         \n",
      " 14  locality_name           23560 non-null  object        \n",
      " 15  airports_nearest        18053 non-null  float64       \n",
      " 16  cityCenters_nearest     18073 non-null  float64       \n",
      " 17  parks_around3000        23560 non-null  int64         \n",
      " 18  parks_nearest           8031 non-null   float64       \n",
      " 19  ponds_around3000        23560 non-null  int64         \n",
      " 20  ponds_nearest           9028 non-null   float64       \n",
      " 21  days_exposition         23560 non-null  int64         \n",
      " 22  price_one_meter         23560 non-null  int64         \n",
      " 23  weekday                 23560 non-null  int64         \n",
      " 24  month                   23560 non-null  int64         \n",
      " 25  year                    23560 non-null  int64         \n",
      " 26  floor_tipy              23560 non-null  object        \n",
      " 27  cityCenters_nearest_km  23560 non-null  object        \n",
      "dtypes: bool(3), datetime64[ns](1), float64(8), int64(13), object(3)\n",
      "memory usage: 4.6+ MB\n"
     ]
    }
   ],
   "source": [
    "data.info()"
   ]
  },
  {
   "cell_type": "markdown",
   "metadata": {},
   "source": [
    "**Отлично! Мы добавили дополнительные параметры, которые помогут в дальнейшем лучше проанализировать харктеристики объектов.**"
   ]
  },
  {
   "cell_type": "markdown",
   "metadata": {},
   "source": [
    "## Проведите исследовательский анализ данных"
   ]
  },
  {
   "cell_type": "markdown",
   "metadata": {},
   "source": [
    "### Изучим следующие параметры объестов"
   ]
  },
  {
   "cell_type": "code",
   "execution_count": 46,
   "metadata": {},
   "outputs": [
    {
     "data": {
      "text/plain": [
       "array([[<AxesSubplot:title={'center':'total_area'}>,\n",
       "        <AxesSubplot:title={'center':'living_area'}>,\n",
       "        <AxesSubplot:title={'center':'kitchen_area'}>,\n",
       "        <AxesSubplot:title={'center':'last_price'}>],\n",
       "       [<AxesSubplot:title={'center':'rooms'}>,\n",
       "        <AxesSubplot:title={'center':'ceiling_height'}>,\n",
       "        <AxesSubplot:title={'center':'floor'}>,\n",
       "        <AxesSubplot:title={'center':'floors_total'}>],\n",
       "       [<AxesSubplot:title={'center':'cityCenters_nearest'}>,\n",
       "        <AxesSubplot:title={'center':'airports_nearest'}>,\n",
       "        <AxesSubplot:title={'center':'parks_nearest'}>,\n",
       "        <AxesSubplot:title={'center':'weekday'}>],\n",
       "       [<AxesSubplot:title={'center':'month'}>, <AxesSubplot:>,\n",
       "        <AxesSubplot:>, <AxesSubplot:>]], dtype=object)"
      ]
     },
     "execution_count": 46,
     "metadata": {},
     "output_type": "execute_result"
    },
    {
     "data": {
      "image/png": "[encoded data removed]",
      "text/plain": [
       "<Figure size 1080x1440 with 16 Axes>"
      ]
     },
     "metadata": {
      "needs_background": "light"
     },
     "output_type": "display_data"
    }
   ],
   "source": [
    "data[['total_area', 'living_area', 'kitchen_area', 'last_price', 'rooms', 'ceiling_height', \n",
    "      'floor', 'floor_tipy', 'floors_total', 'cityCenters_nearest', 'airports_nearest', \n",
    "      'parks_nearest', 'weekday', 'month']].hist(bins=30, figsize=(15, 20))\n"
   ]
  },
  {
   "cell_type": "markdown",
   "metadata": {},
   "source": [
    "У первых 5 гистограмм есть общая проблема ОЧЕНЬ ДОРОГИЕ И БОЛЬШИЕ КВАРТИРЫ. Поэтому построим их с ограничением по верхнемк значению."
   ]
  },
  {
   "cell_type": "code",
   "execution_count": 47,
   "metadata": {
    "scrolled": false
   },
   "outputs": [
    {
     "data": {
      "text/plain": [
       "<AxesSubplot:>"
      ]
     },
     "execution_count": 47,
     "metadata": {},
     "output_type": "execute_result"
    },
    {
     "data": {
      "image/png": "[encoded data removed]",
      "text/plain": [
       "<Figure size 720x360 with 1 Axes>"
      ]
     },
     "metadata": {
      "needs_background": "light"
     },
     "output_type": "display_data"
    }
   ],
   "source": [
    "data['total_area'].hist(bins=100, range=(0, 200),figsize=(10, 5))"
   ]
  },
  {
   "cell_type": "code",
   "execution_count": 48,
   "metadata": {},
   "outputs": [
    {
     "data": {
      "text/plain": [
       "count    23560.000000\n",
       "mean        60.206165\n",
       "std         35.065920\n",
       "min         12.000000\n",
       "25%         40.000000\n",
       "50%         52.000000\n",
       "75%         69.700000\n",
       "max        900.000000\n",
       "Name: total_area, dtype: float64"
      ]
     },
     "execution_count": 48,
     "metadata": {},
     "output_type": "execute_result"
    }
   ],
   "source": [
    "data['total_area'].describe()"
   ]
  },
  {
   "cell_type": "markdown",
   "metadata": {},
   "source": [
    "Самы распространённые квартиры площадь который от 30 до 45 (самые ходовые однушки) это первый пик. Второй пик находиться в диапазоне от 50 до 60 кв м (пошли в ход двушки)."
   ]
  },
  {
   "cell_type": "code",
   "execution_count": 49,
   "metadata": {},
   "outputs": [
    {
     "data": {
      "text/plain": [
       "<AxesSubplot:>"
      ]
     },
     "execution_count": 49,
     "metadata": {},
     "output_type": "execute_result"
    },
    {
     "data": {
      "image/png": "[encoded data removed]",
      "text/plain": [
       "<Figure size 720x360 with 1 Axes>"
      ]
     },
     "metadata": {
      "needs_background": "light"
     },
     "output_type": "display_data"
    }
   ],
   "source": [
    "data['living_area'].hist(bins=100, range=(0, 100), figsize=(10, 5))"
   ]
  },
  {
   "cell_type": "code",
   "execution_count": 50,
   "metadata": {},
   "outputs": [
    {
     "data": {
      "text/plain": [
       "count    23560.000000\n",
       "mean        34.203892\n",
       "std         21.325518\n",
       "min          2.000000\n",
       "25%         18.400000\n",
       "50%         30.300000\n",
       "75%         42.600000\n",
       "max        409.700000\n",
       "Name: living_area, dtype: float64"
      ]
     },
     "execution_count": 50,
     "metadata": {},
     "output_type": "execute_result"
    }
   ],
   "source": [
    "data['living_area'].describe()"
   ]
  },
  {
   "cell_type": "markdown",
   "metadata": {},
   "source": [
    "На данной гистограмме также видны 2 пика, но на этот раз они более выраженные. Первый пик и савый многочисленный от 15 до 19 кв м, далее резкий спад на 23 (можно объяснить, что самые многочисленные однушки с площадью 20-25 уже редкость, а для двушек, это ещё мало для жилой зоны). Второй пик от 27 до 35 уже является очень распространём для двухкомнатных квартирю. Можно выделить третий минипик 42-43 кв м. тут в ход пошли трёшки."
   ]
  },
  {
   "cell_type": "code",
   "execution_count": 51,
   "metadata": {},
   "outputs": [
    {
     "data": {
      "text/plain": [
       "<AxesSubplot:>"
      ]
     },
     "execution_count": 51,
     "metadata": {},
     "output_type": "execute_result"
    },
    {
     "data": {
      "image/png": "[encoded data removed]",
      "text/plain": [
       "<Figure size 720x360 with 1 Axes>"
      ]
     },
     "metadata": {
      "needs_background": "light"
     },
     "output_type": "display_data"
    }
   ],
   "source": [
    "data['kitchen_area'].hist(bins=50, range=(0, 50), figsize=(10, 5))"
   ]
  },
  {
   "cell_type": "code",
   "execution_count": 52,
   "metadata": {},
   "outputs": [
    {
     "data": {
      "text/plain": [
       "count    23560.000000\n",
       "mean        10.359500\n",
       "std          5.689028\n",
       "min          0.000000\n",
       "25%          7.200000\n",
       "50%          9.040000\n",
       "75%         11.500000\n",
       "max        112.000000\n",
       "Name: kitchen_area, dtype: float64"
      ]
     },
     "execution_count": 52,
     "metadata": {},
     "output_type": "execute_result"
    }
   ],
   "source": [
    "data['kitchen_area'].describe()"
   ]
  },
  {
   "cell_type": "markdown",
   "metadata": {},
   "source": [
    "Самые распространённые квартире в Лененградской области это 6, 8, 10 метров, далее 7, 9 кв м."
   ]
  },
  {
   "cell_type": "code",
   "execution_count": 53,
   "metadata": {},
   "outputs": [
    {
     "data": {
      "text/plain": [
       "<AxesSubplot:>"
      ]
     },
     "execution_count": 53,
     "metadata": {},
     "output_type": "execute_result"
    },
    {
     "data": {
      "image/png": "[encoded data removed]",
      "text/plain": [
       "<Figure size 720x360 with 1 Axes>"
      ]
     },
     "metadata": {
      "needs_background": "light"
     },
     "output_type": "display_data"
    }
   ],
   "source": [
    "data['last_price'].hist(bins=50, range=(0, 25000000), figsize=(10, 5))"
   ]
  },
  {
   "cell_type": "code",
   "execution_count": 54,
   "metadata": {},
   "outputs": [
    {
     "data": {
      "text/plain": [
       "count    2.356000e+04\n",
       "mean     6.498747e+06\n",
       "std      1.072941e+07\n",
       "min      1.219000e+04\n",
       "25%      3.400000e+06\n",
       "50%      4.650000e+06\n",
       "75%      6.758276e+06\n",
       "max      7.630000e+08\n",
       "Name: last_price, dtype: float64"
      ]
     },
     "execution_count": 54,
     "metadata": {},
     "output_type": "execute_result"
    }
   ],
   "source": [
    "data['last_price'].describe()"
   ]
  },
  {
   "cell_type": "markdown",
   "metadata": {},
   "source": [
    "Тут у нас представлено красивое распределение Пуасосна. Пик которого расположен на 3,5 миллионах (опять же среднее значение для однушки). Среднее значение 6,49 млн., медианное 4,65 млн."
   ]
  },
  {
   "cell_type": "code",
   "execution_count": 55,
   "metadata": {},
   "outputs": [
    {
     "data": {
      "text/plain": [
       "<AxesSubplot:>"
      ]
     },
     "execution_count": 55,
     "metadata": {},
     "output_type": "execute_result"
    },
    {
     "data": {
      "image/png": "[encoded data removed]",
      "text/plain": [
       "<Figure size 720x360 with 1 Axes>"
      ]
     },
     "metadata": {
      "needs_background": "light"
     },
     "output_type": "display_data"
    }
   ],
   "source": [
    "data['rooms'].hist(bins=10, range=(0, 10), figsize=(10, 5))"
   ]
  },
  {
   "cell_type": "code",
   "execution_count": 56,
   "metadata": {},
   "outputs": [
    {
     "data": {
      "text/plain": [
       "count    23560.000000\n",
       "mean         2.067784\n",
       "std          1.074632\n",
       "min          0.000000\n",
       "25%          1.000000\n",
       "50%          2.000000\n",
       "75%          3.000000\n",
       "max         19.000000\n",
       "Name: rooms, dtype: float64"
      ]
     },
     "execution_count": 56,
     "metadata": {},
     "output_type": "execute_result"
    }
   ],
   "source": [
    "data['rooms'].describe()"
   ]
  },
  {
   "cell_type": "markdown",
   "metadata": {},
   "source": [
    "На данной гистограмме наблюдаем, что однуже на самом деле не на много больше, чем двушек. Трёшка идет третей по попклярности, студии очень мало распространены их меньше, чем пятикомнатных квартир."
   ]
  },
  {
   "cell_type": "code",
   "execution_count": 57,
   "metadata": {},
   "outputs": [
    {
     "data": {
      "text/plain": [
       "<AxesSubplot:>"
      ]
     },
     "execution_count": 57,
     "metadata": {},
     "output_type": "execute_result"
    },
    {
     "data": {
      "image/png": "[encoded data removed]",
      "text/plain": [
       "<Figure size 720x360 with 1 Axes>"
      ]
     },
     "metadata": {
      "needs_background": "light"
     },
     "output_type": "display_data"
    }
   ],
   "source": [
    "data['ceiling_height'].hist(bins=100, range=(2.4, 4), figsize=(10, 5))"
   ]
  },
  {
   "cell_type": "code",
   "execution_count": 58,
   "metadata": {},
   "outputs": [
    {
     "data": {
      "text/plain": [
       "count    23483.000000\n",
       "mean         2.704891\n",
       "std          0.219533\n",
       "min          2.400000\n",
       "25%          2.550000\n",
       "50%          2.650000\n",
       "75%          2.750000\n",
       "max          4.000000\n",
       "Name: ceiling_height, dtype: float64"
      ]
     },
     "execution_count": 58,
     "metadata": {},
     "output_type": "execute_result"
    }
   ],
   "source": [
    "data['ceiling_height'].describe()"
   ]
  },
  {
   "cell_type": "markdown",
   "metadata": {},
   "source": [
    "Тут видны самы стандартвные значения потолков: 2,5; 2,55; 2,6; 2,7; 2,75; 2,8 и 3,0 метра. Реже уже 3,2 м."
   ]
  },
  {
   "cell_type": "code",
   "execution_count": 59,
   "metadata": {},
   "outputs": [
    {
     "data": {
      "text/plain": [
       "<AxesSubplot:>"
      ]
     },
     "execution_count": 59,
     "metadata": {},
     "output_type": "execute_result"
    },
    {
     "data": {
      "image/png": "[encoded data removed]",
      "text/plain": [
       "<Figure size 720x360 with 1 Axes>"
      ]
     },
     "metadata": {
      "needs_background": "light"
     },
     "output_type": "display_data"
    }
   ],
   "source": [
    "data['floor'].hist(bins=31, range=(1, 31), figsize=(10, 5))"
   ]
  },
  {
   "cell_type": "code",
   "execution_count": 60,
   "metadata": {},
   "outputs": [
    {
     "data": {
      "text/plain": [
       "count    23560.000000\n",
       "mean         5.883447\n",
       "std          4.860086\n",
       "min          1.000000\n",
       "25%          2.000000\n",
       "50%          4.000000\n",
       "75%          8.000000\n",
       "max         27.000000\n",
       "Name: floor, dtype: float64"
      ]
     },
     "execution_count": 60,
     "metadata": {},
     "output_type": "execute_result"
    }
   ],
   "source": [
    "data['floor'].describe()"
   ]
  },
  {
   "cell_type": "markdown",
   "metadata": {},
   "source": [
    "Чаще всего продают квартиры на 1 - 5 этажах, чаще всего ан 2, это объясняется, что много 5-этажных домов. Гистограмма имеет ступенчатый характер. 1-5, 6-9 и от 10 этажа."
   ]
  },
  {
   "cell_type": "code",
   "execution_count": 61,
   "metadata": {},
   "outputs": [
    {
     "data": {
      "text/plain": [
       "<AxesSubplot:>"
      ]
     },
     "execution_count": 61,
     "metadata": {},
     "output_type": "execute_result"
    },
    {
     "data": {
      "image/png": "[encoded data removed]",
      "text/plain": [
       "<Figure size 720x360 with 1 Axes>"
      ]
     },
     "metadata": {
      "needs_background": "light"
     },
     "output_type": "display_data"
    }
   ],
   "source": [
    "data['floor_tipy'].hist(bins=5, figsize=(10, 5))"
   ]
  },
  {
   "cell_type": "markdown",
   "metadata": {},
   "source": [
    "Закономерно, что первых и последних квартир гораздо меньше, чем остальных. Однако квартир на последнем этаже было продано немного больше, чем на первом."
   ]
  },
  {
   "cell_type": "code",
   "execution_count": 62,
   "metadata": {},
   "outputs": [
    {
     "data": {
      "text/plain": [
       "<AxesSubplot:>"
      ]
     },
     "execution_count": 62,
     "metadata": {},
     "output_type": "execute_result"
    },
    {
     "data": {
      "image/png": "[encoded data removed]",
      "text/plain": [
       "<Figure size 720x360 with 1 Axes>"
      ]
     },
     "metadata": {
      "needs_background": "light"
     },
     "output_type": "display_data"
    }
   ],
   "source": [
    "data['floors_total'].hist(bins=31, range=(1, 31), figsize=(10, 5))"
   ]
  },
  {
   "cell_type": "code",
   "execution_count": 63,
   "metadata": {},
   "outputs": [
    {
     "data": {
      "text/plain": [
       "count    23560.000000\n",
       "mean        10.617699\n",
       "std          6.552215\n",
       "min          0.000000\n",
       "25%          5.000000\n",
       "50%          9.000000\n",
       "75%         16.000000\n",
       "max         29.000000\n",
       "Name: floors_total, dtype: float64"
      ]
     },
     "execution_count": 63,
     "metadata": {},
     "output_type": "execute_result"
    }
   ],
   "source": [
    "data['floors_total'].describe()"
   ]
  },
  {
   "cell_type": "markdown",
   "metadata": {},
   "source": [
    "Больше всего 5, 9, 12, 16, 24 этажных зданий. Как раз это и есть ступена на гистограмме этажа квартир."
   ]
  },
  {
   "cell_type": "code",
   "execution_count": 64,
   "metadata": {},
   "outputs": [
    {
     "data": {
      "text/plain": [
       "<AxesSubplot:>"
      ]
     },
     "execution_count": 64,
     "metadata": {},
     "output_type": "execute_result"
    },
    {
     "data": {
      "image/png": "[encoded data removed]",
      "text/plain": [
       "<Figure size 720x360 with 1 Axes>"
      ]
     },
     "metadata": {
      "needs_background": "light"
     },
     "output_type": "display_data"
    }
   ],
   "source": [
    "data['cityCenters_nearest'].hist(bins=60, range=(0, 60000), figsize=(10, 5))"
   ]
  },
  {
   "cell_type": "code",
   "execution_count": 65,
   "metadata": {},
   "outputs": [
    {
     "data": {
      "text/plain": [
       "count    18073.000000\n",
       "mean     14201.958446\n",
       "std       8608.940642\n",
       "min        181.000000\n",
       "25%       9253.000000\n",
       "50%      13104.000000\n",
       "75%      16293.000000\n",
       "max      65968.000000\n",
       "Name: cityCenters_nearest, dtype: float64"
      ]
     },
     "execution_count": 65,
     "metadata": {},
     "output_type": "execute_result"
    }
   ],
   "source": [
    "data['cityCenters_nearest'].describe()"
   ]
  },
  {
   "cell_type": "markdown",
   "metadata": {},
   "source": [
    "Больше всего было продано квартир на расстояние 11-16 км от центра города. Но есть и пик в 4 км."
   ]
  },
  {
   "cell_type": "code",
   "execution_count": 66,
   "metadata": {},
   "outputs": [
    {
     "data": {
      "text/plain": [
       "<AxesSubplot:>"
      ]
     },
     "execution_count": 66,
     "metadata": {},
     "output_type": "execute_result"
    },
    {
     "data": {
      "image/png": "[encoded data removed]",
      "text/plain": [
       "<Figure size 720x360 with 1 Axes>"
      ]
     },
     "metadata": {
      "needs_background": "light"
     },
     "output_type": "display_data"
    }
   ],
   "source": [
    "data['airports_nearest'].hist(bins=80, range=(0, 80000), figsize=(10, 5))"
   ]
  },
  {
   "cell_type": "code",
   "execution_count": 67,
   "metadata": {},
   "outputs": [
    {
     "data": {
      "text/plain": [
       "count    18053.000000\n",
       "mean     28824.359109\n",
       "std      12641.855427\n",
       "min          0.000000\n",
       "25%      18573.000000\n",
       "50%      26773.000000\n",
       "75%      37313.000000\n",
       "max      84869.000000\n",
       "Name: airports_nearest, dtype: float64"
      ]
     },
     "execution_count": 67,
     "metadata": {},
     "output_type": "execute_result"
    }
   ],
   "source": [
    "data['airports_nearest'].describe()"
   ]
  },
  {
   "cell_type": "markdown",
   "metadata": {},
   "source": [
    "Отметим, что в основном дома расположены на расстояние от 10км, это вполне логично, так как аэропорты строят подальше от жилых райнов из-за высокого уровня шума."
   ]
  },
  {
   "cell_type": "code",
   "execution_count": 68,
   "metadata": {},
   "outputs": [
    {
     "data": {
      "text/plain": [
       "<AxesSubplot:>"
      ]
     },
     "execution_count": 68,
     "metadata": {},
     "output_type": "execute_result"
    },
    {
     "data": {
      "image/png": "[encoded data removed]",
      "text/plain": [
       "<Figure size 720x360 with 1 Axes>"
      ]
     },
     "metadata": {
      "needs_background": "light"
     },
     "output_type": "display_data"
    }
   ],
   "source": [
    "data['parks_nearest'].hist(bins=60, range=(0, 3000), figsize=(10, 5))"
   ]
  },
  {
   "cell_type": "code",
   "execution_count": 69,
   "metadata": {},
   "outputs": [
    {
     "data": {
      "text/plain": [
       "count    8031.000000\n",
       "mean      490.868759\n",
       "std       342.860941\n",
       "min         1.000000\n",
       "25%       287.500000\n",
       "50%       454.000000\n",
       "75%       612.000000\n",
       "max      3190.000000\n",
       "Name: parks_nearest, dtype: float64"
      ]
     },
     "execution_count": 69,
     "metadata": {},
     "output_type": "execute_result"
    }
   ],
   "source": [
    "data['parks_nearest'].describe()"
   ]
  },
  {
   "cell_type": "markdown",
   "metadata": {},
   "source": [
    "С большой долей вероятность, если будете покупать квартиру в Питере на расстояние 700 метров будет хотябы 1 парк."
   ]
  },
  {
   "cell_type": "code",
   "execution_count": 70,
   "metadata": {},
   "outputs": [
    {
     "data": {
      "text/plain": [
       "<AxesSubplot:>"
      ]
     },
     "execution_count": 70,
     "metadata": {},
     "output_type": "execute_result"
    },
    {
     "data": {
      "image/png": "[encoded data removed]",
      "text/plain": [
       "<Figure size 720x360 with 1 Axes>"
      ]
     },
     "metadata": {
      "needs_background": "light"
     },
     "output_type": "display_data"
    }
   ],
   "source": [
    "data['weekday'].hist(bins=7, range=(0, 6), figsize=(10, 5))"
   ]
  },
  {
   "cell_type": "markdown",
   "metadata": {},
   "source": [
    "На данной гистограмме видно, что в выходные реже всего продавались квартиры. Чаще всего закрывалось объявление во вторник и в четверг."
   ]
  },
  {
   "cell_type": "code",
   "execution_count": 71,
   "metadata": {},
   "outputs": [
    {
     "data": {
      "text/plain": [
       "<AxesSubplot:>"
      ]
     },
     "execution_count": 71,
     "metadata": {},
     "output_type": "execute_result"
    },
    {
     "data": {
      "image/png": "[encoded data removed]",
      "text/plain": [
       "<Figure size 720x360 with 1 Axes>"
      ]
     },
     "metadata": {
      "needs_background": "light"
     },
     "output_type": "display_data"
    }
   ],
   "source": [
    "data['month'].hist(bins=12, range=(1, 12), figsize=(10, 5))"
   ]
  },
  {
   "cell_type": "markdown",
   "metadata": {},
   "source": [
    "В мае все едут на дачу! Иначе как объяснить, что значительный спад продаж наблюдается в мае. Также в декабре и в январе наблюдается локальный минимум продаж. Больше всего было продано с февраля по апрель."
   ]
  },
  {
   "cell_type": "markdown",
   "metadata": {},
   "source": [
    "### Рассмотрим как быстро продавлись квартиры"
   ]
  },
  {
   "cell_type": "markdown",
   "metadata": {},
   "source": [
    "#### Построим гистограмму"
   ]
  },
  {
   "cell_type": "code",
   "execution_count": 72,
   "metadata": {},
   "outputs": [
    {
     "data": {
      "text/plain": [
       "<AxesSubplot:>"
      ]
     },
     "execution_count": 72,
     "metadata": {},
     "output_type": "execute_result"
    },
    {
     "data": {
      "image/png": "[encoded data removed]",
      "text/plain": [
       "<Figure size 720x360 with 1 Axes>"
      ]
     },
     "metadata": {
      "needs_background": "light"
     },
     "output_type": "display_data"
    }
   ],
   "source": [
    "data['days_exposition'].hist(bins=160, figsize=(10, 5))"
   ]
  },
  {
   "cell_type": "markdown",
   "metadata": {},
   "source": [
    "#### Посчитаем среднее и медиану"
   ]
  },
  {
   "cell_type": "code",
   "execution_count": 73,
   "metadata": {
    "scrolled": true
   },
   "outputs": [
    {
     "data": {
      "text/plain": [
       "count    23560.000000\n",
       "mean       156.563073\n",
       "std        213.456312\n",
       "min          0.000000\n",
       "25%         22.000000\n",
       "50%         74.000000\n",
       "75%        198.250000\n",
       "max       1580.000000\n",
       "Name: days_exposition, dtype: float64"
      ]
     },
     "execution_count": 73,
     "metadata": {},
     "output_type": "execute_result"
    }
   ],
   "source": [
    "data['days_exposition'].describe()"
   ]
  },
  {
   "cell_type": "markdown",
   "metadata": {},
   "source": [
    "#### Быстрые и медленные продажи"
   ]
  },
  {
   "cell_type": "markdown",
   "metadata": {},
   "source": [
    "Ориентируясь на медианное значение, обычно продажа объекта проходит за 74 дня.\n",
    "Будем считать, что первая четверь всех продаж будут быстрыми, а последние 25% всех продаж медленными. \n",
    "Тогда продажа до 22 дней считаем быстрыми, а продажа больше 198 дней долгими."
   ]
  },
  {
   "cell_type": "markdown",
   "metadata": {},
   "source": [
    "### Факторы, которые больше всего влияют на общую стоимость объекта"
   ]
  },
  {
   "cell_type": "markdown",
   "metadata": {},
   "source": [
    "#### Зависимость цены от общей площади"
   ]
  },
  {
   "cell_type": "code",
   "execution_count": 74,
   "metadata": {},
   "outputs": [
    {
     "data": {
      "text/plain": [
       "<AxesSubplot:xlabel='last_price', ylabel='total_area'>"
      ]
     },
     "execution_count": 74,
     "metadata": {},
     "output_type": "execute_result"
    },
    {
     "data": {
      "image/png": "[encoded data removed]",
      "text/plain": [
       "<Figure size 432x288 with 1 Axes>"
      ]
     },
     "metadata": {
      "needs_background": "light"
     },
     "output_type": "display_data"
    }
   ],
   "source": [
    "data.plot(x='last_price', y='total_area', kind='scatter')"
   ]
  },
  {
   "cell_type": "code",
   "execution_count": 75,
   "metadata": {},
   "outputs": [
    {
     "data": {
      "text/plain": [
       "0.6468064809681063"
      ]
     },
     "execution_count": 75,
     "metadata": {},
     "output_type": "execute_result"
    }
   ],
   "source": [
    "data['last_price'].corr(data['total_area'])"
   ]
  },
  {
   "cell_type": "markdown",
   "metadata": {},
   "source": [
    "Кореляция 0,65. Зависимость есть и в большинсвте соучаев увеличения площади приводит к увеличению стоимости, но есть и исключения."
   ]
  },
  {
   "cell_type": "markdown",
   "metadata": {},
   "source": [
    "#### Зависимость цены от жилой площади"
   ]
  },
  {
   "cell_type": "code",
   "execution_count": 76,
   "metadata": {},
   "outputs": [
    {
     "data": {
      "text/plain": [
       "<AxesSubplot:xlabel='last_price', ylabel='living_area'>"
      ]
     },
     "execution_count": 76,
     "metadata": {},
     "output_type": "execute_result"
    },
    {
     "data": {
      "image/png": "[encoded data removed]",
      "text/plain": [
       "<Figure size 432x288 with 1 Axes>"
      ]
     },
     "metadata": {
      "needs_background": "light"
     },
     "output_type": "display_data"
    }
   ],
   "source": [
    "data.plot(x='last_price', y='living_area', kind='scatter')"
   ]
  },
  {
   "cell_type": "code",
   "execution_count": 77,
   "metadata": {},
   "outputs": [
    {
     "data": {
      "text/plain": [
       "0.5467171688399562"
      ]
     },
     "execution_count": 77,
     "metadata": {},
     "output_type": "execute_result"
    }
   ],
   "source": [
    "data['last_price'].corr(data['living_area'])"
   ]
  },
  {
   "cell_type": "markdown",
   "metadata": {},
   "source": [
    "Кореляция 0,55. Зависимость также положительная, но меньше, чем от полной площади."
   ]
  },
  {
   "cell_type": "markdown",
   "metadata": {},
   "source": [
    "#### Зависимость цены от площади кухни"
   ]
  },
  {
   "cell_type": "code",
   "execution_count": 78,
   "metadata": {},
   "outputs": [
    {
     "data": {
      "text/plain": [
       "<AxesSubplot:xlabel='last_price', ylabel='kitchen_area'>"
      ]
     },
     "execution_count": 78,
     "metadata": {},
     "output_type": "execute_result"
    },
    {
     "data": {
      "image/png": "[encoded data removed]",
      "text/plain": [
       "<Figure size 432x288 with 1 Axes>"
      ]
     },
     "metadata": {
      "needs_background": "light"
     },
     "output_type": "display_data"
    }
   ],
   "source": [
    "data.plot(x='last_price', y='kitchen_area', kind='scatter')"
   ]
  },
  {
   "cell_type": "code",
   "execution_count": 79,
   "metadata": {},
   "outputs": [
    {
     "data": {
      "text/plain": [
       "0.44491064910870126"
      ]
     },
     "execution_count": 79,
     "metadata": {},
     "output_type": "execute_result"
    }
   ],
   "source": [
    "data['last_price'].corr(data['kitchen_area'])"
   ]
  },
  {
   "cell_type": "markdown",
   "metadata": {},
   "source": [
    "Кореляция ещё меньше, но также с увеличением площади кухни будет дороже стоить квартира."
   ]
  },
  {
   "cell_type": "markdown",
   "metadata": {},
   "source": [
    "#### Зависимость цены от количества комнат"
   ]
  },
  {
   "cell_type": "code",
   "execution_count": 80,
   "metadata": {},
   "outputs": [
    {
     "data": {
      "text/plain": [
       "<AxesSubplot:xlabel='last_price', ylabel='rooms'>"
      ]
     },
     "execution_count": 80,
     "metadata": {},
     "output_type": "execute_result"
    },
    {
     "data": {
      "image/png": "[encoded data removed]",
      "text/plain": [
       "<Figure size 432x288 with 1 Axes>"
      ]
     },
     "metadata": {
      "needs_background": "light"
     },
     "output_type": "display_data"
    }
   ],
   "source": [
    "data.plot(x='last_price', y='rooms', kind='scatter')"
   ]
  },
  {
   "cell_type": "code",
   "execution_count": 81,
   "metadata": {},
   "outputs": [
    {
     "data": {
      "text/plain": [
       "0.3598671833647576"
      ]
     },
     "execution_count": 81,
     "metadata": {},
     "output_type": "execute_result"
    }
   ],
   "source": [
    "data['last_price'].corr(data['rooms'])"
   ]
  },
  {
   "cell_type": "markdown",
   "metadata": {},
   "source": [
    "Кореляция 0,36, есть небольшая положительная зависимость."
   ]
  },
  {
   "cell_type": "markdown",
   "metadata": {},
   "source": [
    "#### Зависимость цены от этажа квартиры"
   ]
  },
  {
   "cell_type": "code",
   "execution_count": 82,
   "metadata": {},
   "outputs": [
    {
     "data": {
      "text/plain": [
       "<AxesSubplot:xlabel='last_price', ylabel='floor_tipy'>"
      ]
     },
     "execution_count": 82,
     "metadata": {},
     "output_type": "execute_result"
    },
    {
     "data": {
      "image/png": "[encoded data removed]",
      "text/plain": [
       "<Figure size 432x288 with 1 Axes>"
      ]
     },
     "metadata": {
      "needs_background": "light"
     },
     "output_type": "display_data"
    }
   ],
   "source": [
    "data.plot(x='last_price', y='floor_tipy', kind='scatter')"
   ]
  },
  {
   "cell_type": "code",
   "execution_count": 83,
   "metadata": {},
   "outputs": [
    {
     "data": {
      "text/plain": [
       "count    3.329000e+03\n",
       "mean     7.100982e+06\n",
       "std      2.018560e+07\n",
       "min      1.219000e+04\n",
       "25%      2.990000e+06\n",
       "50%      4.300000e+06\n",
       "75%      6.650000e+06\n",
       "max      7.630000e+08\n",
       "Name: last_price, dtype: float64"
      ]
     },
     "execution_count": 83,
     "metadata": {},
     "output_type": "execute_result"
    }
   ],
   "source": [
    "data[data['floor_tipy'] == 'последний']['last_price'].describe()"
   ]
  },
  {
   "cell_type": "code",
   "execution_count": 84,
   "metadata": {},
   "outputs": [
    {
     "data": {
      "text/plain": [
       "count    2.872000e+03\n",
       "mean     4.826694e+06\n",
       "std      5.119746e+06\n",
       "min      4.300000e+05\n",
       "25%      2.800000e+06\n",
       "50%      3.900000e+06\n",
       "75%      5.412500e+06\n",
       "max      1.350000e+08\n",
       "Name: last_price, dtype: float64"
      ]
     },
     "execution_count": 84,
     "metadata": {},
     "output_type": "execute_result"
    }
   ],
   "source": [
    "data[data['floor_tipy'] == 'первый']['last_price'].describe()"
   ]
  },
  {
   "cell_type": "code",
   "execution_count": 85,
   "metadata": {},
   "outputs": [
    {
     "data": {
      "text/plain": [
       "count    1.735900e+04\n",
       "mean     6.659892e+06\n",
       "std      8.557539e+06\n",
       "min      4.500000e+05\n",
       "25%      3.600000e+06\n",
       "50%      4.847000e+06\n",
       "75%      6.999000e+06\n",
       "max      3.300000e+08\n",
       "Name: last_price, dtype: float64"
      ]
     },
     "execution_count": 85,
     "metadata": {},
     "output_type": "execute_result"
    }
   ],
   "source": [
    "data[data['floor_tipy'] == 'другой']['last_price'].describe()"
   ]
  },
  {
   "cell_type": "markdown",
   "metadata": {},
   "source": [
    "Первые и последние этажи оказались в среднем более дорогими (странно у застройщика первые и последние этажи стоят на чуть-чуть, но дешевле). "
   ]
  },
  {
   "cell_type": "markdown",
   "metadata": {},
   "source": [
    "#### Зависимость цены от даты размещения"
   ]
  },
  {
   "cell_type": "code",
   "execution_count": 86,
   "metadata": {},
   "outputs": [
    {
     "data": {
      "text/plain": [
       "<AxesSubplot:xlabel='weekday', ylabel='last_price'>"
      ]
     },
     "execution_count": 86,
     "metadata": {},
     "output_type": "execute_result"
    },
    {
     "data": {
      "image/png": "[encoded data removed]",
      "text/plain": [
       "<Figure size 432x288 with 1 Axes>"
      ]
     },
     "metadata": {
      "needs_background": "light"
     },
     "output_type": "display_data"
    }
   ],
   "source": [
    "data.plot(y='last_price', x='weekday', kind='scatter')"
   ]
  },
  {
   "cell_type": "code",
   "execution_count": 87,
   "metadata": {},
   "outputs": [
    {
     "data": {
      "text/plain": [
       "<AxesSubplot:xlabel='weekday'>"
      ]
     },
     "execution_count": 87,
     "metadata": {},
     "output_type": "execute_result"
    },
    {
     "data": {
      "image/png": "[encoded data removed]",
      "text/plain": [
       "<Figure size 432x288 with 1 Axes>"
      ]
     },
     "metadata": {
      "needs_background": "light"
     },
     "output_type": "display_data"
    }
   ],
   "source": [
    "weekday_median = []\n",
    "weekday = range(7)\n",
    "for i in range(7):\n",
    "    weekday_median.append(data[data['weekday'] == i]['last_price'].median())\n",
    "weekday_median_data = pd.DataFrame({'weekday_median': weekday_median, 'weekday': weekday})\n",
    "weekday_median_data.plot(x='weekday', y='weekday_median', style='o-')"
   ]
  },
  {
   "cell_type": "markdown",
   "metadata": {},
   "source": [
    "Медианная стоимость квартир больше всего была во вторник и седу, а в пятницу, субботу и воскресенье она минимальна."
   ]
  },
  {
   "cell_type": "code",
   "execution_count": 88,
   "metadata": {},
   "outputs": [
    {
     "data": {
      "text/plain": [
       "<AxesSubplot:xlabel='month', ylabel='last_price'>"
      ]
     },
     "execution_count": 88,
     "metadata": {},
     "output_type": "execute_result"
    },
    {
     "data": {
      "image/png": "[encoded data removed]",
      "text/plain": [
       "<Figure size 432x288 with 1 Axes>"
      ]
     },
     "metadata": {
      "needs_background": "light"
     },
     "output_type": "display_data"
    }
   ],
   "source": [
    "data.plot(y='last_price', x='month', kind='scatter')"
   ]
  },
  {
   "cell_type": "code",
   "execution_count": 89,
   "metadata": {},
   "outputs": [
    {
     "data": {
      "text/plain": [
       "<AxesSubplot:xlabel='month'>"
      ]
     },
     "execution_count": 89,
     "metadata": {},
     "output_type": "execute_result"
    },
    {
     "data": {
      "image/png": "[encoded data removed]",
      "text/plain": [
       "<Figure size 432x288 with 1 Axes>"
      ]
     },
     "metadata": {
      "needs_background": "light"
     },
     "output_type": "display_data"
    }
   ],
   "source": [
    "month_median = []\n",
    "month = range(1,13)\n",
    "for i in range(1,13):\n",
    "    month_median.append(data[data['month'] == i]['last_price'].median())\n",
    "month_median_data = pd.DataFrame({'month_median': month_median, 'month': month})\n",
    "month_median_data.plot(x='month', y='month_median', style='o-')"
   ]
  },
  {
   "cell_type": "markdown",
   "metadata": {},
   "source": [
    "Медианная стоимость квартир больше всего была в апреле и декбре, а минимальная в апреле и мае."
   ]
  },
  {
   "cell_type": "code",
   "execution_count": 90,
   "metadata": {},
   "outputs": [
    {
     "data": {
      "text/plain": [
       "<AxesSubplot:xlabel='year', ylabel='last_price'>"
      ]
     },
     "execution_count": 90,
     "metadata": {},
     "output_type": "execute_result"
    },
    {
     "data": {
      "image/png": "[encoded data removed]",
      "text/plain": [
       "<Figure size 432x288 with 1 Axes>"
      ]
     },
     "metadata": {
      "needs_background": "light"
     },
     "output_type": "display_data"
    }
   ],
   "source": [
    "data.plot(y='last_price', x='year', kind='scatter')"
   ]
  },
  {
   "cell_type": "code",
   "execution_count": 91,
   "metadata": {},
   "outputs": [
    {
     "data": {
      "text/plain": [
       "<AxesSubplot:xlabel='year'>"
      ]
     },
     "execution_count": 91,
     "metadata": {},
     "output_type": "execute_result"
    },
    {
     "data": {
      "image/png": "[encoded data removed]",
      "text/plain": [
       "<Figure size 432x288 with 1 Axes>"
      ]
     },
     "metadata": {
      "needs_background": "light"
     },
     "output_type": "display_data"
    }
   ],
   "source": [
    "year_median = []\n",
    "year = range(2014,2020)\n",
    "for i in range(2014,2020):\n",
    "    year_median.append(data[data['year'] == i]['last_price'].median())\n",
    "year_median_data = pd.DataFrame({'year_median': year_median, 'year': year})\n",
    "year_median_data.plot(x='year', y='year_median', style='o-')"
   ]
  },
  {
   "cell_type": "markdown",
   "metadata": {},
   "source": [
    "В 2014 году наблюдается очень высокое медианное значение стоимотси квартиры, потом резкий спад в 2015 и 2016 годах, после постепенный ускоряющийся рост цены. "
   ]
  },
  {
   "cell_type": "markdown",
   "metadata": {},
   "source": [
    "### Средняя цена одного квадратного метра в 10 населённых пунктах с наибольшим числом объявлений"
   ]
  },
  {
   "cell_type": "code",
   "execution_count": 92,
   "metadata": {
    "scrolled": true
   },
   "outputs": [
    {
     "data": {
      "text/html": [
       "<div>\n",
       "<style scoped>\n",
       "    .dataframe tbody tr th:only-of-type {\n",
       "        vertical-align: middle;\n",
       "    }\n",
       "\n",
       "    .dataframe tbody tr th {\n",
       "        vertical-align: top;\n",
       "    }\n",
       "\n",
       "    .dataframe thead tr th {\n",
       "        text-align: left;\n",
       "    }\n",
       "\n",
       "    .dataframe thead tr:last-of-type th {\n",
       "        text-align: right;\n",
       "    }\n",
       "</style>\n",
       "<table border=\"1\" class=\"dataframe\">\n",
       "  <thead>\n",
       "    <tr>\n",
       "      <th></th>\n",
       "      <th>mean</th>\n",
       "      <th>count</th>\n",
       "    </tr>\n",
       "    <tr>\n",
       "      <th></th>\n",
       "      <th>price_one_meter</th>\n",
       "      <th>price_one_meter</th>\n",
       "    </tr>\n",
       "    <tr>\n",
       "      <th>locality_name</th>\n",
       "      <th></th>\n",
       "      <th></th>\n",
       "    </tr>\n",
       "  </thead>\n",
       "  <tbody>\n",
       "    <tr>\n",
       "      <th>санкт-петербург</th>\n",
       "      <td>114635.765527</td>\n",
       "      <td>15618</td>\n",
       "    </tr>\n",
       "    <tr>\n",
       "      <th>поселок мурино</th>\n",
       "      <td>85666.317117</td>\n",
       "      <td>555</td>\n",
       "    </tr>\n",
       "    <tr>\n",
       "      <th>поселок шушары</th>\n",
       "      <td>78676.904545</td>\n",
       "      <td>440</td>\n",
       "    </tr>\n",
       "    <tr>\n",
       "      <th>всеволожск</th>\n",
       "      <td>68739.807107</td>\n",
       "      <td>394</td>\n",
       "    </tr>\n",
       "    <tr>\n",
       "      <th>пушкин</th>\n",
       "      <td>103057.915761</td>\n",
       "      <td>368</td>\n",
       "    </tr>\n",
       "    <tr>\n",
       "      <th>колпино</th>\n",
       "      <td>75424.150888</td>\n",
       "      <td>338</td>\n",
       "    </tr>\n",
       "    <tr>\n",
       "      <th>поселок парголово</th>\n",
       "      <td>90175.489297</td>\n",
       "      <td>327</td>\n",
       "    </tr>\n",
       "    <tr>\n",
       "      <th>гатчина</th>\n",
       "      <td>68745.693811</td>\n",
       "      <td>307</td>\n",
       "    </tr>\n",
       "    <tr>\n",
       "      <th>деревня кудрово</th>\n",
       "      <td>92473.086957</td>\n",
       "      <td>299</td>\n",
       "    </tr>\n",
       "    <tr>\n",
       "      <th>выборг</th>\n",
       "      <td>58189.709402</td>\n",
       "      <td>234</td>\n",
       "    </tr>\n",
       "  </tbody>\n",
       "</table>\n",
       "</div>"
      ],
      "text/plain": [
       "                             mean           count\n",
       "                  price_one_meter price_one_meter\n",
       "locality_name                                    \n",
       "санкт-петербург     114635.765527           15618\n",
       "поселок мурино       85666.317117             555\n",
       "поселок шушары       78676.904545             440\n",
       "всеволожск           68739.807107             394\n",
       "пушкин              103057.915761             368\n",
       "колпино              75424.150888             338\n",
       "поселок парголово    90175.489297             327\n",
       "гатчина              68745.693811             307\n",
       "деревня кудрово      92473.086957             299\n",
       "выборг               58189.709402             234"
      ]
     },
     "execution_count": 92,
     "metadata": {},
     "output_type": "execute_result"
    }
   ],
   "source": [
    "data_pivot = data.pivot_table(index='locality_name', values='price_one_meter', aggfunc=['mean','count'])\n",
    "data_pivot = data_pivot.sort_values(('count','price_one_meter'), ascending=False).head(10)\n",
    "data_pivot"
   ]
  },
  {
   "cell_type": "markdown",
   "metadata": {},
   "source": [
    "**Самая высокая стоимость квадратного метра.**"
   ]
  },
  {
   "cell_type": "code",
   "execution_count": 93,
   "metadata": {
    "scrolled": true
   },
   "outputs": [
    {
     "data": {
      "text/html": [
       "<div>\n",
       "<style scoped>\n",
       "    .dataframe tbody tr th:only-of-type {\n",
       "        vertical-align: middle;\n",
       "    }\n",
       "\n",
       "    .dataframe tbody tr th {\n",
       "        vertical-align: top;\n",
       "    }\n",
       "\n",
       "    .dataframe thead tr th {\n",
       "        text-align: left;\n",
       "    }\n",
       "\n",
       "    .dataframe thead tr:last-of-type th {\n",
       "        text-align: right;\n",
       "    }\n",
       "</style>\n",
       "<table border=\"1\" class=\"dataframe\">\n",
       "  <thead>\n",
       "    <tr>\n",
       "      <th></th>\n",
       "      <th>mean</th>\n",
       "      <th>count</th>\n",
       "    </tr>\n",
       "    <tr>\n",
       "      <th></th>\n",
       "      <th>price_one_meter</th>\n",
       "      <th>price_one_meter</th>\n",
       "    </tr>\n",
       "    <tr>\n",
       "      <th>locality_name</th>\n",
       "      <th></th>\n",
       "      <th></th>\n",
       "    </tr>\n",
       "  </thead>\n",
       "  <tbody>\n",
       "    <tr>\n",
       "      <th>санкт-петербург</th>\n",
       "      <td>114635.765527</td>\n",
       "      <td>15618</td>\n",
       "    </tr>\n",
       "  </tbody>\n",
       "</table>\n",
       "</div>"
      ],
      "text/plain": [
       "                           mean           count\n",
       "                price_one_meter price_one_meter\n",
       "locality_name                                  \n",
       "санкт-петербург   114635.765527           15618"
      ]
     },
     "execution_count": 93,
     "metadata": {},
     "output_type": "execute_result"
    }
   ],
   "source": [
    "data_pivot.sort_values(('mean','price_one_meter'), ascending=False).head(1)"
   ]
  },
  {
   "cell_type": "markdown",
   "metadata": {},
   "source": [
    "**Самая низкая стоимость квадратного метра.**"
   ]
  },
  {
   "cell_type": "code",
   "execution_count": 94,
   "metadata": {},
   "outputs": [
    {
     "data": {
      "text/html": [
       "<div>\n",
       "<style scoped>\n",
       "    .dataframe tbody tr th:only-of-type {\n",
       "        vertical-align: middle;\n",
       "    }\n",
       "\n",
       "    .dataframe tbody tr th {\n",
       "        vertical-align: top;\n",
       "    }\n",
       "\n",
       "    .dataframe thead tr th {\n",
       "        text-align: left;\n",
       "    }\n",
       "\n",
       "    .dataframe thead tr:last-of-type th {\n",
       "        text-align: right;\n",
       "    }\n",
       "</style>\n",
       "<table border=\"1\" class=\"dataframe\">\n",
       "  <thead>\n",
       "    <tr>\n",
       "      <th></th>\n",
       "      <th>mean</th>\n",
       "      <th>count</th>\n",
       "    </tr>\n",
       "    <tr>\n",
       "      <th></th>\n",
       "      <th>price_one_meter</th>\n",
       "      <th>price_one_meter</th>\n",
       "    </tr>\n",
       "    <tr>\n",
       "      <th>locality_name</th>\n",
       "      <th></th>\n",
       "      <th></th>\n",
       "    </tr>\n",
       "  </thead>\n",
       "  <tbody>\n",
       "    <tr>\n",
       "      <th>выборг</th>\n",
       "      <td>58189.709402</td>\n",
       "      <td>234</td>\n",
       "    </tr>\n",
       "  </tbody>\n",
       "</table>\n",
       "</div>"
      ],
      "text/plain": [
       "                         mean           count\n",
       "              price_one_meter price_one_meter\n",
       "locality_name                                \n",
       "выборг           58189.709402             234"
      ]
     },
     "execution_count": 94,
     "metadata": {},
     "output_type": "execute_result"
    }
   ],
   "source": [
    "data_pivot.sort_values(('mean','price_one_meter')).head(1)"
   ]
  },
  {
   "cell_type": "markdown",
   "metadata": {},
   "source": [
    "### Средняя цена объекта в  Санкт-Петербурге в зависимости от расстояния до центра города"
   ]
  },
  {
   "cell_type": "code",
   "execution_count": 95,
   "metadata": {},
   "outputs": [
    {
     "data": {
      "text/html": [
       "<div>\n",
       "<style scoped>\n",
       "    .dataframe tbody tr th:only-of-type {\n",
       "        vertical-align: middle;\n",
       "    }\n",
       "\n",
       "    .dataframe tbody tr th {\n",
       "        vertical-align: top;\n",
       "    }\n",
       "\n",
       "    .dataframe thead th {\n",
       "        text-align: right;\n",
       "    }\n",
       "</style>\n",
       "<table border=\"1\" class=\"dataframe\">\n",
       "  <thead>\n",
       "    <tr style=\"text-align: right;\">\n",
       "      <th></th>\n",
       "      <th>last_price</th>\n",
       "    </tr>\n",
       "    <tr>\n",
       "      <th>cityCenters_nearest_km</th>\n",
       "      <th></th>\n",
       "    </tr>\n",
       "  </thead>\n",
       "  <tbody>\n",
       "    <tr>\n",
       "      <th>0</th>\n",
       "      <td>2.372666e+07</td>\n",
       "    </tr>\n",
       "    <tr>\n",
       "      <th>1</th>\n",
       "      <td>1.848602e+07</td>\n",
       "    </tr>\n",
       "    <tr>\n",
       "      <th>2</th>\n",
       "      <td>1.616351e+07</td>\n",
       "    </tr>\n",
       "    <tr>\n",
       "      <th>3</th>\n",
       "      <td>1.346089e+07</td>\n",
       "    </tr>\n",
       "    <tr>\n",
       "      <th>4</th>\n",
       "      <td>1.331996e+07</td>\n",
       "    </tr>\n",
       "    <tr>\n",
       "      <th>5</th>\n",
       "      <td>1.482205e+07</td>\n",
       "    </tr>\n",
       "    <tr>\n",
       "      <th>6</th>\n",
       "      <td>1.412957e+07</td>\n",
       "    </tr>\n",
       "    <tr>\n",
       "      <th>7</th>\n",
       "      <td>1.279890e+07</td>\n",
       "    </tr>\n",
       "    <tr>\n",
       "      <th>8</th>\n",
       "      <td>8.442339e+06</td>\n",
       "    </tr>\n",
       "    <tr>\n",
       "      <th>9</th>\n",
       "      <td>6.431600e+06</td>\n",
       "    </tr>\n",
       "    <tr>\n",
       "      <th>10</th>\n",
       "      <td>6.380050e+06</td>\n",
       "    </tr>\n",
       "    <tr>\n",
       "      <th>11</th>\n",
       "      <td>5.981546e+06</td>\n",
       "    </tr>\n",
       "    <tr>\n",
       "      <th>12</th>\n",
       "      <td>5.977104e+06</td>\n",
       "    </tr>\n",
       "    <tr>\n",
       "      <th>13</th>\n",
       "      <td>6.026067e+06</td>\n",
       "    </tr>\n",
       "    <tr>\n",
       "      <th>14</th>\n",
       "      <td>5.772505e+06</td>\n",
       "    </tr>\n",
       "    <tr>\n",
       "      <th>15</th>\n",
       "      <td>5.548319e+06</td>\n",
       "    </tr>\n",
       "    <tr>\n",
       "      <th>16</th>\n",
       "      <td>5.527777e+06</td>\n",
       "    </tr>\n",
       "    <tr>\n",
       "      <th>17</th>\n",
       "      <td>4.866635e+06</td>\n",
       "    </tr>\n",
       "    <tr>\n",
       "      <th>18</th>\n",
       "      <td>5.334929e+06</td>\n",
       "    </tr>\n",
       "    <tr>\n",
       "      <th>19</th>\n",
       "      <td>4.678756e+06</td>\n",
       "    </tr>\n",
       "    <tr>\n",
       "      <th>20</th>\n",
       "      <td>6.124645e+06</td>\n",
       "    </tr>\n",
       "    <tr>\n",
       "      <th>21</th>\n",
       "      <td>5.183239e+06</td>\n",
       "    </tr>\n",
       "    <tr>\n",
       "      <th>22</th>\n",
       "      <td>5.425513e+06</td>\n",
       "    </tr>\n",
       "    <tr>\n",
       "      <th>23</th>\n",
       "      <td>4.126867e+06</td>\n",
       "    </tr>\n",
       "    <tr>\n",
       "      <th>24</th>\n",
       "      <td>3.862235e+06</td>\n",
       "    </tr>\n",
       "    <tr>\n",
       "      <th>25</th>\n",
       "      <td>4.014913e+06</td>\n",
       "    </tr>\n",
       "    <tr>\n",
       "      <th>26</th>\n",
       "      <td>3.575000e+06</td>\n",
       "    </tr>\n",
       "    <tr>\n",
       "      <th>27</th>\n",
       "      <td>8.300000e+06</td>\n",
       "    </tr>\n",
       "    <tr>\n",
       "      <th>28</th>\n",
       "      <td>4.910500e+06</td>\n",
       "    </tr>\n",
       "    <tr>\n",
       "      <th>29</th>\n",
       "      <td>3.833333e+06</td>\n",
       "    </tr>\n",
       "  </tbody>\n",
       "</table>\n",
       "</div>"
      ],
      "text/plain": [
       "                          last_price\n",
       "cityCenters_nearest_km              \n",
       "0                       2.372666e+07\n",
       "1                       1.848602e+07\n",
       "2                       1.616351e+07\n",
       "3                       1.346089e+07\n",
       "4                       1.331996e+07\n",
       "5                       1.482205e+07\n",
       "6                       1.412957e+07\n",
       "7                       1.279890e+07\n",
       "8                       8.442339e+06\n",
       "9                       6.431600e+06\n",
       "10                      6.380050e+06\n",
       "11                      5.981546e+06\n",
       "12                      5.977104e+06\n",
       "13                      6.026067e+06\n",
       "14                      5.772505e+06\n",
       "15                      5.548319e+06\n",
       "16                      5.527777e+06\n",
       "17                      4.866635e+06\n",
       "18                      5.334929e+06\n",
       "19                      4.678756e+06\n",
       "20                      6.124645e+06\n",
       "21                      5.183239e+06\n",
       "22                      5.425513e+06\n",
       "23                      4.126867e+06\n",
       "24                      3.862235e+06\n",
       "25                      4.014913e+06\n",
       "26                      3.575000e+06\n",
       "27                      8.300000e+06\n",
       "28                      4.910500e+06\n",
       "29                      3.833333e+06"
      ]
     },
     "execution_count": 95,
     "metadata": {},
     "output_type": "execute_result"
    }
   ],
   "source": [
    "data_cityCenters = data.query('\"санкт-петербург\" == locality_name and cityCenters_nearest_km != \"недостаточно данных\"')\n",
    "data_cityCenters_pivot = data_cityCenters.pivot_table(index='cityCenters_nearest_km', values='last_price')\n",
    "data_cityCenters_pivot"
   ]
  },
  {
   "cell_type": "code",
   "execution_count": 96,
   "metadata": {},
   "outputs": [
    {
     "data": {
      "text/plain": [
       "<AxesSubplot:xlabel='cityCenters_nearest_km'>"
      ]
     },
     "execution_count": 96,
     "metadata": {},
     "output_type": "execute_result"
    },
    {
     "data": {
      "image/png": "[encoded data removed]",
      "text/plain": [
       "<Figure size 864x360 with 1 Axes>"
      ]
     },
     "metadata": {
      "needs_background": "light"
     },
     "output_type": "display_data"
    }
   ],
   "source": [
    "data_cityCenters_pivot.plot(grid=True, figsize=(12, 5))"
   ]
  },
  {
   "cell_type": "markdown",
   "metadata": {},
   "source": [
    "После построения графика стоимости объекта от растояния до центра, мы можем увидеть, что с увеличением расстояния, средняя стоимость квартиры уменьшается. Резкое уменьшение стоимости происходит с 0 по 3 км и с 6 по 8. Есть небольшой провал в стоимости на расстоянии от 3 до 4 км, а на расстояние 26-28 км наблюдается скачок цен."
   ]
  },
  {
   "cell_type": "markdown",
   "metadata": {},
   "source": [
    "**Вот мы и рассмотрели параметры, которые влияют на стоимость квартир. Определили, какой срок продажи считается быстрым, а какой медленным. Выяснили, в каких населенных пунктах было больше продаж и где какая средняя стоимость квадратного метра жилья. И напоследок проследили зависимость стоимести объекта от расстояния до центра. После всего этого модем перейти к итоговым выводам.**"
   ]
  },
  {
   "cell_type": "markdown",
   "metadata": {},
   "source": [
    "## Общий вывод"
   ]
  },
  {
   "cell_type": "markdown",
   "metadata": {},
   "source": [
    "**Итак, рассмотрим всё, что мы сделали в данной работе:**\n",
    "1. В  первом пункте мы загрузили исходный датафрейм и посмотрели на его основные параметры через метод .info(). При чтение данных мы обратили внимание на разделитель в csv-файле (это была не \",\", а \"\\t\"). Построили гистограммы для каждого столбца таблицы.\n",
    "2. После во втором пункте мы определили, что в 14 столбцах есть пропущенные значения. Мы их изучили и решили заменить пустые клетки в 4 столбцах. Потом проанализировали типы данных в каждом столбце. После чего заменили типы данных там где результа всегда целый мы заменили на int, а столбец с датой снятия объявления мы перевели в тип datetime64. Мы не забыли проверить столбец с названием населённого пункта на неявные дубликаты. Выведя уникальные названия и отсортировав их было нетрудно заметить основную проблему - это буквы \"е\" и \"ё\", но помимо этого поселок рассписывали поразному (городской посёлок, городской поселок, поселок, посёлок, поселок городского типа, посёлок городского типа). Поэтому мы заменили всё, на единое название 'поселок'. После этого количество уникальных значений сократилось с 365 до 321. Далее мы обратили внимание на выбивающиеся значения в столбцах с площадью, высотой потолков, количеством этажей в доме и стоимоть квартир. Однако только столбцы: высота потолков и количество этажей, содержали странные значения, после чего мы их заменили, где могли, а остальные удалили.\n",
    "3. В 3 пунке мы добавили полезную информацию по нашим объектам. Цена за квадратный метр - это очень важный укрупленный параметр, который показывает насколько дорогая жилая площадь. Далее дату пудликации разбили на день недели, месяц и год (далее мы рассмотрим, как от этого зависили продажи квартир). Тип квартиры, тут решили посмотрель на песледние, первые и остальные этажи. И на последок добавили расстояние до центра округлив до киллометров.\n",
    "4. И наконец в 4 пункте мы приступили к исследователькому анализу. Выделим, что мы узнали:\n",
    "* Самы распространённые квартиры площадь который от 30 до 45 (самые ходовые однушки) это первый пик. Второй пик находиться в диапазоне от 50 до 60 кв м (пошли в ход двушки).\n",
    "* Гистограмма жилой зоны имеет 2 пика, но на этот раз они более выраженные. Первый пик и савый многочисленный от 15 до 19 кв м, далее резкий спад на 23 (можно объяснить, что самые многочисленные однушки с площадью 20-25 уже редкость, а для двушек, это ещё мало для жилой зоны). Второй пик от 27 до 35 уже является очень распространём для двухкомнатных квартирю. Можно выделить третий минипик 42-43 кв м. тут в ход пошли трёшки.\n",
    "* Самые распространённые квартире в Лененградской области это 6, 8, 10 метров, далее 7, 9 кв м.\n",
    "* Стоимость квартиры чаще всего была в районе 3,5 миллионов.\n",
    "* Однужек на самом деле не на много больше, чем двушек. Трёшка идет третей по попклярности, студии очень мало распространены их меньше, чем пятикомнатных квартир.\n",
    "* Самы стандартвные значения потолков: 2,5; 2,55; 2,6; 2,7; 2,75; 2,8 и 3,0 метра. Реже уже 3,2 м.\n",
    "* Чаще всего продают квартиры на 1 - 5 этажах, чаще всего ан 2, это объясняется, что много 5-этажных домов. Гистограмма имеет ступенчатый характер. 1-5, 6-9 и от 10 этажа.\n",
    "* Закономерно, что первых и последних квартир гораздо меньше, чем остальных. Однако квартир на последнем этаже было продано немного больше, чем на первом.\n",
    "* Больше всего 5, 9, 12, 16, 24 этажных зданий. Как раз это и есть ступена на гистограмме этажа квартир.\n",
    "* Больше всего было продано квартир на расстояние 11-16 км от центра города. Но есть и пик в 4 км.\n",
    "* Отметим, что в основном дома расположены на расстояние от 10км, это вполне логично, так как аэропорты строят подальше от жилых райнов из-за высокого уровня шума.\n",
    "* В выходные реже всего продавались квартиры. Чаще всего закрывалось объявление во вторник и в четверг.\n",
    "* В мае все едут на дачу! Иначе как объяснить, что значительный спад продаж наблюдается в мае. Также в декабре и в январе наблюдается локальный минимум продаж. Больше всего было продано с февраля по апрель.\n",
    "* Ориентируясь на медианное значение, обычно продажа объекта проходит за 74 дня. Будем считать, что первая четверь всех продаж будут быстрыми, а последние 25% всех продаж медленными. Тогда продажа до 22 дней считаем быстрыми, а продажа больше 198 дней долгими.\n",
    "* Зависимоть цены от площади больше всего у общей площади и меньше всего зависимость от площади кухни.\n",
    "* Зависимость цены от количества комнат - небольшая положительная.\n",
    "* Первые и последние этажи оказались в среднем более дорогими (странно у застройщика первые и последние этажи стоят на чуть-чуть, но дешевле).\n",
    "* Медианная стоимость квартир больше всего была во вторник и седу, а в пятницу, субботу и воскресенье она минимальна.\n",
    "* Медианная стоимость квартир больше всего была в апреле и декбре, а минимальная в апреле и мае.\n",
    "* В 2014 году наблюдается очень высокое медианное значение стоимотси квартиры, потом резкий спад в 2015 и 2016 годах, после постепенный ускоряющийся рост цены. \n",
    "* Самая высокая стоимость квадратного метра оуазалась в Санкт-Петербурге = 114621 р/м, а самая низкая в Выборге = 58190 р/м.\n",
    "* После построения графика стоимости объекта от растояния до центра, мы можем увидеть, что с увеличением расстояния, средняя стоимость квартиры уменьшается. Резкое уменьшение стоимости происходит с 0 по 3 км и с 6 по 8. Есть небольшой провал в стоимости на расстоянии от 3 до 4 км, а на расстояние 26-28 км наблюдается скачок цен.\n",
    "\n"
   ]
  }
 ],
 "metadata": {
  "ExecuteTimeLog": [
   {
    "duration": 484,
    "start_time": "2022-09-14T17:35:52.979Z"
   },
   {
    "duration": 712,
    "start_time": "2022-09-14T17:36:18.574Z"
   },
   {
    "duration": 88,
    "start_time": "2022-09-14T17:36:50.121Z"
   },
   {
    "duration": 88,
    "start_time": "2022-09-14T17:36:55.104Z"
   },
   {
    "duration": 109,
    "start_time": "2022-09-14T17:40:45.768Z"
   },
   {
    "duration": 14,
    "start_time": "2022-09-14T17:50:17.133Z"
   },
   {
    "duration": 781,
    "start_time": "2022-09-14T18:07:19.236Z"
   },
   {
    "duration": 327,
    "start_time": "2022-09-14T18:08:49.724Z"
   },
   {
    "duration": 107,
    "start_time": "2022-09-14T18:08:55.853Z"
   },
   {
    "duration": 14,
    "start_time": "2022-09-14T18:09:01.233Z"
   },
   {
    "duration": 375,
    "start_time": "2022-09-14T18:09:04.344Z"
   },
   {
    "duration": 223,
    "start_time": "2022-09-14T18:09:33.198Z"
   },
   {
    "duration": 133,
    "start_time": "2022-09-14T18:10:13.788Z"
   },
   {
    "duration": 21888,
    "start_time": "2022-09-14T18:12:55.595Z"
   },
   {
    "duration": 7,
    "start_time": "2022-09-14T18:13:19.570Z"
   },
   {
    "duration": 7,
    "start_time": "2022-09-14T18:13:24.580Z"
   },
   {
    "duration": 21640,
    "start_time": "2022-09-14T18:13:39.877Z"
   },
   {
    "duration": 40617,
    "start_time": "2022-09-14T18:28:46.897Z"
   },
   {
    "duration": 8,
    "start_time": "2022-09-14T18:30:44.844Z"
   },
   {
    "duration": 1742,
    "start_time": "2022-09-14T18:30:50.920Z"
   },
   {
    "duration": 4800,
    "start_time": "2022-09-14T18:31:26.821Z"
   },
   {
    "duration": 3365,
    "start_time": "2022-09-14T18:32:05.596Z"
   },
   {
    "duration": 1677,
    "start_time": "2022-09-14T18:32:32.958Z"
   },
   {
    "duration": 2189,
    "start_time": "2022-09-14T18:32:47.916Z"
   },
   {
    "duration": 2217,
    "start_time": "2022-09-14T18:33:19.496Z"
   },
   {
    "duration": 73,
    "start_time": "2022-09-15T05:22:13.215Z"
   },
   {
    "duration": 54,
    "start_time": "2022-09-15T05:22:28.386Z"
   },
   {
    "duration": 43,
    "start_time": "2022-09-15T05:26:51.231Z"
   },
   {
    "duration": 56,
    "start_time": "2022-09-15T05:26:56.824Z"
   },
   {
    "duration": 71,
    "start_time": "2022-09-15T05:27:00.794Z"
   },
   {
    "duration": 813,
    "start_time": "2022-09-15T05:27:05.954Z"
   },
   {
    "duration": 17,
    "start_time": "2022-09-15T05:27:09.153Z"
   },
   {
    "duration": 11,
    "start_time": "2022-09-15T05:27:11.381Z"
   },
   {
    "duration": 1783,
    "start_time": "2022-09-15T05:27:16.363Z"
   },
   {
    "duration": 2141,
    "start_time": "2022-09-15T05:27:26.331Z"
   },
   {
    "duration": 2459,
    "start_time": "2022-09-15T05:27:39.913Z"
   },
   {
    "duration": 27,
    "start_time": "2022-09-15T08:59:02.631Z"
   },
   {
    "duration": 11,
    "start_time": "2022-09-15T08:59:39.601Z"
   },
   {
    "duration": 8,
    "start_time": "2022-09-15T09:00:50.704Z"
   },
   {
    "duration": 120,
    "start_time": "2022-09-15T13:06:13.557Z"
   },
   {
    "duration": 118,
    "start_time": "2022-09-15T13:06:29.271Z"
   },
   {
    "duration": 16,
    "start_time": "2022-09-15T13:30:52.403Z"
   },
   {
    "duration": 6,
    "start_time": "2022-09-15T13:31:11.273Z"
   },
   {
    "duration": 9,
    "start_time": "2022-09-15T13:33:04.451Z"
   },
   {
    "duration": 107,
    "start_time": "2022-09-15T17:24:20.738Z"
   },
   {
    "duration": 3,
    "start_time": "2022-09-15T17:27:00.097Z"
   },
   {
    "duration": 2,
    "start_time": "2022-09-15T17:27:04.077Z"
   },
   {
    "duration": 3,
    "start_time": "2022-09-15T17:27:10.821Z"
   },
   {
    "duration": 73,
    "start_time": "2022-09-15T17:41:24.121Z"
   },
   {
    "duration": 37,
    "start_time": "2022-09-15T17:43:10.268Z"
   },
   {
    "duration": 559,
    "start_time": "2022-09-15T17:43:18.303Z"
   },
   {
    "duration": 12,
    "start_time": "2022-09-15T17:43:21.672Z"
   },
   {
    "duration": 2788,
    "start_time": "2022-09-15T17:43:28.784Z"
   },
   {
    "duration": 9,
    "start_time": "2022-09-15T17:43:34.910Z"
   },
   {
    "duration": 10,
    "start_time": "2022-09-15T17:43:39.505Z"
   },
   {
    "duration": 7,
    "start_time": "2022-09-15T17:43:42.583Z"
   },
   {
    "duration": 14,
    "start_time": "2022-09-15T17:43:45.386Z"
   },
   {
    "duration": 149,
    "start_time": "2022-09-15T17:46:34.200Z"
   },
   {
    "duration": 46,
    "start_time": "2022-09-15T18:46:06.137Z"
   },
   {
    "duration": 11,
    "start_time": "2022-09-15T18:48:05.292Z"
   },
   {
    "duration": 8,
    "start_time": "2022-09-15T18:51:16.881Z"
   },
   {
    "duration": 8,
    "start_time": "2022-09-15T18:51:24.184Z"
   },
   {
    "duration": 7,
    "start_time": "2022-09-15T18:51:34.318Z"
   },
   {
    "duration": 11,
    "start_time": "2022-09-15T18:51:53.319Z"
   },
   {
    "duration": 12,
    "start_time": "2022-09-15T18:51:57.627Z"
   },
   {
    "duration": 11,
    "start_time": "2022-09-15T18:55:21.539Z"
   },
   {
    "duration": 10,
    "start_time": "2022-09-15T18:55:23.155Z"
   },
   {
    "duration": 43,
    "start_time": "2022-09-16T13:57:39.870Z"
   },
   {
    "duration": 6,
    "start_time": "2022-09-16T13:57:53.811Z"
   },
   {
    "duration": 557,
    "start_time": "2022-09-16T13:58:00.485Z"
   },
   {
    "duration": 14,
    "start_time": "2022-09-16T13:58:09.976Z"
   },
   {
    "duration": 2491,
    "start_time": "2022-09-16T13:58:12.717Z"
   },
   {
    "duration": 10,
    "start_time": "2022-09-16T13:58:18.885Z"
   },
   {
    "duration": 11,
    "start_time": "2022-09-16T13:58:23.303Z"
   },
   {
    "duration": 8,
    "start_time": "2022-09-16T13:58:25.577Z"
   },
   {
    "duration": 14,
    "start_time": "2022-09-16T13:58:29.650Z"
   },
   {
    "duration": 39,
    "start_time": "2022-09-16T13:58:32.906Z"
   },
   {
    "duration": 7,
    "start_time": "2022-09-16T13:58:43.916Z"
   },
   {
    "duration": 10,
    "start_time": "2022-09-16T13:59:11.104Z"
   },
   {
    "duration": 7,
    "start_time": "2022-09-16T13:59:18.023Z"
   },
   {
    "duration": 14,
    "start_time": "2022-09-16T14:01:26.355Z"
   },
   {
    "duration": 11,
    "start_time": "2022-09-16T14:01:35.654Z"
   },
   {
    "duration": 10,
    "start_time": "2022-09-16T14:01:43.476Z"
   },
   {
    "duration": 3,
    "start_time": "2022-09-16T14:02:32.041Z"
   },
   {
    "duration": 3,
    "start_time": "2022-09-16T14:02:34.268Z"
   },
   {
    "duration": 14,
    "start_time": "2022-09-16T14:03:11.980Z"
   },
   {
    "duration": 4,
    "start_time": "2022-09-16T14:03:38.385Z"
   },
   {
    "duration": 13,
    "start_time": "2022-09-16T14:03:40.682Z"
   },
   {
    "duration": 7,
    "start_time": "2022-09-16T14:06:30.244Z"
   },
   {
    "duration": 12,
    "start_time": "2022-09-16T14:06:33.511Z"
   },
   {
    "duration": 39,
    "start_time": "2022-09-16T14:07:26.342Z"
   },
   {
    "duration": 5,
    "start_time": "2022-09-16T14:08:04.657Z"
   },
   {
    "duration": 13,
    "start_time": "2022-09-16T14:08:06.752Z"
   },
   {
    "duration": 13,
    "start_time": "2022-09-16T14:08:26.538Z"
   },
   {
    "duration": 6,
    "start_time": "2022-09-16T14:08:30.737Z"
   },
   {
    "duration": 14,
    "start_time": "2022-09-16T14:08:32.507Z"
   },
   {
    "duration": 36,
    "start_time": "2022-09-16T14:09:56.436Z"
   },
   {
    "duration": 108,
    "start_time": "2022-09-16T14:11:50.131Z"
   },
   {
    "duration": 98,
    "start_time": "2022-09-16T14:12:00.503Z"
   },
   {
    "duration": 72,
    "start_time": "2022-09-16T14:13:04.798Z"
   },
   {
    "duration": 14,
    "start_time": "2022-09-16T14:13:51.402Z"
   },
   {
    "duration": 45,
    "start_time": "2022-09-16T14:13:56.426Z"
   },
   {
    "duration": 10,
    "start_time": "2022-09-16T14:14:16.691Z"
   },
   {
    "duration": 7,
    "start_time": "2022-09-16T14:14:52.386Z"
   },
   {
    "duration": 9,
    "start_time": "2022-09-16T14:15:09.651Z"
   },
   {
    "duration": 8,
    "start_time": "2022-09-16T14:15:21.687Z"
   },
   {
    "duration": 8,
    "start_time": "2022-09-16T14:15:27.184Z"
   },
   {
    "duration": 6,
    "start_time": "2022-09-16T14:15:34.850Z"
   },
   {
    "duration": 192,
    "start_time": "2022-09-16T14:17:15.828Z"
   },
   {
    "duration": 5,
    "start_time": "2022-09-16T14:17:42.281Z"
   },
   {
    "duration": 11,
    "start_time": "2022-09-16T14:19:41.441Z"
   },
   {
    "duration": 16,
    "start_time": "2022-09-16T14:20:06.459Z"
   },
   {
    "duration": 12,
    "start_time": "2022-09-16T14:20:37.856Z"
   },
   {
    "duration": 13,
    "start_time": "2022-09-16T14:20:40.859Z"
   },
   {
    "duration": 5,
    "start_time": "2022-09-16T14:22:45.939Z"
   },
   {
    "duration": 4,
    "start_time": "2022-09-16T14:25:06.325Z"
   },
   {
    "duration": 4,
    "start_time": "2022-09-16T14:26:06.497Z"
   },
   {
    "duration": 5,
    "start_time": "2022-09-16T14:27:30.148Z"
   },
   {
    "duration": 127,
    "start_time": "2022-09-16T14:27:59.537Z"
   },
   {
    "duration": 96,
    "start_time": "2022-09-16T14:28:11.898Z"
   },
   {
    "duration": 5,
    "start_time": "2022-09-16T14:29:10.516Z"
   },
   {
    "duration": 8,
    "start_time": "2022-09-16T14:29:12.594Z"
   },
   {
    "duration": 13,
    "start_time": "2022-09-16T14:29:22.084Z"
   },
   {
    "duration": 14,
    "start_time": "2022-09-16T14:30:21.334Z"
   },
   {
    "duration": 52,
    "start_time": "2022-09-16T14:30:42.344Z"
   },
   {
    "duration": 507,
    "start_time": "2022-09-16T14:30:44.875Z"
   },
   {
    "duration": 15,
    "start_time": "2022-09-16T14:30:48.011Z"
   },
   {
    "duration": 13,
    "start_time": "2022-09-16T14:32:38.049Z"
   },
   {
    "duration": 2538,
    "start_time": "2022-09-16T14:32:40.738Z"
   },
   {
    "duration": 9,
    "start_time": "2022-09-16T14:32:48.032Z"
   },
   {
    "duration": 8,
    "start_time": "2022-09-16T14:33:03.969Z"
   },
   {
    "duration": 10,
    "start_time": "2022-09-16T14:33:06.891Z"
   },
   {
    "duration": 14,
    "start_time": "2022-09-16T14:33:11.486Z"
   },
   {
    "duration": 20,
    "start_time": "2022-09-16T14:33:23.429Z"
   },
   {
    "duration": 4,
    "start_time": "2022-09-16T14:33:38.643Z"
   },
   {
    "duration": 109,
    "start_time": "2022-09-16T14:33:43.491Z"
   },
   {
    "duration": 151,
    "start_time": "2022-09-16T14:33:53.766Z"
   },
   {
    "duration": 5,
    "start_time": "2022-09-16T14:34:32.106Z"
   },
   {
    "duration": 130,
    "start_time": "2022-09-16T14:35:01.699Z"
   },
   {
    "duration": 209,
    "start_time": "2022-09-16T14:35:13.598Z"
   },
   {
    "duration": 129,
    "start_time": "2022-09-16T14:35:22.493Z"
   },
   {
    "duration": 5,
    "start_time": "2022-09-16T14:39:54.202Z"
   },
   {
    "duration": 132,
    "start_time": "2022-09-16T14:39:55.142Z"
   },
   {
    "duration": 5,
    "start_time": "2022-09-16T14:41:59.123Z"
   },
   {
    "duration": 14,
    "start_time": "2022-09-16T14:42:38.684Z"
   },
   {
    "duration": 13,
    "start_time": "2022-09-16T14:42:40.742Z"
   },
   {
    "duration": 41,
    "start_time": "2022-09-16T14:43:37.499Z"
   },
   {
    "duration": 15,
    "start_time": "2022-09-16T14:43:50.716Z"
   },
   {
    "duration": 16,
    "start_time": "2022-09-16T14:44:19.645Z"
   },
   {
    "duration": 14,
    "start_time": "2022-09-16T14:44:28.609Z"
   },
   {
    "duration": 4,
    "start_time": "2022-09-16T14:44:54.884Z"
   },
   {
    "duration": 114,
    "start_time": "2022-09-16T14:44:58.322Z"
   },
   {
    "duration": 4,
    "start_time": "2022-09-16T14:45:10.441Z"
   },
   {
    "duration": 102,
    "start_time": "2022-09-16T14:45:16.018Z"
   },
   {
    "duration": 481,
    "start_time": "2022-09-16T14:45:31.994Z"
   },
   {
    "duration": 14,
    "start_time": "2022-09-16T14:45:35.695Z"
   },
   {
    "duration": 15,
    "start_time": "2022-09-16T14:45:43.610Z"
   },
   {
    "duration": 2665,
    "start_time": "2022-09-16T14:45:46.842Z"
   },
   {
    "duration": 10,
    "start_time": "2022-09-16T14:45:56.372Z"
   },
   {
    "duration": 8,
    "start_time": "2022-09-16T14:46:00.425Z"
   },
   {
    "duration": 9,
    "start_time": "2022-09-16T14:46:02.972Z"
   },
   {
    "duration": 13,
    "start_time": "2022-09-16T14:46:07.926Z"
   },
   {
    "duration": 17,
    "start_time": "2022-09-16T14:46:13.358Z"
   },
   {
    "duration": 5,
    "start_time": "2022-09-16T14:46:22.068Z"
   },
   {
    "duration": 125,
    "start_time": "2022-09-16T14:46:23.935Z"
   },
   {
    "duration": 6,
    "start_time": "2022-09-16T14:46:26.658Z"
   },
   {
    "duration": 5,
    "start_time": "2022-09-16T14:46:35.696Z"
   },
   {
    "duration": 14,
    "start_time": "2022-09-16T14:49:00.881Z"
   },
   {
    "duration": 73,
    "start_time": "2022-09-16T14:51:06.277Z"
   },
   {
    "duration": 482,
    "start_time": "2022-09-16T14:57:10.616Z"
   },
   {
    "duration": 16,
    "start_time": "2022-09-16T14:57:11.139Z"
   },
   {
    "duration": 2695,
    "start_time": "2022-09-16T14:57:11.501Z"
   },
   {
    "duration": 14,
    "start_time": "2022-09-16T14:57:14.198Z"
   },
   {
    "duration": 11,
    "start_time": "2022-09-16T14:57:14.214Z"
   },
   {
    "duration": 12,
    "start_time": "2022-09-16T14:57:14.228Z"
   },
   {
    "duration": 15,
    "start_time": "2022-09-16T14:57:14.241Z"
   },
   {
    "duration": 36,
    "start_time": "2022-09-16T14:57:14.258Z"
   },
   {
    "duration": 13,
    "start_time": "2022-09-16T14:57:16.101Z"
   },
   {
    "duration": 477,
    "start_time": "2022-09-16T14:57:48.515Z"
   },
   {
    "duration": 14,
    "start_time": "2022-09-16T14:57:49.298Z"
   },
   {
    "duration": 2683,
    "start_time": "2022-09-16T14:57:50.061Z"
   },
   {
    "duration": 10,
    "start_time": "2022-09-16T14:57:56.954Z"
   },
   {
    "duration": 7,
    "start_time": "2022-09-16T14:58:14.950Z"
   },
   {
    "duration": 9,
    "start_time": "2022-09-16T14:58:17.248Z"
   },
   {
    "duration": 13,
    "start_time": "2022-09-16T14:58:21.095Z"
   },
   {
    "duration": 79,
    "start_time": "2022-09-16T14:58:41.572Z"
   },
   {
    "duration": 15,
    "start_time": "2022-09-16T14:59:29.802Z"
   },
   {
    "duration": 15,
    "start_time": "2022-09-16T15:01:30.058Z"
   },
   {
    "duration": 14,
    "start_time": "2022-09-16T15:01:33.022Z"
   },
   {
    "duration": 14,
    "start_time": "2022-09-16T15:01:46.516Z"
   },
   {
    "duration": 14,
    "start_time": "2022-09-16T15:06:06.457Z"
   },
   {
    "duration": 90,
    "start_time": "2022-09-16T15:07:47.313Z"
   },
   {
    "duration": 16,
    "start_time": "2022-09-16T15:07:56.748Z"
   },
   {
    "duration": 16,
    "start_time": "2022-09-16T15:09:33.637Z"
   },
   {
    "duration": 15,
    "start_time": "2022-09-16T15:09:37.099Z"
   },
   {
    "duration": 4,
    "start_time": "2022-09-16T15:09:44.141Z"
   },
   {
    "duration": 129,
    "start_time": "2022-09-16T15:09:46.382Z"
   },
   {
    "duration": 5,
    "start_time": "2022-09-16T15:09:48.501Z"
   },
   {
    "duration": 13,
    "start_time": "2022-09-16T15:17:21.901Z"
   },
   {
    "duration": 7,
    "start_time": "2022-09-16T15:24:32.250Z"
   },
   {
    "duration": 110,
    "start_time": "2022-09-16T15:27:49.688Z"
   },
   {
    "duration": 83,
    "start_time": "2022-09-16T15:28:08.516Z"
   },
   {
    "duration": 8,
    "start_time": "2022-09-16T15:28:14.113Z"
   },
   {
    "duration": 9,
    "start_time": "2022-09-16T15:28:16.692Z"
   },
   {
    "duration": 11,
    "start_time": "2022-09-16T15:28:26.972Z"
   },
   {
    "duration": 6,
    "start_time": "2022-09-16T15:28:31.532Z"
   },
   {
    "duration": 5,
    "start_time": "2022-09-16T15:28:53.115Z"
   },
   {
    "duration": 5,
    "start_time": "2022-09-16T15:31:08.353Z"
   },
   {
    "duration": 8,
    "start_time": "2022-09-16T15:48:46.030Z"
   },
   {
    "duration": 8,
    "start_time": "2022-09-16T15:49:04.412Z"
   },
   {
    "duration": 7,
    "start_time": "2022-09-16T15:49:39.742Z"
   },
   {
    "duration": 7,
    "start_time": "2022-09-16T15:49:47.667Z"
   },
   {
    "duration": 8,
    "start_time": "2022-09-16T15:50:02.284Z"
   },
   {
    "duration": 9,
    "start_time": "2022-09-16T15:50:06.214Z"
   },
   {
    "duration": 9,
    "start_time": "2022-09-16T15:50:33.065Z"
   },
   {
    "duration": 10,
    "start_time": "2022-09-16T15:50:35.053Z"
   },
   {
    "duration": 6,
    "start_time": "2022-09-16T15:51:44.360Z"
   },
   {
    "duration": 8,
    "start_time": "2022-09-16T15:52:15.654Z"
   },
   {
    "duration": 7,
    "start_time": "2022-09-16T15:52:32.377Z"
   },
   {
    "duration": 1246,
    "start_time": "2022-09-16T18:11:51.086Z"
   },
   {
    "duration": 11,
    "start_time": "2022-09-16T18:12:17.070Z"
   },
   {
    "duration": 14,
    "start_time": "2022-09-16T18:12:26.701Z"
   },
   {
    "duration": 18,
    "start_time": "2022-09-16T18:14:31.967Z"
   },
   {
    "duration": 74,
    "start_time": "2022-09-16T18:22:02.493Z"
   },
   {
    "duration": 19,
    "start_time": "2022-09-16T18:22:51.041Z"
   },
   {
    "duration": 16,
    "start_time": "2022-09-16T18:23:00.902Z"
   },
   {
    "duration": 27,
    "start_time": "2022-09-16T18:26:58.719Z"
   },
   {
    "duration": 16,
    "start_time": "2022-09-16T18:27:05.829Z"
   },
   {
    "duration": 22,
    "start_time": "2022-09-16T18:27:11.627Z"
   },
   {
    "duration": 7,
    "start_time": "2022-09-16T18:27:34.214Z"
   },
   {
    "duration": 18,
    "start_time": "2022-09-16T18:28:18.403Z"
   },
   {
    "duration": 50,
    "start_time": "2022-09-17T11:20:15.032Z"
   },
   {
    "duration": 756,
    "start_time": "2022-09-17T11:20:18.444Z"
   },
   {
    "duration": 15,
    "start_time": "2022-09-17T11:20:20.721Z"
   },
   {
    "duration": 2877,
    "start_time": "2022-09-17T11:20:21.492Z"
   },
   {
    "duration": 9,
    "start_time": "2022-09-17T11:20:24.371Z"
   },
   {
    "duration": 9,
    "start_time": "2022-09-17T11:20:24.856Z"
   },
   {
    "duration": 9,
    "start_time": "2022-09-17T11:20:25.945Z"
   },
   {
    "duration": 13,
    "start_time": "2022-09-17T11:21:46.261Z"
   },
   {
    "duration": 16,
    "start_time": "2022-09-17T11:21:48.949Z"
   },
   {
    "duration": 14,
    "start_time": "2022-09-17T11:21:49.321Z"
   },
   {
    "duration": 17,
    "start_time": "2022-09-17T11:21:50.144Z"
   },
   {
    "duration": 18,
    "start_time": "2022-09-17T11:21:50.388Z"
   },
   {
    "duration": 16,
    "start_time": "2022-09-17T11:21:55.554Z"
   },
   {
    "duration": 751,
    "start_time": "2022-09-17T12:43:22.359Z"
   },
   {
    "duration": 15,
    "start_time": "2022-09-17T12:43:23.112Z"
   },
   {
    "duration": 2736,
    "start_time": "2022-09-17T12:43:23.498Z"
   },
   {
    "duration": 21,
    "start_time": "2022-09-17T12:43:26.236Z"
   },
   {
    "duration": 23,
    "start_time": "2022-09-17T12:43:26.259Z"
   },
   {
    "duration": 11,
    "start_time": "2022-09-17T12:43:26.285Z"
   },
   {
    "duration": 13,
    "start_time": "2022-09-17T12:43:28.228Z"
   },
   {
    "duration": 20,
    "start_time": "2022-09-17T12:43:33.043Z"
   },
   {
    "duration": 14,
    "start_time": "2022-09-17T12:43:34.227Z"
   },
   {
    "duration": 20,
    "start_time": "2022-09-17T12:43:38.267Z"
   },
   {
    "duration": 3,
    "start_time": "2022-09-17T12:43:41.237Z"
   },
   {
    "duration": 4,
    "start_time": "2022-09-17T12:50:05.806Z"
   },
   {
    "duration": 10,
    "start_time": "2022-09-17T12:50:48.099Z"
   },
   {
    "duration": 15,
    "start_time": "2022-09-17T12:51:02.057Z"
   },
   {
    "duration": 516,
    "start_time": "2022-09-17T12:58:16.084Z"
   },
   {
    "duration": 14,
    "start_time": "2022-09-17T12:58:17.275Z"
   },
   {
    "duration": 2639,
    "start_time": "2022-09-17T12:58:17.659Z"
   },
   {
    "duration": 9,
    "start_time": "2022-09-17T12:58:20.300Z"
   },
   {
    "duration": 40,
    "start_time": "2022-09-17T12:58:20.310Z"
   },
   {
    "duration": 29,
    "start_time": "2022-09-17T12:58:20.352Z"
   },
   {
    "duration": 21,
    "start_time": "2022-09-17T12:58:20.382Z"
   },
   {
    "duration": 19,
    "start_time": "2022-09-17T12:58:20.404Z"
   },
   {
    "duration": 30,
    "start_time": "2022-09-17T12:58:20.424Z"
   },
   {
    "duration": 17,
    "start_time": "2022-09-17T12:58:20.715Z"
   },
   {
    "duration": 4,
    "start_time": "2022-09-17T12:58:21.183Z"
   },
   {
    "duration": 18,
    "start_time": "2022-09-17T12:58:21.550Z"
   },
   {
    "duration": 18,
    "start_time": "2022-09-17T12:58:21.885Z"
   },
   {
    "duration": 496,
    "start_time": "2022-09-17T13:07:52.587Z"
   },
   {
    "duration": 13,
    "start_time": "2022-09-17T13:07:53.085Z"
   },
   {
    "duration": 2713,
    "start_time": "2022-09-17T13:07:53.213Z"
   },
   {
    "duration": 9,
    "start_time": "2022-09-17T13:07:55.928Z"
   },
   {
    "duration": 8,
    "start_time": "2022-09-17T13:07:55.938Z"
   },
   {
    "duration": 11,
    "start_time": "2022-09-17T13:07:55.947Z"
   },
   {
    "duration": 13,
    "start_time": "2022-09-17T13:07:55.959Z"
   },
   {
    "duration": 18,
    "start_time": "2022-09-17T13:07:55.973Z"
   },
   {
    "duration": 12,
    "start_time": "2022-09-17T13:07:55.993Z"
   },
   {
    "duration": 30,
    "start_time": "2022-09-17T13:07:56.047Z"
   },
   {
    "duration": 5,
    "start_time": "2022-09-17T13:07:56.197Z"
   },
   {
    "duration": 19,
    "start_time": "2022-09-17T13:07:56.345Z"
   },
   {
    "duration": 25,
    "start_time": "2022-09-17T13:07:56.505Z"
   },
   {
    "duration": 113,
    "start_time": "2022-09-17T13:13:07.168Z"
   },
   {
    "duration": 15,
    "start_time": "2022-09-17T13:13:07.580Z"
   },
   {
    "duration": 2413,
    "start_time": "2022-09-17T13:13:07.878Z"
   },
   {
    "duration": 9,
    "start_time": "2022-09-17T13:13:10.293Z"
   },
   {
    "duration": 11,
    "start_time": "2022-09-17T13:13:10.304Z"
   },
   {
    "duration": 12,
    "start_time": "2022-09-17T13:13:10.316Z"
   },
   {
    "duration": 32,
    "start_time": "2022-09-17T13:13:10.330Z"
   },
   {
    "duration": 18,
    "start_time": "2022-09-17T13:13:10.365Z"
   },
   {
    "duration": 13,
    "start_time": "2022-09-17T13:13:10.526Z"
   },
   {
    "duration": 29,
    "start_time": "2022-09-17T13:13:11.023Z"
   },
   {
    "duration": 6,
    "start_time": "2022-09-17T13:13:11.198Z"
   },
   {
    "duration": 16,
    "start_time": "2022-09-17T13:13:11.368Z"
   },
   {
    "duration": 31,
    "start_time": "2022-09-17T13:13:11.520Z"
   },
   {
    "duration": 14,
    "start_time": "2022-09-17T13:15:53.252Z"
   },
   {
    "duration": 11,
    "start_time": "2022-09-17T13:23:11.017Z"
   },
   {
    "duration": 44,
    "start_time": "2022-09-17T13:28:43.296Z"
   },
   {
    "duration": 7,
    "start_time": "2022-09-17T13:33:40.160Z"
   },
   {
    "duration": 45,
    "start_time": "2022-09-17T13:33:49.904Z"
   },
   {
    "duration": 484,
    "start_time": "2022-09-17T13:34:05.294Z"
   },
   {
    "duration": 14,
    "start_time": "2022-09-17T13:34:05.780Z"
   },
   {
    "duration": 3262,
    "start_time": "2022-09-17T13:34:05.972Z"
   },
   {
    "duration": 10,
    "start_time": "2022-09-17T13:34:09.236Z"
   },
   {
    "duration": 26,
    "start_time": "2022-09-17T13:34:09.249Z"
   },
   {
    "duration": 12,
    "start_time": "2022-09-17T13:34:09.277Z"
   },
   {
    "duration": 14,
    "start_time": "2022-09-17T13:34:09.291Z"
   },
   {
    "duration": 16,
    "start_time": "2022-09-17T13:34:09.306Z"
   },
   {
    "duration": 25,
    "start_time": "2022-09-17T13:34:09.324Z"
   },
   {
    "duration": 29,
    "start_time": "2022-09-17T13:34:09.351Z"
   },
   {
    "duration": 6,
    "start_time": "2022-09-17T13:34:09.382Z"
   },
   {
    "duration": 20,
    "start_time": "2022-09-17T13:34:09.390Z"
   },
   {
    "duration": 18,
    "start_time": "2022-09-17T13:34:09.411Z"
   },
   {
    "duration": 101,
    "start_time": "2022-09-17T13:39:14.285Z"
   },
   {
    "duration": 116,
    "start_time": "2022-09-17T13:39:16.780Z"
   },
   {
    "duration": 16,
    "start_time": "2022-09-17T13:39:17.111Z"
   },
   {
    "duration": 2797,
    "start_time": "2022-09-17T13:39:17.417Z"
   },
   {
    "duration": 10,
    "start_time": "2022-09-17T13:39:20.216Z"
   },
   {
    "duration": 15,
    "start_time": "2022-09-17T13:39:20.228Z"
   },
   {
    "duration": 14,
    "start_time": "2022-09-17T13:39:20.244Z"
   },
   {
    "duration": 13,
    "start_time": "2022-09-17T13:39:20.261Z"
   },
   {
    "duration": 17,
    "start_time": "2022-09-17T13:39:20.276Z"
   },
   {
    "duration": 15,
    "start_time": "2022-09-17T13:39:20.334Z"
   },
   {
    "duration": 18,
    "start_time": "2022-09-17T13:39:20.806Z"
   },
   {
    "duration": 6,
    "start_time": "2022-09-17T13:39:21.033Z"
   },
   {
    "duration": 12,
    "start_time": "2022-09-17T13:39:21.199Z"
   },
   {
    "duration": 22,
    "start_time": "2022-09-17T13:39:21.372Z"
   },
   {
    "duration": 45,
    "start_time": "2022-09-17T13:41:14.783Z"
   },
   {
    "duration": 502,
    "start_time": "2022-09-17T13:41:22.975Z"
   },
   {
    "duration": 14,
    "start_time": "2022-09-17T13:41:23.479Z"
   },
   {
    "duration": 2737,
    "start_time": "2022-09-17T13:41:23.577Z"
   },
   {
    "duration": 11,
    "start_time": "2022-09-17T13:41:26.317Z"
   },
   {
    "duration": 55,
    "start_time": "2022-09-17T13:41:26.330Z"
   },
   {
    "duration": 17,
    "start_time": "2022-09-17T13:41:26.389Z"
   },
   {
    "duration": 34,
    "start_time": "2022-09-17T13:41:26.408Z"
   },
   {
    "duration": 42,
    "start_time": "2022-09-17T13:41:26.444Z"
   },
   {
    "duration": 16,
    "start_time": "2022-09-17T13:41:26.488Z"
   },
   {
    "duration": 22,
    "start_time": "2022-09-17T13:41:26.506Z"
   },
   {
    "duration": 25,
    "start_time": "2022-09-17T13:41:26.562Z"
   },
   {
    "duration": 5,
    "start_time": "2022-09-17T13:41:26.726Z"
   },
   {
    "duration": 11,
    "start_time": "2022-09-17T13:41:26.923Z"
   },
   {
    "duration": 30,
    "start_time": "2022-09-17T13:41:27.051Z"
   },
   {
    "duration": 16,
    "start_time": "2022-09-17T13:41:27.269Z"
   },
   {
    "duration": 486,
    "start_time": "2022-09-17T13:41:58.996Z"
   },
   {
    "duration": 14,
    "start_time": "2022-09-17T13:41:59.483Z"
   },
   {
    "duration": 2515,
    "start_time": "2022-09-17T13:41:59.603Z"
   },
   {
    "duration": 9,
    "start_time": "2022-09-17T13:42:02.120Z"
   },
   {
    "duration": 11,
    "start_time": "2022-09-17T13:42:02.131Z"
   },
   {
    "duration": 36,
    "start_time": "2022-09-17T13:42:02.146Z"
   },
   {
    "duration": 15,
    "start_time": "2022-09-17T13:42:02.183Z"
   },
   {
    "duration": 27,
    "start_time": "2022-09-17T13:42:02.199Z"
   },
   {
    "duration": 13,
    "start_time": "2022-09-17T13:42:02.227Z"
   },
   {
    "duration": 24,
    "start_time": "2022-09-17T13:42:02.636Z"
   },
   {
    "duration": 17,
    "start_time": "2022-09-17T13:42:02.811Z"
   },
   {
    "duration": 6,
    "start_time": "2022-09-17T13:42:03.000Z"
   },
   {
    "duration": 21,
    "start_time": "2022-09-17T13:42:03.153Z"
   },
   {
    "duration": 18,
    "start_time": "2022-09-17T13:42:03.323Z"
   },
   {
    "duration": 17,
    "start_time": "2022-09-17T13:42:03.486Z"
   },
   {
    "duration": 2574,
    "start_time": "2022-09-17T14:02:30.981Z"
   },
   {
    "duration": 15,
    "start_time": "2022-09-17T14:36:22.732Z"
   },
   {
    "duration": 147,
    "start_time": "2022-09-17T14:36:40.621Z"
   },
   {
    "duration": 15,
    "start_time": "2022-09-17T14:36:55.648Z"
   },
   {
    "duration": 23,
    "start_time": "2022-09-17T14:39:23.333Z"
   },
   {
    "duration": 15,
    "start_time": "2022-09-17T14:40:30.485Z"
   },
   {
    "duration": 16,
    "start_time": "2022-09-17T14:44:12.207Z"
   },
   {
    "duration": 18,
    "start_time": "2022-09-17T14:48:00.602Z"
   },
   {
    "duration": 39,
    "start_time": "2022-09-17T14:48:21.600Z"
   },
   {
    "duration": 35,
    "start_time": "2022-09-17T14:53:49.647Z"
   },
   {
    "duration": 41,
    "start_time": "2022-09-17T15:22:26.820Z"
   },
   {
    "duration": 40,
    "start_time": "2022-09-17T15:23:02.222Z"
   },
   {
    "duration": 36,
    "start_time": "2022-09-17T15:23:12.730Z"
   },
   {
    "duration": 43,
    "start_time": "2022-09-17T15:24:38.208Z"
   },
   {
    "duration": 46,
    "start_time": "2022-09-17T15:24:52.748Z"
   },
   {
    "duration": 33,
    "start_time": "2022-09-17T15:25:14.209Z"
   },
   {
    "duration": 722,
    "start_time": "2022-09-17T18:32:19.103Z"
   },
   {
    "duration": 16,
    "start_time": "2022-09-17T18:32:19.827Z"
   },
   {
    "duration": 2960,
    "start_time": "2022-09-17T18:32:19.845Z"
   },
   {
    "duration": 15,
    "start_time": "2022-09-17T18:32:22.807Z"
   },
   {
    "duration": 14,
    "start_time": "2022-09-17T18:32:22.824Z"
   },
   {
    "duration": 13,
    "start_time": "2022-09-17T18:32:22.840Z"
   },
   {
    "duration": 13,
    "start_time": "2022-09-17T18:32:22.855Z"
   },
   {
    "duration": 25,
    "start_time": "2022-09-17T18:32:22.870Z"
   },
   {
    "duration": 15,
    "start_time": "2022-09-17T18:32:22.896Z"
   },
   {
    "duration": 16,
    "start_time": "2022-09-17T18:32:22.957Z"
   },
   {
    "duration": 15,
    "start_time": "2022-09-17T18:32:23.298Z"
   },
   {
    "duration": 9,
    "start_time": "2022-09-17T18:32:23.621Z"
   },
   {
    "duration": 19,
    "start_time": "2022-09-17T18:32:23.786Z"
   },
   {
    "duration": 18,
    "start_time": "2022-09-17T18:32:24.110Z"
   },
   {
    "duration": 26,
    "start_time": "2022-09-17T18:32:24.446Z"
   },
   {
    "duration": 2904,
    "start_time": "2022-09-17T18:32:25.096Z"
   },
   {
    "duration": 33,
    "start_time": "2022-09-17T18:32:28.002Z"
   },
   {
    "duration": 25,
    "start_time": "2022-09-17T18:32:28.055Z"
   },
   {
    "duration": 61,
    "start_time": "2022-09-17T18:32:28.083Z"
   },
   {
    "duration": 39,
    "start_time": "2022-09-17T18:32:28.154Z"
   },
   {
    "duration": 74,
    "start_time": "2022-09-17T18:43:41.059Z"
   },
   {
    "duration": 8,
    "start_time": "2022-09-17T18:44:35.185Z"
   },
   {
    "duration": 3,
    "start_time": "2022-09-17T18:44:38.389Z"
   },
   {
    "duration": 9,
    "start_time": "2022-09-17T18:44:39.372Z"
   },
   {
    "duration": 18,
    "start_time": "2022-09-17T18:44:56.204Z"
   },
   {
    "duration": 545,
    "start_time": "2022-09-17T18:50:05.692Z"
   },
   {
    "duration": 23,
    "start_time": "2022-09-17T18:50:06.239Z"
   },
   {
    "duration": 2792,
    "start_time": "2022-09-17T18:50:06.357Z"
   },
   {
    "duration": 12,
    "start_time": "2022-09-17T18:50:09.152Z"
   },
   {
    "duration": 16,
    "start_time": "2022-09-17T18:50:09.166Z"
   },
   {
    "duration": 11,
    "start_time": "2022-09-17T18:50:09.184Z"
   },
   {
    "duration": 21,
    "start_time": "2022-09-17T18:50:09.197Z"
   },
   {
    "duration": 43,
    "start_time": "2022-09-17T18:50:09.220Z"
   },
   {
    "duration": 19,
    "start_time": "2022-09-17T18:50:09.265Z"
   },
   {
    "duration": 29,
    "start_time": "2022-09-17T18:50:09.697Z"
   },
   {
    "duration": 26,
    "start_time": "2022-09-17T18:50:10.013Z"
   },
   {
    "duration": 9,
    "start_time": "2022-09-17T18:50:10.345Z"
   },
   {
    "duration": 20,
    "start_time": "2022-09-17T18:50:10.482Z"
   },
   {
    "duration": 30,
    "start_time": "2022-09-17T18:50:10.826Z"
   },
   {
    "duration": 19,
    "start_time": "2022-09-17T18:50:11.149Z"
   },
   {
    "duration": 2926,
    "start_time": "2022-09-17T18:50:11.850Z"
   },
   {
    "duration": 25,
    "start_time": "2022-09-17T18:50:14.778Z"
   },
   {
    "duration": 16,
    "start_time": "2022-09-17T18:50:14.805Z"
   },
   {
    "duration": 200,
    "start_time": "2022-09-17T18:50:14.823Z"
   },
   {
    "duration": 52,
    "start_time": "2022-09-17T18:50:15.025Z"
   },
   {
    "duration": 5,
    "start_time": "2022-09-17T18:50:15.079Z"
   },
   {
    "duration": 25,
    "start_time": "2022-09-17T18:50:15.086Z"
   },
   {
    "duration": 21,
    "start_time": "2022-09-17T18:50:26.461Z"
   },
   {
    "duration": 5,
    "start_time": "2022-09-17T18:50:28.650Z"
   },
   {
    "duration": 14,
    "start_time": "2022-09-17T18:50:29.152Z"
   },
   {
    "duration": 28,
    "start_time": "2022-09-17T18:50:29.646Z"
   },
   {
    "duration": 49,
    "start_time": "2022-09-17T19:02:02.624Z"
   },
   {
    "duration": 49,
    "start_time": "2022-09-18T05:38:22.298Z"
   },
   {
    "duration": 704,
    "start_time": "2022-09-18T05:38:27.662Z"
   },
   {
    "duration": 13,
    "start_time": "2022-09-18T05:38:28.367Z"
   },
   {
    "duration": 2668,
    "start_time": "2022-09-18T05:38:28.544Z"
   },
   {
    "duration": 12,
    "start_time": "2022-09-18T05:38:31.214Z"
   },
   {
    "duration": 21,
    "start_time": "2022-09-18T05:38:31.227Z"
   },
   {
    "duration": 15,
    "start_time": "2022-09-18T05:38:31.250Z"
   },
   {
    "duration": 14,
    "start_time": "2022-09-18T05:38:31.276Z"
   },
   {
    "duration": 17,
    "start_time": "2022-09-18T05:38:31.292Z"
   },
   {
    "duration": 23,
    "start_time": "2022-09-18T05:38:31.311Z"
   },
   {
    "duration": 16,
    "start_time": "2022-09-18T05:38:31.778Z"
   },
   {
    "duration": 14,
    "start_time": "2022-09-18T05:38:32.122Z"
   },
   {
    "duration": 6,
    "start_time": "2022-09-18T05:38:32.456Z"
   },
   {
    "duration": 11,
    "start_time": "2022-09-18T05:38:32.627Z"
   },
   {
    "duration": 16,
    "start_time": "2022-09-18T05:38:32.977Z"
   },
   {
    "duration": 16,
    "start_time": "2022-09-18T05:38:33.347Z"
   },
   {
    "duration": 2568,
    "start_time": "2022-09-18T05:38:34.060Z"
   },
   {
    "duration": 23,
    "start_time": "2022-09-18T05:38:36.630Z"
   },
   {
    "duration": 34,
    "start_time": "2022-09-18T05:38:36.655Z"
   },
   {
    "duration": 37,
    "start_time": "2022-09-18T05:38:36.691Z"
   },
   {
    "duration": 53,
    "start_time": "2022-09-18T05:38:36.730Z"
   },
   {
    "duration": 3,
    "start_time": "2022-09-18T05:38:36.784Z"
   },
   {
    "duration": 15,
    "start_time": "2022-09-18T05:38:36.789Z"
   },
   {
    "duration": 16,
    "start_time": "2022-09-18T05:38:36.806Z"
   },
   {
    "duration": 66,
    "start_time": "2022-09-18T05:38:36.824Z"
   },
   {
    "duration": 42,
    "start_time": "2022-09-18T05:38:37.666Z"
   },
   {
    "duration": 42,
    "start_time": "2022-09-18T05:42:12.376Z"
   },
   {
    "duration": 39,
    "start_time": "2022-09-18T05:50:49.903Z"
   },
   {
    "duration": 47,
    "start_time": "2022-09-18T05:51:48.484Z"
   },
   {
    "duration": 47,
    "start_time": "2022-09-18T05:52:58.969Z"
   },
   {
    "duration": 45,
    "start_time": "2022-09-18T05:53:23.696Z"
   },
   {
    "duration": 9,
    "start_time": "2022-09-18T05:54:07.818Z"
   },
   {
    "duration": 50,
    "start_time": "2022-09-18T05:54:12.338Z"
   },
   {
    "duration": 50,
    "start_time": "2022-09-18T05:55:19.558Z"
   },
   {
    "duration": 15,
    "start_time": "2022-09-18T05:57:24.382Z"
   },
   {
    "duration": 39,
    "start_time": "2022-09-18T05:57:31.010Z"
   },
   {
    "duration": 3,
    "start_time": "2022-09-18T06:28:36.935Z"
   },
   {
    "duration": 106,
    "start_time": "2022-09-18T06:28:37.381Z"
   },
   {
    "duration": 3,
    "start_time": "2022-09-18T06:30:46.949Z"
   },
   {
    "duration": 14,
    "start_time": "2022-09-18T06:31:33.516Z"
   },
   {
    "duration": 8,
    "start_time": "2022-09-18T06:33:19.412Z"
   },
   {
    "duration": 3,
    "start_time": "2022-09-18T06:33:27.673Z"
   },
   {
    "duration": 73,
    "start_time": "2022-09-18T06:33:28.905Z"
   },
   {
    "duration": 4,
    "start_time": "2022-09-18T06:35:22.484Z"
   },
   {
    "duration": 74,
    "start_time": "2022-09-18T06:35:23.075Z"
   },
   {
    "duration": 50,
    "start_time": "2022-09-18T06:35:36.271Z"
   },
   {
    "duration": 214,
    "start_time": "2022-09-18T06:35:39.978Z"
   },
   {
    "duration": 3,
    "start_time": "2022-09-18T06:37:05.403Z"
   },
   {
    "duration": 254,
    "start_time": "2022-09-18T06:37:05.962Z"
   },
   {
    "duration": 289,
    "start_time": "2022-09-18T06:37:24.942Z"
   },
   {
    "duration": 4,
    "start_time": "2022-09-18T06:37:44.232Z"
   },
   {
    "duration": 283,
    "start_time": "2022-09-18T06:37:44.623Z"
   },
   {
    "duration": 3,
    "start_time": "2022-09-18T06:38:49.936Z"
   },
   {
    "duration": 377,
    "start_time": "2022-09-18T06:38:50.352Z"
   },
   {
    "duration": 12,
    "start_time": "2022-09-18T07:40:53.302Z"
   },
   {
    "duration": 10,
    "start_time": "2022-09-18T07:43:56.067Z"
   },
   {
    "duration": 12,
    "start_time": "2022-09-18T07:46:45.606Z"
   },
   {
    "duration": 12,
    "start_time": "2022-09-18T07:47:19.634Z"
   },
   {
    "duration": 11,
    "start_time": "2022-09-18T07:47:24.992Z"
   },
   {
    "duration": 493,
    "start_time": "2022-09-18T07:47:45.896Z"
   },
   {
    "duration": 13,
    "start_time": "2022-09-18T07:47:46.391Z"
   },
   {
    "duration": 2595,
    "start_time": "2022-09-18T07:47:46.513Z"
   },
   {
    "duration": 9,
    "start_time": "2022-09-18T07:47:49.110Z"
   },
   {
    "duration": 7,
    "start_time": "2022-09-18T07:47:49.121Z"
   },
   {
    "duration": 13,
    "start_time": "2022-09-18T07:47:49.130Z"
   },
   {
    "duration": 13,
    "start_time": "2022-09-18T07:47:49.145Z"
   },
   {
    "duration": 30,
    "start_time": "2022-09-18T07:47:49.159Z"
   },
   {
    "duration": 12,
    "start_time": "2022-09-18T07:47:49.191Z"
   },
   {
    "duration": 16,
    "start_time": "2022-09-18T07:47:49.577Z"
   },
   {
    "duration": 16,
    "start_time": "2022-09-18T07:47:49.858Z"
   },
   {
    "duration": 6,
    "start_time": "2022-09-18T07:47:50.211Z"
   },
   {
    "duration": 11,
    "start_time": "2022-09-18T07:47:50.370Z"
   },
   {
    "duration": 18,
    "start_time": "2022-09-18T07:47:50.692Z"
   },
   {
    "duration": 17,
    "start_time": "2022-09-18T07:47:51.037Z"
   },
   {
    "duration": 2498,
    "start_time": "2022-09-18T07:47:51.752Z"
   },
   {
    "duration": 38,
    "start_time": "2022-09-18T07:47:54.252Z"
   },
   {
    "duration": 15,
    "start_time": "2022-09-18T07:47:54.291Z"
   },
   {
    "duration": 172,
    "start_time": "2022-09-18T07:47:54.308Z"
   },
   {
    "duration": 38,
    "start_time": "2022-09-18T07:47:54.482Z"
   },
   {
    "duration": 3,
    "start_time": "2022-09-18T07:47:54.521Z"
   },
   {
    "duration": 12,
    "start_time": "2022-09-18T07:47:54.526Z"
   },
   {
    "duration": 48,
    "start_time": "2022-09-18T07:47:54.539Z"
   },
   {
    "duration": 42,
    "start_time": "2022-09-18T07:47:54.589Z"
   },
   {
    "duration": 67,
    "start_time": "2022-09-18T07:47:54.633Z"
   },
   {
    "duration": 3,
    "start_time": "2022-09-18T07:47:55.361Z"
   },
   {
    "duration": 280,
    "start_time": "2022-09-18T07:47:55.520Z"
   },
   {
    "duration": 12,
    "start_time": "2022-09-18T07:47:55.869Z"
   },
   {
    "duration": 12,
    "start_time": "2022-09-18T07:47:56.194Z"
   },
   {
    "duration": 11,
    "start_time": "2022-09-18T07:48:35.779Z"
   },
   {
    "duration": 10,
    "start_time": "2022-09-18T07:52:47.761Z"
   },
   {
    "duration": 13,
    "start_time": "2022-09-18T07:54:30.488Z"
   },
   {
    "duration": 109,
    "start_time": "2022-09-18T07:54:36.778Z"
   },
   {
    "duration": 13,
    "start_time": "2022-09-18T07:54:39.759Z"
   },
   {
    "duration": 4,
    "start_time": "2022-09-18T08:11:41.405Z"
   },
   {
    "duration": 1301,
    "start_time": "2022-09-18T08:11:41.808Z"
   },
   {
    "duration": 3,
    "start_time": "2022-09-18T08:12:03.333Z"
   },
   {
    "duration": 332,
    "start_time": "2022-09-18T08:12:03.605Z"
   },
   {
    "duration": 477,
    "start_time": "2022-09-18T08:12:20.963Z"
   },
   {
    "duration": 4,
    "start_time": "2022-09-18T08:12:52.873Z"
   },
   {
    "duration": 320,
    "start_time": "2022-09-18T08:12:53.177Z"
   },
   {
    "duration": 3,
    "start_time": "2022-09-18T08:13:01.740Z"
   },
   {
    "duration": 300,
    "start_time": "2022-09-18T08:13:01.905Z"
   },
   {
    "duration": 3,
    "start_time": "2022-09-18T08:18:22.002Z"
   },
   {
    "duration": 245,
    "start_time": "2022-09-18T08:18:22.226Z"
   },
   {
    "duration": 317,
    "start_time": "2022-09-18T08:18:40.587Z"
   },
   {
    "duration": 395,
    "start_time": "2022-09-18T08:18:48.074Z"
   },
   {
    "duration": 318,
    "start_time": "2022-09-18T08:18:53.440Z"
   },
   {
    "duration": 267,
    "start_time": "2022-09-18T08:18:58.702Z"
   },
   {
    "duration": 14,
    "start_time": "2022-09-18T12:11:58.645Z"
   },
   {
    "duration": 1063,
    "start_time": "2022-09-18T12:23:29.103Z"
   },
   {
    "duration": 15,
    "start_time": "2022-09-18T12:23:34.406Z"
   },
   {
    "duration": 1057,
    "start_time": "2022-09-18T12:24:11.064Z"
   },
   {
    "duration": 2132,
    "start_time": "2022-09-18T12:24:24.755Z"
   },
   {
    "duration": 2200,
    "start_time": "2022-09-18T12:24:34.884Z"
   },
   {
    "duration": 52,
    "start_time": "2022-09-18T12:29:02.168Z"
   },
   {
    "duration": 25,
    "start_time": "2022-09-18T12:29:24.084Z"
   },
   {
    "duration": 51,
    "start_time": "2022-09-18T12:29:26.688Z"
   },
   {
    "duration": 565,
    "start_time": "2022-09-18T12:31:15.275Z"
   },
   {
    "duration": 15,
    "start_time": "2022-09-18T12:31:15.842Z"
   },
   {
    "duration": 2753,
    "start_time": "2022-09-18T12:31:15.875Z"
   },
   {
    "duration": 12,
    "start_time": "2022-09-18T12:31:18.630Z"
   },
   {
    "duration": 7,
    "start_time": "2022-09-18T12:31:18.643Z"
   },
   {
    "duration": 32,
    "start_time": "2022-09-18T12:31:18.652Z"
   },
   {
    "duration": 15,
    "start_time": "2022-09-18T12:31:18.685Z"
   },
   {
    "duration": 21,
    "start_time": "2022-09-18T12:31:18.706Z"
   },
   {
    "duration": 12,
    "start_time": "2022-09-18T12:31:18.729Z"
   },
   {
    "duration": 26,
    "start_time": "2022-09-18T12:31:19.071Z"
   },
   {
    "duration": 24,
    "start_time": "2022-09-18T12:31:19.392Z"
   },
   {
    "duration": 7,
    "start_time": "2022-09-18T12:31:19.706Z"
   },
   {
    "duration": 19,
    "start_time": "2022-09-18T12:31:19.929Z"
   },
   {
    "duration": 26,
    "start_time": "2022-09-18T12:31:20.852Z"
   },
   {
    "duration": 16,
    "start_time": "2022-09-18T12:31:21.555Z"
   },
   {
    "duration": 3028,
    "start_time": "2022-09-18T12:31:22.414Z"
   },
   {
    "duration": 56,
    "start_time": "2022-09-18T12:31:25.444Z"
   },
   {
    "duration": 25,
    "start_time": "2022-09-18T12:31:25.502Z"
   },
   {
    "duration": 178,
    "start_time": "2022-09-18T12:31:25.530Z"
   },
   {
    "duration": 52,
    "start_time": "2022-09-18T12:31:25.712Z"
   },
   {
    "duration": 57,
    "start_time": "2022-09-18T12:31:25.779Z"
   },
   {
    "duration": 3,
    "start_time": "2022-09-18T12:31:25.837Z"
   },
   {
    "duration": 14,
    "start_time": "2022-09-18T12:31:25.842Z"
   },
   {
    "duration": 32,
    "start_time": "2022-09-18T12:31:25.857Z"
   },
   {
    "duration": 45,
    "start_time": "2022-09-18T12:31:25.893Z"
   },
   {
    "duration": 58,
    "start_time": "2022-09-18T12:31:25.951Z"
   },
   {
    "duration": 3,
    "start_time": "2022-09-18T12:31:26.710Z"
   },
   {
    "duration": 358,
    "start_time": "2022-09-18T12:31:26.889Z"
   },
   {
    "duration": 18,
    "start_time": "2022-09-18T12:31:27.368Z"
   },
   {
    "duration": 20,
    "start_time": "2022-09-18T12:31:27.690Z"
   },
   {
    "duration": 14,
    "start_time": "2022-09-18T12:31:28.001Z"
   },
   {
    "duration": 3,
    "start_time": "2022-09-18T12:31:28.315Z"
   },
   {
    "duration": 317,
    "start_time": "2022-09-18T12:31:28.475Z"
   },
   {
    "duration": 5,
    "start_time": "2022-09-18T12:31:28.794Z"
   },
   {
    "duration": 230,
    "start_time": "2022-09-18T12:31:28.906Z"
   },
   {
    "duration": 15,
    "start_time": "2022-09-18T12:31:29.138Z"
   },
   {
    "duration": 2163,
    "start_time": "2022-09-18T12:31:29.452Z"
   },
   {
    "duration": 2526,
    "start_time": "2022-09-18T12:34:50.913Z"
   },
   {
    "duration": 2097,
    "start_time": "2022-09-18T12:35:06.314Z"
   },
   {
    "duration": 2391,
    "start_time": "2022-09-18T12:36:08.703Z"
   },
   {
    "duration": 83,
    "start_time": "2022-09-18T12:45:26.470Z"
   },
   {
    "duration": 80,
    "start_time": "2022-09-18T12:45:37.440Z"
   },
   {
    "duration": 65,
    "start_time": "2022-09-18T12:48:27.976Z"
   },
   {
    "duration": 760,
    "start_time": "2022-09-18T12:48:53.079Z"
   },
   {
    "duration": 891,
    "start_time": "2022-09-18T12:49:35.109Z"
   },
   {
    "duration": 1316,
    "start_time": "2022-09-18T12:49:56.820Z"
   },
   {
    "duration": 308,
    "start_time": "2022-09-18T12:50:53.212Z"
   },
   {
    "duration": 308,
    "start_time": "2022-09-18T12:51:04.060Z"
   },
   {
    "duration": 336,
    "start_time": "2022-09-18T12:51:12.955Z"
   },
   {
    "duration": 309,
    "start_time": "2022-09-18T12:51:22.202Z"
   },
   {
    "duration": 292,
    "start_time": "2022-09-18T12:51:54.000Z"
   },
   {
    "duration": 333,
    "start_time": "2022-09-18T12:51:54.294Z"
   },
   {
    "duration": 435,
    "start_time": "2022-09-18T12:51:54.630Z"
   },
   {
    "duration": 199,
    "start_time": "2022-09-18T12:51:55.067Z"
   },
   {
    "duration": 190,
    "start_time": "2022-09-18T12:52:21.805Z"
   },
   {
    "duration": 227,
    "start_time": "2022-09-18T12:52:35.091Z"
   },
   {
    "duration": 263,
    "start_time": "2022-09-18T12:52:59.607Z"
   },
   {
    "duration": 320,
    "start_time": "2022-09-18T12:54:11.267Z"
   },
   {
    "duration": 321,
    "start_time": "2022-09-18T12:54:28.687Z"
   },
   {
    "duration": 624,
    "start_time": "2022-09-18T12:54:40.002Z"
   },
   {
    "duration": 206,
    "start_time": "2022-09-18T13:16:50.403Z"
   },
   {
    "duration": 919,
    "start_time": "2022-09-18T13:17:02.068Z"
   },
   {
    "duration": 227,
    "start_time": "2022-09-18T13:17:16.576Z"
   },
   {
    "duration": 319,
    "start_time": "2022-09-18T13:17:22.076Z"
   },
   {
    "duration": 217,
    "start_time": "2022-09-18T13:17:28.897Z"
   },
   {
    "duration": 216,
    "start_time": "2022-09-18T13:18:01.215Z"
   },
   {
    "duration": 247,
    "start_time": "2022-09-18T13:32:25.459Z"
   },
   {
    "duration": 252,
    "start_time": "2022-09-18T13:32:36.462Z"
   },
   {
    "duration": 256,
    "start_time": "2022-09-18T13:32:48.890Z"
   },
   {
    "duration": 191,
    "start_time": "2022-09-18T13:33:18.821Z"
   },
   {
    "duration": 277,
    "start_time": "2022-09-18T13:39:22.667Z"
   },
   {
    "duration": 259,
    "start_time": "2022-09-18T13:40:06.796Z"
   },
   {
    "duration": 289,
    "start_time": "2022-09-18T13:40:25.364Z"
   },
   {
    "duration": 296,
    "start_time": "2022-09-18T13:40:48.025Z"
   },
   {
    "duration": 748,
    "start_time": "2022-09-18T13:41:45.166Z"
   },
   {
    "duration": 271,
    "start_time": "2022-09-18T13:45:38.122Z"
   },
   {
    "duration": 194,
    "start_time": "2022-09-18T13:46:08.258Z"
   },
   {
    "duration": 170,
    "start_time": "2022-09-18T13:46:14.359Z"
   },
   {
    "duration": 2061,
    "start_time": "2022-09-18T13:49:15.881Z"
   },
   {
    "duration": 173,
    "start_time": "2022-09-18T13:56:58.858Z"
   },
   {
    "duration": 186,
    "start_time": "2022-09-18T13:57:20.081Z"
   },
   {
    "duration": 45,
    "start_time": "2022-09-18T14:04:56.494Z"
   },
   {
    "duration": 178,
    "start_time": "2022-09-18T14:09:38.858Z"
   },
   {
    "duration": 181,
    "start_time": "2022-09-18T14:09:49.775Z"
   },
   {
    "duration": 232,
    "start_time": "2022-09-18T14:10:30.300Z"
   },
   {
    "duration": 224,
    "start_time": "2022-09-18T14:13:54.821Z"
   },
   {
    "duration": 318,
    "start_time": "2022-09-18T14:14:07.756Z"
   },
   {
    "duration": 269,
    "start_time": "2022-09-18T14:18:50.058Z"
   },
   {
    "duration": 281,
    "start_time": "2022-09-18T14:19:02.558Z"
   },
   {
    "duration": 252,
    "start_time": "2022-09-18T14:19:09.352Z"
   },
   {
    "duration": 272,
    "start_time": "2022-09-18T14:19:24.100Z"
   },
   {
    "duration": 167,
    "start_time": "2022-09-18T14:21:49.598Z"
   },
   {
    "duration": 144,
    "start_time": "2022-09-18T14:24:02.261Z"
   },
   {
    "duration": 174,
    "start_time": "2022-09-18T14:28:01.469Z"
   },
   {
    "duration": 128,
    "start_time": "2022-09-18T14:28:10.956Z"
   },
   {
    "duration": 123,
    "start_time": "2022-09-18T14:28:17.485Z"
   },
   {
    "duration": 170,
    "start_time": "2022-09-18T14:30:13.429Z"
   },
   {
    "duration": 189,
    "start_time": "2022-09-18T14:30:21.328Z"
   },
   {
    "duration": 165,
    "start_time": "2022-09-18T14:33:27.673Z"
   },
   {
    "duration": 171,
    "start_time": "2022-09-18T14:33:33.628Z"
   },
   {
    "duration": 172,
    "start_time": "2022-09-18T14:33:40.122Z"
   },
   {
    "duration": 643,
    "start_time": "2022-09-18T14:33:46.203Z"
   },
   {
    "duration": 302,
    "start_time": "2022-09-18T14:33:55.011Z"
   },
   {
    "duration": 273,
    "start_time": "2022-09-18T14:34:02.251Z"
   },
   {
    "duration": 335,
    "start_time": "2022-09-18T14:34:14.774Z"
   },
   {
    "duration": 410,
    "start_time": "2022-09-18T14:34:35.846Z"
   },
   {
    "duration": 4,
    "start_time": "2022-09-18T15:17:30.231Z"
   },
   {
    "duration": 6,
    "start_time": "2022-09-18T15:17:44.869Z"
   },
   {
    "duration": 79,
    "start_time": "2022-09-18T15:20:30.475Z"
   },
   {
    "duration": 11,
    "start_time": "2022-09-18T15:20:45.392Z"
   },
   {
    "duration": 130,
    "start_time": "2022-09-18T15:21:00.312Z"
   },
   {
    "duration": 144,
    "start_time": "2022-09-18T15:21:16.862Z"
   },
   {
    "duration": 116,
    "start_time": "2022-09-18T15:21:31.693Z"
   },
   {
    "duration": 12,
    "start_time": "2022-09-18T15:23:53.915Z"
   },
   {
    "duration": 2816,
    "start_time": "2022-09-18T15:40:04.564Z"
   },
   {
    "duration": 176,
    "start_time": "2022-09-18T15:42:25.499Z"
   },
   {
    "duration": 6,
    "start_time": "2022-09-18T15:47:22.523Z"
   },
   {
    "duration": 190,
    "start_time": "2022-09-18T15:55:12.290Z"
   },
   {
    "duration": 5,
    "start_time": "2022-09-18T15:55:30.971Z"
   },
   {
    "duration": 199,
    "start_time": "2022-09-18T15:57:55.309Z"
   },
   {
    "duration": 5,
    "start_time": "2022-09-18T15:57:56.529Z"
   },
   {
    "duration": 179,
    "start_time": "2022-09-18T16:00:14.100Z"
   },
   {
    "duration": 5,
    "start_time": "2022-09-18T16:00:14.570Z"
   },
   {
    "duration": 212,
    "start_time": "2022-09-18T16:00:42.618Z"
   },
   {
    "duration": 6,
    "start_time": "2022-09-18T16:00:43.869Z"
   },
   {
    "duration": 187,
    "start_time": "2022-09-18T16:02:59.261Z"
   },
   {
    "duration": 5,
    "start_time": "2022-09-18T16:02:59.449Z"
   },
   {
    "duration": 202,
    "start_time": "2022-09-18T16:07:51.336Z"
   },
   {
    "duration": 5,
    "start_time": "2022-09-18T16:07:53.865Z"
   },
   {
    "duration": 2909,
    "start_time": "2022-09-18T16:09:00.382Z"
   },
   {
    "duration": 0,
    "start_time": "2022-09-18T16:09:03.292Z"
   },
   {
    "duration": 265,
    "start_time": "2022-09-18T16:09:19.579Z"
   },
   {
    "duration": 20,
    "start_time": "2022-09-18T16:09:20.565Z"
   },
   {
    "duration": 9,
    "start_time": "2022-09-18T16:10:34.502Z"
   },
   {
    "duration": 26,
    "start_time": "2022-09-18T16:46:53.422Z"
   },
   {
    "duration": 31,
    "start_time": "2022-09-18T16:47:48.705Z"
   },
   {
    "duration": 26,
    "start_time": "2022-09-18T16:48:04.133Z"
   },
   {
    "duration": 28,
    "start_time": "2022-09-18T16:48:43.196Z"
   },
   {
    "duration": 23,
    "start_time": "2022-09-18T16:48:56.315Z"
   },
   {
    "duration": 30,
    "start_time": "2022-09-18T16:49:11.159Z"
   },
   {
    "duration": 44,
    "start_time": "2022-09-18T16:49:19.555Z"
   },
   {
    "duration": 29,
    "start_time": "2022-09-18T16:53:49.086Z"
   },
   {
    "duration": 25,
    "start_time": "2022-09-18T16:53:57.708Z"
   },
   {
    "duration": 37,
    "start_time": "2022-09-18T16:54:35.677Z"
   },
   {
    "duration": 27,
    "start_time": "2022-09-18T16:56:26.529Z"
   },
   {
    "duration": 36,
    "start_time": "2022-09-18T16:56:36.369Z"
   },
   {
    "duration": 23,
    "start_time": "2022-09-18T16:57:01.527Z"
   },
   {
    "duration": 32,
    "start_time": "2022-09-18T16:57:12.072Z"
   },
   {
    "duration": 27,
    "start_time": "2022-09-18T17:12:29.499Z"
   },
   {
    "duration": 1025,
    "start_time": "2022-09-18T17:13:47.020Z"
   },
   {
    "duration": 28,
    "start_time": "2022-09-18T17:14:16.607Z"
   },
   {
    "duration": 25,
    "start_time": "2022-09-18T17:14:29.809Z"
   },
   {
    "duration": 29,
    "start_time": "2022-09-18T17:15:02.460Z"
   },
   {
    "duration": 38,
    "start_time": "2022-09-18T17:15:25.468Z"
   },
   {
    "duration": 36,
    "start_time": "2022-09-18T17:16:08.869Z"
   },
   {
    "duration": 17,
    "start_time": "2022-09-18T17:16:24.067Z"
   },
   {
    "duration": 12,
    "start_time": "2022-09-18T17:16:39.757Z"
   },
   {
    "duration": 12,
    "start_time": "2022-09-18T17:17:00.165Z"
   },
   {
    "duration": 12,
    "start_time": "2022-09-18T17:30:58.903Z"
   },
   {
    "duration": 26,
    "start_time": "2022-09-18T17:31:14.981Z"
   },
   {
    "duration": 10,
    "start_time": "2022-09-18T17:38:12.522Z"
   },
   {
    "duration": 14,
    "start_time": "2022-09-18T17:38:31.689Z"
   },
   {
    "duration": 19,
    "start_time": "2022-09-18T17:45:56.672Z"
   },
   {
    "duration": 11,
    "start_time": "2022-09-18T17:46:02.268Z"
   },
   {
    "duration": 12,
    "start_time": "2022-09-18T17:49:10.963Z"
   },
   {
    "duration": 15,
    "start_time": "2022-09-18T17:49:47.704Z"
   },
   {
    "duration": 11,
    "start_time": "2022-09-18T17:49:59.821Z"
   },
   {
    "duration": 9,
    "start_time": "2022-09-18T17:51:53.619Z"
   },
   {
    "duration": 17,
    "start_time": "2022-09-18T17:52:11.698Z"
   },
   {
    "duration": 19,
    "start_time": "2022-09-18T17:52:21.695Z"
   },
   {
    "duration": 17,
    "start_time": "2022-09-18T17:52:33.271Z"
   },
   {
    "duration": 58,
    "start_time": "2022-09-19T05:23:36.468Z"
   },
   {
    "duration": 784,
    "start_time": "2022-09-19T05:23:42.445Z"
   },
   {
    "duration": 15,
    "start_time": "2022-09-19T05:23:43.231Z"
   },
   {
    "duration": 3372,
    "start_time": "2022-09-19T05:23:43.280Z"
   },
   {
    "duration": 10,
    "start_time": "2022-09-19T05:23:46.654Z"
   },
   {
    "duration": 17,
    "start_time": "2022-09-19T05:23:46.665Z"
   },
   {
    "duration": 39,
    "start_time": "2022-09-19T05:23:46.684Z"
   },
   {
    "duration": 22,
    "start_time": "2022-09-19T05:23:46.725Z"
   },
   {
    "duration": 16,
    "start_time": "2022-09-19T05:23:46.749Z"
   },
   {
    "duration": 19,
    "start_time": "2022-09-19T05:23:46.766Z"
   },
   {
    "duration": 26,
    "start_time": "2022-09-19T05:23:46.790Z"
   },
   {
    "duration": 18,
    "start_time": "2022-09-19T05:23:46.917Z"
   },
   {
    "duration": 6,
    "start_time": "2022-09-19T05:23:47.302Z"
   },
   {
    "duration": 12,
    "start_time": "2022-09-19T05:23:47.460Z"
   },
   {
    "duration": 20,
    "start_time": "2022-09-19T05:23:47.805Z"
   },
   {
    "duration": 37,
    "start_time": "2022-09-19T05:23:48.167Z"
   },
   {
    "duration": 2967,
    "start_time": "2022-09-19T05:23:48.908Z"
   },
   {
    "duration": 36,
    "start_time": "2022-09-19T05:23:51.877Z"
   },
   {
    "duration": 18,
    "start_time": "2022-09-19T05:23:51.915Z"
   },
   {
    "duration": 60,
    "start_time": "2022-09-19T05:23:51.936Z"
   },
   {
    "duration": 41,
    "start_time": "2022-09-19T05:23:51.998Z"
   },
   {
    "duration": 41,
    "start_time": "2022-09-19T05:23:52.040Z"
   },
   {
    "duration": 3,
    "start_time": "2022-09-19T05:23:52.083Z"
   },
   {
    "duration": 29,
    "start_time": "2022-09-19T05:23:52.090Z"
   },
   {
    "duration": 17,
    "start_time": "2022-09-19T05:23:52.121Z"
   },
   {
    "duration": 28,
    "start_time": "2022-09-19T05:23:52.140Z"
   },
   {
    "duration": 31,
    "start_time": "2022-09-19T05:23:52.218Z"
   },
   {
    "duration": 3,
    "start_time": "2022-09-19T05:23:53.127Z"
   },
   {
    "duration": 316,
    "start_time": "2022-09-19T05:23:53.313Z"
   },
   {
    "duration": 12,
    "start_time": "2022-09-19T05:23:53.637Z"
   },
   {
    "duration": 16,
    "start_time": "2022-09-19T05:23:54.003Z"
   },
   {
    "duration": 16,
    "start_time": "2022-09-19T05:23:54.346Z"
   },
   {
    "duration": 5,
    "start_time": "2022-09-19T05:23:54.693Z"
   },
   {
    "duration": 315,
    "start_time": "2022-09-19T05:23:54.861Z"
   },
   {
    "duration": 4,
    "start_time": "2022-09-19T05:23:55.227Z"
   },
   {
    "duration": 330,
    "start_time": "2022-09-19T05:23:55.418Z"
   },
   {
    "duration": 28,
    "start_time": "2022-09-19T05:23:55.750Z"
   },
   {
    "duration": 2215,
    "start_time": "2022-09-19T05:23:56.114Z"
   },
   {
    "duration": 292,
    "start_time": "2022-09-19T05:23:58.332Z"
   },
   {
    "duration": 414,
    "start_time": "2022-09-19T05:23:58.625Z"
   },
   {
    "duration": 215,
    "start_time": "2022-09-19T05:23:59.042Z"
   },
   {
    "duration": 194,
    "start_time": "2022-09-19T05:23:59.259Z"
   },
   {
    "duration": 176,
    "start_time": "2022-09-19T05:23:59.455Z"
   },
   {
    "duration": 291,
    "start_time": "2022-09-19T05:23:59.633Z"
   },
   {
    "duration": 197,
    "start_time": "2022-09-19T05:23:59.926Z"
   },
   {
    "duration": 135,
    "start_time": "2022-09-19T05:24:00.126Z"
   },
   {
    "duration": 187,
    "start_time": "2022-09-19T05:24:00.263Z"
   },
   {
    "duration": 253,
    "start_time": "2022-09-19T05:24:00.452Z"
   },
   {
    "duration": 243,
    "start_time": "2022-09-19T05:24:00.707Z"
   },
   {
    "duration": 234,
    "start_time": "2022-09-19T05:24:00.951Z"
   },
   {
    "duration": 159,
    "start_time": "2022-09-19T05:24:01.187Z"
   },
   {
    "duration": 134,
    "start_time": "2022-09-19T05:24:01.401Z"
   },
   {
    "duration": 515,
    "start_time": "2022-09-19T05:24:02.174Z"
   },
   {
    "duration": 20,
    "start_time": "2022-09-19T05:24:02.691Z"
   },
   {
    "duration": 214,
    "start_time": "2022-09-19T05:24:03.537Z"
   },
   {
    "duration": 6,
    "start_time": "2022-09-19T05:24:03.753Z"
   },
   {
    "duration": 209,
    "start_time": "2022-09-19T05:24:04.408Z"
   },
   {
    "duration": 6,
    "start_time": "2022-09-19T05:24:04.641Z"
   },
   {
    "duration": 179,
    "start_time": "2022-09-19T05:24:05.462Z"
   },
   {
    "duration": 6,
    "start_time": "2022-09-19T05:24:05.710Z"
   },
   {
    "duration": 208,
    "start_time": "2022-09-19T05:24:06.511Z"
   },
   {
    "duration": 5,
    "start_time": "2022-09-19T05:24:06.724Z"
   },
   {
    "duration": 195,
    "start_time": "2022-09-19T05:24:07.355Z"
   },
   {
    "duration": 6,
    "start_time": "2022-09-19T05:24:07.556Z"
   },
   {
    "duration": 248,
    "start_time": "2022-09-19T05:24:08.217Z"
   },
   {
    "duration": 25,
    "start_time": "2022-09-19T05:24:08.741Z"
   },
   {
    "duration": 11,
    "start_time": "2022-09-19T05:24:08.910Z"
   },
   {
    "duration": 4,
    "start_time": "2022-09-19T05:24:56.741Z"
   },
   {
    "duration": 19,
    "start_time": "2022-09-19T05:25:21.127Z"
   },
   {
    "duration": 33,
    "start_time": "2022-09-19T05:25:27.455Z"
   },
   {
    "duration": 8,
    "start_time": "2022-09-19T08:55:04.659Z"
   },
   {
    "duration": 8,
    "start_time": "2022-09-19T08:55:16.340Z"
   },
   {
    "duration": 11,
    "start_time": "2022-09-19T08:55:39.990Z"
   },
   {
    "duration": 1085,
    "start_time": "2022-09-19T08:57:06.571Z"
   },
   {
    "duration": 57,
    "start_time": "2022-09-19T08:57:21.804Z"
   },
   {
    "duration": 18,
    "start_time": "2022-09-19T08:57:47.219Z"
   },
   {
    "duration": 11,
    "start_time": "2022-09-19T08:58:42.811Z"
   },
   {
    "duration": 5,
    "start_time": "2022-09-19T08:59:28.820Z"
   },
   {
    "duration": 6,
    "start_time": "2022-09-19T08:59:39.451Z"
   },
   {
    "duration": 22,
    "start_time": "2022-09-19T09:00:27.252Z"
   },
   {
    "duration": 20,
    "start_time": "2022-09-19T09:01:16.401Z"
   },
   {
    "duration": 14,
    "start_time": "2022-09-19T09:01:44.452Z"
   },
   {
    "duration": 14,
    "start_time": "2022-09-19T09:02:33.323Z"
   },
   {
    "duration": 10,
    "start_time": "2022-09-19T09:02:38.337Z"
   },
   {
    "duration": 19,
    "start_time": "2022-09-19T09:02:50.509Z"
   },
   {
    "duration": 15,
    "start_time": "2022-09-19T09:05:01.618Z"
   },
   {
    "duration": 15,
    "start_time": "2022-09-19T09:05:11.914Z"
   },
   {
    "duration": 156,
    "start_time": "2022-09-19T09:12:31.857Z"
   },
   {
    "duration": 116,
    "start_time": "2022-09-19T09:13:06.836Z"
   },
   {
    "duration": 74,
    "start_time": "2022-09-19T09:13:28.424Z"
   },
   {
    "duration": 58,
    "start_time": "2022-09-19T09:15:02.453Z"
   },
   {
    "duration": 43,
    "start_time": "2022-09-19T09:15:17.908Z"
   },
   {
    "duration": 32,
    "start_time": "2022-09-19T09:15:33.441Z"
   },
   {
    "duration": 19,
    "start_time": "2022-09-19T09:15:47.945Z"
   },
   {
    "duration": 54,
    "start_time": "2022-09-19T09:20:11.075Z"
   },
   {
    "duration": 17,
    "start_time": "2022-09-19T09:20:18.138Z"
   },
   {
    "duration": 43,
    "start_time": "2022-09-19T09:20:48.310Z"
   },
   {
    "duration": 28,
    "start_time": "2022-09-19T09:21:09.236Z"
   },
   {
    "duration": 39,
    "start_time": "2022-09-19T09:21:25.376Z"
   },
   {
    "duration": 20,
    "start_time": "2022-09-19T09:23:26.528Z"
   },
   {
    "duration": 53,
    "start_time": "2022-09-19T09:25:21.352Z"
   },
   {
    "duration": 17,
    "start_time": "2022-09-19T09:25:55.953Z"
   },
   {
    "duration": 16,
    "start_time": "2022-09-19T09:25:58.454Z"
   },
   {
    "duration": 1830,
    "start_time": "2022-09-19T09:26:23.916Z"
   },
   {
    "duration": 39,
    "start_time": "2022-09-19T09:26:38.587Z"
   },
   {
    "duration": 11,
    "start_time": "2022-09-19T09:28:04.134Z"
   },
   {
    "duration": 10,
    "start_time": "2022-09-19T09:28:27.956Z"
   },
   {
    "duration": 51,
    "start_time": "2022-09-19T09:30:50.576Z"
   },
   {
    "duration": 46,
    "start_time": "2022-09-19T09:30:52.805Z"
   },
   {
    "duration": 51,
    "start_time": "2022-09-19T09:34:59.552Z"
   },
   {
    "duration": 14,
    "start_time": "2022-09-19T09:37:41.897Z"
   },
   {
    "duration": 0,
    "start_time": "2022-09-19T13:19:14.821Z"
   },
   {
    "duration": 48,
    "start_time": "2022-09-19T13:19:21.678Z"
   },
   {
    "duration": 4279,
    "start_time": "2022-09-19T13:19:29.440Z"
   },
   {
    "duration": 16,
    "start_time": "2022-09-19T13:19:44.003Z"
   },
   {
    "duration": 26,
    "start_time": "2022-09-19T13:21:41.519Z"
   },
   {
    "duration": 19,
    "start_time": "2022-09-19T13:22:44.674Z"
   },
   {
    "duration": 187,
    "start_time": "2022-09-19T13:23:24.552Z"
   },
   {
    "duration": 144,
    "start_time": "2022-09-19T13:26:24.311Z"
   },
   {
    "duration": 7,
    "start_time": "2022-09-19T13:27:02.217Z"
   },
   {
    "duration": 7,
    "start_time": "2022-09-19T13:27:08.418Z"
   },
   {
    "duration": 11,
    "start_time": "2022-09-19T13:27:40.388Z"
   },
   {
    "duration": 7,
    "start_time": "2022-09-19T13:27:52.366Z"
   },
   {
    "duration": 119,
    "start_time": "2022-09-19T13:28:57.291Z"
   },
   {
    "duration": 20,
    "start_time": "2022-09-19T13:39:30.614Z"
   },
   {
    "duration": 174,
    "start_time": "2022-09-19T13:39:36.316Z"
   },
   {
    "duration": 304,
    "start_time": "2022-09-19T13:41:43.844Z"
   },
   {
    "duration": 192,
    "start_time": "2022-09-19T13:41:49.977Z"
   },
   {
    "duration": 180,
    "start_time": "2022-09-19T13:42:15.701Z"
   },
   {
    "duration": 5,
    "start_time": "2022-09-19T13:42:39.610Z"
   },
   {
    "duration": 1584,
    "start_time": "2022-09-19T13:45:35.181Z"
   },
   {
    "duration": 7,
    "start_time": "2022-09-19T13:46:04.318Z"
   },
   {
    "duration": 995,
    "start_time": "2022-09-19T13:46:11.660Z"
   },
   {
    "duration": 804,
    "start_time": "2022-09-19T16:12:15.806Z"
   },
   {
    "duration": 16,
    "start_time": "2022-09-19T16:12:16.612Z"
   },
   {
    "duration": 3221,
    "start_time": "2022-09-19T16:12:16.640Z"
   },
   {
    "duration": 12,
    "start_time": "2022-09-19T16:12:19.863Z"
   },
   {
    "duration": 27,
    "start_time": "2022-09-19T16:12:19.877Z"
   },
   {
    "duration": 18,
    "start_time": "2022-09-19T16:12:19.906Z"
   },
   {
    "duration": 19,
    "start_time": "2022-09-19T16:12:19.926Z"
   },
   {
    "duration": 19,
    "start_time": "2022-09-19T16:12:19.947Z"
   },
   {
    "duration": 57,
    "start_time": "2022-09-19T16:12:19.967Z"
   },
   {
    "duration": 24,
    "start_time": "2022-09-19T16:12:20.204Z"
   },
   {
    "duration": 17,
    "start_time": "2022-09-19T16:12:20.568Z"
   },
   {
    "duration": 11,
    "start_time": "2022-09-19T16:12:20.932Z"
   },
   {
    "duration": 13,
    "start_time": "2022-09-19T16:12:21.108Z"
   },
   {
    "duration": 19,
    "start_time": "2022-09-19T16:12:21.478Z"
   },
   {
    "duration": 29,
    "start_time": "2022-09-19T16:12:21.814Z"
   },
   {
    "duration": 3101,
    "start_time": "2022-09-19T16:12:22.540Z"
   },
   {
    "duration": 29,
    "start_time": "2022-09-19T16:12:25.644Z"
   },
   {
    "duration": 15,
    "start_time": "2022-09-19T16:12:25.675Z"
   },
   {
    "duration": 69,
    "start_time": "2022-09-19T16:12:25.692Z"
   },
   {
    "duration": 35,
    "start_time": "2022-09-19T16:12:25.763Z"
   },
   {
    "duration": 42,
    "start_time": "2022-09-19T16:12:25.823Z"
   },
   {
    "duration": 3,
    "start_time": "2022-09-19T16:12:25.868Z"
   },
   {
    "duration": 14,
    "start_time": "2022-09-19T16:12:25.873Z"
   },
   {
    "duration": 45,
    "start_time": "2022-09-19T16:12:25.888Z"
   },
   {
    "duration": 38,
    "start_time": "2022-09-19T16:12:25.937Z"
   },
   {
    "duration": 59,
    "start_time": "2022-09-19T16:12:25.977Z"
   },
   {
    "duration": 4,
    "start_time": "2022-09-19T16:12:26.038Z"
   },
   {
    "duration": 354,
    "start_time": "2022-09-19T16:12:26.044Z"
   },
   {
    "duration": 22,
    "start_time": "2022-09-19T16:12:26.400Z"
   },
   {
    "duration": 14,
    "start_time": "2022-09-19T16:12:26.424Z"
   },
   {
    "duration": 17,
    "start_time": "2022-09-19T16:12:26.441Z"
   },
   {
    "duration": 5,
    "start_time": "2022-09-19T16:12:26.705Z"
   },
   {
    "duration": 325,
    "start_time": "2022-09-19T16:12:26.882Z"
   },
   {
    "duration": 3,
    "start_time": "2022-09-19T16:12:27.259Z"
   },
   {
    "duration": 252,
    "start_time": "2022-09-19T16:12:27.448Z"
   },
   {
    "duration": 25,
    "start_time": "2022-09-19T16:12:27.702Z"
   },
   {
    "duration": 2405,
    "start_time": "2022-09-19T16:12:28.204Z"
   },
   {
    "duration": 332,
    "start_time": "2022-09-19T16:12:30.611Z"
   },
   {
    "duration": 466,
    "start_time": "2022-09-19T16:12:30.946Z"
   },
   {
    "duration": 232,
    "start_time": "2022-09-19T16:12:31.414Z"
   },
   {
    "duration": 222,
    "start_time": "2022-09-19T16:12:31.648Z"
   },
   {
    "duration": 186,
    "start_time": "2022-09-19T16:12:31.873Z"
   },
   {
    "duration": 291,
    "start_time": "2022-09-19T16:12:32.061Z"
   },
   {
    "duration": 199,
    "start_time": "2022-09-19T16:12:32.354Z"
   },
   {
    "duration": 159,
    "start_time": "2022-09-19T16:12:32.555Z"
   },
   {
    "duration": 195,
    "start_time": "2022-09-19T16:12:32.716Z"
   },
   {
    "duration": 240,
    "start_time": "2022-09-19T16:12:32.914Z"
   },
   {
    "duration": 259,
    "start_time": "2022-09-19T16:12:33.156Z"
   },
   {
    "duration": 234,
    "start_time": "2022-09-19T16:12:33.420Z"
   },
   {
    "duration": 189,
    "start_time": "2022-09-19T16:12:33.655Z"
   },
   {
    "duration": 172,
    "start_time": "2022-09-19T16:12:33.846Z"
   },
   {
    "duration": 534,
    "start_time": "2022-09-19T16:12:34.347Z"
   },
   {
    "duration": 9,
    "start_time": "2022-09-19T16:12:34.883Z"
   },
   {
    "duration": 219,
    "start_time": "2022-09-19T16:12:35.644Z"
   },
   {
    "duration": 7,
    "start_time": "2022-09-19T16:12:35.864Z"
   },
   {
    "duration": 213,
    "start_time": "2022-09-19T16:12:36.429Z"
   },
   {
    "duration": 6,
    "start_time": "2022-09-19T16:12:36.645Z"
   },
   {
    "duration": 191,
    "start_time": "2022-09-19T16:12:37.173Z"
   },
   {
    "duration": 6,
    "start_time": "2022-09-19T16:12:37.379Z"
   },
   {
    "duration": 223,
    "start_time": "2022-09-19T16:12:37.966Z"
   },
   {
    "duration": 6,
    "start_time": "2022-09-19T16:12:38.191Z"
   },
   {
    "duration": 238,
    "start_time": "2022-09-19T16:12:38.732Z"
   },
   {
    "duration": 7,
    "start_time": "2022-09-19T16:12:38.973Z"
   },
   {
    "duration": 273,
    "start_time": "2022-09-19T16:12:39.497Z"
   },
   {
    "duration": 30,
    "start_time": "2022-09-19T16:12:40.066Z"
   },
   {
    "duration": 10,
    "start_time": "2022-09-19T16:12:40.445Z"
   },
   {
    "duration": 12,
    "start_time": "2022-09-19T16:12:41.115Z"
   },
   {
    "duration": 36,
    "start_time": "2022-09-19T16:12:41.522Z"
   },
   {
    "duration": 1944,
    "start_time": "2022-09-19T16:12:41.714Z"
   },
   {
    "duration": 0,
    "start_time": "2022-09-19T16:12:43.659Z"
   },
   {
    "duration": 226,
    "start_time": "2022-09-19T16:18:40.117Z"
   },
   {
    "duration": 6,
    "start_time": "2022-09-19T16:19:44.169Z"
   },
   {
    "duration": 252,
    "start_time": "2022-09-19T16:20:29.498Z"
   },
   {
    "duration": 514,
    "start_time": "2022-09-19T16:24:44.601Z"
   },
   {
    "duration": 1254,
    "start_time": "2022-09-19T16:29:40.832Z"
   },
   {
    "duration": 244,
    "start_time": "2022-09-19T16:29:45.250Z"
   },
   {
    "duration": 938,
    "start_time": "2022-09-19T16:29:57.443Z"
   },
   {
    "duration": 173,
    "start_time": "2022-09-19T16:34:07.133Z"
   },
   {
    "duration": 146,
    "start_time": "2022-09-19T16:35:40.838Z"
   },
   {
    "duration": 173,
    "start_time": "2022-09-19T16:36:30.694Z"
   },
   {
    "duration": 16,
    "start_time": "2022-09-19T16:43:43.702Z"
   },
   {
    "duration": 16,
    "start_time": "2022-09-19T16:43:48.300Z"
   },
   {
    "duration": 49,
    "start_time": "2022-09-19T18:59:55.184Z"
   },
   {
    "duration": 560,
    "start_time": "2022-09-19T19:00:05.092Z"
   },
   {
    "duration": 17,
    "start_time": "2022-09-19T19:00:05.654Z"
   },
   {
    "duration": 2619,
    "start_time": "2022-09-19T19:00:05.672Z"
   },
   {
    "duration": 17,
    "start_time": "2022-09-19T19:00:08.293Z"
   },
   {
    "duration": 8,
    "start_time": "2022-09-19T19:00:08.311Z"
   },
   {
    "duration": 9,
    "start_time": "2022-09-19T19:00:08.320Z"
   },
   {
    "duration": 13,
    "start_time": "2022-09-19T19:00:08.330Z"
   },
   {
    "duration": 15,
    "start_time": "2022-09-19T19:00:08.344Z"
   },
   {
    "duration": 13,
    "start_time": "2022-09-19T19:00:08.360Z"
   },
   {
    "duration": 18,
    "start_time": "2022-09-19T19:00:08.408Z"
   },
   {
    "duration": 17,
    "start_time": "2022-09-19T19:00:08.428Z"
   },
   {
    "duration": 5,
    "start_time": "2022-09-19T19:00:08.447Z"
   },
   {
    "duration": 13,
    "start_time": "2022-09-19T19:00:08.454Z"
   },
   {
    "duration": 46,
    "start_time": "2022-09-19T19:00:08.469Z"
   },
   {
    "duration": 17,
    "start_time": "2022-09-19T19:00:08.516Z"
   },
   {
    "duration": 2480,
    "start_time": "2022-09-19T19:00:08.535Z"
   },
   {
    "duration": 21,
    "start_time": "2022-09-19T19:00:11.017Z"
   },
   {
    "duration": 13,
    "start_time": "2022-09-19T19:00:11.040Z"
   },
   {
    "duration": 143,
    "start_time": "2022-09-19T19:00:11.054Z"
   },
   {
    "duration": 36,
    "start_time": "2022-09-19T19:00:11.199Z"
   },
   {
    "duration": 27,
    "start_time": "2022-09-19T19:00:11.237Z"
   },
   {
    "duration": 3,
    "start_time": "2022-09-19T19:00:11.265Z"
   },
   {
    "duration": 10,
    "start_time": "2022-09-19T19:00:11.269Z"
   },
   {
    "duration": 37,
    "start_time": "2022-09-19T19:00:11.281Z"
   },
   {
    "duration": 29,
    "start_time": "2022-09-19T19:00:11.320Z"
   },
   {
    "duration": 31,
    "start_time": "2022-09-19T19:00:11.351Z"
   },
   {
    "duration": 4,
    "start_time": "2022-09-19T19:00:11.384Z"
   },
   {
    "duration": 3,
    "start_time": "2022-09-19T19:00:11.411Z"
   },
   {
    "duration": 338,
    "start_time": "2022-09-19T19:00:11.416Z"
   },
   {
    "duration": 10,
    "start_time": "2022-09-19T19:00:11.756Z"
   },
   {
    "duration": 9,
    "start_time": "2022-09-19T19:00:11.768Z"
   },
   {
    "duration": 32,
    "start_time": "2022-09-19T19:00:11.779Z"
   },
   {
    "duration": 3,
    "start_time": "2022-09-19T19:00:11.812Z"
   },
   {
    "duration": 295,
    "start_time": "2022-09-19T19:00:11.817Z"
   },
   {
    "duration": 3,
    "start_time": "2022-09-19T19:00:12.115Z"
   },
   {
    "duration": 238,
    "start_time": "2022-09-19T19:00:12.120Z"
   },
   {
    "duration": 14,
    "start_time": "2022-09-19T19:00:12.360Z"
   },
   {
    "duration": 1967,
    "start_time": "2022-09-19T19:00:12.376Z"
   },
   {
    "duration": 237,
    "start_time": "2022-09-19T19:00:14.344Z"
   },
   {
    "duration": 368,
    "start_time": "2022-09-19T19:00:14.583Z"
   },
   {
    "duration": 185,
    "start_time": "2022-09-19T19:00:14.953Z"
   },
   {
    "duration": 178,
    "start_time": "2022-09-19T19:00:15.139Z"
   },
   {
    "duration": 149,
    "start_time": "2022-09-19T19:00:15.318Z"
   },
   {
    "duration": 244,
    "start_time": "2022-09-19T19:00:15.469Z"
   },
   {
    "duration": 166,
    "start_time": "2022-09-19T19:00:15.714Z"
   },
   {
    "duration": 129,
    "start_time": "2022-09-19T19:00:15.882Z"
   },
   {
    "duration": 163,
    "start_time": "2022-09-19T19:00:16.012Z"
   },
   {
    "duration": 203,
    "start_time": "2022-09-19T19:00:16.177Z"
   },
   {
    "duration": 218,
    "start_time": "2022-09-19T19:00:16.381Z"
   },
   {
    "duration": 188,
    "start_time": "2022-09-19T19:00:16.601Z"
   },
   {
    "duration": 162,
    "start_time": "2022-09-19T19:00:16.790Z"
   },
   {
    "duration": 134,
    "start_time": "2022-09-19T19:00:16.953Z"
   },
   {
    "duration": 441,
    "start_time": "2022-09-19T19:00:17.088Z"
   },
   {
    "duration": 7,
    "start_time": "2022-09-19T19:00:17.531Z"
   },
   {
    "duration": 184,
    "start_time": "2022-09-19T19:00:17.540Z"
   },
   {
    "duration": 5,
    "start_time": "2022-09-19T19:00:17.726Z"
   },
   {
    "duration": 207,
    "start_time": "2022-09-19T19:00:17.732Z"
   },
   {
    "duration": 5,
    "start_time": "2022-09-19T19:00:17.940Z"
   },
   {
    "duration": 172,
    "start_time": "2022-09-19T19:00:17.947Z"
   },
   {
    "duration": 6,
    "start_time": "2022-09-19T19:00:18.120Z"
   },
   {
    "duration": 203,
    "start_time": "2022-09-19T19:00:18.128Z"
   },
   {
    "duration": 6,
    "start_time": "2022-09-19T19:00:18.332Z"
   },
   {
    "duration": 183,
    "start_time": "2022-09-19T19:00:18.339Z"
   },
   {
    "duration": 6,
    "start_time": "2022-09-19T19:00:18.524Z"
   },
   {
    "duration": 249,
    "start_time": "2022-09-19T19:00:18.532Z"
   },
   {
    "duration": 35,
    "start_time": "2022-09-19T19:00:18.783Z"
   },
   {
    "duration": 9,
    "start_time": "2022-09-19T19:00:18.819Z"
   },
   {
    "duration": 9,
    "start_time": "2022-09-19T19:00:18.830Z"
   },
   {
    "duration": 21,
    "start_time": "2022-09-19T19:00:18.840Z"
   },
   {
    "duration": 193,
    "start_time": "2022-09-19T19:00:18.863Z"
   },
   {
    "duration": 45,
    "start_time": "2022-09-19T20:00:34.801Z"
   },
   {
    "duration": 663,
    "start_time": "2022-09-19T20:00:41.445Z"
   },
   {
    "duration": 15,
    "start_time": "2022-09-19T20:00:42.369Z"
   },
   {
    "duration": 2602,
    "start_time": "2022-09-19T20:00:43.421Z"
   },
   {
    "duration": 9,
    "start_time": "2022-09-19T20:00:48.869Z"
   },
   {
    "duration": 9,
    "start_time": "2022-09-19T20:00:54.835Z"
   },
   {
    "duration": 9,
    "start_time": "2022-09-19T20:01:02.074Z"
   },
   {
    "duration": 12,
    "start_time": "2022-09-19T20:07:34.754Z"
   },
   {
    "duration": 8,
    "start_time": "2022-09-19T20:07:37.819Z"
   },
   {
    "duration": 14,
    "start_time": "2022-09-19T20:07:54.186Z"
   },
   {
    "duration": 14,
    "start_time": "2022-09-19T20:07:59.766Z"
   },
   {
    "duration": 17,
    "start_time": "2022-09-19T20:08:02.113Z"
   },
   {
    "duration": 21,
    "start_time": "2022-09-19T20:10:47.470Z"
   },
   {
    "duration": 12,
    "start_time": "2022-09-19T20:10:48.381Z"
   },
   {
    "duration": 11,
    "start_time": "2022-09-19T20:11:05.721Z"
   },
   {
    "duration": 14,
    "start_time": "2022-09-19T20:11:07.846Z"
   },
   {
    "duration": 12,
    "start_time": "2022-09-19T20:11:15.748Z"
   },
   {
    "duration": 5,
    "start_time": "2022-09-19T20:11:16.600Z"
   },
   {
    "duration": 10,
    "start_time": "2022-09-19T20:11:17.040Z"
   },
   {
    "duration": 14,
    "start_time": "2022-09-19T20:11:17.934Z"
   },
   {
    "duration": 13,
    "start_time": "2022-09-19T20:11:19.306Z"
   },
   {
    "duration": 6,
    "start_time": "2022-09-19T20:14:37.652Z"
   },
   {
    "duration": 16,
    "start_time": "2022-09-19T20:14:42.013Z"
   },
   {
    "duration": 21,
    "start_time": "2022-09-19T20:14:45.596Z"
   },
   {
    "duration": 18,
    "start_time": "2022-09-19T20:14:48.293Z"
   },
   {
    "duration": 18,
    "start_time": "2022-09-19T20:17:49.986Z"
   },
   {
    "duration": 2498,
    "start_time": "2022-09-19T20:17:51.090Z"
   },
   {
    "duration": 20,
    "start_time": "2022-09-19T20:17:53.590Z"
   },
   {
    "duration": 12,
    "start_time": "2022-09-19T20:17:53.612Z"
   },
   {
    "duration": 26,
    "start_time": "2022-09-19T20:17:53.626Z"
   },
   {
    "duration": 24,
    "start_time": "2022-09-19T20:17:53.654Z"
   },
   {
    "duration": 44,
    "start_time": "2022-09-19T20:17:53.679Z"
   },
   {
    "duration": 3,
    "start_time": "2022-09-19T20:17:56.166Z"
   },
   {
    "duration": 8,
    "start_time": "2022-09-19T20:17:56.536Z"
   },
   {
    "duration": 16,
    "start_time": "2022-09-19T20:17:57.285Z"
   },
   {
    "duration": 26,
    "start_time": "2022-09-19T20:17:57.991Z"
   },
   {
    "duration": 29,
    "start_time": "2022-09-19T20:17:59.038Z"
   },
   {
    "duration": 15,
    "start_time": "2022-09-19T20:24:00.866Z"
   },
   {
    "duration": 3,
    "start_time": "2022-09-19T20:25:50.604Z"
   },
   {
    "duration": 240,
    "start_time": "2022-09-19T20:25:50.937Z"
   },
   {
    "duration": 12,
    "start_time": "2022-09-19T20:25:51.661Z"
   },
   {
    "duration": 11,
    "start_time": "2022-09-19T20:25:52.349Z"
   },
   {
    "duration": 13,
    "start_time": "2022-09-19T20:25:52.888Z"
   },
   {
    "duration": 4,
    "start_time": "2022-09-19T20:25:53.432Z"
   },
   {
    "duration": 223,
    "start_time": "2022-09-19T20:25:53.702Z"
   },
   {
    "duration": 3,
    "start_time": "2022-09-19T20:25:54.682Z"
   },
   {
    "duration": 181,
    "start_time": "2022-09-19T20:25:54.934Z"
   },
   {
    "duration": 12,
    "start_time": "2022-09-19T20:25:55.210Z"
   },
   {
    "duration": 1735,
    "start_time": "2022-09-19T20:25:57.781Z"
   },
   {
    "duration": 224,
    "start_time": "2022-09-19T20:25:59.518Z"
   },
   {
    "duration": 352,
    "start_time": "2022-09-19T20:25:59.894Z"
   },
   {
    "duration": 164,
    "start_time": "2022-09-19T20:26:00.947Z"
   },
   {
    "duration": 169,
    "start_time": "2022-09-19T20:26:01.603Z"
   },
   {
    "duration": 131,
    "start_time": "2022-09-19T20:26:02.040Z"
   },
   {
    "duration": 231,
    "start_time": "2022-09-19T20:26:02.438Z"
   },
   {
    "duration": 150,
    "start_time": "2022-09-19T20:26:02.845Z"
   },
   {
    "duration": 108,
    "start_time": "2022-09-19T20:26:03.266Z"
   },
   {
    "duration": 137,
    "start_time": "2022-09-19T20:26:03.681Z"
   },
   {
    "duration": 196,
    "start_time": "2022-09-19T20:26:04.086Z"
   },
   {
    "duration": 256,
    "start_time": "2022-09-19T20:26:04.484Z"
   },
   {
    "duration": 180,
    "start_time": "2022-09-19T20:26:04.856Z"
   },
   {
    "duration": 139,
    "start_time": "2022-09-19T20:26:05.177Z"
   },
   {
    "duration": 111,
    "start_time": "2022-09-19T20:26:05.876Z"
   },
   {
    "duration": 637,
    "start_time": "2022-09-20T15:54:32.787Z"
   },
   {
    "duration": 15,
    "start_time": "2022-09-20T15:54:33.426Z"
   },
   {
    "duration": 3170,
    "start_time": "2022-09-20T15:54:33.443Z"
   },
   {
    "duration": 11,
    "start_time": "2022-09-20T15:54:36.619Z"
   },
   {
    "duration": 18,
    "start_time": "2022-09-20T15:54:36.632Z"
   },
   {
    "duration": 9,
    "start_time": "2022-09-20T15:54:36.651Z"
   },
   {
    "duration": 19,
    "start_time": "2022-09-20T15:54:36.980Z"
   },
   {
    "duration": 16,
    "start_time": "2022-09-20T15:54:37.338Z"
   },
   {
    "duration": 13,
    "start_time": "2022-09-20T15:54:37.524Z"
   },
   {
    "duration": 18,
    "start_time": "2022-09-20T15:54:38.433Z"
   },
   {
    "duration": 31,
    "start_time": "2022-09-20T15:54:38.790Z"
   },
   {
    "duration": 6,
    "start_time": "2022-09-20T15:54:39.176Z"
   },
   {
    "duration": 17,
    "start_time": "2022-09-20T15:54:39.369Z"
   },
   {
    "duration": 26,
    "start_time": "2022-09-20T15:54:39.721Z"
   },
   {
    "duration": 38,
    "start_time": "2022-09-20T15:54:40.088Z"
   },
   {
    "duration": 3288,
    "start_time": "2022-09-20T15:54:41.074Z"
   },
   {
    "duration": 28,
    "start_time": "2022-09-20T15:54:44.364Z"
   },
   {
    "duration": 27,
    "start_time": "2022-09-20T15:54:44.393Z"
   },
   {
    "duration": 37,
    "start_time": "2022-09-20T15:54:44.423Z"
   },
   {
    "duration": 51,
    "start_time": "2022-09-20T15:54:44.462Z"
   },
   {
    "duration": 32,
    "start_time": "2022-09-20T15:54:44.515Z"
   },
   {
    "duration": 3,
    "start_time": "2022-09-20T15:54:44.574Z"
   },
   {
    "duration": 8,
    "start_time": "2022-09-20T15:54:44.955Z"
   },
   {
    "duration": 32,
    "start_time": "2022-09-20T15:54:45.503Z"
   },
   {
    "duration": 31,
    "start_time": "2022-09-20T15:54:46.030Z"
   },
   {
    "duration": 34,
    "start_time": "2022-09-20T15:54:46.927Z"
   },
   {
    "duration": 21,
    "start_time": "2022-09-20T15:54:47.487Z"
   },
   {
    "duration": 4,
    "start_time": "2022-09-20T15:54:50.923Z"
   },
   {
    "duration": 297,
    "start_time": "2022-09-20T15:54:51.404Z"
   },
   {
    "duration": 15,
    "start_time": "2022-09-20T15:54:52.289Z"
   },
   {
    "duration": 16,
    "start_time": "2022-09-20T15:54:53.188Z"
   },
   {
    "duration": 16,
    "start_time": "2022-09-20T15:54:53.975Z"
   },
   {
    "duration": 4,
    "start_time": "2022-09-20T15:54:54.770Z"
   },
   {
    "duration": 285,
    "start_time": "2022-09-20T15:54:55.121Z"
   },
   {
    "duration": 4,
    "start_time": "2022-09-20T15:54:55.913Z"
   },
   {
    "duration": 217,
    "start_time": "2022-09-20T15:54:56.317Z"
   },
   {
    "duration": 16,
    "start_time": "2022-09-20T15:54:56.715Z"
   },
   {
    "duration": 2390,
    "start_time": "2022-09-20T15:54:59.573Z"
   },
   {
    "duration": 368,
    "start_time": "2022-09-20T15:55:01.966Z"
   },
   {
    "duration": 490,
    "start_time": "2022-09-20T15:55:02.337Z"
   },
   {
    "duration": 215,
    "start_time": "2022-09-20T15:55:03.321Z"
   },
   {
    "duration": 199,
    "start_time": "2022-09-20T15:55:04.134Z"
   },
   {
    "duration": 168,
    "start_time": "2022-09-20T15:55:04.972Z"
   },
   {
    "duration": 274,
    "start_time": "2022-09-20T15:55:06.157Z"
   },
   {
    "duration": 187,
    "start_time": "2022-09-20T15:55:06.870Z"
   },
   {
    "duration": 145,
    "start_time": "2022-09-20T15:55:07.687Z"
   },
   {
    "duration": 172,
    "start_time": "2022-09-20T15:55:08.452Z"
   },
   {
    "duration": 242,
    "start_time": "2022-09-20T15:55:09.332Z"
   },
   {
    "duration": 331,
    "start_time": "2022-09-20T15:55:10.089Z"
   },
   {
    "duration": 210,
    "start_time": "2022-09-20T15:55:10.943Z"
   },
   {
    "duration": 173,
    "start_time": "2022-09-20T15:55:12.002Z"
   },
   {
    "duration": 133,
    "start_time": "2022-09-20T15:55:12.852Z"
   },
   {
    "duration": 14,
    "start_time": "2022-09-20T16:05:49.115Z"
   },
   {
    "duration": 11,
    "start_time": "2022-09-20T16:07:02.709Z"
   },
   {
    "duration": 12,
    "start_time": "2022-09-20T16:07:51.027Z"
   },
   {
    "duration": 8,
    "start_time": "2022-09-20T16:08:26.241Z"
   },
   {
    "duration": 9,
    "start_time": "2022-09-20T16:10:13.864Z"
   },
   {
    "duration": 9,
    "start_time": "2022-09-20T16:10:41.226Z"
   },
   {
    "duration": 9,
    "start_time": "2022-09-20T16:11:13.756Z"
   },
   {
    "duration": 9,
    "start_time": "2022-09-20T16:11:51.550Z"
   },
   {
    "duration": 10,
    "start_time": "2022-09-20T16:12:14.808Z"
   },
   {
    "duration": 14,
    "start_time": "2022-09-20T16:13:03.905Z"
   },
   {
    "duration": 10,
    "start_time": "2022-09-20T16:13:42.844Z"
   },
   {
    "duration": 148,
    "start_time": "2022-09-20T16:14:18.352Z"
   },
   {
    "duration": 629,
    "start_time": "2022-09-20T16:14:20.004Z"
   },
   {
    "duration": 8,
    "start_time": "2022-09-20T16:14:21.378Z"
   },
   {
    "duration": 188,
    "start_time": "2022-09-20T16:14:24.380Z"
   },
   {
    "duration": 5,
    "start_time": "2022-09-20T16:14:24.677Z"
   },
   {
    "duration": 206,
    "start_time": "2022-09-20T16:14:25.352Z"
   },
   {
    "duration": 5,
    "start_time": "2022-09-20T16:14:25.560Z"
   },
   {
    "duration": 193,
    "start_time": "2022-09-20T16:14:26.073Z"
   },
   {
    "duration": 5,
    "start_time": "2022-09-20T16:14:26.268Z"
   },
   {
    "duration": 187,
    "start_time": "2022-09-20T16:14:26.816Z"
   },
   {
    "duration": 6,
    "start_time": "2022-09-20T16:14:27.006Z"
   },
   {
    "duration": 197,
    "start_time": "2022-09-20T16:14:27.517Z"
   },
   {
    "duration": 11,
    "start_time": "2022-09-20T16:14:27.717Z"
   },
   {
    "duration": 145,
    "start_time": "2022-09-20T16:24:46.711Z"
   },
   {
    "duration": 858,
    "start_time": "2022-09-20T16:24:54.034Z"
   },
   {
    "duration": 5,
    "start_time": "2022-09-20T16:25:03.210Z"
   },
   {
    "duration": 86,
    "start_time": "2022-09-20T16:26:14.396Z"
   },
   {
    "duration": 106,
    "start_time": "2022-09-20T16:26:17.848Z"
   },
   {
    "duration": 100,
    "start_time": "2022-09-20T16:26:33.214Z"
   },
   {
    "duration": 155,
    "start_time": "2022-09-20T16:26:46.346Z"
   },
   {
    "duration": 264,
    "start_time": "2022-09-20T16:27:19.419Z"
   },
   {
    "duration": 13,
    "start_time": "2022-09-20T16:27:19.685Z"
   },
   {
    "duration": 260,
    "start_time": "2022-09-20T16:27:19.854Z"
   },
   {
    "duration": 10,
    "start_time": "2022-09-20T16:27:20.116Z"
   },
   {
    "duration": 188,
    "start_time": "2022-09-20T16:27:20.298Z"
   },
   {
    "duration": 9,
    "start_time": "2022-09-20T16:27:20.488Z"
   },
   {
    "duration": 203,
    "start_time": "2022-09-20T16:27:20.755Z"
   },
   {
    "duration": 9,
    "start_time": "2022-09-20T16:27:20.961Z"
   },
   {
    "duration": 147,
    "start_time": "2022-09-20T16:27:21.197Z"
   },
   {
    "duration": 9,
    "start_time": "2022-09-20T16:27:21.349Z"
   },
   {
    "duration": 323,
    "start_time": "2022-09-20T16:27:21.680Z"
   },
   {
    "duration": 11,
    "start_time": "2022-09-20T16:27:22.006Z"
   },
   {
    "duration": 185,
    "start_time": "2022-09-20T16:27:22.128Z"
   },
   {
    "duration": 9,
    "start_time": "2022-09-20T16:27:22.401Z"
   },
   {
    "duration": 137,
    "start_time": "2022-09-20T16:27:22.769Z"
   },
   {
    "duration": 168,
    "start_time": "2022-09-20T16:27:23.106Z"
   },
   {
    "duration": 14,
    "start_time": "2022-09-20T16:27:23.276Z"
   },
   {
    "duration": 203,
    "start_time": "2022-09-20T16:27:23.704Z"
   },
   {
    "duration": 12,
    "start_time": "2022-09-20T16:27:23.910Z"
   },
   {
    "duration": 471,
    "start_time": "2022-09-20T16:27:24.286Z"
   },
   {
    "duration": 10,
    "start_time": "2022-09-20T16:27:24.758Z"
   },
   {
    "duration": 200,
    "start_time": "2022-09-20T16:27:24.832Z"
   },
   {
    "duration": 10,
    "start_time": "2022-09-20T16:27:25.034Z"
   },
   {
    "duration": 157,
    "start_time": "2022-09-20T16:27:25.386Z"
   },
   {
    "duration": 129,
    "start_time": "2022-09-20T16:27:25.838Z"
   },
   {
    "duration": 330,
    "start_time": "2022-09-20T16:27:27.310Z"
   },
   {
    "duration": 9,
    "start_time": "2022-09-20T16:27:27.701Z"
   },
   {
    "duration": 155,
    "start_time": "2022-09-20T16:27:29.163Z"
   },
   {
    "duration": 7,
    "start_time": "2022-09-20T16:27:29.354Z"
   },
   {
    "duration": 174,
    "start_time": "2022-09-20T16:27:30.467Z"
   },
   {
    "duration": 7,
    "start_time": "2022-09-20T16:27:30.651Z"
   },
   {
    "duration": 173,
    "start_time": "2022-09-20T16:27:31.200Z"
   },
   {
    "duration": 15,
    "start_time": "2022-09-20T16:27:31.376Z"
   },
   {
    "duration": 214,
    "start_time": "2022-09-20T16:27:31.899Z"
   },
   {
    "duration": 6,
    "start_time": "2022-09-20T16:27:32.115Z"
   },
   {
    "duration": 140,
    "start_time": "2022-09-20T16:27:32.598Z"
   },
   {
    "duration": 6,
    "start_time": "2022-09-20T16:27:32.774Z"
   },
   {
    "duration": 812,
    "start_time": "2022-09-20T16:27:34.114Z"
   },
   {
    "duration": 690,
    "start_time": "2022-09-20T16:27:42.700Z"
   },
   {
    "duration": 8,
    "start_time": "2022-09-20T16:30:07.086Z"
   },
   {
    "duration": 10,
    "start_time": "2022-09-20T16:31:57.613Z"
   },
   {
    "duration": 62,
    "start_time": "2022-09-20T16:32:13.835Z"
   },
   {
    "duration": 12,
    "start_time": "2022-09-20T16:32:45.335Z"
   },
   {
    "duration": 12,
    "start_time": "2022-09-20T16:33:12.100Z"
   },
   {
    "duration": 14,
    "start_time": "2022-09-20T16:33:32.162Z"
   },
   {
    "duration": 12,
    "start_time": "2022-09-20T16:42:24.191Z"
   },
   {
    "duration": 19,
    "start_time": "2022-09-20T16:42:30.818Z"
   },
   {
    "duration": 173,
    "start_time": "2022-09-20T16:43:33.065Z"
   },
   {
    "duration": 174,
    "start_time": "2022-09-20T16:43:33.693Z"
   },
   {
    "duration": 158,
    "start_time": "2022-09-20T16:43:34.308Z"
   },
   {
    "duration": 5,
    "start_time": "2022-09-20T16:45:34.963Z"
   },
   {
    "duration": 6,
    "start_time": "2022-09-20T16:46:04.801Z"
   },
   {
    "duration": 6,
    "start_time": "2022-09-20T16:46:22.109Z"
   },
   {
    "duration": 161,
    "start_time": "2022-09-20T16:47:41.000Z"
   },
   {
    "duration": 5,
    "start_time": "2022-09-20T16:47:44.098Z"
   },
   {
    "duration": 152,
    "start_time": "2022-09-20T16:47:44.440Z"
   },
   {
    "duration": 159,
    "start_time": "2022-09-20T16:47:52.833Z"
   },
   {
    "duration": 12,
    "start_time": "2022-09-20T16:51:04.077Z"
   },
   {
    "duration": 7,
    "start_time": "2022-09-20T16:51:40.062Z"
   },
   {
    "duration": 10,
    "start_time": "2022-09-20T16:51:54.761Z"
   },
   {
    "duration": 16,
    "start_time": "2022-09-20T16:54:51.772Z"
   },
   {
    "duration": 18,
    "start_time": "2022-09-20T16:55:07.870Z"
   },
   {
    "duration": 22,
    "start_time": "2022-09-20T17:04:52.690Z"
   },
   {
    "duration": 30,
    "start_time": "2022-09-20T17:06:31.327Z"
   },
   {
    "duration": 23,
    "start_time": "2022-09-20T17:07:28.960Z"
   },
   {
    "duration": 23,
    "start_time": "2022-09-20T17:10:14.050Z"
   },
   {
    "duration": 31,
    "start_time": "2022-09-20T17:10:28.977Z"
   },
   {
    "duration": 184,
    "start_time": "2022-09-20T17:10:49.191Z"
   },
   {
    "duration": 2067,
    "start_time": "2022-09-20T17:12:47.024Z"
   },
   {
    "duration": 153,
    "start_time": "2022-09-20T17:12:56.977Z"
   },
   {
    "duration": 158,
    "start_time": "2022-09-20T17:13:12.571Z"
   },
   {
    "duration": 161,
    "start_time": "2022-09-20T17:13:13.420Z"
   },
   {
    "duration": 156,
    "start_time": "2022-09-20T17:13:13.881Z"
   },
   {
    "duration": 187,
    "start_time": "2022-09-20T17:14:03.283Z"
   },
   {
    "duration": 136,
    "start_time": "2022-09-20T17:15:27.662Z"
   },
   {
    "duration": 174,
    "start_time": "2022-09-20T17:15:47.036Z"
   },
   {
    "duration": 171,
    "start_time": "2022-09-20T17:18:21.087Z"
   },
   {
    "duration": 177,
    "start_time": "2022-09-20T17:18:21.307Z"
   },
   {
    "duration": 166,
    "start_time": "2022-09-20T17:18:22.134Z"
   },
   {
    "duration": 817,
    "start_time": "2022-09-21T16:54:11.695Z"
   },
   {
    "duration": 16,
    "start_time": "2022-09-21T16:54:12.514Z"
   },
   {
    "duration": 3089,
    "start_time": "2022-09-21T16:54:12.532Z"
   },
   {
    "duration": 11,
    "start_time": "2022-09-21T16:54:15.622Z"
   },
   {
    "duration": 18,
    "start_time": "2022-09-21T16:54:15.635Z"
   },
   {
    "duration": 13,
    "start_time": "2022-09-21T16:54:15.655Z"
   },
   {
    "duration": 20,
    "start_time": "2022-09-21T16:54:15.669Z"
   },
   {
    "duration": 17,
    "start_time": "2022-09-21T16:54:15.691Z"
   },
   {
    "duration": 14,
    "start_time": "2022-09-21T16:54:15.710Z"
   },
   {
    "duration": 49,
    "start_time": "2022-09-21T16:54:15.726Z"
   },
   {
    "duration": 17,
    "start_time": "2022-09-21T16:54:15.777Z"
   },
   {
    "duration": 9,
    "start_time": "2022-09-21T16:54:15.796Z"
   },
   {
    "duration": 48,
    "start_time": "2022-09-21T16:54:15.807Z"
   },
   {
    "duration": 34,
    "start_time": "2022-09-21T16:54:15.860Z"
   },
   {
    "duration": 22,
    "start_time": "2022-09-21T16:54:15.896Z"
   },
   {
    "duration": 3129,
    "start_time": "2022-09-21T16:54:15.920Z"
   },
   {
    "duration": 24,
    "start_time": "2022-09-21T16:54:19.050Z"
   },
   {
    "duration": 21,
    "start_time": "2022-09-21T16:54:19.076Z"
   },
   {
    "duration": 59,
    "start_time": "2022-09-21T16:54:19.098Z"
   },
   {
    "duration": 33,
    "start_time": "2022-09-21T16:54:19.161Z"
   },
   {
    "duration": 32,
    "start_time": "2022-09-21T16:54:19.196Z"
   },
   {
    "duration": 26,
    "start_time": "2022-09-21T16:54:19.230Z"
   },
   {
    "duration": 26,
    "start_time": "2022-09-21T16:54:19.258Z"
   },
   {
    "duration": 24,
    "start_time": "2022-09-21T16:54:19.286Z"
   },
   {
    "duration": 31,
    "start_time": "2022-09-21T16:54:19.313Z"
   },
   {
    "duration": 48,
    "start_time": "2022-09-21T16:54:19.346Z"
   },
   {
    "duration": 14,
    "start_time": "2022-09-21T16:54:19.396Z"
   },
   {
    "duration": 4,
    "start_time": "2022-09-21T16:54:19.412Z"
   },
   {
    "duration": 333,
    "start_time": "2022-09-21T16:54:19.417Z"
   },
   {
    "duration": 15,
    "start_time": "2022-09-21T16:54:19.764Z"
   },
   {
    "duration": 12,
    "start_time": "2022-09-21T16:54:19.781Z"
   },
   {
    "duration": 22,
    "start_time": "2022-09-21T16:54:19.794Z"
   },
   {
    "duration": 3,
    "start_time": "2022-09-21T16:54:19.818Z"
   },
   {
    "duration": 290,
    "start_time": "2022-09-21T16:54:19.823Z"
   },
   {
    "duration": 3,
    "start_time": "2022-09-21T16:54:20.115Z"
   },
   {
    "duration": 232,
    "start_time": "2022-09-21T16:54:20.120Z"
   },
   {
    "duration": 17,
    "start_time": "2022-09-21T16:54:20.365Z"
   },
   {
    "duration": 2287,
    "start_time": "2022-09-21T16:54:20.384Z"
   },
   {
    "duration": 286,
    "start_time": "2022-09-21T16:54:22.673Z"
   },
   {
    "duration": 11,
    "start_time": "2022-09-21T16:54:22.962Z"
   },
   {
    "duration": 433,
    "start_time": "2022-09-21T16:54:22.979Z"
   },
   {
    "duration": 9,
    "start_time": "2022-09-21T16:54:23.413Z"
   },
   {
    "duration": 214,
    "start_time": "2022-09-21T16:54:23.424Z"
   },
   {
    "duration": 21,
    "start_time": "2022-09-21T16:54:23.639Z"
   },
   {
    "duration": 211,
    "start_time": "2022-09-21T16:54:23.662Z"
   },
   {
    "duration": 9,
    "start_time": "2022-09-21T16:54:23.875Z"
   },
   {
    "duration": 169,
    "start_time": "2022-09-21T16:54:23.886Z"
   },
   {
    "duration": 13,
    "start_time": "2022-09-21T16:54:24.058Z"
   },
   {
    "duration": 280,
    "start_time": "2022-09-21T16:54:24.073Z"
   },
   {
    "duration": 16,
    "start_time": "2022-09-21T16:54:24.361Z"
   },
   {
    "duration": 196,
    "start_time": "2022-09-21T16:54:24.379Z"
   },
   {
    "duration": 10,
    "start_time": "2022-09-21T16:54:24.578Z"
   },
   {
    "duration": 155,
    "start_time": "2022-09-21T16:54:24.590Z"
   },
   {
    "duration": 182,
    "start_time": "2022-09-21T16:54:24.759Z"
   },
   {
    "duration": 24,
    "start_time": "2022-09-21T16:54:24.942Z"
   },
   {
    "duration": 228,
    "start_time": "2022-09-21T16:54:24.969Z"
   },
   {
    "duration": 10,
    "start_time": "2022-09-21T16:54:25.199Z"
   },
   {
    "duration": 282,
    "start_time": "2022-09-21T16:54:25.210Z"
   },
   {
    "duration": 16,
    "start_time": "2022-09-21T16:54:25.494Z"
   },
   {
    "duration": 254,
    "start_time": "2022-09-21T16:54:25.512Z"
   },
   {
    "duration": 10,
    "start_time": "2022-09-21T16:54:25.768Z"
   },
   {
    "duration": 164,
    "start_time": "2022-09-21T16:54:25.780Z"
   },
   {
    "duration": 155,
    "start_time": "2022-09-21T16:54:25.946Z"
   },
   {
    "duration": 591,
    "start_time": "2022-09-21T16:54:26.103Z"
   },
   {
    "duration": 10,
    "start_time": "2022-09-21T16:54:26.696Z"
   },
   {
    "duration": 211,
    "start_time": "2022-09-21T16:54:26.708Z"
   },
   {
    "duration": 6,
    "start_time": "2022-09-21T16:54:26.921Z"
   },
   {
    "duration": 211,
    "start_time": "2022-09-21T16:54:26.928Z"
   },
   {
    "duration": 14,
    "start_time": "2022-09-21T16:54:27.141Z"
   },
   {
    "duration": 203,
    "start_time": "2022-09-21T16:54:27.157Z"
   },
   {
    "duration": 8,
    "start_time": "2022-09-21T16:54:27.363Z"
   },
   {
    "duration": 209,
    "start_time": "2022-09-21T16:54:27.373Z"
   },
   {
    "duration": 5,
    "start_time": "2022-09-21T16:54:27.584Z"
   },
   {
    "duration": 182,
    "start_time": "2022-09-21T16:54:27.591Z"
   },
   {
    "duration": 18,
    "start_time": "2022-09-21T16:54:27.775Z"
   },
   {
    "duration": 18,
    "start_time": "2022-09-21T16:54:27.795Z"
   },
   {
    "duration": 11,
    "start_time": "2022-09-21T16:54:27.815Z"
   },
   {
    "duration": 192,
    "start_time": "2022-09-21T16:54:27.828Z"
   },
   {
    "duration": 181,
    "start_time": "2022-09-21T16:54:28.022Z"
   },
   {
    "duration": 196,
    "start_time": "2022-09-21T16:54:28.204Z"
   },
   {
    "duration": 191,
    "start_time": "2022-09-21T16:54:28.401Z"
   },
   {
    "duration": 181,
    "start_time": "2022-09-21T16:54:28.594Z"
   },
   {
    "duration": 172,
    "start_time": "2022-09-21T16:54:28.777Z"
   },
   {
    "duration": 36,
    "start_time": "2022-09-21T16:54:28.953Z"
   },
   {
    "duration": 9,
    "start_time": "2022-09-21T16:54:28.991Z"
   },
   {
    "duration": 14,
    "start_time": "2022-09-21T16:54:29.001Z"
   },
   {
    "duration": 40,
    "start_time": "2022-09-21T16:54:29.017Z"
   },
   {
    "duration": 82,
    "start_time": "2022-09-21T16:54:29.060Z"
   },
   {
    "duration": 112,
    "start_time": "2022-09-22T17:12:55.308Z"
   },
   {
    "duration": 110,
    "start_time": "2022-09-22T17:12:55.874Z"
   },
   {
    "duration": 17,
    "start_time": "2022-09-22T17:12:56.350Z"
   },
   {
    "duration": 2776,
    "start_time": "2022-09-22T17:12:56.761Z"
   },
   {
    "duration": 11,
    "start_time": "2022-09-22T17:12:59.539Z"
   },
   {
    "duration": 10,
    "start_time": "2022-09-22T17:13:00.267Z"
   },
   {
    "duration": 19,
    "start_time": "2022-09-22T17:13:01.381Z"
   },
   {
    "duration": 17,
    "start_time": "2022-09-22T17:13:14.637Z"
   },
   {
    "duration": 17,
    "start_time": "2022-09-22T17:14:55.565Z"
   },
   {
    "duration": 1498,
    "start_time": "2022-09-22T17:22:39.038Z"
   },
   {
    "duration": 1535,
    "start_time": "2022-09-22T17:22:47.114Z"
   },
   {
    "duration": 8,
    "start_time": "2022-09-22T17:23:21.233Z"
   },
   {
    "duration": 7,
    "start_time": "2022-09-22T17:23:42.242Z"
   },
   {
    "duration": 9,
    "start_time": "2022-09-22T17:24:44.236Z"
   },
   {
    "duration": 1348,
    "start_time": "2022-09-22T17:24:49.243Z"
   },
   {
    "duration": 8,
    "start_time": "2022-09-22T17:25:29.601Z"
   },
   {
    "duration": 1843,
    "start_time": "2022-09-22T17:25:44.062Z"
   },
   {
    "duration": 8,
    "start_time": "2022-09-22T17:26:06.280Z"
   },
   {
    "duration": 12,
    "start_time": "2022-09-22T17:26:16.944Z"
   },
   {
    "duration": 5,
    "start_time": "2022-09-22T17:26:25.035Z"
   },
   {
    "duration": 10,
    "start_time": "2022-09-22T17:26:58.203Z"
   },
   {
    "duration": 4,
    "start_time": "2022-09-22T17:27:06.143Z"
   },
   {
    "duration": 5,
    "start_time": "2022-09-22T17:27:40.016Z"
   },
   {
    "duration": 7,
    "start_time": "2022-09-22T17:29:48.043Z"
   },
   {
    "duration": 4,
    "start_time": "2022-09-22T17:30:17.316Z"
   },
   {
    "duration": 5,
    "start_time": "2022-09-22T17:30:48.749Z"
   },
   {
    "duration": 4,
    "start_time": "2022-09-22T17:37:40.778Z"
   },
   {
    "duration": 3,
    "start_time": "2022-09-22T17:38:45.952Z"
   },
   {
    "duration": 305,
    "start_time": "2022-09-22T17:38:46.853Z"
   },
   {
    "duration": 4,
    "start_time": "2022-09-22T17:39:54.570Z"
   },
   {
    "duration": 19,
    "start_time": "2022-09-22T17:39:55.061Z"
   },
   {
    "duration": 16,
    "start_time": "2022-09-22T17:43:14.256Z"
   },
   {
    "duration": 5,
    "start_time": "2022-09-22T17:44:43.459Z"
   },
   {
    "duration": 19,
    "start_time": "2022-09-22T17:49:01.861Z"
   },
   {
    "duration": 3,
    "start_time": "2022-09-22T17:55:06.362Z"
   },
   {
    "duration": 36,
    "start_time": "2022-09-22T17:55:06.858Z"
   },
   {
    "duration": 5,
    "start_time": "2022-09-22T17:57:28.308Z"
   },
   {
    "duration": 40,
    "start_time": "2022-09-22T17:57:29.275Z"
   },
   {
    "duration": 4,
    "start_time": "2022-09-22T17:57:36.239Z"
   },
   {
    "duration": 37,
    "start_time": "2022-09-22T17:57:36.779Z"
   },
   {
    "duration": 19,
    "start_time": "2022-09-22T17:57:37.386Z"
   },
   {
    "duration": 6,
    "start_time": "2022-09-22T17:57:44.599Z"
   },
   {
    "duration": 36,
    "start_time": "2022-09-22T17:57:59.673Z"
   },
   {
    "duration": 4,
    "start_time": "2022-09-22T17:58:39.474Z"
   },
   {
    "duration": 5,
    "start_time": "2022-09-22T17:59:09.907Z"
   },
   {
    "duration": 1171,
    "start_time": "2022-09-22T18:01:53.875Z"
   },
   {
    "duration": 6,
    "start_time": "2022-09-22T18:04:12.675Z"
   },
   {
    "duration": 5,
    "start_time": "2022-09-22T18:21:22.014Z"
   },
   {
    "duration": 1494,
    "start_time": "2022-09-22T18:21:22.742Z"
   },
   {
    "duration": 1375,
    "start_time": "2022-09-22T18:21:55.651Z"
   },
   {
    "duration": 1351,
    "start_time": "2022-09-22T18:22:33.086Z"
   },
   {
    "duration": 1469,
    "start_time": "2022-09-22T18:22:43.077Z"
   },
   {
    "duration": 236,
    "start_time": "2022-09-22T18:23:50.436Z"
   },
   {
    "duration": 14,
    "start_time": "2022-09-22T18:24:08.858Z"
   },
   {
    "duration": 203,
    "start_time": "2022-09-22T18:25:50.642Z"
   },
   {
    "duration": 551,
    "start_time": "2022-09-22T18:26:26.056Z"
   },
   {
    "duration": 16,
    "start_time": "2022-09-22T18:26:26.609Z"
   },
   {
    "duration": 2955,
    "start_time": "2022-09-22T18:26:26.706Z"
   },
   {
    "duration": 11,
    "start_time": "2022-09-22T18:26:29.663Z"
   },
   {
    "duration": 18,
    "start_time": "2022-09-22T18:26:29.676Z"
   },
   {
    "duration": 21,
    "start_time": "2022-09-22T18:26:29.704Z"
   },
   {
    "duration": 4,
    "start_time": "2022-09-22T18:26:29.727Z"
   },
   {
    "duration": 7,
    "start_time": "2022-09-22T18:26:29.733Z"
   },
   {
    "duration": 224,
    "start_time": "2022-09-22T18:26:29.742Z"
   },
   {
    "duration": 12,
    "start_time": "2022-09-22T18:26:29.969Z"
   },
   {
    "duration": 18,
    "start_time": "2022-09-22T18:26:31.435Z"
   },
   {
    "duration": 27,
    "start_time": "2022-09-22T18:26:31.774Z"
   },
   {
    "duration": 23,
    "start_time": "2022-09-22T18:26:31.947Z"
   },
   {
    "duration": 78,
    "start_time": "2022-09-22T18:26:32.813Z"
   },
   {
    "duration": 12,
    "start_time": "2022-09-22T18:26:33.135Z"
   },
   {
    "duration": 6,
    "start_time": "2022-09-22T18:26:33.471Z"
   },
   {
    "duration": 16,
    "start_time": "2022-09-22T18:26:33.637Z"
   },
   {
    "duration": 22,
    "start_time": "2022-09-22T18:26:33.963Z"
   },
   {
    "duration": 21,
    "start_time": "2022-09-22T18:26:34.303Z"
   },
   {
    "duration": 2626,
    "start_time": "2022-09-22T18:26:35.119Z"
   },
   {
    "duration": 59,
    "start_time": "2022-09-22T18:26:37.747Z"
   },
   {
    "duration": 168,
    "start_time": "2022-09-22T18:26:37.808Z"
   },
   {
    "duration": 42,
    "start_time": "2022-09-22T18:26:37.978Z"
   },
   {
    "duration": 31,
    "start_time": "2022-09-22T18:26:38.022Z"
   },
   {
    "duration": 57,
    "start_time": "2022-09-22T18:26:38.055Z"
   },
   {
    "duration": 4,
    "start_time": "2022-09-22T18:26:38.114Z"
   },
   {
    "duration": 15,
    "start_time": "2022-09-22T18:26:38.119Z"
   },
   {
    "duration": 18,
    "start_time": "2022-09-22T18:26:38.135Z"
   },
   {
    "duration": 60,
    "start_time": "2022-09-22T18:26:38.155Z"
   },
   {
    "duration": 46,
    "start_time": "2022-09-22T18:26:38.559Z"
   },
   {
    "duration": 26,
    "start_time": "2022-09-22T18:26:38.901Z"
   },
   {
    "duration": 4,
    "start_time": "2022-09-22T18:26:40.688Z"
   },
   {
    "duration": 295,
    "start_time": "2022-09-22T18:26:44.539Z"
   },
   {
    "duration": 13,
    "start_time": "2022-09-22T18:26:45.076Z"
   },
   {
    "duration": 15,
    "start_time": "2022-09-22T18:26:45.511Z"
   },
   {
    "duration": 16,
    "start_time": "2022-09-22T18:26:45.927Z"
   },
   {
    "duration": 5,
    "start_time": "2022-09-22T18:26:46.312Z"
   },
   {
    "duration": 328,
    "start_time": "2022-09-22T18:26:46.513Z"
   },
   {
    "duration": 8,
    "start_time": "2022-09-22T18:26:46.909Z"
   },
   {
    "duration": 242,
    "start_time": "2022-09-22T18:26:47.116Z"
   },
   {
    "duration": 21,
    "start_time": "2022-09-22T18:26:47.361Z"
   },
   {
    "duration": 2382,
    "start_time": "2022-09-22T18:26:48.541Z"
   },
   {
    "duration": 336,
    "start_time": "2022-09-22T18:26:50.925Z"
   },
   {
    "duration": 9,
    "start_time": "2022-09-22T18:26:51.263Z"
   },
   {
    "duration": 294,
    "start_time": "2022-09-22T18:26:51.275Z"
   },
   {
    "duration": 18,
    "start_time": "2022-09-22T18:26:51.571Z"
   },
   {
    "duration": 443,
    "start_time": "2022-09-22T18:26:51.595Z"
   },
   {
    "duration": 12,
    "start_time": "2022-09-22T18:26:52.041Z"
   },
   {
    "duration": 288,
    "start_time": "2022-09-22T18:26:52.056Z"
   },
   {
    "duration": 9,
    "start_time": "2022-09-22T18:26:52.347Z"
   },
   {
    "duration": 177,
    "start_time": "2022-09-22T18:26:52.359Z"
   },
   {
    "duration": 11,
    "start_time": "2022-09-22T18:26:52.537Z"
   },
   {
    "duration": 305,
    "start_time": "2022-09-22T18:26:52.550Z"
   },
   {
    "duration": 10,
    "start_time": "2022-09-22T18:26:52.857Z"
   },
   {
    "duration": 208,
    "start_time": "2022-09-22T18:26:52.869Z"
   },
   {
    "duration": 28,
    "start_time": "2022-09-22T18:26:53.080Z"
   },
   {
    "duration": 162,
    "start_time": "2022-09-22T18:26:53.266Z"
   },
   {
    "duration": 261,
    "start_time": "2022-09-22T18:26:53.652Z"
   },
   {
    "duration": 12,
    "start_time": "2022-09-22T18:26:53.915Z"
   },
   {
    "duration": 255,
    "start_time": "2022-09-22T18:26:54.247Z"
   },
   {
    "duration": 10,
    "start_time": "2022-09-22T18:26:54.505Z"
   },
   {
    "duration": 270,
    "start_time": "2022-09-22T18:26:54.836Z"
   },
   {
    "duration": 12,
    "start_time": "2022-09-22T18:26:55.108Z"
   },
   {
    "duration": 222,
    "start_time": "2022-09-22T18:26:55.408Z"
   },
   {
    "duration": 10,
    "start_time": "2022-09-22T18:26:55.632Z"
   },
   {
    "duration": 155,
    "start_time": "2022-09-22T18:26:56.014Z"
   },
   {
    "duration": 167,
    "start_time": "2022-09-22T18:26:56.412Z"
   },
   {
    "duration": 570,
    "start_time": "2022-09-22T18:26:57.424Z"
   },
   {
    "duration": 11,
    "start_time": "2022-09-22T18:26:57.996Z"
   },
   {
    "duration": 207,
    "start_time": "2022-09-22T18:26:59.039Z"
   },
   {
    "duration": 6,
    "start_time": "2022-09-22T18:26:59.248Z"
   },
   {
    "duration": 228,
    "start_time": "2022-09-22T18:26:59.777Z"
   },
   {
    "duration": 6,
    "start_time": "2022-09-22T18:27:00.007Z"
   },
   {
    "duration": 225,
    "start_time": "2022-09-22T18:27:00.455Z"
   },
   {
    "duration": 6,
    "start_time": "2022-09-22T18:27:01.372Z"
   },
   {
    "duration": 228,
    "start_time": "2022-09-22T18:27:01.381Z"
   },
   {
    "duration": 6,
    "start_time": "2022-09-22T18:27:01.611Z"
   },
   {
    "duration": 239,
    "start_time": "2022-09-22T18:27:01.841Z"
   },
   {
    "duration": 25,
    "start_time": "2022-09-22T18:27:02.082Z"
   },
   {
    "duration": 15,
    "start_time": "2022-09-22T18:27:02.200Z"
   },
   {
    "duration": 13,
    "start_time": "2022-09-22T18:27:02.374Z"
   },
   {
    "duration": 193,
    "start_time": "2022-09-22T18:27:03.435Z"
   },
   {
    "duration": 176,
    "start_time": "2022-09-22T18:27:03.630Z"
   },
   {
    "duration": 190,
    "start_time": "2022-09-22T18:27:03.996Z"
   },
   {
    "duration": 178,
    "start_time": "2022-09-22T18:27:04.189Z"
   },
   {
    "duration": 199,
    "start_time": "2022-09-22T18:27:04.509Z"
   },
   {
    "duration": 168,
    "start_time": "2022-09-22T18:27:04.710Z"
   },
   {
    "duration": 28,
    "start_time": "2022-09-22T18:27:10.935Z"
   },
   {
    "duration": 11,
    "start_time": "2022-09-22T18:27:11.367Z"
   },
   {
    "duration": 12,
    "start_time": "2022-09-22T18:27:11.721Z"
   },
   {
    "duration": 19,
    "start_time": "2022-09-22T18:27:12.203Z"
   },
   {
    "duration": 14,
    "start_time": "2022-09-22T18:27:12.354Z"
   },
   {
    "duration": 522,
    "start_time": "2022-09-22T18:30:06.445Z"
   },
   {
    "duration": 20,
    "start_time": "2022-09-22T18:30:06.969Z"
   },
   {
    "duration": 2800,
    "start_time": "2022-09-22T18:30:07.081Z"
   },
   {
    "duration": 10,
    "start_time": "2022-09-22T18:30:09.883Z"
   },
   {
    "duration": 24,
    "start_time": "2022-09-22T18:30:09.894Z"
   },
   {
    "duration": 17,
    "start_time": "2022-09-22T18:30:09.920Z"
   },
   {
    "duration": 4,
    "start_time": "2022-09-22T18:30:09.939Z"
   },
   {
    "duration": 6,
    "start_time": "2022-09-22T18:30:09.944Z"
   },
   {
    "duration": 49,
    "start_time": "2022-09-22T18:30:09.987Z"
   },
   {
    "duration": 212,
    "start_time": "2022-09-22T18:31:20.555Z"
   },
   {
    "duration": 40,
    "start_time": "2022-09-22T18:31:45.269Z"
   },
   {
    "duration": 32,
    "start_time": "2022-09-22T18:31:48.035Z"
   },
   {
    "duration": 492,
    "start_time": "2022-09-22T18:31:58.334Z"
   },
   {
    "duration": 15,
    "start_time": "2022-09-22T18:31:58.828Z"
   },
   {
    "duration": 2834,
    "start_time": "2022-09-22T18:31:58.935Z"
   },
   {
    "duration": 11,
    "start_time": "2022-09-22T18:32:01.771Z"
   },
   {
    "duration": 33,
    "start_time": "2022-09-22T18:32:01.786Z"
   },
   {
    "duration": 24,
    "start_time": "2022-09-22T18:32:01.825Z"
   },
   {
    "duration": 5,
    "start_time": "2022-09-22T18:32:01.852Z"
   },
   {
    "duration": 16,
    "start_time": "2022-09-22T18:32:01.859Z"
   },
   {
    "duration": 63,
    "start_time": "2022-09-22T18:32:01.943Z"
   },
   {
    "duration": 234,
    "start_time": "2022-09-22T18:32:09.303Z"
   },
   {
    "duration": 41,
    "start_time": "2022-09-22T18:32:35.305Z"
   },
   {
    "duration": 550,
    "start_time": "2022-09-22T18:33:20.492Z"
   },
   {
    "duration": 15,
    "start_time": "2022-09-22T18:33:21.044Z"
   },
   {
    "duration": 2722,
    "start_time": "2022-09-22T18:33:21.099Z"
   },
   {
    "duration": 12,
    "start_time": "2022-09-22T18:33:23.823Z"
   },
   {
    "duration": 21,
    "start_time": "2022-09-22T18:33:23.836Z"
   },
   {
    "duration": 32,
    "start_time": "2022-09-22T18:33:23.859Z"
   },
   {
    "duration": 10,
    "start_time": "2022-09-22T18:33:23.893Z"
   },
   {
    "duration": 24,
    "start_time": "2022-09-22T18:33:23.905Z"
   },
   {
    "duration": 59,
    "start_time": "2022-09-22T18:33:23.931Z"
   },
   {
    "duration": 45,
    "start_time": "2022-09-22T18:33:23.992Z"
   },
   {
    "duration": 493,
    "start_time": "2022-09-22T18:35:12.300Z"
   },
   {
    "duration": 5128,
    "start_time": "2022-09-22T18:35:27.580Z"
   },
   {
    "duration": 38,
    "start_time": "2022-09-22T18:35:32.869Z"
   },
   {
    "duration": 32,
    "start_time": "2022-09-22T18:38:45.694Z"
   },
   {
    "duration": 35,
    "start_time": "2022-09-22T18:38:49.671Z"
   },
   {
    "duration": 588,
    "start_time": "2022-09-22T18:39:00.387Z"
   },
   {
    "duration": 17,
    "start_time": "2022-09-22T18:39:01.306Z"
   },
   {
    "duration": 2768,
    "start_time": "2022-09-22T18:39:01.325Z"
   },
   {
    "duration": 9,
    "start_time": "2022-09-22T18:39:04.095Z"
   },
   {
    "duration": 18,
    "start_time": "2022-09-22T18:39:04.105Z"
   },
   {
    "duration": 20,
    "start_time": "2022-09-22T18:39:04.125Z"
   },
   {
    "duration": 10,
    "start_time": "2022-09-22T18:39:04.146Z"
   },
   {
    "duration": 23,
    "start_time": "2022-09-22T18:39:04.158Z"
   },
   {
    "duration": 51,
    "start_time": "2022-09-22T18:39:04.182Z"
   },
   {
    "duration": 39,
    "start_time": "2022-09-22T18:39:04.235Z"
   },
   {
    "duration": 9,
    "start_time": "2022-09-22T18:39:05.708Z"
   },
   {
    "duration": 564,
    "start_time": "2022-09-22T18:40:08.483Z"
   },
   {
    "duration": 15,
    "start_time": "2022-09-22T18:40:09.049Z"
   },
   {
    "duration": 2810,
    "start_time": "2022-09-22T18:40:09.103Z"
   },
   {
    "duration": 13,
    "start_time": "2022-09-22T18:40:11.915Z"
   },
   {
    "duration": 26,
    "start_time": "2022-09-22T18:40:11.930Z"
   },
   {
    "duration": 20,
    "start_time": "2022-09-22T18:40:11.959Z"
   },
   {
    "duration": 5,
    "start_time": "2022-09-22T18:40:11.982Z"
   },
   {
    "duration": 8,
    "start_time": "2022-09-22T18:40:11.990Z"
   },
   {
    "duration": 93,
    "start_time": "2022-09-22T18:40:12.000Z"
   },
   {
    "duration": 40,
    "start_time": "2022-09-22T18:40:12.345Z"
   },
   {
    "duration": 235,
    "start_time": "2022-09-22T18:40:26.560Z"
   },
   {
    "duration": 460,
    "start_time": "2022-09-22T18:40:38.695Z"
   },
   {
    "duration": 33,
    "start_time": "2022-09-22T18:40:47.419Z"
   },
   {
    "duration": 39,
    "start_time": "2022-09-22T18:40:50.302Z"
   },
   {
    "duration": 31,
    "start_time": "2022-09-22T18:40:59.076Z"
   },
   {
    "duration": 34,
    "start_time": "2022-09-22T18:41:50.388Z"
   },
   {
    "duration": 37,
    "start_time": "2022-09-22T18:42:49.789Z"
   },
   {
    "duration": 31,
    "start_time": "2022-09-22T18:42:50.258Z"
   },
   {
    "duration": 9,
    "start_time": "2022-09-22T18:42:50.567Z"
   },
   {
    "duration": 16,
    "start_time": "2022-09-22T18:42:52.095Z"
   },
   {
    "duration": 19,
    "start_time": "2022-09-22T18:42:52.421Z"
   },
   {
    "duration": 15,
    "start_time": "2022-09-22T18:42:52.570Z"
   },
   {
    "duration": 19,
    "start_time": "2022-09-22T18:42:53.396Z"
   },
   {
    "duration": 17,
    "start_time": "2022-09-22T18:42:53.723Z"
   },
   {
    "duration": 6,
    "start_time": "2022-09-22T18:42:54.048Z"
   },
   {
    "duration": 17,
    "start_time": "2022-09-22T18:42:54.204Z"
   },
   {
    "duration": 25,
    "start_time": "2022-09-22T18:42:54.559Z"
   },
   {
    "duration": 22,
    "start_time": "2022-09-22T18:42:54.920Z"
   },
   {
    "duration": 2729,
    "start_time": "2022-09-22T18:42:55.823Z"
   },
   {
    "duration": 16,
    "start_time": "2022-09-22T18:42:58.556Z"
   },
   {
    "duration": 28,
    "start_time": "2022-09-22T18:42:58.573Z"
   },
   {
    "duration": 167,
    "start_time": "2022-09-22T18:42:58.603Z"
   },
   {
    "duration": 38,
    "start_time": "2022-09-22T18:42:58.772Z"
   },
   {
    "duration": 31,
    "start_time": "2022-09-22T18:42:58.812Z"
   },
   {
    "duration": 3,
    "start_time": "2022-09-22T18:42:58.844Z"
   },
   {
    "duration": 20,
    "start_time": "2022-09-22T18:42:58.849Z"
   },
   {
    "duration": 18,
    "start_time": "2022-09-22T18:42:59.206Z"
   },
   {
    "duration": 32,
    "start_time": "2022-09-22T18:42:59.637Z"
   },
   {
    "duration": 38,
    "start_time": "2022-09-22T18:43:00.281Z"
   },
   {
    "duration": 15,
    "start_time": "2022-09-22T18:43:01.497Z"
   },
   {
    "duration": 3,
    "start_time": "2022-09-22T18:43:02.335Z"
   },
   {
    "duration": 291,
    "start_time": "2022-09-22T18:43:02.506Z"
   },
   {
    "duration": 14,
    "start_time": "2022-09-22T18:43:02.814Z"
   },
   {
    "duration": 13,
    "start_time": "2022-09-22T18:43:03.105Z"
   },
   {
    "duration": 13,
    "start_time": "2022-09-22T18:43:03.405Z"
   },
   {
    "duration": 4,
    "start_time": "2022-09-22T18:43:03.683Z"
   },
   {
    "duration": 252,
    "start_time": "2022-09-22T18:43:03.808Z"
   },
   {
    "duration": 3,
    "start_time": "2022-09-22T18:43:04.111Z"
   },
   {
    "duration": 201,
    "start_time": "2022-09-22T18:43:04.261Z"
   },
   {
    "duration": 25,
    "start_time": "2022-09-22T18:43:04.464Z"
   },
   {
    "duration": 2169,
    "start_time": "2022-09-22T18:43:05.214Z"
   },
   {
    "duration": 285,
    "start_time": "2022-09-22T18:43:07.389Z"
   },
   {
    "duration": 19,
    "start_time": "2022-09-22T18:43:07.676Z"
   },
   {
    "duration": 281,
    "start_time": "2022-09-22T18:43:07.697Z"
   },
   {
    "duration": 15,
    "start_time": "2022-09-22T18:43:07.980Z"
   },
   {
    "duration": 387,
    "start_time": "2022-09-22T18:43:07.997Z"
   },
   {
    "duration": 9,
    "start_time": "2022-09-22T18:43:08.388Z"
   },
   {
    "duration": 216,
    "start_time": "2022-09-22T18:43:08.399Z"
   },
   {
    "duration": 10,
    "start_time": "2022-09-22T18:43:08.617Z"
   },
   {
    "duration": 167,
    "start_time": "2022-09-22T18:43:08.630Z"
   },
   {
    "duration": 8,
    "start_time": "2022-09-22T18:43:08.799Z"
   },
   {
    "duration": 307,
    "start_time": "2022-09-22T18:43:08.809Z"
   },
   {
    "duration": 9,
    "start_time": "2022-09-22T18:43:09.118Z"
   },
   {
    "duration": 195,
    "start_time": "2022-09-22T18:43:09.129Z"
   },
   {
    "duration": 9,
    "start_time": "2022-09-22T18:43:09.326Z"
   },
   {
    "duration": 166,
    "start_time": "2022-09-22T18:43:09.338Z"
   },
   {
    "duration": 187,
    "start_time": "2022-09-22T18:43:09.506Z"
   },
   {
    "duration": 9,
    "start_time": "2022-09-22T18:43:09.695Z"
   },
   {
    "duration": 234,
    "start_time": "2022-09-22T18:43:09.706Z"
   },
   {
    "duration": 10,
    "start_time": "2022-09-22T18:43:09.942Z"
   },
   {
    "duration": 253,
    "start_time": "2022-09-22T18:43:09.975Z"
   },
   {
    "duration": 9,
    "start_time": "2022-09-22T18:43:10.230Z"
   },
   {
    "duration": 214,
    "start_time": "2022-09-22T18:43:10.468Z"
   },
   {
    "duration": 13,
    "start_time": "2022-09-22T18:43:10.688Z"
   },
   {
    "duration": 158,
    "start_time": "2022-09-22T18:43:10.936Z"
   },
   {
    "duration": 145,
    "start_time": "2022-09-22T18:43:11.280Z"
   },
   {
    "duration": 539,
    "start_time": "2022-09-22T18:43:12.063Z"
   },
   {
    "duration": 8,
    "start_time": "2022-09-22T18:43:12.604Z"
   },
   {
    "duration": 182,
    "start_time": "2022-09-22T18:43:13.322Z"
   },
   {
    "duration": 5,
    "start_time": "2022-09-22T18:43:13.506Z"
   },
   {
    "duration": 201,
    "start_time": "2022-09-22T18:43:13.938Z"
   },
   {
    "duration": 6,
    "start_time": "2022-09-22T18:43:14.141Z"
   },
   {
    "duration": 172,
    "start_time": "2022-09-22T18:43:14.576Z"
   },
   {
    "duration": 6,
    "start_time": "2022-09-22T18:43:14.751Z"
   },
   {
    "duration": 199,
    "start_time": "2022-09-22T18:43:15.180Z"
   },
   {
    "duration": 12,
    "start_time": "2022-09-22T18:43:15.381Z"
   },
   {
    "duration": 160,
    "start_time": "2022-09-22T18:43:15.788Z"
   },
   {
    "duration": 12,
    "start_time": "2022-09-22T18:43:15.950Z"
   },
   {
    "duration": 12,
    "start_time": "2022-09-22T18:43:16.077Z"
   },
   {
    "duration": 14,
    "start_time": "2022-09-22T18:43:16.243Z"
   },
   {
    "duration": 165,
    "start_time": "2022-09-22T18:43:17.600Z"
   },
   {
    "duration": 170,
    "start_time": "2022-09-22T18:43:17.767Z"
   },
   {
    "duration": 175,
    "start_time": "2022-09-22T18:43:18.112Z"
   },
   {
    "duration": 180,
    "start_time": "2022-09-22T18:43:18.291Z"
   },
   {
    "duration": 161,
    "start_time": "2022-09-22T18:43:18.605Z"
   },
   {
    "duration": 156,
    "start_time": "2022-09-22T18:43:18.780Z"
   },
   {
    "duration": 31,
    "start_time": "2022-09-22T18:43:20.477Z"
   },
   {
    "duration": 9,
    "start_time": "2022-09-22T18:43:20.881Z"
   },
   {
    "duration": 10,
    "start_time": "2022-09-22T18:43:21.211Z"
   },
   {
    "duration": 17,
    "start_time": "2022-09-22T18:43:21.662Z"
   },
   {
    "duration": 104,
    "start_time": "2022-09-22T18:43:21.815Z"
   },
   {
    "duration": 16,
    "start_time": "2022-09-22T18:45:10.035Z"
   },
   {
    "duration": 14,
    "start_time": "2022-09-22T18:51:18.738Z"
   },
   {
    "duration": 17,
    "start_time": "2022-09-22T18:51:41.561Z"
   },
   {
    "duration": 17,
    "start_time": "2022-09-22T18:51:41.937Z"
   },
   {
    "duration": 12,
    "start_time": "2022-09-22T18:51:42.400Z"
   },
   {
    "duration": 26,
    "start_time": "2022-09-22T18:52:58.241Z"
   },
   {
    "duration": 37,
    "start_time": "2022-09-22T18:52:58.852Z"
   },
   {
    "duration": 155,
    "start_time": "2022-09-22T18:52:59.578Z"
   },
   {
    "duration": 17,
    "start_time": "2022-09-22T18:58:08.360Z"
   },
   {
    "duration": 113,
    "start_time": "2022-09-22T18:58:14.313Z"
   },
   {
    "duration": 16,
    "start_time": "2022-09-22T18:58:14.593Z"
   },
   {
    "duration": 2565,
    "start_time": "2022-09-22T18:58:14.913Z"
   },
   {
    "duration": 16,
    "start_time": "2022-09-22T18:58:17.480Z"
   },
   {
    "duration": 8,
    "start_time": "2022-09-22T18:58:17.498Z"
   },
   {
    "duration": 16,
    "start_time": "2022-09-22T18:58:17.508Z"
   },
   {
    "duration": 40,
    "start_time": "2022-09-22T18:58:17.526Z"
   },
   {
    "duration": 31,
    "start_time": "2022-09-22T18:58:17.567Z"
   },
   {
    "duration": 0,
    "start_time": "2022-09-22T18:58:17.600Z"
   },
   {
    "duration": 15,
    "start_time": "2022-09-22T18:58:32.226Z"
   },
   {
    "duration": 17,
    "start_time": "2022-09-22T19:00:05.116Z"
   },
   {
    "duration": 1146,
    "start_time": "2022-09-22T19:02:37.558Z"
   },
   {
    "duration": 5,
    "start_time": "2022-09-22T19:03:06.508Z"
   },
   {
    "duration": 3,
    "start_time": "2022-09-22T19:03:14.914Z"
   },
   {
    "duration": 10,
    "start_time": "2022-09-22T19:03:23.176Z"
   },
   {
    "duration": 20,
    "start_time": "2022-09-22T19:04:38.426Z"
   },
   {
    "duration": 23,
    "start_time": "2022-09-22T19:05:01.184Z"
   },
   {
    "duration": 36,
    "start_time": "2022-09-22T19:05:03.354Z"
   },
   {
    "duration": 31,
    "start_time": "2022-09-22T19:06:26.326Z"
   },
   {
    "duration": 9,
    "start_time": "2022-09-22T19:06:27.187Z"
   },
   {
    "duration": 14,
    "start_time": "2022-09-22T19:06:28.806Z"
   },
   {
    "duration": 16,
    "start_time": "2022-09-22T19:06:29.120Z"
   },
   {
    "duration": 14,
    "start_time": "2022-09-22T19:06:29.281Z"
   },
   {
    "duration": 21,
    "start_time": "2022-09-22T19:06:30.046Z"
   },
   {
    "duration": 19,
    "start_time": "2022-09-22T19:06:30.360Z"
   },
   {
    "duration": 6,
    "start_time": "2022-09-22T19:06:30.687Z"
   },
   {
    "duration": 19,
    "start_time": "2022-09-22T19:06:30.854Z"
   },
   {
    "duration": 27,
    "start_time": "2022-09-22T19:06:31.181Z"
   },
   {
    "duration": 27,
    "start_time": "2022-09-22T19:06:31.509Z"
   },
   {
    "duration": 2559,
    "start_time": "2022-09-22T19:06:32.298Z"
   },
   {
    "duration": 49,
    "start_time": "2022-09-22T19:06:34.859Z"
   },
   {
    "duration": 17,
    "start_time": "2022-09-22T19:06:34.911Z"
   },
   {
    "duration": 316,
    "start_time": "2022-09-22T19:06:34.931Z"
   },
   {
    "duration": 31,
    "start_time": "2022-09-22T19:06:35.249Z"
   },
   {
    "duration": 31,
    "start_time": "2022-09-22T19:06:35.290Z"
   },
   {
    "duration": 4,
    "start_time": "2022-09-22T19:06:35.322Z"
   },
   {
    "duration": 13,
    "start_time": "2022-09-22T19:06:35.328Z"
   },
   {
    "duration": 19,
    "start_time": "2022-09-22T19:06:35.342Z"
   },
   {
    "duration": 33,
    "start_time": "2022-09-22T19:06:35.388Z"
   },
   {
    "duration": 38,
    "start_time": "2022-09-22T19:06:35.546Z"
   },
   {
    "duration": 14,
    "start_time": "2022-09-22T19:06:35.856Z"
   },
   {
    "duration": 3,
    "start_time": "2022-09-22T19:06:37.279Z"
   },
   {
    "duration": 289,
    "start_time": "2022-09-22T19:06:37.451Z"
   },
   {
    "duration": 14,
    "start_time": "2022-09-22T19:06:37.806Z"
   },
   {
    "duration": 14,
    "start_time": "2022-09-22T19:06:38.128Z"
   },
   {
    "duration": 13,
    "start_time": "2022-09-22T19:06:38.456Z"
   },
   {
    "duration": 3,
    "start_time": "2022-09-22T19:06:38.784Z"
   },
   {
    "duration": 280,
    "start_time": "2022-09-22T19:06:38.945Z"
   },
   {
    "duration": 3,
    "start_time": "2022-09-22T19:06:39.280Z"
   },
   {
    "duration": 229,
    "start_time": "2022-09-22T19:06:39.433Z"
   },
   {
    "duration": 16,
    "start_time": "2022-09-22T19:06:39.664Z"
   },
   {
    "duration": 2093,
    "start_time": "2022-09-22T19:06:40.426Z"
   },
   {
    "duration": 294,
    "start_time": "2022-09-22T19:06:42.521Z"
   },
   {
    "duration": 10,
    "start_time": "2022-09-22T19:06:42.816Z"
   },
   {
    "duration": 266,
    "start_time": "2022-09-22T19:06:42.828Z"
   },
   {
    "duration": 10,
    "start_time": "2022-09-22T19:06:43.096Z"
   },
   {
    "duration": 514,
    "start_time": "2022-09-22T19:06:43.108Z"
   },
   {
    "duration": 10,
    "start_time": "2022-09-22T19:06:43.624Z"
   },
   {
    "duration": 212,
    "start_time": "2022-09-22T19:06:43.636Z"
   },
   {
    "duration": 10,
    "start_time": "2022-09-22T19:06:43.850Z"
   },
   {
    "duration": 173,
    "start_time": "2022-09-22T19:06:43.862Z"
   },
   {
    "duration": 9,
    "start_time": "2022-09-22T19:06:44.037Z"
   },
   {
    "duration": 288,
    "start_time": "2022-09-22T19:06:44.048Z"
   },
   {
    "duration": 11,
    "start_time": "2022-09-22T19:06:44.338Z"
   },
   {
    "duration": 209,
    "start_time": "2022-09-22T19:06:44.352Z"
   },
   {
    "duration": 9,
    "start_time": "2022-09-22T19:06:44.564Z"
   },
   {
    "duration": 140,
    "start_time": "2022-09-22T19:06:44.753Z"
   },
   {
    "duration": 193,
    "start_time": "2022-09-22T19:06:45.129Z"
   },
   {
    "duration": 9,
    "start_time": "2022-09-22T19:06:45.324Z"
   },
   {
    "duration": 212,
    "start_time": "2022-09-22T19:06:45.653Z"
   },
   {
    "duration": 10,
    "start_time": "2022-09-22T19:06:45.867Z"
   },
   {
    "duration": 238,
    "start_time": "2022-09-22T19:06:46.210Z"
   },
   {
    "duration": 9,
    "start_time": "2022-09-22T19:06:46.451Z"
   },
   {
    "duration": 204,
    "start_time": "2022-09-22T19:06:46.757Z"
   },
   {
    "duration": 10,
    "start_time": "2022-09-22T19:06:46.962Z"
   },
   {
    "duration": 149,
    "start_time": "2022-09-22T19:06:47.315Z"
   },
   {
    "duration": 142,
    "start_time": "2022-09-22T19:06:47.708Z"
   },
   {
    "duration": 327,
    "start_time": "2022-09-22T19:06:48.733Z"
   },
   {
    "duration": 10,
    "start_time": "2022-09-22T19:06:49.172Z"
   },
   {
    "duration": 187,
    "start_time": "2022-09-22T19:06:50.445Z"
   },
   {
    "duration": 5,
    "start_time": "2022-09-22T19:06:50.648Z"
   },
   {
    "duration": 207,
    "start_time": "2022-09-22T19:06:51.262Z"
   },
   {
    "duration": 6,
    "start_time": "2022-09-22T19:06:51.473Z"
   },
   {
    "duration": 201,
    "start_time": "2022-09-22T19:06:52.126Z"
   },
   {
    "duration": 5,
    "start_time": "2022-09-22T19:06:52.353Z"
   },
   {
    "duration": 198,
    "start_time": "2022-09-22T19:06:53.017Z"
   },
   {
    "duration": 6,
    "start_time": "2022-09-22T19:06:53.230Z"
   },
   {
    "duration": 177,
    "start_time": "2022-09-22T19:06:53.885Z"
   },
   {
    "duration": 13,
    "start_time": "2022-09-22T19:06:54.106Z"
   },
   {
    "duration": 12,
    "start_time": "2022-09-22T19:06:54.332Z"
   },
   {
    "duration": 13,
    "start_time": "2022-09-22T19:06:54.525Z"
   },
   {
    "duration": 200,
    "start_time": "2022-09-22T19:06:55.786Z"
   },
   {
    "duration": 161,
    "start_time": "2022-09-22T19:06:56.003Z"
   },
   {
    "duration": 189,
    "start_time": "2022-09-22T19:06:56.417Z"
   },
   {
    "duration": 162,
    "start_time": "2022-09-22T19:06:56.619Z"
   },
   {
    "duration": 185,
    "start_time": "2022-09-22T19:06:57.024Z"
   },
   {
    "duration": 164,
    "start_time": "2022-09-22T19:06:57.230Z"
   },
   {
    "duration": 29,
    "start_time": "2022-09-22T19:06:58.345Z"
   },
   {
    "duration": 9,
    "start_time": "2022-09-22T19:06:58.702Z"
   },
   {
    "duration": 10,
    "start_time": "2022-09-22T19:06:59.066Z"
   },
   {
    "duration": 23,
    "start_time": "2022-09-22T19:06:59.565Z"
   },
   {
    "duration": 168,
    "start_time": "2022-09-22T19:06:59.760Z"
   },
   {
    "duration": 91,
    "start_time": "2022-09-22T19:09:29.965Z"
   },
   {
    "duration": 87,
    "start_time": "2022-09-22T19:16:54.687Z"
   },
   {
    "duration": 16,
    "start_time": "2022-09-22T19:16:55.121Z"
   },
   {
    "duration": 36,
    "start_time": "2022-09-22T19:17:15.931Z"
   },
   {
    "duration": 17,
    "start_time": "2022-09-22T19:18:08.847Z"
   },
   {
    "duration": 582,
    "start_time": "2022-09-22T19:18:51.874Z"
   },
   {
    "duration": 17,
    "start_time": "2022-09-22T19:18:52.458Z"
   },
   {
    "duration": 2739,
    "start_time": "2022-09-22T19:18:52.477Z"
   },
   {
    "duration": 11,
    "start_time": "2022-09-22T19:18:55.254Z"
   },
   {
    "duration": 8,
    "start_time": "2022-09-22T19:18:55.267Z"
   },
   {
    "duration": 22,
    "start_time": "2022-09-22T19:18:55.277Z"
   },
   {
    "duration": 37,
    "start_time": "2022-09-22T19:18:55.301Z"
   },
   {
    "duration": 19,
    "start_time": "2022-09-22T19:18:55.341Z"
   },
   {
    "duration": 29,
    "start_time": "2022-09-22T19:18:55.362Z"
   },
   {
    "duration": 24,
    "start_time": "2022-09-22T19:18:55.393Z"
   },
   {
    "duration": 24,
    "start_time": "2022-09-22T19:18:55.545Z"
   },
   {
    "duration": 31,
    "start_time": "2022-09-22T19:18:55.687Z"
   },
   {
    "duration": 11,
    "start_time": "2022-09-22T19:18:56.000Z"
   },
   {
    "duration": 16,
    "start_time": "2022-09-22T19:18:57.703Z"
   },
   {
    "duration": 22,
    "start_time": "2022-09-22T19:18:58.263Z"
   },
   {
    "duration": 16,
    "start_time": "2022-09-22T19:18:58.316Z"
   },
   {
    "duration": 19,
    "start_time": "2022-09-22T19:18:59.193Z"
   },
   {
    "duration": 19,
    "start_time": "2022-09-22T19:18:59.622Z"
   },
   {
    "duration": 7,
    "start_time": "2022-09-22T19:19:00.105Z"
   },
   {
    "duration": 21,
    "start_time": "2022-09-22T19:19:00.269Z"
   },
   {
    "duration": 30,
    "start_time": "2022-09-22T19:19:00.726Z"
   },
   {
    "duration": 27,
    "start_time": "2022-09-22T19:19:01.164Z"
   },
   {
    "duration": 2867,
    "start_time": "2022-09-22T19:19:02.065Z"
   },
   {
    "duration": 42,
    "start_time": "2022-09-22T19:19:04.934Z"
   },
   {
    "duration": 154,
    "start_time": "2022-09-22T19:19:04.978Z"
   },
   {
    "duration": 31,
    "start_time": "2022-09-22T19:19:05.134Z"
   },
   {
    "duration": 93,
    "start_time": "2022-09-22T19:19:05.167Z"
   },
   {
    "duration": 47,
    "start_time": "2022-09-22T19:19:05.261Z"
   },
   {
    "duration": 30,
    "start_time": "2022-09-22T19:19:05.310Z"
   },
   {
    "duration": 16,
    "start_time": "2022-09-22T19:19:05.343Z"
   },
   {
    "duration": 11,
    "start_time": "2022-09-22T19:19:05.391Z"
   },
   {
    "duration": 19,
    "start_time": "2022-09-22T19:19:05.830Z"
   },
   {
    "duration": 36,
    "start_time": "2022-09-22T19:19:06.101Z"
   },
   {
    "duration": 36,
    "start_time": "2022-09-22T19:19:06.750Z"
   },
   {
    "duration": 15,
    "start_time": "2022-09-22T19:19:07.081Z"
   },
   {
    "duration": 4,
    "start_time": "2022-09-22T19:19:08.953Z"
   },
   {
    "duration": 317,
    "start_time": "2022-09-22T19:19:09.092Z"
   },
   {
    "duration": 13,
    "start_time": "2022-09-22T19:19:09.412Z"
   },
   {
    "duration": 13,
    "start_time": "2022-09-22T19:19:09.690Z"
   },
   {
    "duration": 15,
    "start_time": "2022-09-22T19:19:09.939Z"
   },
   {
    "duration": 4,
    "start_time": "2022-09-22T19:19:10.181Z"
   },
   {
    "duration": 295,
    "start_time": "2022-09-22T19:19:10.296Z"
   },
   {
    "duration": 4,
    "start_time": "2022-09-22T19:19:10.781Z"
   },
   {
    "duration": 266,
    "start_time": "2022-09-22T19:19:10.916Z"
   },
   {
    "duration": 20,
    "start_time": "2022-09-22T19:19:11.184Z"
   },
   {
    "duration": 2224,
    "start_time": "2022-09-22T19:19:11.793Z"
   },
   {
    "duration": 290,
    "start_time": "2022-09-22T19:19:14.019Z"
   },
   {
    "duration": 10,
    "start_time": "2022-09-22T19:19:14.311Z"
   },
   {
    "duration": 410,
    "start_time": "2022-09-22T19:19:14.322Z"
   },
   {
    "duration": 8,
    "start_time": "2022-09-22T19:19:14.734Z"
   },
   {
    "duration": 216,
    "start_time": "2022-09-22T19:19:14.744Z"
   },
   {
    "duration": 8,
    "start_time": "2022-09-22T19:19:14.962Z"
   },
   {
    "duration": 207,
    "start_time": "2022-09-22T19:19:14.972Z"
   },
   {
    "duration": 11,
    "start_time": "2022-09-22T19:19:15.189Z"
   },
   {
    "duration": 182,
    "start_time": "2022-09-22T19:19:15.202Z"
   },
   {
    "duration": 9,
    "start_time": "2022-09-22T19:19:15.389Z"
   },
   {
    "duration": 283,
    "start_time": "2022-09-22T19:19:15.400Z"
   },
   {
    "duration": 11,
    "start_time": "2022-09-22T19:19:15.685Z"
   },
   {
    "duration": 198,
    "start_time": "2022-09-22T19:19:15.698Z"
   },
   {
    "duration": 9,
    "start_time": "2022-09-22T19:19:15.898Z"
   },
   {
    "duration": 147,
    "start_time": "2022-09-22T19:19:15.909Z"
   },
   {
    "duration": 185,
    "start_time": "2022-09-22T19:19:16.057Z"
   },
   {
    "duration": 9,
    "start_time": "2022-09-22T19:19:16.244Z"
   },
   {
    "duration": 235,
    "start_time": "2022-09-22T19:19:16.317Z"
   },
   {
    "duration": 10,
    "start_time": "2022-09-22T19:19:16.555Z"
   },
   {
    "duration": 250,
    "start_time": "2022-09-22T19:19:16.795Z"
   },
   {
    "duration": 9,
    "start_time": "2022-09-22T19:19:17.047Z"
   },
   {
    "duration": 221,
    "start_time": "2022-09-22T19:19:17.228Z"
   },
   {
    "duration": 10,
    "start_time": "2022-09-22T19:19:17.451Z"
   },
   {
    "duration": 158,
    "start_time": "2022-09-22T19:19:17.670Z"
   },
   {
    "duration": 139,
    "start_time": "2022-09-22T19:19:17.946Z"
   },
   {
    "duration": 539,
    "start_time": "2022-09-22T19:19:18.672Z"
   },
   {
    "duration": 9,
    "start_time": "2022-09-22T19:19:19.213Z"
   },
   {
    "duration": 199,
    "start_time": "2022-09-22T19:19:19.918Z"
   },
   {
    "duration": 5,
    "start_time": "2022-09-22T19:19:20.119Z"
   },
   {
    "duration": 208,
    "start_time": "2022-09-22T19:19:20.565Z"
   },
   {
    "duration": 5,
    "start_time": "2022-09-22T19:19:20.775Z"
   },
   {
    "duration": 191,
    "start_time": "2022-09-22T19:19:21.375Z"
   },
   {
    "duration": 5,
    "start_time": "2022-09-22T19:19:21.568Z"
   },
   {
    "duration": 230,
    "start_time": "2022-09-22T19:19:21.969Z"
   },
   {
    "duration": 6,
    "start_time": "2022-09-22T19:19:22.282Z"
   },
   {
    "duration": 176,
    "start_time": "2022-09-22T19:19:23.127Z"
   },
   {
    "duration": 12,
    "start_time": "2022-09-22T19:19:23.325Z"
   },
   {
    "duration": 12,
    "start_time": "2022-09-22T19:19:23.440Z"
   },
   {
    "duration": 13,
    "start_time": "2022-09-22T19:19:23.592Z"
   },
   {
    "duration": 190,
    "start_time": "2022-09-22T19:19:24.549Z"
   },
   {
    "duration": 172,
    "start_time": "2022-09-22T19:19:24.741Z"
   },
   {
    "duration": 202,
    "start_time": "2022-09-22T19:19:25.006Z"
   },
   {
    "duration": 198,
    "start_time": "2022-09-22T19:19:25.211Z"
   },
   {
    "duration": 191,
    "start_time": "2022-09-22T19:19:25.601Z"
   },
   {
    "duration": 158,
    "start_time": "2022-09-22T19:19:25.794Z"
   },
   {
    "duration": 31,
    "start_time": "2022-09-22T19:19:26.599Z"
   },
   {
    "duration": 10,
    "start_time": "2022-09-22T19:19:26.919Z"
   },
   {
    "duration": 10,
    "start_time": "2022-09-22T19:19:27.425Z"
   },
   {
    "duration": 31,
    "start_time": "2022-09-22T19:19:27.921Z"
   },
   {
    "duration": 182,
    "start_time": "2022-09-22T19:19:28.075Z"
   },
   {
    "duration": 43,
    "start_time": "2022-10-04T06:53:40.255Z"
   },
   {
    "duration": 698,
    "start_time": "2022-10-04T06:53:44.994Z"
   },
   {
    "duration": 13,
    "start_time": "2022-10-04T06:53:45.694Z"
   },
   {
    "duration": 2347,
    "start_time": "2022-10-04T06:53:45.808Z"
   },
   {
    "duration": 10,
    "start_time": "2022-10-04T06:53:48.157Z"
   }
  ],
  "kernelspec": {
   "display_name": "Python 3 (ipykernel)",
   "language": "python",
   "name": "python3"
  },
  "language_info": {
   "codemirror_mode": {
    "name": "ipython",
    "version": 3
   },
   "file_extension": ".py",
   "mimetype": "text/x-python",
   "name": "python",
   "nbconvert_exporter": "python",
   "pygments_lexer": "ipython3",
   "version": "3.9.12"
  },
  "toc": {
   "base_numbering": 1,
   "nav_menu": {},
   "number_sections": true,
   "sideBar": true,
   "skip_h1_title": true,
   "title_cell": "Table of Contents",
   "title_sidebar": "Contents",
   "toc_cell": false,
   "toc_position": {},
   "toc_section_display": true,
   "toc_window_display": false
  }
 },
 "nbformat": 4,
 "nbformat_minor": 2
}
